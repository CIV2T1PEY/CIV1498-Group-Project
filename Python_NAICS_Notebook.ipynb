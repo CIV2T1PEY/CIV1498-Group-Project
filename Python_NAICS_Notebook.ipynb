{
 "cells": [
  {
   "cell_type": "code",
   "execution_count": 1,
   "metadata": {
    "collapsed": true
   },
   "outputs": [],
   "source": [
    "import os\n",
    "import json\n",
    "import pandas as pd\n",
    "import seaborn as sns\n",
    "from datetime import datetime\n",
    "import numpy as np\n",
    "import matplotlib.pylab as plt"
   ]
  },
  {
   "cell_type": "code",
   "execution_count": 2,
   "outputs": [],
   "source": [
    "### 1.1) SBA_Loan dataset cleaning and transformation for creating a model:"
   ],
   "metadata": {
    "collapsed": false,
    "pycharm": {
     "name": "#%%\n"
    }
   }
  },
  {
   "cell_type": "code",
   "execution_count": 3,
   "outputs": [],
   "source": [
    "SBA_Loan = pd.read_csv('SBA_Loan_test.csv')"
   ],
   "metadata": {
    "collapsed": false,
    "pycharm": {
     "name": "#%%\n"
    }
   }
  },
  {
   "cell_type": "code",
   "execution_count": 4,
   "outputs": [
    {
     "name": "stdout",
     "output_type": "stream",
     "text": [
      "<class 'pandas.core.frame.DataFrame'>\n",
      "RangeIndex: 899164 entries, 0 to 899163\n",
      "Data columns (total 28 columns):\n",
      " #   Column             Non-Null Count   Dtype  \n",
      "---  ------             --------------   -----  \n",
      " 0   LoanNr_ChkDgt      899164 non-null  int64  \n",
      " 1   Name               899150 non-null  object \n",
      " 2   City               899134 non-null  object \n",
      " 3   State              899150 non-null  object \n",
      " 4   Zip                899164 non-null  int64  \n",
      " 5   Bank               897605 non-null  object \n",
      " 6   BankState          897598 non-null  object \n",
      " 7   NAICS              899164 non-null  int64  \n",
      " 8   ApprovalDate       899164 non-null  object \n",
      " 9   ApprovalFY         899164 non-null  int64  \n",
      " 10  Term               899164 non-null  int64  \n",
      " 11  NoEmp              899164 non-null  int64  \n",
      " 12  NewExist           899028 non-null  float64\n",
      " 13  CreateJob          899164 non-null  int64  \n",
      " 14  RetainedJob        899164 non-null  int64  \n",
      " 15  FranchiseCode      899164 non-null  int64  \n",
      " 16  UrbanRural         899164 non-null  int64  \n",
      " 17  RevLineCr          894636 non-null  object \n",
      " 18  LowDoc             896582 non-null  object \n",
      " 19  ChgOffDate         162699 non-null  object \n",
      " 20  DisbursementDate   896796 non-null  object \n",
      " 21  DisbursementGross  899164 non-null  float64\n",
      " 22  BalanceGross       899164 non-null  float64\n",
      " 23  MIS_Status         897167 non-null  object \n",
      " 24  ChgOffPrinGr       899164 non-null  float64\n",
      " 25  GrAppv             899164 non-null  float64\n",
      " 26  SBA_Appv           899164 non-null  float64\n",
      " 27  Industry           899164 non-null  object \n",
      "dtypes: float64(6), int64(10), object(12)\n",
      "memory usage: 192.1+ MB\n"
     ]
    }
   ],
   "source": [
    "DF_SBA_Loan = SBA_Loan.copy()\n",
    "DF_SBA_Loan.info()"
   ],
   "metadata": {
    "collapsed": false,
    "pycharm": {
     "name": "#%%\n"
    }
   }
  },
  {
   "cell_type": "code",
   "execution_count": 5,
   "outputs": [
    {
     "data": {
      "text/plain": "LoanNr_ChkDgt             0\nName                     14\nCity                     30\nState                    14\nZip                       0\nBank                   1559\nBankState              1566\nNAICS                     0\nApprovalDate              0\nApprovalFY                0\nTerm                      0\nNoEmp                     0\nNewExist                136\nCreateJob                 0\nRetainedJob               0\nFranchiseCode             0\nUrbanRural                0\nRevLineCr              4528\nLowDoc                 2582\nChgOffDate           736465\nDisbursementDate       2368\nDisbursementGross         0\nBalanceGross              0\nMIS_Status             1997\nChgOffPrinGr              0\nGrAppv                    0\nSBA_Appv                  0\nIndustry                  0\ndtype: int64"
     },
     "execution_count": 5,
     "metadata": {},
     "output_type": "execute_result"
    }
   ],
   "source": [
    "DF_SBA_Loan.isnull().sum()"
   ],
   "metadata": {
    "collapsed": false,
    "pycharm": {
     "name": "#%%\n"
    }
   }
  },
  {
   "cell_type": "code",
   "execution_count": 6,
   "outputs": [],
   "source": [
    "# Filling MIS_Status NaN values\n",
    "for x in DF_SBA_Loan[DF_SBA_Loan['MIS_Status'].isnull()]['ChgOffPrinGr'].index:\n",
    "    if DF_SBA_Loan['ChgOffPrinGr'][x] == 0:\n",
    "        DF_SBA_Loan.loc[x,'MIS_Status'] = \"P I F\"\n",
    "    else:\n",
    "        DF_SBA_Loan.loc[x,'MIS_Status'] = \"CHGOFF\""
   ],
   "metadata": {
    "collapsed": false,
    "pycharm": {
     "name": "#%%\n"
    }
   }
  },
  {
   "cell_type": "code",
   "execution_count": 7,
   "outputs": [],
   "source": [
    "DF_SBA_Loan.drop(DF_SBA_Loan[DF_SBA_Loan[\"NAICS\"] == 0].index, inplace=True) # Dropping NAICS = 0 for now"
   ],
   "metadata": {
    "collapsed": false,
    "pycharm": {
     "name": "#%%\n"
    }
   }
  },
  {
   "cell_type": "code",
   "execution_count": 8,
   "outputs": [],
   "source": [
    "#Keeping just the first 2 digits in the NAICS column of DF_SBA_Loan\n",
    "NAICS_value = [str(number) for number in np.array(DF_SBA_Loan[\"NAICS\"])]\n",
    "NAICS_first_two = [s[:2] for s in NAICS_value]\n",
    "DF_SBA_Loan[\"NAICS\"] = [int(x) for x in NAICS_first_two]"
   ],
   "metadata": {
    "collapsed": false,
    "pycharm": {
     "name": "#%%\n"
    }
   }
  },
  {
   "cell_type": "code",
   "execution_count": 9,
   "outputs": [],
   "source": [
    "DF_SBA_Loan = DF_SBA_Loan[['State', 'NAICS', 'ApprovalFY', 'NewExist', 'MIS_Status', 'SBA_Appv', 'GrAppv']] #'UrbanRural', 'LowDoc' left out\n",
    "DF_SBA_Loan = DF_SBA_Loan.reset_index(drop=True)\n",
    "DF_SBA_Loan.drop(DF_SBA_Loan[DF_SBA_Loan['NewExist'] == 0].index, inplace=True)"
   ],
   "metadata": {
    "collapsed": false,
    "pycharm": {
     "name": "#%%\n"
    }
   }
  },
  {
   "cell_type": "code",
   "execution_count": 10,
   "outputs": [],
   "source": [
    "DF_SBA_Loan = DF_SBA_Loan.dropna()"
   ],
   "metadata": {
    "collapsed": false,
    "pycharm": {
     "name": "#%%\n"
    }
   }
  },
  {
   "cell_type": "code",
   "execution_count": 11,
   "outputs": [
    {
     "data": {
      "text/plain": "  State  NAICS  ApprovalFY  NewExist MIS_Status  SBA_Appv    GrAppv\n0    IN     45        1997       2.0      P I F   48000.0   60000.0\n1    IN     72        1997       2.0      P I F   32000.0   40000.0\n2    IN     62        1997       1.0      P I F  215250.0  287000.0\n3    CT     33        1997       1.0      P I F  387750.0  517000.0\n4    FL     81        1997       2.0      P I F   36000.0   45000.0",
      "text/html": "<div>\n<style scoped>\n    .dataframe tbody tr th:only-of-type {\n        vertical-align: middle;\n    }\n\n    .dataframe tbody tr th {\n        vertical-align: top;\n    }\n\n    .dataframe thead th {\n        text-align: right;\n    }\n</style>\n<table border=\"1\" class=\"dataframe\">\n  <thead>\n    <tr style=\"text-align: right;\">\n      <th></th>\n      <th>State</th>\n      <th>NAICS</th>\n      <th>ApprovalFY</th>\n      <th>NewExist</th>\n      <th>MIS_Status</th>\n      <th>SBA_Appv</th>\n      <th>GrAppv</th>\n    </tr>\n  </thead>\n  <tbody>\n    <tr>\n      <th>0</th>\n      <td>IN</td>\n      <td>45</td>\n      <td>1997</td>\n      <td>2.0</td>\n      <td>P I F</td>\n      <td>48000.0</td>\n      <td>60000.0</td>\n    </tr>\n    <tr>\n      <th>1</th>\n      <td>IN</td>\n      <td>72</td>\n      <td>1997</td>\n      <td>2.0</td>\n      <td>P I F</td>\n      <td>32000.0</td>\n      <td>40000.0</td>\n    </tr>\n    <tr>\n      <th>2</th>\n      <td>IN</td>\n      <td>62</td>\n      <td>1997</td>\n      <td>1.0</td>\n      <td>P I F</td>\n      <td>215250.0</td>\n      <td>287000.0</td>\n    </tr>\n    <tr>\n      <th>3</th>\n      <td>CT</td>\n      <td>33</td>\n      <td>1997</td>\n      <td>1.0</td>\n      <td>P I F</td>\n      <td>387750.0</td>\n      <td>517000.0</td>\n    </tr>\n    <tr>\n      <th>4</th>\n      <td>FL</td>\n      <td>81</td>\n      <td>1997</td>\n      <td>2.0</td>\n      <td>P I F</td>\n      <td>36000.0</td>\n      <td>45000.0</td>\n    </tr>\n  </tbody>\n</table>\n</div>"
     },
     "execution_count": 11,
     "metadata": {},
     "output_type": "execute_result"
    }
   ],
   "source": [
    "DF_SBA_Loan.head()"
   ],
   "metadata": {
    "collapsed": false,
    "pycharm": {
     "name": "#%%\n"
    }
   }
  },
  {
   "cell_type": "code",
   "execution_count": 12,
   "outputs": [],
   "source": [
    "# DF_SBA_Loan['UrbanRural'].value_counts()\n",
    "# DF_SBA_Loan[DF_SBA_Loan['UrbanRural'] == 0]\n",
    "# sns.countplot(x='NAICS', data=DF_SBA_Loan, hue='NewExist')\n",
    "# DF_SBA_Loan['MIS_Status'].value_counts()"
   ],
   "metadata": {
    "collapsed": false,
    "pycharm": {
     "name": "#%%\n"
    }
   }
  },
  {
   "cell_type": "code",
   "execution_count": 13,
   "outputs": [],
   "source": [
    "### 1.2) NAICS_BDS dataset cleaning and transformation for creating a new features for our model:"
   ],
   "metadata": {
    "collapsed": false,
    "pycharm": {
     "name": "#%%\n"
    }
   }
  },
  {
   "cell_type": "code",
   "execution_count": 14,
   "outputs": [
    {
     "data": {
      "text/plain": "      GEO_ID           NAME NAICS            NAICS_LABEL  YEAR     FIRM  \\\n1  0100000US  United States     0  Total for all sectors  1978  3557994   \n2  0100000US  United States     0  Total for all sectors  1979  3692077   \n3  0100000US  United States     0  Total for all sectors  1980  3739809   \n4  0100000US  United States     0  Total for all sectors  1981  3770852   \n5  0100000US  United States     0  Total for all sectors  1982  3720273   \n\n     ESTAB       EMP     DENOM ESTABS_ENTRY  ... JOB_DESTRUCTION_DEATHS  \\\n1  4310626  69410001  66810001       654226  ...                4048046   \n2  4472108  73848234  71727111       630253  ...                3760616   \n3  4533251  74109267  74018218       592484  ...                4246135   \n4  4615479  75728652  74924061       606853  ...                3478843   \n5  4598769  74922226  75267274       572030  ...                4055239   \n\n  JOB_DESTRUCTION_CONTINUERS JOB_DESTRUCTION_RATE_DEATHS JOB_DESTRUCTION_RATE  \\\n1                    5420961                       6.059               14.173   \n2                    6043218                       5.243               13.668   \n3                    7797198                       5.737               16.271   \n4                    7782399                       4.643                15.03   \n5                    8683755                       5.388               16.925   \n\n  NET_JOB_CREATION NET_JOB_CREATION_RATE REALLOCATION_RATE FIRMDEATH_FIRMS  \\\n1          5196537                 7.778            28.346          327278   \n2          4248257                 5.923            27.336          328024   \n3           188937                 0.255            32.542          368578   \n4          1609104                 2.148             30.06          377291   \n5          -678350                -0.901            32.048          412488   \n\n  FIRMDEATH_ESTABS FIRMDEATH_EMP  \n1           332504       1824251  \n2           332633       1785478  \n3           373754       1941422  \n4           383748       2005707  \n5           418501       2211944  \n\n[5 rows x 29 columns]",
      "text/html": "<div>\n<style scoped>\n    .dataframe tbody tr th:only-of-type {\n        vertical-align: middle;\n    }\n\n    .dataframe tbody tr th {\n        vertical-align: top;\n    }\n\n    .dataframe thead th {\n        text-align: right;\n    }\n</style>\n<table border=\"1\" class=\"dataframe\">\n  <thead>\n    <tr style=\"text-align: right;\">\n      <th></th>\n      <th>GEO_ID</th>\n      <th>NAME</th>\n      <th>NAICS</th>\n      <th>NAICS_LABEL</th>\n      <th>YEAR</th>\n      <th>FIRM</th>\n      <th>ESTAB</th>\n      <th>EMP</th>\n      <th>DENOM</th>\n      <th>ESTABS_ENTRY</th>\n      <th>...</th>\n      <th>JOB_DESTRUCTION_DEATHS</th>\n      <th>JOB_DESTRUCTION_CONTINUERS</th>\n      <th>JOB_DESTRUCTION_RATE_DEATHS</th>\n      <th>JOB_DESTRUCTION_RATE</th>\n      <th>NET_JOB_CREATION</th>\n      <th>NET_JOB_CREATION_RATE</th>\n      <th>REALLOCATION_RATE</th>\n      <th>FIRMDEATH_FIRMS</th>\n      <th>FIRMDEATH_ESTABS</th>\n      <th>FIRMDEATH_EMP</th>\n    </tr>\n  </thead>\n  <tbody>\n    <tr>\n      <th>1</th>\n      <td>0100000US</td>\n      <td>United States</td>\n      <td>0</td>\n      <td>Total for all sectors</td>\n      <td>1978</td>\n      <td>3557994</td>\n      <td>4310626</td>\n      <td>69410001</td>\n      <td>66810001</td>\n      <td>654226</td>\n      <td>...</td>\n      <td>4048046</td>\n      <td>5420961</td>\n      <td>6.059</td>\n      <td>14.173</td>\n      <td>5196537</td>\n      <td>7.778</td>\n      <td>28.346</td>\n      <td>327278</td>\n      <td>332504</td>\n      <td>1824251</td>\n    </tr>\n    <tr>\n      <th>2</th>\n      <td>0100000US</td>\n      <td>United States</td>\n      <td>0</td>\n      <td>Total for all sectors</td>\n      <td>1979</td>\n      <td>3692077</td>\n      <td>4472108</td>\n      <td>73848234</td>\n      <td>71727111</td>\n      <td>630253</td>\n      <td>...</td>\n      <td>3760616</td>\n      <td>6043218</td>\n      <td>5.243</td>\n      <td>13.668</td>\n      <td>4248257</td>\n      <td>5.923</td>\n      <td>27.336</td>\n      <td>328024</td>\n      <td>332633</td>\n      <td>1785478</td>\n    </tr>\n    <tr>\n      <th>3</th>\n      <td>0100000US</td>\n      <td>United States</td>\n      <td>0</td>\n      <td>Total for all sectors</td>\n      <td>1980</td>\n      <td>3739809</td>\n      <td>4533251</td>\n      <td>74109267</td>\n      <td>74018218</td>\n      <td>592484</td>\n      <td>...</td>\n      <td>4246135</td>\n      <td>7797198</td>\n      <td>5.737</td>\n      <td>16.271</td>\n      <td>188937</td>\n      <td>0.255</td>\n      <td>32.542</td>\n      <td>368578</td>\n      <td>373754</td>\n      <td>1941422</td>\n    </tr>\n    <tr>\n      <th>4</th>\n      <td>0100000US</td>\n      <td>United States</td>\n      <td>0</td>\n      <td>Total for all sectors</td>\n      <td>1981</td>\n      <td>3770852</td>\n      <td>4615479</td>\n      <td>75728652</td>\n      <td>74924061</td>\n      <td>606853</td>\n      <td>...</td>\n      <td>3478843</td>\n      <td>7782399</td>\n      <td>4.643</td>\n      <td>15.03</td>\n      <td>1609104</td>\n      <td>2.148</td>\n      <td>30.06</td>\n      <td>377291</td>\n      <td>383748</td>\n      <td>2005707</td>\n    </tr>\n    <tr>\n      <th>5</th>\n      <td>0100000US</td>\n      <td>United States</td>\n      <td>0</td>\n      <td>Total for all sectors</td>\n      <td>1982</td>\n      <td>3720273</td>\n      <td>4598769</td>\n      <td>74922226</td>\n      <td>75267274</td>\n      <td>572030</td>\n      <td>...</td>\n      <td>4055239</td>\n      <td>8683755</td>\n      <td>5.388</td>\n      <td>16.925</td>\n      <td>-678350</td>\n      <td>-0.901</td>\n      <td>32.048</td>\n      <td>412488</td>\n      <td>418501</td>\n      <td>2211944</td>\n    </tr>\n  </tbody>\n</table>\n<p>5 rows × 29 columns</p>\n</div>"
     },
     "execution_count": 14,
     "metadata": {},
     "output_type": "execute_result"
    }
   ],
   "source": [
    "NAICS_BDS = pd.read_csv('NAICS_BDS_timeseries_data.csv', low_memory=False)\n",
    "NAICS_BDS = NAICS_BDS.drop([0])\n",
    "NAICS_BDS.head()"
   ],
   "metadata": {
    "collapsed": false,
    "pycharm": {
     "name": "#%%\n"
    }
   }
  },
  {
   "cell_type": "code",
   "execution_count": 15,
   "outputs": [],
   "source": [
    "DF_NAICS = NAICS_BDS.copy()\n",
    "DF_NAICS.drop(DF_NAICS[(DF_NAICS.NAICS == '0')].index, inplace=True) #Dropping NAICS = 0 as it is the total for all the categories year wise"
   ],
   "metadata": {
    "collapsed": false,
    "pycharm": {
     "name": "#%%\n"
    }
   }
  },
  {
   "cell_type": "code",
   "execution_count": 16,
   "outputs": [],
   "source": [
    "# Transforming NAICS range column to individual columns:\n",
    "DF_NAICS.drop(DF_NAICS[(DF_NAICS.NAICS == '31-33') | (DF_NAICS.NAICS == '44-45') | (DF_NAICS.NAICS == '48-49')].index, inplace=True)\n",
    "DF_NAICS = DF_NAICS.append([NAICS_BDS[NAICS_BDS[\"NAICS\"] == '31-33']]*3, ignore_index=True)\n",
    "DF_NAICS = DF_NAICS.append([NAICS_BDS[NAICS_BDS[\"NAICS\"] == '44-45']]*2, ignore_index=True)\n",
    "DF_NAICS = DF_NAICS.append([NAICS_BDS[NAICS_BDS[\"NAICS\"] == '48-49']]*2, ignore_index=True)\n",
    "# Renaming the NAICS entries of range-columns\n",
    "temp_array = [31]*42 + [32]*42 + [33]*42\n",
    "DF_NAICS = DF_NAICS.replace({'NAICS' : { '31-33' : temp_array}})\n",
    "temp_array = [44]*42 + [45]*42\n",
    "DF_NAICS = DF_NAICS.replace({'NAICS' : { '44-45' : temp_array}})\n",
    "temp_array = [48]*42 + [49]*42\n",
    "DF_NAICS = DF_NAICS.replace({'NAICS' : { '48-49' : temp_array}})"
   ],
   "metadata": {
    "collapsed": false,
    "pycharm": {
     "name": "#%%\n"
    }
   }
  },
  {
   "cell_type": "code",
   "execution_count": 17,
   "outputs": [
    {
     "data": {
      "text/plain": "      GEO_ID           NAME NAICS                                 NAICS_LABEL  \\\n0  0100000US  United States    11  Agriculture, forestry, fishing and hunting   \n1  0100000US  United States    11  Agriculture, forestry, fishing and hunting   \n2  0100000US  United States    11  Agriculture, forestry, fishing and hunting   \n3  0100000US  United States    11  Agriculture, forestry, fishing and hunting   \n4  0100000US  United States    11  Agriculture, forestry, fishing and hunting   \n\n   YEAR   FIRM  ESTAB     EMP   DENOM ESTABS_ENTRY  ...  \\\n0  1978  23763  24429  200156  192326         4717  ...   \n1  1979  21765  22373  192288  191325         4178  ...   \n2  1980  21882  22500  193997  193979         3827  ...   \n3  1981  21862  22468  189977  193065         3514  ...   \n4  1982  19040  19695  173515  178279         2775  ...   \n\n  JOB_DESTRUCTION_DEATHS JOB_DESTRUCTION_CONTINUERS  \\\n0                  18829                      27500   \n1                  22142                      30446   \n2                  16453                      31944   \n3                  20576                      31625   \n4                  20541                      31150   \n\n  JOB_DESTRUCTION_RATE_DEATHS JOB_DESTRUCTION_RATE NET_JOB_CREATION  \\\n0                        9.79               24.089            15439   \n1                      11.573               27.486             1716   \n2                       8.482                24.95             -108   \n3                      10.658               27.038            -6316   \n4                      11.522               28.995            -9420   \n\n  NET_JOB_CREATION_RATE REALLOCATION_RATE FIRMDEATH_FIRMS FIRMDEATH_ESTABS  \\\n0                 8.028            48.178            2876             2905   \n1                 0.897            54.972            3022             3068   \n2                -0.056            49.788            2780             2780   \n3                -3.271            47.533            2696             2699   \n4                -5.284            47.421            3176             3180   \n\n  FIRMDEATH_EMP  \n0         12497  \n1         14659  \n2         11264  \n3         11719  \n4         14178  \n\n[5 rows x 29 columns]",
      "text/html": "<div>\n<style scoped>\n    .dataframe tbody tr th:only-of-type {\n        vertical-align: middle;\n    }\n\n    .dataframe tbody tr th {\n        vertical-align: top;\n    }\n\n    .dataframe thead th {\n        text-align: right;\n    }\n</style>\n<table border=\"1\" class=\"dataframe\">\n  <thead>\n    <tr style=\"text-align: right;\">\n      <th></th>\n      <th>GEO_ID</th>\n      <th>NAME</th>\n      <th>NAICS</th>\n      <th>NAICS_LABEL</th>\n      <th>YEAR</th>\n      <th>FIRM</th>\n      <th>ESTAB</th>\n      <th>EMP</th>\n      <th>DENOM</th>\n      <th>ESTABS_ENTRY</th>\n      <th>...</th>\n      <th>JOB_DESTRUCTION_DEATHS</th>\n      <th>JOB_DESTRUCTION_CONTINUERS</th>\n      <th>JOB_DESTRUCTION_RATE_DEATHS</th>\n      <th>JOB_DESTRUCTION_RATE</th>\n      <th>NET_JOB_CREATION</th>\n      <th>NET_JOB_CREATION_RATE</th>\n      <th>REALLOCATION_RATE</th>\n      <th>FIRMDEATH_FIRMS</th>\n      <th>FIRMDEATH_ESTABS</th>\n      <th>FIRMDEATH_EMP</th>\n    </tr>\n  </thead>\n  <tbody>\n    <tr>\n      <th>0</th>\n      <td>0100000US</td>\n      <td>United States</td>\n      <td>11</td>\n      <td>Agriculture, forestry, fishing and hunting</td>\n      <td>1978</td>\n      <td>23763</td>\n      <td>24429</td>\n      <td>200156</td>\n      <td>192326</td>\n      <td>4717</td>\n      <td>...</td>\n      <td>18829</td>\n      <td>27500</td>\n      <td>9.79</td>\n      <td>24.089</td>\n      <td>15439</td>\n      <td>8.028</td>\n      <td>48.178</td>\n      <td>2876</td>\n      <td>2905</td>\n      <td>12497</td>\n    </tr>\n    <tr>\n      <th>1</th>\n      <td>0100000US</td>\n      <td>United States</td>\n      <td>11</td>\n      <td>Agriculture, forestry, fishing and hunting</td>\n      <td>1979</td>\n      <td>21765</td>\n      <td>22373</td>\n      <td>192288</td>\n      <td>191325</td>\n      <td>4178</td>\n      <td>...</td>\n      <td>22142</td>\n      <td>30446</td>\n      <td>11.573</td>\n      <td>27.486</td>\n      <td>1716</td>\n      <td>0.897</td>\n      <td>54.972</td>\n      <td>3022</td>\n      <td>3068</td>\n      <td>14659</td>\n    </tr>\n    <tr>\n      <th>2</th>\n      <td>0100000US</td>\n      <td>United States</td>\n      <td>11</td>\n      <td>Agriculture, forestry, fishing and hunting</td>\n      <td>1980</td>\n      <td>21882</td>\n      <td>22500</td>\n      <td>193997</td>\n      <td>193979</td>\n      <td>3827</td>\n      <td>...</td>\n      <td>16453</td>\n      <td>31944</td>\n      <td>8.482</td>\n      <td>24.95</td>\n      <td>-108</td>\n      <td>-0.056</td>\n      <td>49.788</td>\n      <td>2780</td>\n      <td>2780</td>\n      <td>11264</td>\n    </tr>\n    <tr>\n      <th>3</th>\n      <td>0100000US</td>\n      <td>United States</td>\n      <td>11</td>\n      <td>Agriculture, forestry, fishing and hunting</td>\n      <td>1981</td>\n      <td>21862</td>\n      <td>22468</td>\n      <td>189977</td>\n      <td>193065</td>\n      <td>3514</td>\n      <td>...</td>\n      <td>20576</td>\n      <td>31625</td>\n      <td>10.658</td>\n      <td>27.038</td>\n      <td>-6316</td>\n      <td>-3.271</td>\n      <td>47.533</td>\n      <td>2696</td>\n      <td>2699</td>\n      <td>11719</td>\n    </tr>\n    <tr>\n      <th>4</th>\n      <td>0100000US</td>\n      <td>United States</td>\n      <td>11</td>\n      <td>Agriculture, forestry, fishing and hunting</td>\n      <td>1982</td>\n      <td>19040</td>\n      <td>19695</td>\n      <td>173515</td>\n      <td>178279</td>\n      <td>2775</td>\n      <td>...</td>\n      <td>20541</td>\n      <td>31150</td>\n      <td>11.522</td>\n      <td>28.995</td>\n      <td>-9420</td>\n      <td>-5.284</td>\n      <td>47.421</td>\n      <td>3176</td>\n      <td>3180</td>\n      <td>14178</td>\n    </tr>\n  </tbody>\n</table>\n<p>5 rows × 29 columns</p>\n</div>"
     },
     "execution_count": 17,
     "metadata": {},
     "output_type": "execute_result"
    }
   ],
   "source": [
    "DF_NAICS.head()"
   ],
   "metadata": {
    "collapsed": false,
    "pycharm": {
     "name": "#%%\n"
    }
   }
  },
  {
   "cell_type": "code",
   "execution_count": 18,
   "outputs": [],
   "source": [
    "Keep_Columns_DF_NAICS = ['NAICS', 'YEAR', 'FIRM', 'DENOM', 'ESTABS_ENTRY', 'ESTABS_EXIT', 'JOB_CREATION', 'JOB_DESTRUCTION', 'REALLOCATION_RATE', 'FIRMDEATH_ESTABS', 'FIRMDEATH_EMP']\n",
    "DF_NAICS = DF_NAICS[Keep_Columns_DF_NAICS]"
   ],
   "metadata": {
    "collapsed": false,
    "pycharm": {
     "name": "#%%\n"
    }
   }
  },
  {
   "cell_type": "code",
   "execution_count": 19,
   "outputs": [],
   "source": [
    "To_int_Columns_DF_NAICS = ['NAICS', 'YEAR', 'FIRM', 'DENOM', 'ESTABS_ENTRY', 'ESTABS_EXIT', 'JOB_CREATION', 'JOB_DESTRUCTION', 'FIRMDEATH_ESTABS', 'FIRMDEATH_EMP']\n",
    "for column_name in To_int_Columns_DF_NAICS:\n",
    "    DF_NAICS[column_name] = [int(x) for x in DF_NAICS[column_name]]\n",
    "\n",
    "DF_NAICS['REALLOCATION_RATE'] = [float(x) for x in DF_NAICS['REALLOCATION_RATE']]"
   ],
   "metadata": {
    "collapsed": false,
    "pycharm": {
     "name": "#%%\n"
    }
   }
  },
  {
   "cell_type": "code",
   "execution_count": 20,
   "outputs": [
    {
     "name": "stdout",
     "output_type": "stream",
     "text": [
      "(696342, 7)\n",
      "(966, 11)\n"
     ]
    }
   ],
   "source": [
    "### 1.3) Merging Dataset based on NAICS category and dates: Year from DF_NAICS and ApprovalFY from DF_SBA_Loan\n",
    "DF_SBA_Loan = DF_SBA_Loan.rename(columns={\"ApprovalFY\": \"YEAR\"})\n",
    "print(DF_SBA_Loan.shape)\n",
    "print(DF_NAICS.shape)"
   ],
   "metadata": {
    "collapsed": false,
    "pycharm": {
     "name": "#%%\n"
    }
   }
  },
  {
   "cell_type": "code",
   "execution_count": 21,
   "outputs": [
    {
     "data": {
      "text/plain": "       State  NAICS  YEAR  NewExist MIS_Status  SBA_Appv    GrAppv      FIRM  \\\n0         IN     45  1997       2.0      P I F   48000.0   60000.0  670945.0   \n1         IN     72  1997       2.0      P I F   32000.0   40000.0  357519.0   \n2         IN     62  1997       1.0      P I F  215250.0  287000.0  481657.0   \n3         CT     33  1997       1.0      P I F  387750.0  517000.0  292577.0   \n4         FL     81  1997       2.0      P I F   36000.0   45000.0  599136.0   \n...      ...    ...   ...       ...        ...       ...       ...       ...   \n696337    MD     33  1997       1.0      P I F   25000.0   50000.0  292577.0   \n696338    CA     31  1997       1.0      P I F  150000.0  200000.0  292577.0   \n696339    OH     45  1997       1.0      P I F   56000.0   70000.0  670945.0   \n696340    OH     45  1997       1.0      P I F   42500.0   85000.0  670945.0   \n696341    CA     33  1997       1.0      P I F  225000.0  300000.0  292577.0   \n\n             DENOM  ESTABS_ENTRY  ESTABS_EXIT  JOB_CREATION  JOB_DESTRUCTION  \\\n0       13763872.0      110091.0     115364.0     2361731.0        2038489.0   \n1        9152783.0       69257.0      63282.0     1894562.0        1728105.0   \n2       12684590.0       60737.0      50485.0     1943403.0        1632957.0   \n3       16284152.0       28296.0      29516.0     1835979.0        1672272.0   \n4        4864066.0       62099.0      58638.0      800963.0         694752.0   \n...            ...           ...          ...           ...              ...   \n696337  16284152.0       28296.0      29516.0     1835979.0        1672272.0   \n696338  16284152.0       28296.0      29516.0     1835979.0        1672272.0   \n696339  13763872.0      110091.0     115364.0     2361731.0        2038489.0   \n696340  13763872.0      110091.0     115364.0     2361731.0        2038489.0   \n696341  16284152.0       28296.0      29516.0     1835979.0        1672272.0   \n\n        REALLOCATION_RATE  FIRMDEATH_ESTABS  FIRMDEATH_EMP  \n0                  29.621           73384.0       349798.0  \n1                  37.761           45776.0       441164.0  \n2                  25.747           35763.0       328510.0  \n3                  20.539           22142.0       255029.0  \n4                  28.567           42290.0       156087.0  \n...                   ...               ...            ...  \n696337             20.539           22142.0       255029.0  \n696338             20.539           22142.0       255029.0  \n696339             29.621           73384.0       349798.0  \n696340             29.621           73384.0       349798.0  \n696341             20.539           22142.0       255029.0  \n\n[696113 rows x 16 columns]",
      "text/html": "<div>\n<style scoped>\n    .dataframe tbody tr th:only-of-type {\n        vertical-align: middle;\n    }\n\n    .dataframe tbody tr th {\n        vertical-align: top;\n    }\n\n    .dataframe thead th {\n        text-align: right;\n    }\n</style>\n<table border=\"1\" class=\"dataframe\">\n  <thead>\n    <tr style=\"text-align: right;\">\n      <th></th>\n      <th>State</th>\n      <th>NAICS</th>\n      <th>YEAR</th>\n      <th>NewExist</th>\n      <th>MIS_Status</th>\n      <th>SBA_Appv</th>\n      <th>GrAppv</th>\n      <th>FIRM</th>\n      <th>DENOM</th>\n      <th>ESTABS_ENTRY</th>\n      <th>ESTABS_EXIT</th>\n      <th>JOB_CREATION</th>\n      <th>JOB_DESTRUCTION</th>\n      <th>REALLOCATION_RATE</th>\n      <th>FIRMDEATH_ESTABS</th>\n      <th>FIRMDEATH_EMP</th>\n    </tr>\n  </thead>\n  <tbody>\n    <tr>\n      <th>0</th>\n      <td>IN</td>\n      <td>45</td>\n      <td>1997</td>\n      <td>2.0</td>\n      <td>P I F</td>\n      <td>48000.0</td>\n      <td>60000.0</td>\n      <td>670945.0</td>\n      <td>13763872.0</td>\n      <td>110091.0</td>\n      <td>115364.0</td>\n      <td>2361731.0</td>\n      <td>2038489.0</td>\n      <td>29.621</td>\n      <td>73384.0</td>\n      <td>349798.0</td>\n    </tr>\n    <tr>\n      <th>1</th>\n      <td>IN</td>\n      <td>72</td>\n      <td>1997</td>\n      <td>2.0</td>\n      <td>P I F</td>\n      <td>32000.0</td>\n      <td>40000.0</td>\n      <td>357519.0</td>\n      <td>9152783.0</td>\n      <td>69257.0</td>\n      <td>63282.0</td>\n      <td>1894562.0</td>\n      <td>1728105.0</td>\n      <td>37.761</td>\n      <td>45776.0</td>\n      <td>441164.0</td>\n    </tr>\n    <tr>\n      <th>2</th>\n      <td>IN</td>\n      <td>62</td>\n      <td>1997</td>\n      <td>1.0</td>\n      <td>P I F</td>\n      <td>215250.0</td>\n      <td>287000.0</td>\n      <td>481657.0</td>\n      <td>12684590.0</td>\n      <td>60737.0</td>\n      <td>50485.0</td>\n      <td>1943403.0</td>\n      <td>1632957.0</td>\n      <td>25.747</td>\n      <td>35763.0</td>\n      <td>328510.0</td>\n    </tr>\n    <tr>\n      <th>3</th>\n      <td>CT</td>\n      <td>33</td>\n      <td>1997</td>\n      <td>1.0</td>\n      <td>P I F</td>\n      <td>387750.0</td>\n      <td>517000.0</td>\n      <td>292577.0</td>\n      <td>16284152.0</td>\n      <td>28296.0</td>\n      <td>29516.0</td>\n      <td>1835979.0</td>\n      <td>1672272.0</td>\n      <td>20.539</td>\n      <td>22142.0</td>\n      <td>255029.0</td>\n    </tr>\n    <tr>\n      <th>4</th>\n      <td>FL</td>\n      <td>81</td>\n      <td>1997</td>\n      <td>2.0</td>\n      <td>P I F</td>\n      <td>36000.0</td>\n      <td>45000.0</td>\n      <td>599136.0</td>\n      <td>4864066.0</td>\n      <td>62099.0</td>\n      <td>58638.0</td>\n      <td>800963.0</td>\n      <td>694752.0</td>\n      <td>28.567</td>\n      <td>42290.0</td>\n      <td>156087.0</td>\n    </tr>\n    <tr>\n      <th>...</th>\n      <td>...</td>\n      <td>...</td>\n      <td>...</td>\n      <td>...</td>\n      <td>...</td>\n      <td>...</td>\n      <td>...</td>\n      <td>...</td>\n      <td>...</td>\n      <td>...</td>\n      <td>...</td>\n      <td>...</td>\n      <td>...</td>\n      <td>...</td>\n      <td>...</td>\n      <td>...</td>\n    </tr>\n    <tr>\n      <th>696337</th>\n      <td>MD</td>\n      <td>33</td>\n      <td>1997</td>\n      <td>1.0</td>\n      <td>P I F</td>\n      <td>25000.0</td>\n      <td>50000.0</td>\n      <td>292577.0</td>\n      <td>16284152.0</td>\n      <td>28296.0</td>\n      <td>29516.0</td>\n      <td>1835979.0</td>\n      <td>1672272.0</td>\n      <td>20.539</td>\n      <td>22142.0</td>\n      <td>255029.0</td>\n    </tr>\n    <tr>\n      <th>696338</th>\n      <td>CA</td>\n      <td>31</td>\n      <td>1997</td>\n      <td>1.0</td>\n      <td>P I F</td>\n      <td>150000.0</td>\n      <td>200000.0</td>\n      <td>292577.0</td>\n      <td>16284152.0</td>\n      <td>28296.0</td>\n      <td>29516.0</td>\n      <td>1835979.0</td>\n      <td>1672272.0</td>\n      <td>20.539</td>\n      <td>22142.0</td>\n      <td>255029.0</td>\n    </tr>\n    <tr>\n      <th>696339</th>\n      <td>OH</td>\n      <td>45</td>\n      <td>1997</td>\n      <td>1.0</td>\n      <td>P I F</td>\n      <td>56000.0</td>\n      <td>70000.0</td>\n      <td>670945.0</td>\n      <td>13763872.0</td>\n      <td>110091.0</td>\n      <td>115364.0</td>\n      <td>2361731.0</td>\n      <td>2038489.0</td>\n      <td>29.621</td>\n      <td>73384.0</td>\n      <td>349798.0</td>\n    </tr>\n    <tr>\n      <th>696340</th>\n      <td>OH</td>\n      <td>45</td>\n      <td>1997</td>\n      <td>1.0</td>\n      <td>P I F</td>\n      <td>42500.0</td>\n      <td>85000.0</td>\n      <td>670945.0</td>\n      <td>13763872.0</td>\n      <td>110091.0</td>\n      <td>115364.0</td>\n      <td>2361731.0</td>\n      <td>2038489.0</td>\n      <td>29.621</td>\n      <td>73384.0</td>\n      <td>349798.0</td>\n    </tr>\n    <tr>\n      <th>696341</th>\n      <td>CA</td>\n      <td>33</td>\n      <td>1997</td>\n      <td>1.0</td>\n      <td>P I F</td>\n      <td>225000.0</td>\n      <td>300000.0</td>\n      <td>292577.0</td>\n      <td>16284152.0</td>\n      <td>28296.0</td>\n      <td>29516.0</td>\n      <td>1835979.0</td>\n      <td>1672272.0</td>\n      <td>20.539</td>\n      <td>22142.0</td>\n      <td>255029.0</td>\n    </tr>\n  </tbody>\n</table>\n<p>696113 rows × 16 columns</p>\n</div>"
     },
     "execution_count": 21,
     "metadata": {},
     "output_type": "execute_result"
    }
   ],
   "source": [
    "df_merged_NAICS_SBALoan = pd.merge(DF_SBA_Loan, DF_NAICS,  how='left', left_on=['NAICS','YEAR'], right_on = ['NAICS','YEAR'])\n",
    "df_merged_NAICS_SBALoan = df_merged_NAICS_SBALoan.dropna()\n",
    "df_merged_NAICS_SBALoan"
   ],
   "metadata": {
    "collapsed": false,
    "pycharm": {
     "name": "#%%\n"
    }
   }
  },
  {
   "cell_type": "code",
   "execution_count": 22,
   "outputs": [],
   "source": [
    "# Plotting correlation matrix\n",
    "correlation = df_merged_NAICS_SBALoan.corr()\n",
    "# plt.figure(figsize=(10,10))\n",
    "# plt.title('Correlation Heatmap of NAICS_SBA_Dataset')\n",
    "# ax = sns.heatmap(correlation, square=True, annot=True, fmt='.2f', linecolor='white')\n",
    "# ax.set_xticklabels(ax.get_xticklabels(), rotation=90)\n",
    "# ax.set_yticklabels(ax.get_yticklabels(), rotation=30)\n",
    "# plt.show()"
   ],
   "metadata": {
    "collapsed": false,
    "pycharm": {
     "name": "#%%\n"
    }
   }
  },
  {
   "cell_type": "code",
   "execution_count": 23,
   "outputs": [],
   "source": [
    "### 1.4) Splitting the data into Train, Val and Test as per time-series:\n",
    "df_merged_NAICS_SBALoan_train = df_merged_NAICS_SBALoan[df_merged_NAICS_SBALoan['YEAR']<=2007]\n",
    "df_merged_NAICS_SBALoan_val = df_merged_NAICS_SBALoan[(df_merged_NAICS_SBALoan['YEAR'] == 2008) | (df_merged_NAICS_SBALoan['YEAR'] == 2009)]\n",
    "df_merged_NAICS_SBALoan_test = df_merged_NAICS_SBALoan[df_merged_NAICS_SBALoan['YEAR'] >= 2010]"
   ],
   "metadata": {
    "collapsed": false,
    "pycharm": {
     "name": "#%%\n"
    }
   }
  },
  {
   "cell_type": "code",
   "execution_count": 24,
   "outputs": [],
   "source": [
    "y_train = df_merged_NAICS_SBALoan_train['SBA_Appv'] / df_merged_NAICS_SBALoan_train['GrAppv']\n",
    "X_train = df_merged_NAICS_SBALoan_train.drop(['SBA_Appv'], axis=1)\n",
    "y_val = df_merged_NAICS_SBALoan_val['SBA_Appv'] / df_merged_NAICS_SBALoan_val['GrAppv']\n",
    "X_val = df_merged_NAICS_SBALoan_val.drop(['SBA_Appv'], axis=1)\n",
    "y_test = df_merged_NAICS_SBALoan_test['SBA_Appv'] / df_merged_NAICS_SBALoan_test['GrAppv']\n",
    "X_test = df_merged_NAICS_SBALoan_test.drop(['SBA_Appv'], axis=1)"
   ],
   "metadata": {
    "collapsed": false,
    "pycharm": {
     "name": "#%%\n"
    }
   }
  },
  {
   "cell_type": "code",
   "execution_count": 25,
   "outputs": [],
   "source": [
    "from sklearn.preprocessing import StandardScaler\n",
    "\n",
    "# Define numerical features to use for modelling\n",
    "num_features = ['GrAppv', 'FIRM', 'DENOM', 'ESTABS_ENTRY', 'ESTABS_EXIT', 'JOB_CREATION', 'JOB_DESTRUCTION', 'REALLOCATION_RATE', 'FIRMDEATH_ESTABS', 'FIRMDEATH_EMP']\n",
    "\n",
    "# Define categorical features to use for modelling\n",
    "cat_features = ['State', 'NAICS', 'MIS_Status']\n",
    "misc_features = ['YEAR', 'NewExist']\n",
    "\n",
    "# Fitting scaler for the training data\n",
    "scaler = StandardScaler()\n",
    "scaler.fit(X_train[num_features])\n",
    "\n",
    "def features_scale_and_dummies(df):\n",
    "    scaled = df[num_features].copy()\n",
    "    # Convert numeric features to standard units\n",
    "    scaled.iloc[:, :] = scaler.transform(scaled)\n",
    "    # Convert categorical features using dummy encoding\n",
    "    categoricals = [pd.get_dummies(df[s], prefix=s, drop_first=True) for s in cat_features]\n",
    "    misc = df[misc_features]\n",
    "    return pd.concat([scaled] + categoricals + [misc], axis=1)"
   ],
   "metadata": {
    "collapsed": false,
    "pycharm": {
     "name": "#%%\n"
    }
   }
  },
  {
   "cell_type": "code",
   "execution_count": 26,
   "outputs": [],
   "source": [
    "X_train = features_scale_and_dummies(X_train)\n",
    "X_val = features_scale_and_dummies(X_val)\n",
    "X_test = features_scale_and_dummies(X_test)"
   ],
   "metadata": {
    "collapsed": false,
    "pycharm": {
     "name": "#%%\n"
    }
   }
  },
  {
   "cell_type": "code",
   "execution_count": 27,
   "outputs": [
    {
     "name": "stdout",
     "output_type": "stream",
     "text": [
      "(599434, 85)\n",
      "(58648, 85)\n",
      "(38031, 85)\n"
     ]
    }
   ],
   "source": [
    "print(X_train.shape)\n",
    "print(X_val.shape)\n",
    "print(X_test.shape)"
   ],
   "metadata": {
    "collapsed": false,
    "pycharm": {
     "name": "#%%\n"
    }
   }
  },
  {
   "cell_type": "code",
   "execution_count": 28,
   "outputs": [],
   "source": [
    "#Defining RMSE function\n",
    "from sklearn import metrics\n",
    "def rmse(y_pred, y):\n",
    "    return np.sqrt(metrics.mean_squared_error(y_pred, y))\n",
    "from sklearn.metrics import r2_score"
   ],
   "metadata": {
    "collapsed": false,
    "pycharm": {
     "name": "#%%\n"
    }
   }
  },
  {
   "cell_type": "code",
   "execution_count": 29,
   "outputs": [],
   "source": [
    "### 1.4.1) Considering only Entering Entities features to train our model:\n",
    "# Columns_to_keep = ['State', 'NAICS', 'YEAR', 'NewExist', 'MIS_Status', 'GrAppv', 'FIRM', 'DENOM', 'ESTABS_ENTRY', 'JOB_CREATION']\n",
    "X_train_1 = X_train.drop(['ESTABS_EXIT', 'JOB_DESTRUCTION', 'REALLOCATION_RATE', 'FIRMDEATH_ESTABS', 'FIRMDEATH_EMP'], axis=1)\n",
    "X_val_1 = X_val.drop(['ESTABS_EXIT', 'JOB_DESTRUCTION', 'REALLOCATION_RATE', 'FIRMDEATH_ESTABS', 'FIRMDEATH_EMP'], axis=1)"
   ],
   "metadata": {
    "collapsed": false,
    "pycharm": {
     "name": "#%%\n"
    }
   }
  },
  {
   "cell_type": "code",
   "execution_count": 30,
   "outputs": [
    {
     "name": "stdout",
     "output_type": "stream",
     "text": [
      "For the linear regression model in part 1:\n",
      " RMSE for training data is:  0.13823452738522352 \n",
      " RMSE for validation data is:  0.181954968933335 \n",
      " R2 Score for training data is:  0.3644253807312253 \n",
      " R2 Score for validation data is:  0.014596587208754563\n"
     ]
    }
   ],
   "source": [
    "# Linear Regression - Performing Linear Regression\n",
    "from sklearn.linear_model import LinearRegression\n",
    "model_1 = LinearRegression(fit_intercept=True).fit(X_train_1, y_train)\n",
    "y_train_predicted_1 = model_1.predict(X_train_1)\n",
    "y_val_predicted_1 = model_1.predict(X_val_1)\n",
    "# Linear Regression - RMSE for training and validation data\n",
    "rmse_train_1 = rmse(y_train, y_train_predicted_1)\n",
    "rmse_val_1 = rmse(y_val, y_val_predicted_1)\n",
    "r2_train_1 = r2_score(y_train, y_train_predicted_1)\n",
    "r2_val_1 = r2_score(y_val, y_val_predicted_1)\n",
    "print(\"For the linear regression model in part 1:\\n\", \"RMSE for training data is: \",rmse_train_1,\"\\n\",\"RMSE for validation data is: \",rmse_val_1,\"\\n\",\"R2 Score for training data is: \",r2_train_1,\"\\n\",\"R2 Score for validation data is: \",r2_val_1)"
   ],
   "metadata": {
    "collapsed": false,
    "pycharm": {
     "name": "#%%\n"
    }
   }
  },
  {
   "cell_type": "code",
   "execution_count": 31,
   "outputs": [],
   "source": [
    "# # Plotting residual Curves for the Regression model\n",
    "# residuals_1 = y_val - y_val_predicted_1\n",
    "# ax = sns.regplot(y_val, residuals_1)\n",
    "# ax.set_xlabel('SBA Approved / Gross Approved (Validation Data)')\n",
    "# ax.set_ylabel('Residuals (Actual Price - Predicted Price)')\n",
    "# ax.set_title(\"Residuals vs. SBA Approved / Gross Approved on Validation Data\");"
   ],
   "metadata": {
    "collapsed": false,
    "pycharm": {
     "name": "#%%\n"
    }
   }
  },
  {
   "cell_type": "code",
   "execution_count": 32,
   "outputs": [],
   "source": [
    "### 1.4.2) Considering only Exiting Entities features to train our model:\n",
    "# Columns_to_keep = ['State', 'NAICS', 'YEAR', 'NewExist', 'MIS_Status', 'GrAppv', 'FIRM', 'DENOM', 'ESTABS_EXIT', 'JOB_DESTRUCTION', 'REALLOCATION_RATE', 'FIRMDEATH_ESTABS', 'FIRMDEATH_EMP']\n",
    "X_train_2 = X_train.drop(['ESTABS_ENTRY', 'JOB_CREATION'], axis=1)\n",
    "X_val_2 = X_val.drop(['ESTABS_ENTRY', 'JOB_CREATION'], axis=1)"
   ],
   "metadata": {
    "collapsed": false,
    "pycharm": {
     "name": "#%%\n"
    }
   }
  },
  {
   "cell_type": "code",
   "execution_count": 33,
   "outputs": [
    {
     "name": "stdout",
     "output_type": "stream",
     "text": [
      "For the linear regression model in part 2:\n",
      " RMSE for training data is:  0.13815035384295604 \n",
      " RMSE for validation data is:  0.18300784141692794 \n",
      " R2 Score for training data is:  0.36519917118663214 \n",
      " R2 Score for validation data is:  0.003159627007398691\n"
     ]
    }
   ],
   "source": [
    "# Linear Regression - Performing Linear Regression\n",
    "model_2 = LinearRegression(fit_intercept=True).fit(X_train_2, y_train)\n",
    "y_train_predicted_2 = model_2.predict(X_train_2)\n",
    "y_val_predicted_2 = model_2.predict(X_val_2)\n",
    "# Linear Regression - RMSE for training and validation data\n",
    "rmse_train_2 = rmse(y_train, y_train_predicted_2)\n",
    "rmse_val_2 = rmse(y_val, y_val_predicted_2)\n",
    "r2_train_2 = r2_score(y_train, y_train_predicted_2)\n",
    "r2_val_2 = r2_score(y_val, y_val_predicted_2)\n",
    "print(\"For the linear regression model in part 2:\\n\", \"RMSE for training data is: \",rmse_train_2,\"\\n\",\"RMSE for validation data is: \",rmse_val_2,\"\\n\",\"R2 Score for training data is: \",r2_train_2,\"\\n\",\"R2 Score for validation data is: \",r2_val_2)"
   ],
   "metadata": {
    "collapsed": false,
    "pycharm": {
     "name": "#%%\n"
    }
   }
  },
  {
   "cell_type": "code",
   "execution_count": 34,
   "outputs": [],
   "source": [
    "# # Plotting residual Curves for the Regression model\n",
    "# residuals_2 = y_val - y_val_predicted_2\n",
    "# ax = sns.regplot(y_val, residuals_2)\n",
    "# ax.set_xlabel('SBA Approved / Gross Approved (Validation Data)')\n",
    "# ax.set_ylabel('Residuals (Actual Price - Predicted Price)')\n",
    "# ax.set_title(\"Residuals vs. SBA Approved / Gross Approved on Validation Data\");"
   ],
   "metadata": {
    "collapsed": false,
    "pycharm": {
     "name": "#%%\n"
    }
   }
  },
  {
   "cell_type": "code",
   "execution_count": 35,
   "outputs": [
    {
     "name": "stdout",
     "output_type": "stream",
     "text": [
      "For the linear regression model in part 3:\n",
      " RMSE for training data is:  0.138148359102862 \n",
      " RMSE for validation data is:  0.18247831297607567 \n",
      " R2 Score for training data is:  0.3652175027143919 \n",
      " R2 Score for validation data is:  0.008919944779136935\n"
     ]
    }
   ],
   "source": [
    "### 1.4.3) Considering all the features to train our model:\n",
    "# Linear Regression - Performing Linear Regression\n",
    "model_3 = LinearRegression(fit_intercept=True).fit(X_train, y_train)\n",
    "y_train_predicted_3 = model_3.predict(X_train)\n",
    "y_val_predicted_3 = model_3.predict(X_val)\n",
    "# Linear Regression - RMSE for training and validation data\n",
    "rmse_train_3 = rmse(y_train, y_train_predicted_3)\n",
    "rmse_val_3 = rmse(y_val, y_val_predicted_3)\n",
    "r2_train_3 = r2_score(y_train, y_train_predicted_3)\n",
    "r2_val_3 = r2_score(y_val, y_val_predicted_3)\n",
    "print(\"For the linear regression model in part 3:\\n\", \"RMSE for training data is: \",rmse_train_3,\"\\n\",\"RMSE for validation data is: \",rmse_val_3,\"\\n\",\"R2 Score for training data is: \",r2_train_3,\"\\n\",\"R2 Score for validation data is: \",r2_val_3)"
   ],
   "metadata": {
    "collapsed": false,
    "pycharm": {
     "name": "#%%\n"
    }
   }
  },
  {
   "cell_type": "code",
   "execution_count": 36,
   "outputs": [],
   "source": [
    "# # Plotting residual Curves for the Regression model\n",
    "# residuals_3 = y_val - y_val_predicted_3\n",
    "# ax = sns.regplot(y_val, residuals_3)\n",
    "# ax.set_xlabel('SBA Approved / Gross Approved (Validation Data)')\n",
    "# ax.set_ylabel('Residuals (Actual Price - Predicted Price)')\n",
    "# ax.set_title(\"Residuals vs. SBA Approved / Gross Approved on Validation Data\");"
   ],
   "metadata": {
    "collapsed": false,
    "pycharm": {
     "name": "#%%\n"
    }
   }
  },
  {
   "cell_type": "code",
   "execution_count": 37,
   "outputs": [],
   "source": [
    "### 1.5) Splitting the data into Train, Val and Test as per time-series:\n",
    "df_merged_NAICS_SBALoan_train_val = df_merged_NAICS_SBALoan[df_merged_NAICS_SBALoan['YEAR']<=2009]\n",
    "df_merged_NAICS_SBALoan_test = df_merged_NAICS_SBALoan[df_merged_NAICS_SBALoan['YEAR'] >= 2010]\n",
    "y_train_val = df_merged_NAICS_SBALoan_train_val['SBA_Appv'] / df_merged_NAICS_SBALoan_train_val['GrAppv']\n",
    "X_train_val = df_merged_NAICS_SBALoan_train_val.drop(['SBA_Appv'], axis=1)\n",
    "y_test = df_merged_NAICS_SBALoan_test['SBA_Appv'] / df_merged_NAICS_SBALoan_test['GrAppv']\n",
    "X_test = df_merged_NAICS_SBALoan_test.drop(['SBA_Appv'], axis=1)\n",
    "from sklearn.model_selection import train_test_split\n",
    "X_train, X_val, y_train, y_val = train_test_split(X_train_val, y_train_val, test_size=0.15, random_state= 0)"
   ],
   "metadata": {
    "collapsed": false,
    "pycharm": {
     "name": "#%%\n"
    }
   }
  },
  {
   "cell_type": "code",
   "execution_count": 38,
   "outputs": [],
   "source": [
    "# Fitting scaler for the new training data\n",
    "scaler = StandardScaler()\n",
    "scaler.fit(X_train[num_features])\n",
    "# Redefining the function with new Scaler\n",
    "def features_scale_and_dummies(df):\n",
    "    scaled = df[num_features].copy()\n",
    "    # Convert numeric features to standard units\n",
    "    scaled.iloc[:, :] = scaler.transform(scaled)\n",
    "    # Convert categorical features using dummy encoding\n",
    "    categoricals = [pd.get_dummies(df[s], prefix=s, drop_first=True) for s in cat_features]\n",
    "    misc = df[misc_features]\n",
    "    return pd.concat([scaled] + categoricals + [misc], axis=1)"
   ],
   "metadata": {
    "collapsed": false,
    "pycharm": {
     "name": "#%%\n"
    }
   }
  },
  {
   "cell_type": "code",
   "execution_count": 39,
   "outputs": [],
   "source": [
    "X_train = features_scale_and_dummies(X_train)\n",
    "X_val = features_scale_and_dummies(X_val)\n",
    "X_test = features_scale_and_dummies(X_test)"
   ],
   "metadata": {
    "collapsed": false,
    "pycharm": {
     "name": "#%%\n"
    }
   }
  },
  {
   "cell_type": "code",
   "execution_count": 40,
   "outputs": [
    {
     "name": "stdout",
     "output_type": "stream",
     "text": [
      "(559369, 85)\n",
      "(98713, 85)\n",
      "(38031, 85)\n"
     ]
    }
   ],
   "source": [
    "print(X_train.shape)\n",
    "print(X_val.shape)\n",
    "print(X_test.shape)"
   ],
   "metadata": {
    "collapsed": false,
    "pycharm": {
     "name": "#%%\n"
    }
   }
  },
  {
   "cell_type": "code",
   "execution_count": 41,
   "outputs": [
    {
     "name": "stdout",
     "output_type": "stream",
     "text": [
      "For the linear regression model in part 3:\n",
      " RMSE for training data is:  0.14164927178163114 \n",
      " RMSE for validation data is:  0.14192099845032854 \n",
      " R2 Score for training data is:  0.34176446266767035 \n",
      " R2 Score for validation data is:  0.3392913497046307\n"
     ]
    }
   ],
   "source": [
    "# Linear Regression - Performing Linear Regression\n",
    "model_3 = LinearRegression(fit_intercept=True).fit(X_train, y_train)\n",
    "y_train_predicted_3 = model_3.predict(X_train)\n",
    "y_val_predicted_3 = model_3.predict(X_val)\n",
    "# Linear Regression - RMSE for training and validation data\n",
    "rmse_train_3 = rmse(y_train, y_train_predicted_3)\n",
    "rmse_val_3 = rmse(y_val, y_val_predicted_3)\n",
    "r2_train_3 = r2_score(y_train, y_train_predicted_3)\n",
    "r2_val_3 = r2_score(y_val, y_val_predicted_3)\n",
    "print(\"For the linear regression model in part 3:\\n\", \"RMSE for training data is: \",rmse_train_3,\"\\n\",\"RMSE for validation data is: \",rmse_val_3,\"\\n\",\"R2 Score for training data is: \",r2_train_3,\"\\n\",\"R2 Score for validation data is: \",r2_val_3)"
   ],
   "metadata": {
    "collapsed": false,
    "pycharm": {
     "name": "#%%\n"
    }
   }
  },
  {
   "cell_type": "code",
   "execution_count": 42,
   "outputs": [],
   "source": [
    "# # Plotting residual Curves for the Regression model\n",
    "# residuals_3 = y_val - y_val_predicted_3\n",
    "# ax = sns.regplot(y_val, residuals_3)\n",
    "# ax.set_xlabel('SBA Approved / Gross Approved (Validation Data)')\n",
    "# ax.set_ylabel('Residuals (Actual Price - Predicted Price)')\n",
    "# ax.set_title(\"Residuals vs. SBA Approved / Gross Approved on Validation Data\");"
   ],
   "metadata": {
    "collapsed": false,
    "pycharm": {
     "name": "#%%\n"
    }
   }
  },
  {
   "cell_type": "code",
   "execution_count": 42,
   "outputs": [],
   "source": [],
   "metadata": {
    "collapsed": false,
    "pycharm": {
     "name": "#%%\n"
    }
   }
  },
  {
   "cell_type": "code",
   "execution_count": 42,
   "outputs": [],
   "source": [],
   "metadata": {
    "collapsed": false,
    "pycharm": {
     "name": "#%%\n"
    }
   }
  },
  {
   "cell_type": "code",
   "execution_count": 42,
   "outputs": [],
   "source": [],
   "metadata": {
    "collapsed": false,
    "pycharm": {
     "name": "#%%\n"
    }
   }
  },
  {
   "cell_type": "code",
   "execution_count": 43,
   "outputs": [],
   "source": [
    "####TRASH#####"
   ],
   "metadata": {
    "collapsed": false,
    "pycharm": {
     "name": "#%%\n"
    }
   }
  },
  {
   "cell_type": "code",
   "execution_count": 44,
   "outputs": [],
   "source": [
    "# ###Polynomial Regression\n",
    "# from sklearn.preprocessing import PolynomialFeatures\n",
    "# poly = PolynomialFeatures()\n",
    "# poly.fit(X_train_2)\n",
    "# X_train_2_poly = poly.transform(X_train_2)\n",
    "# X_val_2_poly = poly.transform(X_val_2)"
   ],
   "metadata": {
    "collapsed": false,
    "pycharm": {
     "name": "#%%\n"
    }
   }
  },
  {
   "cell_type": "code",
   "execution_count": 45,
   "outputs": [],
   "source": [
    "# Linear Regression - Performing Linear Regression\n",
    "# poly_model_2 = LinearRegression(fit_intercept=True).fit(X_val_2_poly, y_train)\n",
    "# y_train_predicted_poly_2 = poly_model_2.predict(X_train_2_poly)\n",
    "# y_val_predicted_poly_2 = poly_model_2.predict(X_val_2_poly)\n",
    "# # Linear Regression - RMSE for training and validation data\n",
    "# rmse_train_poly_2 = rmse(y_train, y_train_predicted_poly_2)\n",
    "# rmse_val_poly_2 = rmse(y_val, y_val_predicted_poly_2)\n",
    "# print(\"For the linear regression model in part 2:\\n\", \"RMSE for training data is: \",rmse_train_poly_2,\"\\n\",\"RMSE for validation data is: \",rmse_val_poly_2)"
   ],
   "metadata": {
    "collapsed": false,
    "pycharm": {
     "name": "#%%\n"
    }
   }
  },
  {
   "cell_type": "code",
   "execution_count": 46,
   "outputs": [],
   "source": [
    "# ###PCA\n",
    "# from sklearn.decomposition import PCA\n",
    "# pca = PCA(n_components=85, random_state = 0)\n",
    "# pca.fit(X_train)"
   ],
   "metadata": {
    "collapsed": false,
    "pycharm": {
     "name": "#%%\n"
    }
   }
  },
  {
   "cell_type": "code",
   "execution_count": 47,
   "outputs": [],
   "source": [
    "# from sklearn import preprocessing\n",
    "# X_train_pca = pca.transform(preprocessing.scale(X_train))\n",
    "# X_train_pca = pd.DataFrame(X_train_pca)\n",
    "# X_val_pca = pca.transform(preprocessing.scale(X_val))\n",
    "# X_val_pca = pd.DataFrame(X_val_pca)"
   ],
   "metadata": {
    "collapsed": false,
    "pycharm": {
     "name": "#%%\n"
    }
   }
  },
  {
   "cell_type": "code",
   "execution_count": 48,
   "outputs": [],
   "source": [
    "# variance = pca.explained_variance_\n",
    "# prop_variance = pca.explained_variance_ratio_\n",
    "# cum_prop_variance = np.cumsum(pca.explained_variance_ratio_)\n",
    "# pca_summary = pd.DataFrame({'Variance':variance, 'Proportion of Variance':prop_variance, 'Cumulative Proportion':cum_prop_variance}).T\n",
    "# pca_column_name_array = []\n",
    "# for num in range(1,86):\n",
    "#     name='PC'+str(num)\n",
    "#     pca_column_name_array.append(name)\n",
    "# pca_summary.columns = pca_column_name_array\n",
    "# pca_summary"
   ],
   "metadata": {
    "collapsed": false,
    "pycharm": {
     "name": "#%%\n"
    }
   }
  },
  {
   "cell_type": "code",
   "execution_count": 49,
   "outputs": [],
   "source": [
    "# plt.figure(figsize=(7,4))\n",
    "# plt.plot(pca_summary.iloc[1:2].T.loc[\"PC1\":\"PC10\"]*100, marker = 'o', linestyle= '-')\n",
    "# plt.plot(pca_summary.iloc[2:3].T.loc[\"PC1\":\"PC10\"]*100, marker = 'o', linestyle= '-')\n",
    "# plt.legend(['Variance', 'Cummulative Variance'])\n",
    "# plt.xlabel('Principal Component', fontsize = 14)\n",
    "# plt.ylabel('Proportion of Explained Variance, %', fontsize = 14);"
   ],
   "metadata": {
    "collapsed": false,
    "pycharm": {
     "name": "#%%\n"
    }
   }
  },
  {
   "cell_type": "code",
   "execution_count": 50,
   "outputs": [],
   "source": [
    "# Linear Regression - Performing Linear Regression\n",
    "# model_4 = LinearRegression(fit_intercept=True).fit(X_train_pca.iloc[: , :10], y_train)\n",
    "# # y_train_predicted_4 = model_4.predict(X_train_pca.iloc[: , :10])\n",
    "# y_val_predicted_4 = model_4.predict(X_val_pca.iloc[: , :10])\n",
    "# # Linear Regression - RMSE for training and validation data\n",
    "# rmse_train_4 = rmse(y_train, y_train_predicted_4)\n",
    "# rmse_val_4 = rmse(y_val, y_val_predicted_4)\n",
    "# print(\"For the linear regression model in part 4:\\n\", \"RMSE for training data is: \", rmse_train_4, \"\\n\",\"RMSE for validation data is: \", rmse_val_4)"
   ],
   "metadata": {
    "collapsed": false,
    "pycharm": {
     "name": "#%%\n"
    }
   }
  }
 ],
 "metadata": {
  "kernelspec": {
   "display_name": "Python 3",
   "language": "python",
   "name": "python3"
  },
  "language_info": {
   "codemirror_mode": {
    "name": "ipython",
    "version": 2
   },
   "file_extension": ".py",
   "mimetype": "text/x-python",
   "name": "python",
   "nbconvert_exporter": "python",
   "pygments_lexer": "ipython2",
   "version": "2.7.6"
  }
 },
 "nbformat": 4,
 "nbformat_minor": 0
}
