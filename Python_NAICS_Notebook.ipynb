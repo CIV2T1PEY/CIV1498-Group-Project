{
  "cells": [
    {
      "cell_type": "code",
      "execution_count": 79,
      "metadata": {
        "collapsed": true,
        "id": "AItqfnkwmUwc"
      },
      "outputs": [],
      "source": [
        "import os\n",
        "import json\n",
        "import pandas as pd\n",
        "import seaborn as sns\n",
        "from datetime import datetime\n",
        "import numpy as np\n",
        "import matplotlib.pylab as plt"
      ]
    },
    {
      "cell_type": "code",
      "execution_count": 80,
      "outputs": [],
      "source": [
        "### 1.1) SBA_Loan dataset cleaning and transformation for creating a model:"
      ],
      "metadata": {
        "pycharm": {
          "name": "#%%\n"
        },
        "id": "MWEWG2jkmUwg"
      }
    },
    {
      "cell_type": "code",
      "execution_count": 81,
      "outputs": [],
      "source": [
        "SBA_Loan = pd.read_csv('SBA_Loan_test.csv')"
      ],
      "metadata": {
        "pycharm": {
          "name": "#%%\n"
        },
        "id": "I1Bcba0OmUwg"
      }
    },
    {
      "cell_type": "code",
      "execution_count": 82,
      "outputs": [
        {
          "output_type": "stream",
          "name": "stdout",
          "text": [
            "<class 'pandas.core.frame.DataFrame'>\n",
            "RangeIndex: 899164 entries, 0 to 899163\n",
            "Data columns (total 28 columns):\n",
            " #   Column             Non-Null Count   Dtype  \n",
            "---  ------             --------------   -----  \n",
            " 0   LoanNr_ChkDgt      899164 non-null  int64  \n",
            " 1   Name               899150 non-null  object \n",
            " 2   City               899134 non-null  object \n",
            " 3   State              899150 non-null  object \n",
            " 4   Zip                899164 non-null  int64  \n",
            " 5   Bank               897605 non-null  object \n",
            " 6   BankState          897598 non-null  object \n",
            " 7   NAICS              899164 non-null  int64  \n",
            " 8   ApprovalDate       899164 non-null  object \n",
            " 9   ApprovalFY         899164 non-null  int64  \n",
            " 10  Term               899164 non-null  int64  \n",
            " 11  NoEmp              899164 non-null  int64  \n",
            " 12  NewExist           899028 non-null  float64\n",
            " 13  CreateJob          899164 non-null  int64  \n",
            " 14  RetainedJob        899164 non-null  int64  \n",
            " 15  FranchiseCode      899164 non-null  int64  \n",
            " 16  UrbanRural         899164 non-null  int64  \n",
            " 17  RevLineCr          894636 non-null  object \n",
            " 18  LowDoc             896582 non-null  object \n",
            " 19  ChgOffDate         162699 non-null  object \n",
            " 20  DisbursementDate   896796 non-null  object \n",
            " 21  DisbursementGross  899164 non-null  float64\n",
            " 22  BalanceGross       899164 non-null  float64\n",
            " 23  MIS_Status         897167 non-null  object \n",
            " 24  ChgOffPrinGr       899164 non-null  float64\n",
            " 25  GrAppv             899164 non-null  float64\n",
            " 26  SBA_Appv           899164 non-null  float64\n",
            " 27  Industry           899164 non-null  object \n",
            "dtypes: float64(6), int64(10), object(12)\n",
            "memory usage: 192.1+ MB\n"
          ]
        }
      ],
      "source": [
        "DF_SBA_Loan = SBA_Loan.copy()\n",
        "DF_SBA_Loan.info()"
      ],
      "metadata": {
        "pycharm": {
          "name": "#%%\n"
        },
        "colab": {
          "base_uri": "https://localhost:8080/"
        },
        "id": "ztyXmVrhmUwg",
        "outputId": "c5d611ad-0d2d-4634-a297-35a4f1d663ec"
      }
    },
    {
      "cell_type": "code",
      "execution_count": 83,
      "outputs": [
        {
          "output_type": "execute_result",
          "data": {
            "text/plain": [
              "LoanNr_ChkDgt             0\n",
              "Name                     14\n",
              "City                     30\n",
              "State                    14\n",
              "Zip                       0\n",
              "Bank                   1559\n",
              "BankState              1566\n",
              "NAICS                     0\n",
              "ApprovalDate              0\n",
              "ApprovalFY                0\n",
              "Term                      0\n",
              "NoEmp                     0\n",
              "NewExist                136\n",
              "CreateJob                 0\n",
              "RetainedJob               0\n",
              "FranchiseCode             0\n",
              "UrbanRural                0\n",
              "RevLineCr              4528\n",
              "LowDoc                 2582\n",
              "ChgOffDate           736465\n",
              "DisbursementDate       2368\n",
              "DisbursementGross         0\n",
              "BalanceGross              0\n",
              "MIS_Status             1997\n",
              "ChgOffPrinGr              0\n",
              "GrAppv                    0\n",
              "SBA_Appv                  0\n",
              "Industry                  0\n",
              "dtype: int64"
            ]
          },
          "metadata": {},
          "execution_count": 83
        }
      ],
      "source": [
        "DF_SBA_Loan.isnull().sum()"
      ],
      "metadata": {
        "pycharm": {
          "name": "#%%\n"
        },
        "colab": {
          "base_uri": "https://localhost:8080/"
        },
        "id": "IR8VH7MVmUwh",
        "outputId": "57c6e624-ae04-4364-f7c4-d22d996017ca"
      }
    },
    {
      "cell_type": "code",
      "execution_count": 84,
      "outputs": [],
      "source": [
        "# Filling MIS_Status NaN values\n",
        "for x in DF_SBA_Loan[DF_SBA_Loan['MIS_Status'].isnull()]['ChgOffPrinGr'].index:\n",
        "    if DF_SBA_Loan['ChgOffPrinGr'][x] == 0:\n",
        "        DF_SBA_Loan.loc[x,'MIS_Status'] = \"P I F\"\n",
        "    else:\n",
        "        DF_SBA_Loan.loc[x,'MIS_Status'] = \"CHGOFF\""
      ],
      "metadata": {
        "pycharm": {
          "name": "#%%\n"
        },
        "id": "71Vs-8bhmUwh"
      }
    },
    {
      "cell_type": "code",
      "execution_count": 85,
      "outputs": [],
      "source": [
        "DF_SBA_Loan.drop(DF_SBA_Loan[DF_SBA_Loan[\"NAICS\"] == 0].index, inplace=True) # Dropping NAICS = 0 for now"
      ],
      "metadata": {
        "pycharm": {
          "name": "#%%\n"
        },
        "id": "EuuXmMjnmUwi"
      }
    },
    {
      "cell_type": "code",
      "execution_count": 86,
      "outputs": [],
      "source": [
        "#Keeping just the first 2 digits in the NAICS column of DF_SBA_Loan\n",
        "NAICS_value = [str(number) for number in np.array(DF_SBA_Loan[\"NAICS\"])]\n",
        "NAICS_first_two = [s[:2] for s in NAICS_value]\n",
        "DF_SBA_Loan[\"NAICS\"] = [int(x) for x in NAICS_first_two]"
      ],
      "metadata": {
        "pycharm": {
          "name": "#%%\n"
        },
        "id": "6x8Sn8_pmUwi"
      }
    },
    {
      "cell_type": "code",
      "execution_count": 87,
      "outputs": [],
      "source": [
        "DF_SBA_Loan = DF_SBA_Loan[['State', 'NAICS', 'ApprovalFY', 'NewExist', 'MIS_Status', 'SBA_Appv', 'GrAppv']] #'UrbanRural', 'LowDoc' left out\n",
        "DF_SBA_Loan = DF_SBA_Loan.reset_index(drop=True)\n",
        "DF_SBA_Loan.drop(DF_SBA_Loan[DF_SBA_Loan['NewExist'] == 0].index, inplace=True)"
      ],
      "metadata": {
        "pycharm": {
          "name": "#%%\n"
        },
        "id": "onNSziohmUwi"
      }
    },
    {
      "cell_type": "code",
      "execution_count": 88,
      "outputs": [],
      "source": [
        "DF_SBA_Loan = DF_SBA_Loan.dropna()"
      ],
      "metadata": {
        "pycharm": {
          "name": "#%%\n"
        },
        "id": "ItyWi4CGmUwj"
      }
    },
    {
      "cell_type": "code",
      "execution_count": 89,
      "outputs": [
        {
          "output_type": "execute_result",
          "data": {
            "text/plain": [
              "        SBA_Appv MIS_Status    GrAppv\n",
              "0        48000.0      P I F   60000.0\n",
              "1        32000.0      P I F   40000.0\n",
              "2       215250.0      P I F  287000.0\n",
              "3       387750.0      P I F  517000.0\n",
              "4        36000.0      P I F   45000.0\n",
              "...          ...        ...       ...\n",
              "697211   25000.0      P I F   50000.0\n",
              "697212  150000.0      P I F  200000.0\n",
              "697213   56000.0      P I F   70000.0\n",
              "697214   42500.0      P I F   85000.0\n",
              "697215  225000.0      P I F  300000.0\n",
              "\n",
              "[696342 rows x 3 columns]"
            ],
            "text/html": [
              "\n",
              "  <div id=\"df-2d069ac6-194e-4be9-b8c7-6cbc39623b9a\">\n",
              "    <div class=\"colab-df-container\">\n",
              "      <div>\n",
              "<style scoped>\n",
              "    .dataframe tbody tr th:only-of-type {\n",
              "        vertical-align: middle;\n",
              "    }\n",
              "\n",
              "    .dataframe tbody tr th {\n",
              "        vertical-align: top;\n",
              "    }\n",
              "\n",
              "    .dataframe thead th {\n",
              "        text-align: right;\n",
              "    }\n",
              "</style>\n",
              "<table border=\"1\" class=\"dataframe\">\n",
              "  <thead>\n",
              "    <tr style=\"text-align: right;\">\n",
              "      <th></th>\n",
              "      <th>SBA_Appv</th>\n",
              "      <th>MIS_Status</th>\n",
              "      <th>GrAppv</th>\n",
              "    </tr>\n",
              "  </thead>\n",
              "  <tbody>\n",
              "    <tr>\n",
              "      <th>0</th>\n",
              "      <td>48000.0</td>\n",
              "      <td>P I F</td>\n",
              "      <td>60000.0</td>\n",
              "    </tr>\n",
              "    <tr>\n",
              "      <th>1</th>\n",
              "      <td>32000.0</td>\n",
              "      <td>P I F</td>\n",
              "      <td>40000.0</td>\n",
              "    </tr>\n",
              "    <tr>\n",
              "      <th>2</th>\n",
              "      <td>215250.0</td>\n",
              "      <td>P I F</td>\n",
              "      <td>287000.0</td>\n",
              "    </tr>\n",
              "    <tr>\n",
              "      <th>3</th>\n",
              "      <td>387750.0</td>\n",
              "      <td>P I F</td>\n",
              "      <td>517000.0</td>\n",
              "    </tr>\n",
              "    <tr>\n",
              "      <th>4</th>\n",
              "      <td>36000.0</td>\n",
              "      <td>P I F</td>\n",
              "      <td>45000.0</td>\n",
              "    </tr>\n",
              "    <tr>\n",
              "      <th>...</th>\n",
              "      <td>...</td>\n",
              "      <td>...</td>\n",
              "      <td>...</td>\n",
              "    </tr>\n",
              "    <tr>\n",
              "      <th>697211</th>\n",
              "      <td>25000.0</td>\n",
              "      <td>P I F</td>\n",
              "      <td>50000.0</td>\n",
              "    </tr>\n",
              "    <tr>\n",
              "      <th>697212</th>\n",
              "      <td>150000.0</td>\n",
              "      <td>P I F</td>\n",
              "      <td>200000.0</td>\n",
              "    </tr>\n",
              "    <tr>\n",
              "      <th>697213</th>\n",
              "      <td>56000.0</td>\n",
              "      <td>P I F</td>\n",
              "      <td>70000.0</td>\n",
              "    </tr>\n",
              "    <tr>\n",
              "      <th>697214</th>\n",
              "      <td>42500.0</td>\n",
              "      <td>P I F</td>\n",
              "      <td>85000.0</td>\n",
              "    </tr>\n",
              "    <tr>\n",
              "      <th>697215</th>\n",
              "      <td>225000.0</td>\n",
              "      <td>P I F</td>\n",
              "      <td>300000.0</td>\n",
              "    </tr>\n",
              "  </tbody>\n",
              "</table>\n",
              "<p>696342 rows × 3 columns</p>\n",
              "</div>\n",
              "      <button class=\"colab-df-convert\" onclick=\"convertToInteractive('df-2d069ac6-194e-4be9-b8c7-6cbc39623b9a')\"\n",
              "              title=\"Convert this dataframe to an interactive table.\"\n",
              "              style=\"display:none;\">\n",
              "        \n",
              "  <svg xmlns=\"http://www.w3.org/2000/svg\" height=\"24px\"viewBox=\"0 0 24 24\"\n",
              "       width=\"24px\">\n",
              "    <path d=\"M0 0h24v24H0V0z\" fill=\"none\"/>\n",
              "    <path d=\"M18.56 5.44l.94 2.06.94-2.06 2.06-.94-2.06-.94-.94-2.06-.94 2.06-2.06.94zm-11 1L8.5 8.5l.94-2.06 2.06-.94-2.06-.94L8.5 2.5l-.94 2.06-2.06.94zm10 10l.94 2.06.94-2.06 2.06-.94-2.06-.94-.94-2.06-.94 2.06-2.06.94z\"/><path d=\"M17.41 7.96l-1.37-1.37c-.4-.4-.92-.59-1.43-.59-.52 0-1.04.2-1.43.59L10.3 9.45l-7.72 7.72c-.78.78-.78 2.05 0 2.83L4 21.41c.39.39.9.59 1.41.59.51 0 1.02-.2 1.41-.59l7.78-7.78 2.81-2.81c.8-.78.8-2.07 0-2.86zM5.41 20L4 18.59l7.72-7.72 1.47 1.35L5.41 20z\"/>\n",
              "  </svg>\n",
              "      </button>\n",
              "      \n",
              "  <style>\n",
              "    .colab-df-container {\n",
              "      display:flex;\n",
              "      flex-wrap:wrap;\n",
              "      gap: 12px;\n",
              "    }\n",
              "\n",
              "    .colab-df-convert {\n",
              "      background-color: #E8F0FE;\n",
              "      border: none;\n",
              "      border-radius: 50%;\n",
              "      cursor: pointer;\n",
              "      display: none;\n",
              "      fill: #1967D2;\n",
              "      height: 32px;\n",
              "      padding: 0 0 0 0;\n",
              "      width: 32px;\n",
              "    }\n",
              "\n",
              "    .colab-df-convert:hover {\n",
              "      background-color: #E2EBFA;\n",
              "      box-shadow: 0px 1px 2px rgba(60, 64, 67, 0.3), 0px 1px 3px 1px rgba(60, 64, 67, 0.15);\n",
              "      fill: #174EA6;\n",
              "    }\n",
              "\n",
              "    [theme=dark] .colab-df-convert {\n",
              "      background-color: #3B4455;\n",
              "      fill: #D2E3FC;\n",
              "    }\n",
              "\n",
              "    [theme=dark] .colab-df-convert:hover {\n",
              "      background-color: #434B5C;\n",
              "      box-shadow: 0px 1px 3px 1px rgba(0, 0, 0, 0.15);\n",
              "      filter: drop-shadow(0px 1px 2px rgba(0, 0, 0, 0.3));\n",
              "      fill: #FFFFFF;\n",
              "    }\n",
              "  </style>\n",
              "\n",
              "      <script>\n",
              "        const buttonEl =\n",
              "          document.querySelector('#df-2d069ac6-194e-4be9-b8c7-6cbc39623b9a button.colab-df-convert');\n",
              "        buttonEl.style.display =\n",
              "          google.colab.kernel.accessAllowed ? 'block' : 'none';\n",
              "\n",
              "        async function convertToInteractive(key) {\n",
              "          const element = document.querySelector('#df-2d069ac6-194e-4be9-b8c7-6cbc39623b9a');\n",
              "          const dataTable =\n",
              "            await google.colab.kernel.invokeFunction('convertToInteractive',\n",
              "                                                     [key], {});\n",
              "          if (!dataTable) return;\n",
              "\n",
              "          const docLinkHtml = 'Like what you see? Visit the ' +\n",
              "            '<a target=\"_blank\" href=https://colab.research.google.com/notebooks/data_table.ipynb>data table notebook</a>'\n",
              "            + ' to learn more about interactive tables.';\n",
              "          element.innerHTML = '';\n",
              "          dataTable['output_type'] = 'display_data';\n",
              "          await google.colab.output.renderOutput(dataTable, element);\n",
              "          const docLink = document.createElement('div');\n",
              "          docLink.innerHTML = docLinkHtml;\n",
              "          element.appendChild(docLink);\n",
              "        }\n",
              "      </script>\n",
              "    </div>\n",
              "  </div>\n",
              "  "
            ]
          },
          "metadata": {},
          "execution_count": 89
        }
      ],
      "source": [
        "DF_SBA_Loan[{'MIS_Status',\t'SBA_Appv', 'GrAppv'}]"
      ],
      "metadata": {
        "pycharm": {
          "name": "#%%\n"
        },
        "colab": {
          "base_uri": "https://localhost:8080/",
          "height": 423
        },
        "id": "3K-rR4PHmUwj",
        "outputId": "c273d291-c80b-4ae9-b480-b8a96b2dc25f"
      }
    },
    {
      "cell_type": "code",
      "execution_count": 90,
      "outputs": [],
      "source": [
        "# DF_SBA_Loan['UrbanRural'].value_counts()\n",
        "# DF_SBA_Loan[DF_SBA_Loan['UrbanRural'] == 0]\n",
        "# sns.countplot(x='NAICS', data=DF_SBA_Loan, hue='NewExist')\n",
        "# DF_SBA_Loan['MIS_Status'].value_counts()"
      ],
      "metadata": {
        "pycharm": {
          "name": "#%%\n"
        },
        "id": "TKcjy6m0mUwj"
      }
    },
    {
      "cell_type": "code",
      "execution_count": 91,
      "outputs": [],
      "source": [
        "### 1.2) NAICS_BDS dataset cleaning and transformation for creating a new features for our model:"
      ],
      "metadata": {
        "pycharm": {
          "name": "#%%\n"
        },
        "id": "VCG34JEImUwk"
      }
    },
    {
      "cell_type": "code",
      "execution_count": 92,
      "outputs": [
        {
          "output_type": "execute_result",
          "data": {
            "text/plain": [
              "      GEO_ID           NAME NAICS            NAICS_LABEL  YEAR     FIRM  \\\n",
              "1  0100000US  United States     0  Total for all sectors  1978  3557994   \n",
              "2  0100000US  United States     0  Total for all sectors  1979  3692077   \n",
              "3  0100000US  United States     0  Total for all sectors  1980  3739809   \n",
              "4  0100000US  United States     0  Total for all sectors  1981  3770852   \n",
              "5  0100000US  United States     0  Total for all sectors  1982  3720273   \n",
              "\n",
              "     ESTAB       EMP     DENOM ESTABS_ENTRY  ... JOB_DESTRUCTION_DEATHS  \\\n",
              "1  4310626  69410001  66810001       654226  ...                4048046   \n",
              "2  4472108  73848234  71727111       630253  ...                3760616   \n",
              "3  4533251  74109267  74018218       592484  ...                4246135   \n",
              "4  4615479  75728652  74924061       606853  ...                3478843   \n",
              "5  4598769  74922226  75267274       572030  ...                4055239   \n",
              "\n",
              "  JOB_DESTRUCTION_CONTINUERS JOB_DESTRUCTION_RATE_DEATHS JOB_DESTRUCTION_RATE  \\\n",
              "1                    5420961                       6.059               14.173   \n",
              "2                    6043218                       5.243               13.668   \n",
              "3                    7797198                       5.737               16.271   \n",
              "4                    7782399                       4.643                15.03   \n",
              "5                    8683755                       5.388               16.925   \n",
              "\n",
              "  NET_JOB_CREATION NET_JOB_CREATION_RATE REALLOCATION_RATE FIRMDEATH_FIRMS  \\\n",
              "1          5196537                 7.778            28.346          327278   \n",
              "2          4248257                 5.923            27.336          328024   \n",
              "3           188937                 0.255            32.542          368578   \n",
              "4          1609104                 2.148             30.06          377291   \n",
              "5          -678350                -0.901            32.048          412488   \n",
              "\n",
              "  FIRMDEATH_ESTABS FIRMDEATH_EMP  \n",
              "1           332504       1824251  \n",
              "2           332633       1785478  \n",
              "3           373754       1941422  \n",
              "4           383748       2005707  \n",
              "5           418501       2211944  \n",
              "\n",
              "[5 rows x 29 columns]"
            ],
            "text/html": [
              "\n",
              "  <div id=\"df-1b0a9b16-ae30-4ca8-9424-02177014e2e6\">\n",
              "    <div class=\"colab-df-container\">\n",
              "      <div>\n",
              "<style scoped>\n",
              "    .dataframe tbody tr th:only-of-type {\n",
              "        vertical-align: middle;\n",
              "    }\n",
              "\n",
              "    .dataframe tbody tr th {\n",
              "        vertical-align: top;\n",
              "    }\n",
              "\n",
              "    .dataframe thead th {\n",
              "        text-align: right;\n",
              "    }\n",
              "</style>\n",
              "<table border=\"1\" class=\"dataframe\">\n",
              "  <thead>\n",
              "    <tr style=\"text-align: right;\">\n",
              "      <th></th>\n",
              "      <th>GEO_ID</th>\n",
              "      <th>NAME</th>\n",
              "      <th>NAICS</th>\n",
              "      <th>NAICS_LABEL</th>\n",
              "      <th>YEAR</th>\n",
              "      <th>FIRM</th>\n",
              "      <th>ESTAB</th>\n",
              "      <th>EMP</th>\n",
              "      <th>DENOM</th>\n",
              "      <th>ESTABS_ENTRY</th>\n",
              "      <th>...</th>\n",
              "      <th>JOB_DESTRUCTION_DEATHS</th>\n",
              "      <th>JOB_DESTRUCTION_CONTINUERS</th>\n",
              "      <th>JOB_DESTRUCTION_RATE_DEATHS</th>\n",
              "      <th>JOB_DESTRUCTION_RATE</th>\n",
              "      <th>NET_JOB_CREATION</th>\n",
              "      <th>NET_JOB_CREATION_RATE</th>\n",
              "      <th>REALLOCATION_RATE</th>\n",
              "      <th>FIRMDEATH_FIRMS</th>\n",
              "      <th>FIRMDEATH_ESTABS</th>\n",
              "      <th>FIRMDEATH_EMP</th>\n",
              "    </tr>\n",
              "  </thead>\n",
              "  <tbody>\n",
              "    <tr>\n",
              "      <th>1</th>\n",
              "      <td>0100000US</td>\n",
              "      <td>United States</td>\n",
              "      <td>0</td>\n",
              "      <td>Total for all sectors</td>\n",
              "      <td>1978</td>\n",
              "      <td>3557994</td>\n",
              "      <td>4310626</td>\n",
              "      <td>69410001</td>\n",
              "      <td>66810001</td>\n",
              "      <td>654226</td>\n",
              "      <td>...</td>\n",
              "      <td>4048046</td>\n",
              "      <td>5420961</td>\n",
              "      <td>6.059</td>\n",
              "      <td>14.173</td>\n",
              "      <td>5196537</td>\n",
              "      <td>7.778</td>\n",
              "      <td>28.346</td>\n",
              "      <td>327278</td>\n",
              "      <td>332504</td>\n",
              "      <td>1824251</td>\n",
              "    </tr>\n",
              "    <tr>\n",
              "      <th>2</th>\n",
              "      <td>0100000US</td>\n",
              "      <td>United States</td>\n",
              "      <td>0</td>\n",
              "      <td>Total for all sectors</td>\n",
              "      <td>1979</td>\n",
              "      <td>3692077</td>\n",
              "      <td>4472108</td>\n",
              "      <td>73848234</td>\n",
              "      <td>71727111</td>\n",
              "      <td>630253</td>\n",
              "      <td>...</td>\n",
              "      <td>3760616</td>\n",
              "      <td>6043218</td>\n",
              "      <td>5.243</td>\n",
              "      <td>13.668</td>\n",
              "      <td>4248257</td>\n",
              "      <td>5.923</td>\n",
              "      <td>27.336</td>\n",
              "      <td>328024</td>\n",
              "      <td>332633</td>\n",
              "      <td>1785478</td>\n",
              "    </tr>\n",
              "    <tr>\n",
              "      <th>3</th>\n",
              "      <td>0100000US</td>\n",
              "      <td>United States</td>\n",
              "      <td>0</td>\n",
              "      <td>Total for all sectors</td>\n",
              "      <td>1980</td>\n",
              "      <td>3739809</td>\n",
              "      <td>4533251</td>\n",
              "      <td>74109267</td>\n",
              "      <td>74018218</td>\n",
              "      <td>592484</td>\n",
              "      <td>...</td>\n",
              "      <td>4246135</td>\n",
              "      <td>7797198</td>\n",
              "      <td>5.737</td>\n",
              "      <td>16.271</td>\n",
              "      <td>188937</td>\n",
              "      <td>0.255</td>\n",
              "      <td>32.542</td>\n",
              "      <td>368578</td>\n",
              "      <td>373754</td>\n",
              "      <td>1941422</td>\n",
              "    </tr>\n",
              "    <tr>\n",
              "      <th>4</th>\n",
              "      <td>0100000US</td>\n",
              "      <td>United States</td>\n",
              "      <td>0</td>\n",
              "      <td>Total for all sectors</td>\n",
              "      <td>1981</td>\n",
              "      <td>3770852</td>\n",
              "      <td>4615479</td>\n",
              "      <td>75728652</td>\n",
              "      <td>74924061</td>\n",
              "      <td>606853</td>\n",
              "      <td>...</td>\n",
              "      <td>3478843</td>\n",
              "      <td>7782399</td>\n",
              "      <td>4.643</td>\n",
              "      <td>15.03</td>\n",
              "      <td>1609104</td>\n",
              "      <td>2.148</td>\n",
              "      <td>30.06</td>\n",
              "      <td>377291</td>\n",
              "      <td>383748</td>\n",
              "      <td>2005707</td>\n",
              "    </tr>\n",
              "    <tr>\n",
              "      <th>5</th>\n",
              "      <td>0100000US</td>\n",
              "      <td>United States</td>\n",
              "      <td>0</td>\n",
              "      <td>Total for all sectors</td>\n",
              "      <td>1982</td>\n",
              "      <td>3720273</td>\n",
              "      <td>4598769</td>\n",
              "      <td>74922226</td>\n",
              "      <td>75267274</td>\n",
              "      <td>572030</td>\n",
              "      <td>...</td>\n",
              "      <td>4055239</td>\n",
              "      <td>8683755</td>\n",
              "      <td>5.388</td>\n",
              "      <td>16.925</td>\n",
              "      <td>-678350</td>\n",
              "      <td>-0.901</td>\n",
              "      <td>32.048</td>\n",
              "      <td>412488</td>\n",
              "      <td>418501</td>\n",
              "      <td>2211944</td>\n",
              "    </tr>\n",
              "  </tbody>\n",
              "</table>\n",
              "<p>5 rows × 29 columns</p>\n",
              "</div>\n",
              "      <button class=\"colab-df-convert\" onclick=\"convertToInteractive('df-1b0a9b16-ae30-4ca8-9424-02177014e2e6')\"\n",
              "              title=\"Convert this dataframe to an interactive table.\"\n",
              "              style=\"display:none;\">\n",
              "        \n",
              "  <svg xmlns=\"http://www.w3.org/2000/svg\" height=\"24px\"viewBox=\"0 0 24 24\"\n",
              "       width=\"24px\">\n",
              "    <path d=\"M0 0h24v24H0V0z\" fill=\"none\"/>\n",
              "    <path d=\"M18.56 5.44l.94 2.06.94-2.06 2.06-.94-2.06-.94-.94-2.06-.94 2.06-2.06.94zm-11 1L8.5 8.5l.94-2.06 2.06-.94-2.06-.94L8.5 2.5l-.94 2.06-2.06.94zm10 10l.94 2.06.94-2.06 2.06-.94-2.06-.94-.94-2.06-.94 2.06-2.06.94z\"/><path d=\"M17.41 7.96l-1.37-1.37c-.4-.4-.92-.59-1.43-.59-.52 0-1.04.2-1.43.59L10.3 9.45l-7.72 7.72c-.78.78-.78 2.05 0 2.83L4 21.41c.39.39.9.59 1.41.59.51 0 1.02-.2 1.41-.59l7.78-7.78 2.81-2.81c.8-.78.8-2.07 0-2.86zM5.41 20L4 18.59l7.72-7.72 1.47 1.35L5.41 20z\"/>\n",
              "  </svg>\n",
              "      </button>\n",
              "      \n",
              "  <style>\n",
              "    .colab-df-container {\n",
              "      display:flex;\n",
              "      flex-wrap:wrap;\n",
              "      gap: 12px;\n",
              "    }\n",
              "\n",
              "    .colab-df-convert {\n",
              "      background-color: #E8F0FE;\n",
              "      border: none;\n",
              "      border-radius: 50%;\n",
              "      cursor: pointer;\n",
              "      display: none;\n",
              "      fill: #1967D2;\n",
              "      height: 32px;\n",
              "      padding: 0 0 0 0;\n",
              "      width: 32px;\n",
              "    }\n",
              "\n",
              "    .colab-df-convert:hover {\n",
              "      background-color: #E2EBFA;\n",
              "      box-shadow: 0px 1px 2px rgba(60, 64, 67, 0.3), 0px 1px 3px 1px rgba(60, 64, 67, 0.15);\n",
              "      fill: #174EA6;\n",
              "    }\n",
              "\n",
              "    [theme=dark] .colab-df-convert {\n",
              "      background-color: #3B4455;\n",
              "      fill: #D2E3FC;\n",
              "    }\n",
              "\n",
              "    [theme=dark] .colab-df-convert:hover {\n",
              "      background-color: #434B5C;\n",
              "      box-shadow: 0px 1px 3px 1px rgba(0, 0, 0, 0.15);\n",
              "      filter: drop-shadow(0px 1px 2px rgba(0, 0, 0, 0.3));\n",
              "      fill: #FFFFFF;\n",
              "    }\n",
              "  </style>\n",
              "\n",
              "      <script>\n",
              "        const buttonEl =\n",
              "          document.querySelector('#df-1b0a9b16-ae30-4ca8-9424-02177014e2e6 button.colab-df-convert');\n",
              "        buttonEl.style.display =\n",
              "          google.colab.kernel.accessAllowed ? 'block' : 'none';\n",
              "\n",
              "        async function convertToInteractive(key) {\n",
              "          const element = document.querySelector('#df-1b0a9b16-ae30-4ca8-9424-02177014e2e6');\n",
              "          const dataTable =\n",
              "            await google.colab.kernel.invokeFunction('convertToInteractive',\n",
              "                                                     [key], {});\n",
              "          if (!dataTable) return;\n",
              "\n",
              "          const docLinkHtml = 'Like what you see? Visit the ' +\n",
              "            '<a target=\"_blank\" href=https://colab.research.google.com/notebooks/data_table.ipynb>data table notebook</a>'\n",
              "            + ' to learn more about interactive tables.';\n",
              "          element.innerHTML = '';\n",
              "          dataTable['output_type'] = 'display_data';\n",
              "          await google.colab.output.renderOutput(dataTable, element);\n",
              "          const docLink = document.createElement('div');\n",
              "          docLink.innerHTML = docLinkHtml;\n",
              "          element.appendChild(docLink);\n",
              "        }\n",
              "      </script>\n",
              "    </div>\n",
              "  </div>\n",
              "  "
            ]
          },
          "metadata": {},
          "execution_count": 92
        }
      ],
      "source": [
        "NAICS_BDS = pd.read_csv('NAICS_BDS_timeseries_data.csv', low_memory=False)\n",
        "NAICS_BDS = NAICS_BDS.drop([0])\n",
        "NAICS_BDS.head()"
      ],
      "metadata": {
        "pycharm": {
          "name": "#%%\n"
        },
        "colab": {
          "base_uri": "https://localhost:8080/",
          "height": 386
        },
        "id": "iJOvkzFPmUwk",
        "outputId": "da22eac9-0270-47f1-b4b5-54710e031788"
      }
    },
    {
      "cell_type": "code",
      "execution_count": 93,
      "outputs": [],
      "source": [
        "DF_NAICS = NAICS_BDS.copy()\n",
        "DF_NAICS.drop(DF_NAICS[(DF_NAICS.NAICS == '0')].index, inplace=True) #Dropping NAICS = 0 as it is the total for all the categories year wise"
      ],
      "metadata": {
        "pycharm": {
          "name": "#%%\n"
        },
        "id": "ztg6vHwymUwk"
      }
    },
    {
      "cell_type": "code",
      "execution_count": 94,
      "outputs": [],
      "source": [
        "# Transforming NAICS range column to individual columns:\n",
        "DF_NAICS.drop(DF_NAICS[(DF_NAICS.NAICS == '31-33') | (DF_NAICS.NAICS == '44-45') | (DF_NAICS.NAICS == '48-49')].index, inplace=True)\n",
        "DF_NAICS = DF_NAICS.append([NAICS_BDS[NAICS_BDS[\"NAICS\"] == '31-33']]*3, ignore_index=True)\n",
        "DF_NAICS = DF_NAICS.append([NAICS_BDS[NAICS_BDS[\"NAICS\"] == '44-45']]*2, ignore_index=True)\n",
        "DF_NAICS = DF_NAICS.append([NAICS_BDS[NAICS_BDS[\"NAICS\"] == '48-49']]*2, ignore_index=True)\n",
        "# Renaming the NAICS entries of range-columns\n",
        "temp_array = [31]*42 + [32]*42 + [33]*42\n",
        "DF_NAICS = DF_NAICS.replace({'NAICS' : { '31-33' : temp_array}})\n",
        "temp_array = [44]*42 + [45]*42\n",
        "DF_NAICS = DF_NAICS.replace({'NAICS' : { '44-45' : temp_array}})\n",
        "temp_array = [48]*42 + [49]*42\n",
        "DF_NAICS = DF_NAICS.replace({'NAICS' : { '48-49' : temp_array}})"
      ],
      "metadata": {
        "pycharm": {
          "name": "#%%\n"
        },
        "id": "DpbsKg7omUwl"
      }
    },
    {
      "cell_type": "code",
      "execution_count": 95,
      "outputs": [
        {
          "output_type": "execute_result",
          "data": {
            "text/plain": [
              "      GEO_ID           NAME NAICS                                 NAICS_LABEL  \\\n",
              "0  0100000US  United States    11  Agriculture, forestry, fishing and hunting   \n",
              "1  0100000US  United States    11  Agriculture, forestry, fishing and hunting   \n",
              "2  0100000US  United States    11  Agriculture, forestry, fishing and hunting   \n",
              "3  0100000US  United States    11  Agriculture, forestry, fishing and hunting   \n",
              "4  0100000US  United States    11  Agriculture, forestry, fishing and hunting   \n",
              "\n",
              "   YEAR   FIRM  ESTAB     EMP   DENOM ESTABS_ENTRY  ...  \\\n",
              "0  1978  23763  24429  200156  192326         4717  ...   \n",
              "1  1979  21765  22373  192288  191325         4178  ...   \n",
              "2  1980  21882  22500  193997  193979         3827  ...   \n",
              "3  1981  21862  22468  189977  193065         3514  ...   \n",
              "4  1982  19040  19695  173515  178279         2775  ...   \n",
              "\n",
              "  JOB_DESTRUCTION_DEATHS JOB_DESTRUCTION_CONTINUERS  \\\n",
              "0                  18829                      27500   \n",
              "1                  22142                      30446   \n",
              "2                  16453                      31944   \n",
              "3                  20576                      31625   \n",
              "4                  20541                      31150   \n",
              "\n",
              "  JOB_DESTRUCTION_RATE_DEATHS JOB_DESTRUCTION_RATE NET_JOB_CREATION  \\\n",
              "0                        9.79               24.089            15439   \n",
              "1                      11.573               27.486             1716   \n",
              "2                       8.482                24.95             -108   \n",
              "3                      10.658               27.038            -6316   \n",
              "4                      11.522               28.995            -9420   \n",
              "\n",
              "  NET_JOB_CREATION_RATE REALLOCATION_RATE FIRMDEATH_FIRMS FIRMDEATH_ESTABS  \\\n",
              "0                 8.028            48.178            2876             2905   \n",
              "1                 0.897            54.972            3022             3068   \n",
              "2                -0.056            49.788            2780             2780   \n",
              "3                -3.271            47.533            2696             2699   \n",
              "4                -5.284            47.421            3176             3180   \n",
              "\n",
              "  FIRMDEATH_EMP  \n",
              "0         12497  \n",
              "1         14659  \n",
              "2         11264  \n",
              "3         11719  \n",
              "4         14178  \n",
              "\n",
              "[5 rows x 29 columns]"
            ],
            "text/html": [
              "\n",
              "  <div id=\"df-b84a92b2-c951-4ac7-80e8-dfc643f9f893\">\n",
              "    <div class=\"colab-df-container\">\n",
              "      <div>\n",
              "<style scoped>\n",
              "    .dataframe tbody tr th:only-of-type {\n",
              "        vertical-align: middle;\n",
              "    }\n",
              "\n",
              "    .dataframe tbody tr th {\n",
              "        vertical-align: top;\n",
              "    }\n",
              "\n",
              "    .dataframe thead th {\n",
              "        text-align: right;\n",
              "    }\n",
              "</style>\n",
              "<table border=\"1\" class=\"dataframe\">\n",
              "  <thead>\n",
              "    <tr style=\"text-align: right;\">\n",
              "      <th></th>\n",
              "      <th>GEO_ID</th>\n",
              "      <th>NAME</th>\n",
              "      <th>NAICS</th>\n",
              "      <th>NAICS_LABEL</th>\n",
              "      <th>YEAR</th>\n",
              "      <th>FIRM</th>\n",
              "      <th>ESTAB</th>\n",
              "      <th>EMP</th>\n",
              "      <th>DENOM</th>\n",
              "      <th>ESTABS_ENTRY</th>\n",
              "      <th>...</th>\n",
              "      <th>JOB_DESTRUCTION_DEATHS</th>\n",
              "      <th>JOB_DESTRUCTION_CONTINUERS</th>\n",
              "      <th>JOB_DESTRUCTION_RATE_DEATHS</th>\n",
              "      <th>JOB_DESTRUCTION_RATE</th>\n",
              "      <th>NET_JOB_CREATION</th>\n",
              "      <th>NET_JOB_CREATION_RATE</th>\n",
              "      <th>REALLOCATION_RATE</th>\n",
              "      <th>FIRMDEATH_FIRMS</th>\n",
              "      <th>FIRMDEATH_ESTABS</th>\n",
              "      <th>FIRMDEATH_EMP</th>\n",
              "    </tr>\n",
              "  </thead>\n",
              "  <tbody>\n",
              "    <tr>\n",
              "      <th>0</th>\n",
              "      <td>0100000US</td>\n",
              "      <td>United States</td>\n",
              "      <td>11</td>\n",
              "      <td>Agriculture, forestry, fishing and hunting</td>\n",
              "      <td>1978</td>\n",
              "      <td>23763</td>\n",
              "      <td>24429</td>\n",
              "      <td>200156</td>\n",
              "      <td>192326</td>\n",
              "      <td>4717</td>\n",
              "      <td>...</td>\n",
              "      <td>18829</td>\n",
              "      <td>27500</td>\n",
              "      <td>9.79</td>\n",
              "      <td>24.089</td>\n",
              "      <td>15439</td>\n",
              "      <td>8.028</td>\n",
              "      <td>48.178</td>\n",
              "      <td>2876</td>\n",
              "      <td>2905</td>\n",
              "      <td>12497</td>\n",
              "    </tr>\n",
              "    <tr>\n",
              "      <th>1</th>\n",
              "      <td>0100000US</td>\n",
              "      <td>United States</td>\n",
              "      <td>11</td>\n",
              "      <td>Agriculture, forestry, fishing and hunting</td>\n",
              "      <td>1979</td>\n",
              "      <td>21765</td>\n",
              "      <td>22373</td>\n",
              "      <td>192288</td>\n",
              "      <td>191325</td>\n",
              "      <td>4178</td>\n",
              "      <td>...</td>\n",
              "      <td>22142</td>\n",
              "      <td>30446</td>\n",
              "      <td>11.573</td>\n",
              "      <td>27.486</td>\n",
              "      <td>1716</td>\n",
              "      <td>0.897</td>\n",
              "      <td>54.972</td>\n",
              "      <td>3022</td>\n",
              "      <td>3068</td>\n",
              "      <td>14659</td>\n",
              "    </tr>\n",
              "    <tr>\n",
              "      <th>2</th>\n",
              "      <td>0100000US</td>\n",
              "      <td>United States</td>\n",
              "      <td>11</td>\n",
              "      <td>Agriculture, forestry, fishing and hunting</td>\n",
              "      <td>1980</td>\n",
              "      <td>21882</td>\n",
              "      <td>22500</td>\n",
              "      <td>193997</td>\n",
              "      <td>193979</td>\n",
              "      <td>3827</td>\n",
              "      <td>...</td>\n",
              "      <td>16453</td>\n",
              "      <td>31944</td>\n",
              "      <td>8.482</td>\n",
              "      <td>24.95</td>\n",
              "      <td>-108</td>\n",
              "      <td>-0.056</td>\n",
              "      <td>49.788</td>\n",
              "      <td>2780</td>\n",
              "      <td>2780</td>\n",
              "      <td>11264</td>\n",
              "    </tr>\n",
              "    <tr>\n",
              "      <th>3</th>\n",
              "      <td>0100000US</td>\n",
              "      <td>United States</td>\n",
              "      <td>11</td>\n",
              "      <td>Agriculture, forestry, fishing and hunting</td>\n",
              "      <td>1981</td>\n",
              "      <td>21862</td>\n",
              "      <td>22468</td>\n",
              "      <td>189977</td>\n",
              "      <td>193065</td>\n",
              "      <td>3514</td>\n",
              "      <td>...</td>\n",
              "      <td>20576</td>\n",
              "      <td>31625</td>\n",
              "      <td>10.658</td>\n",
              "      <td>27.038</td>\n",
              "      <td>-6316</td>\n",
              "      <td>-3.271</td>\n",
              "      <td>47.533</td>\n",
              "      <td>2696</td>\n",
              "      <td>2699</td>\n",
              "      <td>11719</td>\n",
              "    </tr>\n",
              "    <tr>\n",
              "      <th>4</th>\n",
              "      <td>0100000US</td>\n",
              "      <td>United States</td>\n",
              "      <td>11</td>\n",
              "      <td>Agriculture, forestry, fishing and hunting</td>\n",
              "      <td>1982</td>\n",
              "      <td>19040</td>\n",
              "      <td>19695</td>\n",
              "      <td>173515</td>\n",
              "      <td>178279</td>\n",
              "      <td>2775</td>\n",
              "      <td>...</td>\n",
              "      <td>20541</td>\n",
              "      <td>31150</td>\n",
              "      <td>11.522</td>\n",
              "      <td>28.995</td>\n",
              "      <td>-9420</td>\n",
              "      <td>-5.284</td>\n",
              "      <td>47.421</td>\n",
              "      <td>3176</td>\n",
              "      <td>3180</td>\n",
              "      <td>14178</td>\n",
              "    </tr>\n",
              "  </tbody>\n",
              "</table>\n",
              "<p>5 rows × 29 columns</p>\n",
              "</div>\n",
              "      <button class=\"colab-df-convert\" onclick=\"convertToInteractive('df-b84a92b2-c951-4ac7-80e8-dfc643f9f893')\"\n",
              "              title=\"Convert this dataframe to an interactive table.\"\n",
              "              style=\"display:none;\">\n",
              "        \n",
              "  <svg xmlns=\"http://www.w3.org/2000/svg\" height=\"24px\"viewBox=\"0 0 24 24\"\n",
              "       width=\"24px\">\n",
              "    <path d=\"M0 0h24v24H0V0z\" fill=\"none\"/>\n",
              "    <path d=\"M18.56 5.44l.94 2.06.94-2.06 2.06-.94-2.06-.94-.94-2.06-.94 2.06-2.06.94zm-11 1L8.5 8.5l.94-2.06 2.06-.94-2.06-.94L8.5 2.5l-.94 2.06-2.06.94zm10 10l.94 2.06.94-2.06 2.06-.94-2.06-.94-.94-2.06-.94 2.06-2.06.94z\"/><path d=\"M17.41 7.96l-1.37-1.37c-.4-.4-.92-.59-1.43-.59-.52 0-1.04.2-1.43.59L10.3 9.45l-7.72 7.72c-.78.78-.78 2.05 0 2.83L4 21.41c.39.39.9.59 1.41.59.51 0 1.02-.2 1.41-.59l7.78-7.78 2.81-2.81c.8-.78.8-2.07 0-2.86zM5.41 20L4 18.59l7.72-7.72 1.47 1.35L5.41 20z\"/>\n",
              "  </svg>\n",
              "      </button>\n",
              "      \n",
              "  <style>\n",
              "    .colab-df-container {\n",
              "      display:flex;\n",
              "      flex-wrap:wrap;\n",
              "      gap: 12px;\n",
              "    }\n",
              "\n",
              "    .colab-df-convert {\n",
              "      background-color: #E8F0FE;\n",
              "      border: none;\n",
              "      border-radius: 50%;\n",
              "      cursor: pointer;\n",
              "      display: none;\n",
              "      fill: #1967D2;\n",
              "      height: 32px;\n",
              "      padding: 0 0 0 0;\n",
              "      width: 32px;\n",
              "    }\n",
              "\n",
              "    .colab-df-convert:hover {\n",
              "      background-color: #E2EBFA;\n",
              "      box-shadow: 0px 1px 2px rgba(60, 64, 67, 0.3), 0px 1px 3px 1px rgba(60, 64, 67, 0.15);\n",
              "      fill: #174EA6;\n",
              "    }\n",
              "\n",
              "    [theme=dark] .colab-df-convert {\n",
              "      background-color: #3B4455;\n",
              "      fill: #D2E3FC;\n",
              "    }\n",
              "\n",
              "    [theme=dark] .colab-df-convert:hover {\n",
              "      background-color: #434B5C;\n",
              "      box-shadow: 0px 1px 3px 1px rgba(0, 0, 0, 0.15);\n",
              "      filter: drop-shadow(0px 1px 2px rgba(0, 0, 0, 0.3));\n",
              "      fill: #FFFFFF;\n",
              "    }\n",
              "  </style>\n",
              "\n",
              "      <script>\n",
              "        const buttonEl =\n",
              "          document.querySelector('#df-b84a92b2-c951-4ac7-80e8-dfc643f9f893 button.colab-df-convert');\n",
              "        buttonEl.style.display =\n",
              "          google.colab.kernel.accessAllowed ? 'block' : 'none';\n",
              "\n",
              "        async function convertToInteractive(key) {\n",
              "          const element = document.querySelector('#df-b84a92b2-c951-4ac7-80e8-dfc643f9f893');\n",
              "          const dataTable =\n",
              "            await google.colab.kernel.invokeFunction('convertToInteractive',\n",
              "                                                     [key], {});\n",
              "          if (!dataTable) return;\n",
              "\n",
              "          const docLinkHtml = 'Like what you see? Visit the ' +\n",
              "            '<a target=\"_blank\" href=https://colab.research.google.com/notebooks/data_table.ipynb>data table notebook</a>'\n",
              "            + ' to learn more about interactive tables.';\n",
              "          element.innerHTML = '';\n",
              "          dataTable['output_type'] = 'display_data';\n",
              "          await google.colab.output.renderOutput(dataTable, element);\n",
              "          const docLink = document.createElement('div');\n",
              "          docLink.innerHTML = docLinkHtml;\n",
              "          element.appendChild(docLink);\n",
              "        }\n",
              "      </script>\n",
              "    </div>\n",
              "  </div>\n",
              "  "
            ]
          },
          "metadata": {},
          "execution_count": 95
        }
      ],
      "source": [
        "DF_NAICS.head()"
      ],
      "metadata": {
        "pycharm": {
          "name": "#%%\n"
        },
        "colab": {
          "base_uri": "https://localhost:8080/",
          "height": 560
        },
        "id": "xcWYGvulmUwl",
        "outputId": "f125cbf6-2c4e-427b-86bb-e9d737e1ab5d"
      }
    },
    {
      "cell_type": "code",
      "execution_count": 96,
      "outputs": [],
      "source": [
        "Keep_Columns_DF_NAICS = ['NAICS', 'YEAR', 'FIRM', 'DENOM', 'ESTABS_ENTRY', 'ESTABS_EXIT', 'JOB_CREATION', 'JOB_DESTRUCTION', 'REALLOCATION_RATE', 'FIRMDEATH_ESTABS', 'FIRMDEATH_EMP']\n",
        "DF_NAICS = DF_NAICS[Keep_Columns_DF_NAICS]"
      ],
      "metadata": {
        "pycharm": {
          "name": "#%%\n"
        },
        "id": "3FNNvBIKmUwl"
      }
    },
    {
      "cell_type": "code",
      "execution_count": 97,
      "outputs": [],
      "source": [
        "To_int_Columns_DF_NAICS = ['NAICS', 'YEAR', 'FIRM', 'DENOM', 'ESTABS_ENTRY', 'ESTABS_EXIT', 'JOB_CREATION', 'JOB_DESTRUCTION', 'FIRMDEATH_ESTABS', 'FIRMDEATH_EMP']\n",
        "for column_name in To_int_Columns_DF_NAICS:\n",
        "    DF_NAICS[column_name] = [int(x) for x in DF_NAICS[column_name]]\n",
        "\n",
        "DF_NAICS['REALLOCATION_RATE'] = [float(x) for x in DF_NAICS['REALLOCATION_RATE']]"
      ],
      "metadata": {
        "pycharm": {
          "name": "#%%\n"
        },
        "id": "cj1W9HQTmUwl"
      }
    },
    {
      "cell_type": "code",
      "execution_count": 98,
      "outputs": [
        {
          "output_type": "stream",
          "name": "stdout",
          "text": [
            "(696342, 7)\n",
            "(966, 11)\n"
          ]
        }
      ],
      "source": [
        "### 1.3) Merging Dataset based on NAICS category and dates: Year from DF_NAICS and ApprovalFY from DF_SBA_Loan\n",
        "DF_SBA_Loan = DF_SBA_Loan.rename(columns={\"ApprovalFY\": \"YEAR\"})\n",
        "print(DF_SBA_Loan.shape)\n",
        "print(DF_NAICS.shape)"
      ],
      "metadata": {
        "pycharm": {
          "name": "#%%\n"
        },
        "colab": {
          "base_uri": "https://localhost:8080/"
        },
        "id": "DqbXTelumUwl",
        "outputId": "43a2a8a8-e154-4e99-8ba9-0f0b8c8cb341"
      }
    },
    {
      "cell_type": "code",
      "execution_count": 99,
      "outputs": [
        {
          "output_type": "execute_result",
          "data": {
            "text/plain": [
              "       State  NAICS  YEAR  NewExist MIS_Status  SBA_Appv    GrAppv      FIRM  \\\n",
              "0         IN     45  1997       2.0      P I F   48000.0   60000.0  670945.0   \n",
              "1         IN     72  1997       2.0      P I F   32000.0   40000.0  357519.0   \n",
              "2         IN     62  1997       1.0      P I F  215250.0  287000.0  481657.0   \n",
              "3         CT     33  1997       1.0      P I F  387750.0  517000.0  292577.0   \n",
              "4         FL     81  1997       2.0      P I F   36000.0   45000.0  599136.0   \n",
              "...      ...    ...   ...       ...        ...       ...       ...       ...   \n",
              "696337    MD     33  1997       1.0      P I F   25000.0   50000.0  292577.0   \n",
              "696338    CA     31  1997       1.0      P I F  150000.0  200000.0  292577.0   \n",
              "696339    OH     45  1997       1.0      P I F   56000.0   70000.0  670945.0   \n",
              "696340    OH     45  1997       1.0      P I F   42500.0   85000.0  670945.0   \n",
              "696341    CA     33  1997       1.0      P I F  225000.0  300000.0  292577.0   \n",
              "\n",
              "             DENOM  ESTABS_ENTRY  ESTABS_EXIT  JOB_CREATION  JOB_DESTRUCTION  \\\n",
              "0       13763872.0      110091.0     115364.0     2361731.0        2038489.0   \n",
              "1        9152783.0       69257.0      63282.0     1894562.0        1728105.0   \n",
              "2       12684590.0       60737.0      50485.0     1943403.0        1632957.0   \n",
              "3       16284152.0       28296.0      29516.0     1835979.0        1672272.0   \n",
              "4        4864066.0       62099.0      58638.0      800963.0         694752.0   \n",
              "...            ...           ...          ...           ...              ...   \n",
              "696337  16284152.0       28296.0      29516.0     1835979.0        1672272.0   \n",
              "696338  16284152.0       28296.0      29516.0     1835979.0        1672272.0   \n",
              "696339  13763872.0      110091.0     115364.0     2361731.0        2038489.0   \n",
              "696340  13763872.0      110091.0     115364.0     2361731.0        2038489.0   \n",
              "696341  16284152.0       28296.0      29516.0     1835979.0        1672272.0   \n",
              "\n",
              "        REALLOCATION_RATE  FIRMDEATH_ESTABS  FIRMDEATH_EMP  \n",
              "0                  29.621           73384.0       349798.0  \n",
              "1                  37.761           45776.0       441164.0  \n",
              "2                  25.747           35763.0       328510.0  \n",
              "3                  20.539           22142.0       255029.0  \n",
              "4                  28.567           42290.0       156087.0  \n",
              "...                   ...               ...            ...  \n",
              "696337             20.539           22142.0       255029.0  \n",
              "696338             20.539           22142.0       255029.0  \n",
              "696339             29.621           73384.0       349798.0  \n",
              "696340             29.621           73384.0       349798.0  \n",
              "696341             20.539           22142.0       255029.0  \n",
              "\n",
              "[696113 rows x 16 columns]"
            ],
            "text/html": [
              "\n",
              "  <div id=\"df-a9c84ca1-a3ba-478c-be59-ddf62b64065d\">\n",
              "    <div class=\"colab-df-container\">\n",
              "      <div>\n",
              "<style scoped>\n",
              "    .dataframe tbody tr th:only-of-type {\n",
              "        vertical-align: middle;\n",
              "    }\n",
              "\n",
              "    .dataframe tbody tr th {\n",
              "        vertical-align: top;\n",
              "    }\n",
              "\n",
              "    .dataframe thead th {\n",
              "        text-align: right;\n",
              "    }\n",
              "</style>\n",
              "<table border=\"1\" class=\"dataframe\">\n",
              "  <thead>\n",
              "    <tr style=\"text-align: right;\">\n",
              "      <th></th>\n",
              "      <th>State</th>\n",
              "      <th>NAICS</th>\n",
              "      <th>YEAR</th>\n",
              "      <th>NewExist</th>\n",
              "      <th>MIS_Status</th>\n",
              "      <th>SBA_Appv</th>\n",
              "      <th>GrAppv</th>\n",
              "      <th>FIRM</th>\n",
              "      <th>DENOM</th>\n",
              "      <th>ESTABS_ENTRY</th>\n",
              "      <th>ESTABS_EXIT</th>\n",
              "      <th>JOB_CREATION</th>\n",
              "      <th>JOB_DESTRUCTION</th>\n",
              "      <th>REALLOCATION_RATE</th>\n",
              "      <th>FIRMDEATH_ESTABS</th>\n",
              "      <th>FIRMDEATH_EMP</th>\n",
              "    </tr>\n",
              "  </thead>\n",
              "  <tbody>\n",
              "    <tr>\n",
              "      <th>0</th>\n",
              "      <td>IN</td>\n",
              "      <td>45</td>\n",
              "      <td>1997</td>\n",
              "      <td>2.0</td>\n",
              "      <td>P I F</td>\n",
              "      <td>48000.0</td>\n",
              "      <td>60000.0</td>\n",
              "      <td>670945.0</td>\n",
              "      <td>13763872.0</td>\n",
              "      <td>110091.0</td>\n",
              "      <td>115364.0</td>\n",
              "      <td>2361731.0</td>\n",
              "      <td>2038489.0</td>\n",
              "      <td>29.621</td>\n",
              "      <td>73384.0</td>\n",
              "      <td>349798.0</td>\n",
              "    </tr>\n",
              "    <tr>\n",
              "      <th>1</th>\n",
              "      <td>IN</td>\n",
              "      <td>72</td>\n",
              "      <td>1997</td>\n",
              "      <td>2.0</td>\n",
              "      <td>P I F</td>\n",
              "      <td>32000.0</td>\n",
              "      <td>40000.0</td>\n",
              "      <td>357519.0</td>\n",
              "      <td>9152783.0</td>\n",
              "      <td>69257.0</td>\n",
              "      <td>63282.0</td>\n",
              "      <td>1894562.0</td>\n",
              "      <td>1728105.0</td>\n",
              "      <td>37.761</td>\n",
              "      <td>45776.0</td>\n",
              "      <td>441164.0</td>\n",
              "    </tr>\n",
              "    <tr>\n",
              "      <th>2</th>\n",
              "      <td>IN</td>\n",
              "      <td>62</td>\n",
              "      <td>1997</td>\n",
              "      <td>1.0</td>\n",
              "      <td>P I F</td>\n",
              "      <td>215250.0</td>\n",
              "      <td>287000.0</td>\n",
              "      <td>481657.0</td>\n",
              "      <td>12684590.0</td>\n",
              "      <td>60737.0</td>\n",
              "      <td>50485.0</td>\n",
              "      <td>1943403.0</td>\n",
              "      <td>1632957.0</td>\n",
              "      <td>25.747</td>\n",
              "      <td>35763.0</td>\n",
              "      <td>328510.0</td>\n",
              "    </tr>\n",
              "    <tr>\n",
              "      <th>3</th>\n",
              "      <td>CT</td>\n",
              "      <td>33</td>\n",
              "      <td>1997</td>\n",
              "      <td>1.0</td>\n",
              "      <td>P I F</td>\n",
              "      <td>387750.0</td>\n",
              "      <td>517000.0</td>\n",
              "      <td>292577.0</td>\n",
              "      <td>16284152.0</td>\n",
              "      <td>28296.0</td>\n",
              "      <td>29516.0</td>\n",
              "      <td>1835979.0</td>\n",
              "      <td>1672272.0</td>\n",
              "      <td>20.539</td>\n",
              "      <td>22142.0</td>\n",
              "      <td>255029.0</td>\n",
              "    </tr>\n",
              "    <tr>\n",
              "      <th>4</th>\n",
              "      <td>FL</td>\n",
              "      <td>81</td>\n",
              "      <td>1997</td>\n",
              "      <td>2.0</td>\n",
              "      <td>P I F</td>\n",
              "      <td>36000.0</td>\n",
              "      <td>45000.0</td>\n",
              "      <td>599136.0</td>\n",
              "      <td>4864066.0</td>\n",
              "      <td>62099.0</td>\n",
              "      <td>58638.0</td>\n",
              "      <td>800963.0</td>\n",
              "      <td>694752.0</td>\n",
              "      <td>28.567</td>\n",
              "      <td>42290.0</td>\n",
              "      <td>156087.0</td>\n",
              "    </tr>\n",
              "    <tr>\n",
              "      <th>...</th>\n",
              "      <td>...</td>\n",
              "      <td>...</td>\n",
              "      <td>...</td>\n",
              "      <td>...</td>\n",
              "      <td>...</td>\n",
              "      <td>...</td>\n",
              "      <td>...</td>\n",
              "      <td>...</td>\n",
              "      <td>...</td>\n",
              "      <td>...</td>\n",
              "      <td>...</td>\n",
              "      <td>...</td>\n",
              "      <td>...</td>\n",
              "      <td>...</td>\n",
              "      <td>...</td>\n",
              "      <td>...</td>\n",
              "    </tr>\n",
              "    <tr>\n",
              "      <th>696337</th>\n",
              "      <td>MD</td>\n",
              "      <td>33</td>\n",
              "      <td>1997</td>\n",
              "      <td>1.0</td>\n",
              "      <td>P I F</td>\n",
              "      <td>25000.0</td>\n",
              "      <td>50000.0</td>\n",
              "      <td>292577.0</td>\n",
              "      <td>16284152.0</td>\n",
              "      <td>28296.0</td>\n",
              "      <td>29516.0</td>\n",
              "      <td>1835979.0</td>\n",
              "      <td>1672272.0</td>\n",
              "      <td>20.539</td>\n",
              "      <td>22142.0</td>\n",
              "      <td>255029.0</td>\n",
              "    </tr>\n",
              "    <tr>\n",
              "      <th>696338</th>\n",
              "      <td>CA</td>\n",
              "      <td>31</td>\n",
              "      <td>1997</td>\n",
              "      <td>1.0</td>\n",
              "      <td>P I F</td>\n",
              "      <td>150000.0</td>\n",
              "      <td>200000.0</td>\n",
              "      <td>292577.0</td>\n",
              "      <td>16284152.0</td>\n",
              "      <td>28296.0</td>\n",
              "      <td>29516.0</td>\n",
              "      <td>1835979.0</td>\n",
              "      <td>1672272.0</td>\n",
              "      <td>20.539</td>\n",
              "      <td>22142.0</td>\n",
              "      <td>255029.0</td>\n",
              "    </tr>\n",
              "    <tr>\n",
              "      <th>696339</th>\n",
              "      <td>OH</td>\n",
              "      <td>45</td>\n",
              "      <td>1997</td>\n",
              "      <td>1.0</td>\n",
              "      <td>P I F</td>\n",
              "      <td>56000.0</td>\n",
              "      <td>70000.0</td>\n",
              "      <td>670945.0</td>\n",
              "      <td>13763872.0</td>\n",
              "      <td>110091.0</td>\n",
              "      <td>115364.0</td>\n",
              "      <td>2361731.0</td>\n",
              "      <td>2038489.0</td>\n",
              "      <td>29.621</td>\n",
              "      <td>73384.0</td>\n",
              "      <td>349798.0</td>\n",
              "    </tr>\n",
              "    <tr>\n",
              "      <th>696340</th>\n",
              "      <td>OH</td>\n",
              "      <td>45</td>\n",
              "      <td>1997</td>\n",
              "      <td>1.0</td>\n",
              "      <td>P I F</td>\n",
              "      <td>42500.0</td>\n",
              "      <td>85000.0</td>\n",
              "      <td>670945.0</td>\n",
              "      <td>13763872.0</td>\n",
              "      <td>110091.0</td>\n",
              "      <td>115364.0</td>\n",
              "      <td>2361731.0</td>\n",
              "      <td>2038489.0</td>\n",
              "      <td>29.621</td>\n",
              "      <td>73384.0</td>\n",
              "      <td>349798.0</td>\n",
              "    </tr>\n",
              "    <tr>\n",
              "      <th>696341</th>\n",
              "      <td>CA</td>\n",
              "      <td>33</td>\n",
              "      <td>1997</td>\n",
              "      <td>1.0</td>\n",
              "      <td>P I F</td>\n",
              "      <td>225000.0</td>\n",
              "      <td>300000.0</td>\n",
              "      <td>292577.0</td>\n",
              "      <td>16284152.0</td>\n",
              "      <td>28296.0</td>\n",
              "      <td>29516.0</td>\n",
              "      <td>1835979.0</td>\n",
              "      <td>1672272.0</td>\n",
              "      <td>20.539</td>\n",
              "      <td>22142.0</td>\n",
              "      <td>255029.0</td>\n",
              "    </tr>\n",
              "  </tbody>\n",
              "</table>\n",
              "<p>696113 rows × 16 columns</p>\n",
              "</div>\n",
              "      <button class=\"colab-df-convert\" onclick=\"convertToInteractive('df-a9c84ca1-a3ba-478c-be59-ddf62b64065d')\"\n",
              "              title=\"Convert this dataframe to an interactive table.\"\n",
              "              style=\"display:none;\">\n",
              "        \n",
              "  <svg xmlns=\"http://www.w3.org/2000/svg\" height=\"24px\"viewBox=\"0 0 24 24\"\n",
              "       width=\"24px\">\n",
              "    <path d=\"M0 0h24v24H0V0z\" fill=\"none\"/>\n",
              "    <path d=\"M18.56 5.44l.94 2.06.94-2.06 2.06-.94-2.06-.94-.94-2.06-.94 2.06-2.06.94zm-11 1L8.5 8.5l.94-2.06 2.06-.94-2.06-.94L8.5 2.5l-.94 2.06-2.06.94zm10 10l.94 2.06.94-2.06 2.06-.94-2.06-.94-.94-2.06-.94 2.06-2.06.94z\"/><path d=\"M17.41 7.96l-1.37-1.37c-.4-.4-.92-.59-1.43-.59-.52 0-1.04.2-1.43.59L10.3 9.45l-7.72 7.72c-.78.78-.78 2.05 0 2.83L4 21.41c.39.39.9.59 1.41.59.51 0 1.02-.2 1.41-.59l7.78-7.78 2.81-2.81c.8-.78.8-2.07 0-2.86zM5.41 20L4 18.59l7.72-7.72 1.47 1.35L5.41 20z\"/>\n",
              "  </svg>\n",
              "      </button>\n",
              "      \n",
              "  <style>\n",
              "    .colab-df-container {\n",
              "      display:flex;\n",
              "      flex-wrap:wrap;\n",
              "      gap: 12px;\n",
              "    }\n",
              "\n",
              "    .colab-df-convert {\n",
              "      background-color: #E8F0FE;\n",
              "      border: none;\n",
              "      border-radius: 50%;\n",
              "      cursor: pointer;\n",
              "      display: none;\n",
              "      fill: #1967D2;\n",
              "      height: 32px;\n",
              "      padding: 0 0 0 0;\n",
              "      width: 32px;\n",
              "    }\n",
              "\n",
              "    .colab-df-convert:hover {\n",
              "      background-color: #E2EBFA;\n",
              "      box-shadow: 0px 1px 2px rgba(60, 64, 67, 0.3), 0px 1px 3px 1px rgba(60, 64, 67, 0.15);\n",
              "      fill: #174EA6;\n",
              "    }\n",
              "\n",
              "    [theme=dark] .colab-df-convert {\n",
              "      background-color: #3B4455;\n",
              "      fill: #D2E3FC;\n",
              "    }\n",
              "\n",
              "    [theme=dark] .colab-df-convert:hover {\n",
              "      background-color: #434B5C;\n",
              "      box-shadow: 0px 1px 3px 1px rgba(0, 0, 0, 0.15);\n",
              "      filter: drop-shadow(0px 1px 2px rgba(0, 0, 0, 0.3));\n",
              "      fill: #FFFFFF;\n",
              "    }\n",
              "  </style>\n",
              "\n",
              "      <script>\n",
              "        const buttonEl =\n",
              "          document.querySelector('#df-a9c84ca1-a3ba-478c-be59-ddf62b64065d button.colab-df-convert');\n",
              "        buttonEl.style.display =\n",
              "          google.colab.kernel.accessAllowed ? 'block' : 'none';\n",
              "\n",
              "        async function convertToInteractive(key) {\n",
              "          const element = document.querySelector('#df-a9c84ca1-a3ba-478c-be59-ddf62b64065d');\n",
              "          const dataTable =\n",
              "            await google.colab.kernel.invokeFunction('convertToInteractive',\n",
              "                                                     [key], {});\n",
              "          if (!dataTable) return;\n",
              "\n",
              "          const docLinkHtml = 'Like what you see? Visit the ' +\n",
              "            '<a target=\"_blank\" href=https://colab.research.google.com/notebooks/data_table.ipynb>data table notebook</a>'\n",
              "            + ' to learn more about interactive tables.';\n",
              "          element.innerHTML = '';\n",
              "          dataTable['output_type'] = 'display_data';\n",
              "          await google.colab.output.renderOutput(dataTable, element);\n",
              "          const docLink = document.createElement('div');\n",
              "          docLink.innerHTML = docLinkHtml;\n",
              "          element.appendChild(docLink);\n",
              "        }\n",
              "      </script>\n",
              "    </div>\n",
              "  </div>\n",
              "  "
            ]
          },
          "metadata": {},
          "execution_count": 99
        }
      ],
      "source": [
        "df_merged_NAICS_SBALoan = pd.merge(DF_SBA_Loan, DF_NAICS,  how='left', left_on=['NAICS','YEAR'], right_on = ['NAICS','YEAR'])\n",
        "df_merged_NAICS_SBALoan = df_merged_NAICS_SBALoan.dropna()\n",
        "df_merged_NAICS_SBALoan"
      ],
      "metadata": {
        "pycharm": {
          "name": "#%%\n"
        },
        "colab": {
          "base_uri": "https://localhost:8080/",
          "height": 487
        },
        "id": "KGrIghVUmUwm",
        "outputId": "f1018c7c-d314-4071-b7ba-9fb402b9053c"
      }
    },
    {
      "cell_type": "code",
      "execution_count": 100,
      "outputs": [
        {
          "output_type": "display_data",
          "data": {
            "text/plain": [
              "<Figure size 1080x1080 with 2 Axes>"
            ],
            "image/png": "[encoded data removed]"
          },
          "metadata": {
            "needs_background": "light"
          }
        }
      ],
      "source": [
        "# Plotting correlation matrix\n",
        "correlation = df_merged_NAICS_SBALoan.corr()\n",
        "plt.figure(figsize=(15,15))\n",
        "plt.title('Correlation Heatmap of NAICS_SBA_Dataset')\n",
        "ax = sns.heatmap(correlation, square=True, annot=True, fmt='.2f', linecolor='white')\n",
        "ax.set_xticklabels(ax.get_xticklabels(), rotation=90)\n",
        "ax.set_yticklabels(ax.get_yticklabels(), rotation=30)\n",
        "plt.show()"
      ],
      "metadata": {
        "pycharm": {
          "name": "#%%\n"
        },
        "colab": {
          "base_uri": "https://localhost:8080/",
          "height": 890
        },
        "id": "vRxkmlqumUwm",
        "outputId": "ce6fb291-bf7d-4c94-e971-b833e34a0055"
      }
    },
    {
      "cell_type": "code",
      "execution_count": 101,
      "outputs": [],
      "source": [
        "### 1.4) Splitting the data into Train, Val and Test as per time-series:\n",
        "df_merged_NAICS_SBALoan_train = df_merged_NAICS_SBALoan[df_merged_NAICS_SBALoan['YEAR']<=2007]\n",
        "df_merged_NAICS_SBALoan_val = df_merged_NAICS_SBALoan[(df_merged_NAICS_SBALoan['YEAR'] == 2008) | (df_merged_NAICS_SBALoan['YEAR'] == 2009)]\n",
        "df_merged_NAICS_SBALoan_test = df_merged_NAICS_SBALoan[df_merged_NAICS_SBALoan['YEAR'] >= 2010]"
      ],
      "metadata": {
        "pycharm": {
          "name": "#%%\n"
        },
        "id": "vvjtsPHrmUwm"
      }
    },
    {
      "cell_type": "code",
      "execution_count": 102,
      "outputs": [],
      "source": [
        "y_train = df_merged_NAICS_SBALoan_train['SBA_Appv'] / df_merged_NAICS_SBALoan_train['GrAppv']\n",
        "X_train = df_merged_NAICS_SBALoan_train.drop(['SBA_Appv'], axis=1)\n",
        "y_val = df_merged_NAICS_SBALoan_val['SBA_Appv'] / df_merged_NAICS_SBALoan_val['GrAppv']\n",
        "X_val = df_merged_NAICS_SBALoan_val.drop(['SBA_Appv'], axis=1)\n",
        "y_test = df_merged_NAICS_SBALoan_test['SBA_Appv'] / df_merged_NAICS_SBALoan_test['GrAppv']\n",
        "X_test = df_merged_NAICS_SBALoan_test.drop(['SBA_Appv'], axis=1)"
      ],
      "metadata": {
        "pycharm": {
          "name": "#%%\n"
        },
        "id": "bZn88ZnGmUwm"
      }
    },
    {
      "cell_type": "code",
      "execution_count": 103,
      "outputs": [],
      "source": [
        "from sklearn.preprocessing import StandardScaler\n",
        "\n",
        "# Define numerical features to use for modelling\n",
        "num_features = ['GrAppv', 'FIRM', 'DENOM', 'ESTABS_ENTRY', 'ESTABS_EXIT', 'JOB_CREATION', 'JOB_DESTRUCTION', 'REALLOCATION_RATE', 'FIRMDEATH_ESTABS', 'FIRMDEATH_EMP']\n",
        "\n",
        "# Define categorical features to use for modelling\n",
        "cat_features = ['State', 'NAICS', 'MIS_Status']\n",
        "misc_features = ['YEAR', 'NewExist']\n",
        "\n",
        "# Fitting scaler for the training data\n",
        "scaler = StandardScaler()\n",
        "scaler.fit(X_train[num_features])\n",
        "\n",
        "def features_scale_and_dummies(df):\n",
        "    scaled = df[num_features].copy()\n",
        "    # Convert numeric features to standard units\n",
        "    scaled.iloc[:, :] = scaler.transform(scaled)\n",
        "    # Convert categorical features using dummy encoding\n",
        "    categoricals = [pd.get_dummies(df[s], prefix=s, drop_first=True) for s in cat_features]\n",
        "    misc = df[misc_features]\n",
        "    return pd.concat([scaled] + categoricals + [misc], axis=1)"
      ],
      "metadata": {
        "pycharm": {
          "name": "#%%\n"
        },
        "id": "zKik2rsTmUwm"
      }
    },
    {
      "cell_type": "code",
      "execution_count": 104,
      "outputs": [],
      "source": [
        "X_train = features_scale_and_dummies(X_train)\n",
        "X_val = features_scale_and_dummies(X_val)\n",
        "X_test = features_scale_and_dummies(X_test)"
      ],
      "metadata": {
        "pycharm": {
          "name": "#%%\n"
        },
        "id": "CzNSZ3RWmUwn"
      }
    },
    {
      "cell_type": "code",
      "execution_count": 105,
      "outputs": [
        {
          "output_type": "stream",
          "name": "stdout",
          "text": [
            "(599434, 85)\n",
            "(58648, 85)\n",
            "(38031, 85)\n"
          ]
        }
      ],
      "source": [
        "print(X_train.shape)\n",
        "print(X_val.shape)\n",
        "print(X_test.shape)"
      ],
      "metadata": {
        "pycharm": {
          "name": "#%%\n"
        },
        "colab": {
          "base_uri": "https://localhost:8080/"
        },
        "id": "Wlza9rDvmUwn",
        "outputId": "7ed052b6-9732-4d7f-d45d-d8d558dc2ba1"
      }
    },
    {
      "cell_type": "code",
      "execution_count": 106,
      "outputs": [],
      "source": [
        "#Defining RMSE function\n",
        "from sklearn import metrics\n",
        "def rmse(y_pred, y):\n",
        "    return np.sqrt(metrics.mean_squared_error(y_pred, y))\n",
        "from sklearn.metrics import r2_score"
      ],
      "metadata": {
        "pycharm": {
          "name": "#%%\n"
        },
        "id": "qPTOIkTxmUwn"
      }
    },
    {
      "cell_type": "code",
      "execution_count": 107,
      "outputs": [],
      "source": [
        "### 1.4.1) Considering only Entering Entities features to train our model:\n",
        "# Columns_to_keep = ['State', 'NAICS', 'YEAR', 'NewExist', 'MIS_Status', 'GrAppv', 'FIRM', 'DENOM', 'ESTABS_ENTRY', 'JOB_CREATION']\n",
        "X_train_1 = X_train.drop(['ESTABS_EXIT', 'JOB_DESTRUCTION', 'REALLOCATION_RATE', 'FIRMDEATH_ESTABS', 'FIRMDEATH_EMP'], axis=1)\n",
        "X_val_1 = X_val.drop(['ESTABS_EXIT', 'JOB_DESTRUCTION', 'REALLOCATION_RATE', 'FIRMDEATH_ESTABS', 'FIRMDEATH_EMP'], axis=1)"
      ],
      "metadata": {
        "pycharm": {
          "name": "#%%\n"
        },
        "id": "4TrR1-qrmUwn"
      }
    },
    {
      "cell_type": "code",
      "execution_count": 108,
      "outputs": [
        {
          "output_type": "stream",
          "name": "stdout",
          "text": [
            "For the linear regression model in part 1:\n",
            " RMSE for training data is:  0.13823452738522352 \n",
            " RMSE for validation data is:  0.18195496893333427 \n",
            " R2 Score for training data is:  0.36442538073122543 \n",
            " R2 Score for validation data is:  0.014596587208762335\n"
          ]
        }
      ],
      "source": [
        "# Linear Regression - Performing Linear Regression\n",
        "from sklearn.linear_model import LinearRegression\n",
        "model_1 = LinearRegression(fit_intercept=True).fit(X_train_1, y_train)\n",
        "y_train_predicted_1 = model_1.predict(X_train_1)\n",
        "y_val_predicted_1 = model_1.predict(X_val_1)\n",
        "# Linear Regression - RMSE for training and validation data\n",
        "rmse_train_1 = rmse(y_train, y_train_predicted_1)\n",
        "rmse_val_1 = rmse(y_val, y_val_predicted_1)\n",
        "r2_train_1 = r2_score(y_train, y_train_predicted_1)\n",
        "r2_val_1 = r2_score(y_val, y_val_predicted_1)\n",
        "print(\"For the linear regression model in part 1:\\n\", \"RMSE for training data is: \",rmse_train_1,\"\\n\",\"RMSE for validation data is: \",rmse_val_1,\"\\n\",\"R2 Score for training data is: \",r2_train_1,\"\\n\",\"R2 Score for validation data is: \",r2_val_1)"
      ],
      "metadata": {
        "pycharm": {
          "name": "#%%\n"
        },
        "colab": {
          "base_uri": "https://localhost:8080/"
        },
        "id": "ZfW24k-4mUwn",
        "outputId": "cec447ee-d7dc-4613-89bc-06dd12410bc8"
      }
    },
    {
      "cell_type": "code",
      "execution_count": 109,
      "outputs": [
        {
          "output_type": "stream",
          "name": "stderr",
          "text": [
            "/usr/local/lib/python3.7/dist-packages/seaborn/_decorators.py:43: FutureWarning: Pass the following variables as keyword args: x, y. From version 0.12, the only valid positional argument will be `data`, and passing other arguments without an explicit keyword will result in an error or misinterpretation.\n",
            "  FutureWarning\n"
          ]
        },
        {
          "output_type": "display_data",
          "data": {
            "text/plain": [
              "<Figure size 432x288 with 1 Axes>"
            ],
            "image/png": "[encoded data removed]"
          },
          "metadata": {
            "needs_background": "light"
          }
        }
      ],
      "source": [
        "# Plotting residual Curves for the Regression model\n",
        "residuals_1 = y_val - y_val_predicted_1\n",
        "ax = sns.regplot(y_val, residuals_1)\n",
        "ax.set_xlabel('SBA Approved / Gross Approved (Validation Data)')\n",
        "ax.set_ylabel('Residuals (Actual Price - Predicted Price)')\n",
        "ax.set_title(\"Residuals vs. SBA Approved / Gross Approved on Validation Data\");"
      ],
      "metadata": {
        "pycharm": {
          "name": "#%%\n"
        },
        "colab": {
          "base_uri": "https://localhost:8080/",
          "height": 350
        },
        "id": "8PB87YTJmUwn",
        "outputId": "98b88140-6baa-47de-826c-6c20fd687366"
      }
    },
    {
      "cell_type": "code",
      "execution_count": 110,
      "outputs": [],
      "source": [
        "### 1.4.2) Considering only Exiting Entities features to train our model:\n",
        "# Columns_to_keep = ['State', 'NAICS', 'YEAR', 'NewExist', 'MIS_Status', 'GrAppv', 'FIRM', 'DENOM', 'ESTABS_EXIT', 'JOB_DESTRUCTION', 'REALLOCATION_RATE', 'FIRMDEATH_ESTABS', 'FIRMDEATH_EMP']\n",
        "X_train_2 = X_train.drop(['ESTABS_ENTRY', 'JOB_CREATION'], axis=1)\n",
        "X_val_2 = X_val.drop(['ESTABS_ENTRY', 'JOB_CREATION'], axis=1)"
      ],
      "metadata": {
        "pycharm": {
          "name": "#%%\n"
        },
        "id": "hpZ2gGx5mUwn"
      }
    },
    {
      "cell_type": "code",
      "execution_count": 111,
      "outputs": [
        {
          "output_type": "stream",
          "name": "stdout",
          "text": [
            "For the linear regression model in part 2:\n",
            " RMSE for training data is:  0.13815035384295604 \n",
            " RMSE for validation data is:  0.18300784141692863 \n",
            " R2 Score for training data is:  0.36519917118663237 \n",
            " R2 Score for validation data is:  0.0031596270073911414\n"
          ]
        }
      ],
      "source": [
        "# Linear Regression - Performing Linear Regression\n",
        "model_2 = LinearRegression(fit_intercept=True).fit(X_train_2, y_train)\n",
        "y_train_predicted_2 = model_2.predict(X_train_2)\n",
        "y_val_predicted_2 = model_2.predict(X_val_2)\n",
        "# Linear Regression - RMSE for training and validation data\n",
        "rmse_train_2 = rmse(y_train, y_train_predicted_2)\n",
        "rmse_val_2 = rmse(y_val, y_val_predicted_2)\n",
        "r2_train_2 = r2_score(y_train, y_train_predicted_2)\n",
        "r2_val_2 = r2_score(y_val, y_val_predicted_2)\n",
        "print(\"For the linear regression model in part 2:\\n\", \"RMSE for training data is: \",rmse_train_2,\"\\n\",\"RMSE for validation data is: \",rmse_val_2,\"\\n\",\"R2 Score for training data is: \",r2_train_2,\"\\n\",\"R2 Score for validation data is: \",r2_val_2)"
      ],
      "metadata": {
        "pycharm": {
          "name": "#%%\n"
        },
        "colab": {
          "base_uri": "https://localhost:8080/"
        },
        "id": "plmIuyUwmUwo",
        "outputId": "6b00c2c3-e2b1-42e3-9758-bf2a99102015"
      }
    },
    {
      "cell_type": "code",
      "execution_count": 112,
      "outputs": [
        {
          "output_type": "stream",
          "name": "stderr",
          "text": [
            "/usr/local/lib/python3.7/dist-packages/seaborn/_decorators.py:43: FutureWarning: Pass the following variables as keyword args: x, y. From version 0.12, the only valid positional argument will be `data`, and passing other arguments without an explicit keyword will result in an error or misinterpretation.\n",
            "  FutureWarning\n"
          ]
        },
        {
          "output_type": "display_data",
          "data": {
            "text/plain": [
              "<Figure size 432x288 with 1 Axes>"
            ],
            "image/png": "[encoded data removed]"
          },
          "metadata": {
            "needs_background": "light"
          }
        }
      ],
      "source": [
        "# Plotting residual Curves for the Regression model\n",
        "residuals_2 = y_val - y_val_predicted_2\n",
        "ax = sns.regplot(y_val, residuals_2)\n",
        "ax.set_xlabel('SBA Approved / Gross Approved (Validation Data)')\n",
        "ax.set_ylabel('Residuals (Actual Price - Predicted Price)')\n",
        "ax.set_title(\"Residuals vs. SBA Approved / Gross Approved on Validation Data\");"
      ],
      "metadata": {
        "pycharm": {
          "name": "#%%\n"
        },
        "colab": {
          "base_uri": "https://localhost:8080/",
          "height": 350
        },
        "id": "d39JBXUNmUwo",
        "outputId": "e390eb76-3db2-4dc0-d090-35a42dc2875f"
      }
    },
    {
      "cell_type": "code",
      "execution_count": 113,
      "outputs": [
        {
          "output_type": "stream",
          "name": "stdout",
          "text": [
            "For the linear regression model in part 3:\n",
            " RMSE for training data is:  0.13814835910286202 \n",
            " RMSE for validation data is:  0.18247831297607367 \n",
            " R2 Score for training data is:  0.3652175027143918 \n",
            " R2 Score for validation data is:  0.008919944779158584\n"
          ]
        }
      ],
      "source": [
        "### 1.4.3) Considering all the features to train our model:\n",
        "# Linear Regression - Performing Linear Regression\n",
        "model_3 = LinearRegression(fit_intercept=True).fit(X_train, y_train)\n",
        "y_train_predicted_3 = model_3.predict(X_train)\n",
        "y_val_predicted_3 = model_3.predict(X_val)\n",
        "# Linear Regression - RMSE for training and validation data\n",
        "rmse_train_3 = rmse(y_train, y_train_predicted_3)\n",
        "rmse_val_3 = rmse(y_val, y_val_predicted_3)\n",
        "r2_train_3 = r2_score(y_train, y_train_predicted_3)\n",
        "r2_val_3 = r2_score(y_val, y_val_predicted_3)\n",
        "print(\"For the linear regression model in part 3:\\n\", \"RMSE for training data is: \",rmse_train_3,\"\\n\",\"RMSE for validation data is: \",rmse_val_3,\"\\n\",\"R2 Score for training data is: \",r2_train_3,\"\\n\",\"R2 Score for validation data is: \",r2_val_3)"
      ],
      "metadata": {
        "pycharm": {
          "name": "#%%\n"
        },
        "colab": {
          "base_uri": "https://localhost:8080/"
        },
        "id": "gPpxg0kwmUwo",
        "outputId": "78143a67-c5ff-406e-86e5-2fce8c1196cc"
      }
    },
    {
      "cell_type": "code",
      "execution_count": 114,
      "outputs": [
        {
          "output_type": "stream",
          "name": "stderr",
          "text": [
            "/usr/local/lib/python3.7/dist-packages/seaborn/_decorators.py:43: FutureWarning: Pass the following variables as keyword args: x, y. From version 0.12, the only valid positional argument will be `data`, and passing other arguments without an explicit keyword will result in an error or misinterpretation.\n",
            "  FutureWarning\n"
          ]
        },
        {
          "output_type": "display_data",
          "data": {
            "text/plain": [
              "<Figure size 432x288 with 1 Axes>"
            ],
            "image/png": "[encoded data removed]"
          },
          "metadata": {
            "needs_background": "light"
          }
        }
      ],
      "source": [
        "# Plotting residual Curves for the Regression model\n",
        "residuals_3 = y_val - y_val_predicted_3\n",
        "ax = sns.regplot(y_val, residuals_3)\n",
        "ax.set_xlabel('SBA Approved / Gross Approved (Validation Data)')\n",
        "ax.set_ylabel('Residuals (Actual Price - Predicted Price)')\n",
        "ax.set_title(\"Residuals vs. SBA Approved / Gross Approved on Validation Data\");"
      ],
      "metadata": {
        "pycharm": {
          "name": "#%%\n"
        },
        "colab": {
          "base_uri": "https://localhost:8080/",
          "height": 350
        },
        "id": "ZhvMsj7amUwo",
        "outputId": "3994fdc3-c8ec-484c-e997-109c2746e823"
      }
    },
    {
      "cell_type": "code",
      "source": [
        "### Test data\n",
        "y_test_predicted = model_3.predict(X_test)\n",
        "# Linear Regression - RMSE for training and validation data\n",
        "rmse_test = rmse(y_test, y_test_predicted)\n",
        "r2_test = r2_score(y_test, y_test_predicted)\n",
        "print(\"For the linear regression model in part 3:\\n\", \"RMSE for test data is: \",rmse_test,\"\\n\",\"R2 Score for test data is: \",r2_test)"
      ],
      "metadata": {
        "colab": {
          "base_uri": "https://localhost:8080/"
        },
        "id": "gYbww9ZVz49j",
        "outputId": "8c8d6374-e530-42e6-f4c9-7fbcdf05a1d8"
      },
      "execution_count": 115,
      "outputs": [
        {
          "output_type": "stream",
          "name": "stdout",
          "text": [
            "For the linear regression model in part 3:\n",
            " RMSE for test data is:  0.20608466730021968 \n",
            " R2 Score for test data is:  -0.16253668221708817\n"
          ]
        }
      ]
    },
    {
      "cell_type": "code",
      "execution_count": 116,
      "outputs": [],
      "source": [
        "### 1.5) Splitting the data into Train, Val and Test as per time-series:\n",
        "df_merged_NAICS_SBALoan_train_val = df_merged_NAICS_SBALoan[df_merged_NAICS_SBALoan['YEAR']<=2009]\n",
        "df_merged_NAICS_SBALoan_test = df_merged_NAICS_SBALoan[df_merged_NAICS_SBALoan['YEAR'] >= 2010]\n",
        "y_train_val = df_merged_NAICS_SBALoan_train_val['SBA_Appv'] / df_merged_NAICS_SBALoan_train_val['GrAppv']\n",
        "X_train_val = df_merged_NAICS_SBALoan_train_val.drop(['SBA_Appv'], axis=1)\n",
        "y_test = df_merged_NAICS_SBALoan_test['SBA_Appv'] / df_merged_NAICS_SBALoan_test['GrAppv']\n",
        "X_test = df_merged_NAICS_SBALoan_test.drop(['SBA_Appv'], axis=1)\n",
        "from sklearn.model_selection import train_test_split\n",
        "X_train, X_val, y_train, y_val = train_test_split(X_train_val, y_train_val, test_size=0.15, random_state= 0)"
      ],
      "metadata": {
        "pycharm": {
          "name": "#%%\n"
        },
        "id": "y0F4TTr7mUwo"
      }
    },
    {
      "cell_type": "code",
      "execution_count": 117,
      "outputs": [],
      "source": [
        "# Fitting scaler for the new training data\n",
        "scaler = StandardScaler()\n",
        "scaler.fit(X_train[num_features])\n",
        "# Redefining the function with new Scaler\n",
        "def features_scale_and_dummies(df):\n",
        "    scaled = df[num_features].copy()\n",
        "    # Convert numeric features to standard units\n",
        "    scaled.iloc[:, :] = scaler.transform(scaled)\n",
        "    # Convert categorical features using dummy encoding\n",
        "    categoricals = [pd.get_dummies(df[s], prefix=s, drop_first=True) for s in cat_features]\n",
        "    misc = df[misc_features]\n",
        "    return pd.concat([scaled] + categoricals + [misc], axis=1)"
      ],
      "metadata": {
        "pycharm": {
          "name": "#%%\n"
        },
        "id": "nBVkH6lXmUwo"
      }
    },
    {
      "cell_type": "code",
      "execution_count": 118,
      "outputs": [],
      "source": [
        "X_train = features_scale_and_dummies(X_train)\n",
        "X_val = features_scale_and_dummies(X_val)\n",
        "X_test = features_scale_and_dummies(X_test)"
      ],
      "metadata": {
        "pycharm": {
          "name": "#%%\n"
        },
        "id": "5gabV2GUmUwo"
      }
    },
    {
      "cell_type": "code",
      "execution_count": 119,
      "outputs": [
        {
          "output_type": "stream",
          "name": "stdout",
          "text": [
            "(559369, 85)\n",
            "(98713, 85)\n",
            "(38031, 85)\n"
          ]
        }
      ],
      "source": [
        "print(X_train.shape)\n",
        "print(X_val.shape)\n",
        "print(X_test.shape)"
      ],
      "metadata": {
        "pycharm": {
          "name": "#%%\n"
        },
        "colab": {
          "base_uri": "https://localhost:8080/"
        },
        "id": "t_83v9a9mUwo",
        "outputId": "3abab5d2-facc-490e-d1af-6ad8b5337e28"
      }
    },
    {
      "cell_type": "code",
      "execution_count": 120,
      "outputs": [
        {
          "output_type": "stream",
          "name": "stdout",
          "text": [
            "For the linear regression model in part 3:\n",
            " RMSE for training data is:  0.1416492717816312 \n",
            " RMSE for validation data is:  0.14192099845032857 \n",
            " R2 Score for training data is:  0.3417644626676698 \n",
            " R2 Score for validation data is:  0.3392913497046305\n"
          ]
        }
      ],
      "source": [
        "# Linear Regression - Performing Linear Regression\n",
        "model_3 = LinearRegression(fit_intercept=True).fit(X_train, y_train)\n",
        "y_train_predicted_3 = model_3.predict(X_train)\n",
        "y_val_predicted_3 = model_3.predict(X_val)\n",
        "# Linear Regression - RMSE for training and validation data\n",
        "rmse_train_3 = rmse(y_train, y_train_predicted_3)\n",
        "rmse_val_3 = rmse(y_val, y_val_predicted_3)\n",
        "r2_train_3 = r2_score(y_train, y_train_predicted_3)\n",
        "r2_val_3 = r2_score(y_val, y_val_predicted_3)\n",
        "print(\"For the linear regression model in part 3:\\n\", \"RMSE for training data is: \",rmse_train_3,\"\\n\",\"RMSE for validation data is: \",rmse_val_3,\"\\n\",\"R2 Score for training data is: \",r2_train_3,\"\\n\",\"R2 Score for validation data is: \",r2_val_3)"
      ],
      "metadata": {
        "pycharm": {
          "name": "#%%\n"
        },
        "colab": {
          "base_uri": "https://localhost:8080/"
        },
        "id": "qiZKe1iMmUwp",
        "outputId": "26d79a5d-effb-4f55-9479-ee23d194489c"
      }
    },
    {
      "cell_type": "code",
      "execution_count": 121,
      "outputs": [
        {
          "output_type": "stream",
          "name": "stderr",
          "text": [
            "/usr/local/lib/python3.7/dist-packages/seaborn/_decorators.py:43: FutureWarning: Pass the following variables as keyword args: x, y. From version 0.12, the only valid positional argument will be `data`, and passing other arguments without an explicit keyword will result in an error or misinterpretation.\n",
            "  FutureWarning\n"
          ]
        },
        {
          "output_type": "display_data",
          "data": {
            "text/plain": [
              "<Figure size 432x288 with 1 Axes>"
            ],
            "image/png": "[encoded data removed]"
          },
          "metadata": {
            "needs_background": "light"
          }
        }
      ],
      "source": [
        "# Plotting residual Curves for the Regression model\n",
        "residuals_3 = y_val - y_val_predicted_3\n",
        "ax = sns.regplot(y_val, residuals_3)\n",
        "ax.set_xlabel('SBA Approved / Gross Approved (Validation Data)')\n",
        "ax.set_ylabel('Residuals (Actual Price - Predicted Price)')\n",
        "ax.set_title(\"Residuals vs. SBA Approved / Gross Approved on Validation Data\");"
      ],
      "metadata": {
        "pycharm": {
          "name": "#%%\n"
        },
        "colab": {
          "base_uri": "https://localhost:8080/",
          "height": 350
        },
        "id": "GPHsHz2XmUwp",
        "outputId": "a512d179-add4-405c-8c11-a3058e3d356b"
      }
    },
    {
      "cell_type": "code",
      "execution_count": 122,
      "outputs": [
        {
          "output_type": "stream",
          "name": "stdout",
          "text": [
            "For the linear regression model in part 3:\n",
            " RMSE for test data is:  0.19046700835605956 \n",
            " R2 Score for test data is:  0.006987253409693195\n"
          ]
        }
      ],
      "source": [
        "### Test data\n",
        "y_test_predicted = model_3.predict(X_test)\n",
        "# Linear Regression - RMSE for training and validation data\n",
        "rmse_test = rmse(y_test, y_test_predicted)\n",
        "r2_test = r2_score(y_test, y_test_predicted)\n",
        "print(\"For the linear regression model in part 3:\\n\", \"RMSE for test data is: \",rmse_test,\"\\n\",\"R2 Score for test data is: \",r2_test)"
      ],
      "metadata": {
        "pycharm": {
          "name": "#%%\n"
        },
        "colab": {
          "base_uri": "https://localhost:8080/"
        },
        "id": "Naq0pLmRmUwp",
        "outputId": "5aa7268f-0104-418f-c0d5-6e58bfa129ca"
      }
    },
    {
      "cell_type": "code",
      "source": [
        "X_train"
      ],
      "metadata": {
        "colab": {
          "base_uri": "https://localhost:8080/",
          "height": 505
        },
        "id": "wmCN0xc1Uz-Z",
        "outputId": "70ed4071-dc02-4cee-c575-1f158e44dd8b"
      },
      "execution_count": 123,
      "outputs": [
        {
          "output_type": "execute_result",
          "data": {
            "text/plain": [
              "          GrAppv      FIRM     DENOM  ESTABS_ENTRY  ESTABS_EXIT  JOB_CREATION  \\\n",
              "595095 -0.285962 -1.730664 -1.301133     -1.315980    -1.428416     -1.381962   \n",
              "593414 -0.118140  1.034884  1.256252      1.195971     1.284442      1.396366   \n",
              "407216  0.443699 -0.469191  0.148107      0.156103    -0.004674      0.823034   \n",
              "656600 -0.468378  0.484707 -0.930987      0.592091     0.427392     -0.384687   \n",
              "442790 -0.504861 -1.349752 -1.698165     -1.101091    -1.129525     -1.789802   \n",
              "...          ...       ...       ...           ...          ...           ...   \n",
              "387445  1.830055  0.652795 -0.491372      0.754109     0.502425      0.153543   \n",
              "152396 -0.541344 -1.897395 -1.605346     -1.675131    -1.649194     -1.868862   \n",
              "118021 -0.468378  1.023392 -0.369918      1.053312     0.767216     -0.077742   \n",
              "472554 -0.109019 -0.058683 -0.993804      0.062544    -0.271519     -0.848925   \n",
              "308177 -0.577827  1.068381  1.163642      1.129414     1.363724      1.383862   \n",
              "\n",
              "        JOB_DESTRUCTION  REALLOCATION_RATE  FIRMDEATH_ESTABS  FIRMDEATH_EMP  \\\n",
              "595095        -1.602886          -0.691541         -1.378932      -1.496822   \n",
              "593414         0.748248          -0.810057          1.250270       0.772662   \n",
              "407216         0.956943           1.297350         -0.052339       1.484184   \n",
              "656600        -0.512243           1.773361          0.655402       0.059069   \n",
              "442790        -1.756098           1.767225         -1.092945      -1.550648   \n",
              "...                 ...                ...               ...            ...   \n",
              "387445        -0.216948           0.770760          0.522328       0.023214   \n",
              "152396        -1.822936          -0.078757         -1.633217      -1.748244   \n",
              "118021        -0.081935           0.705666          0.742633      -0.066927   \n",
              "472554        -0.887666           0.801137         -0.150862      -0.856989   \n",
              "308177         0.936572          -0.490871          1.160346       0.866140   \n",
              "\n",
              "        ...  NAICS_55  NAICS_56  NAICS_61  NAICS_62  NAICS_71  NAICS_72  \\\n",
              "595095  ...         0         0         0         0         0         0   \n",
              "593414  ...         0         0         0         0         0         0   \n",
              "407216  ...         0         0         0         0         0         1   \n",
              "656600  ...         0         0         0         0         0         0   \n",
              "442790  ...         0         0         0         0         0         0   \n",
              "...     ...       ...       ...       ...       ...       ...       ...   \n",
              "387445  ...         0         0         0         0         0         0   \n",
              "152396  ...         0         0         0         0         1         0   \n",
              "118021  ...         0         0         0         0         0         0   \n",
              "472554  ...         0         0         0         0         0         0   \n",
              "308177  ...         0         0         0         0         0         0   \n",
              "\n",
              "        NAICS_81  MIS_Status_P I F  YEAR  NewExist  \n",
              "595095         0                 1  1995       1.0  \n",
              "593414         0                 1  2004       1.0  \n",
              "407216         0                 1  2002       2.0  \n",
              "656600         0                 1  1996       1.0  \n",
              "442790         0                 1  1993       1.0  \n",
              "...          ...               ...   ...       ...  \n",
              "387445         0                 1  2001       2.0  \n",
              "152396         0                 0  2007       2.0  \n",
              "118021         0                 1  2007       1.0  \n",
              "472554         0                 1  1993       1.0  \n",
              "308177         0                 1  2000       1.0  \n",
              "\n",
              "[559369 rows x 85 columns]"
            ],
            "text/html": [
              "\n",
              "  <div id=\"df-d45c4e8d-e2cd-4e92-8c54-660278406040\">\n",
              "    <div class=\"colab-df-container\">\n",
              "      <div>\n",
              "<style scoped>\n",
              "    .dataframe tbody tr th:only-of-type {\n",
              "        vertical-align: middle;\n",
              "    }\n",
              "\n",
              "    .dataframe tbody tr th {\n",
              "        vertical-align: top;\n",
              "    }\n",
              "\n",
              "    .dataframe thead th {\n",
              "        text-align: right;\n",
              "    }\n",
              "</style>\n",
              "<table border=\"1\" class=\"dataframe\">\n",
              "  <thead>\n",
              "    <tr style=\"text-align: right;\">\n",
              "      <th></th>\n",
              "      <th>GrAppv</th>\n",
              "      <th>FIRM</th>\n",
              "      <th>DENOM</th>\n",
              "      <th>ESTABS_ENTRY</th>\n",
              "      <th>ESTABS_EXIT</th>\n",
              "      <th>JOB_CREATION</th>\n",
              "      <th>JOB_DESTRUCTION</th>\n",
              "      <th>REALLOCATION_RATE</th>\n",
              "      <th>FIRMDEATH_ESTABS</th>\n",
              "      <th>FIRMDEATH_EMP</th>\n",
              "      <th>...</th>\n",
              "      <th>NAICS_55</th>\n",
              "      <th>NAICS_56</th>\n",
              "      <th>NAICS_61</th>\n",
              "      <th>NAICS_62</th>\n",
              "      <th>NAICS_71</th>\n",
              "      <th>NAICS_72</th>\n",
              "      <th>NAICS_81</th>\n",
              "      <th>MIS_Status_P I F</th>\n",
              "      <th>YEAR</th>\n",
              "      <th>NewExist</th>\n",
              "    </tr>\n",
              "  </thead>\n",
              "  <tbody>\n",
              "    <tr>\n",
              "      <th>595095</th>\n",
              "      <td>-0.285962</td>\n",
              "      <td>-1.730664</td>\n",
              "      <td>-1.301133</td>\n",
              "      <td>-1.315980</td>\n",
              "      <td>-1.428416</td>\n",
              "      <td>-1.381962</td>\n",
              "      <td>-1.602886</td>\n",
              "      <td>-0.691541</td>\n",
              "      <td>-1.378932</td>\n",
              "      <td>-1.496822</td>\n",
              "      <td>...</td>\n",
              "      <td>0</td>\n",
              "      <td>0</td>\n",
              "      <td>0</td>\n",
              "      <td>0</td>\n",
              "      <td>0</td>\n",
              "      <td>0</td>\n",
              "      <td>0</td>\n",
              "      <td>1</td>\n",
              "      <td>1995</td>\n",
              "      <td>1.0</td>\n",
              "    </tr>\n",
              "    <tr>\n",
              "      <th>593414</th>\n",
              "      <td>-0.118140</td>\n",
              "      <td>1.034884</td>\n",
              "      <td>1.256252</td>\n",
              "      <td>1.195971</td>\n",
              "      <td>1.284442</td>\n",
              "      <td>1.396366</td>\n",
              "      <td>0.748248</td>\n",
              "      <td>-0.810057</td>\n",
              "      <td>1.250270</td>\n",
              "      <td>0.772662</td>\n",
              "      <td>...</td>\n",
              "      <td>0</td>\n",
              "      <td>0</td>\n",
              "      <td>0</td>\n",
              "      <td>0</td>\n",
              "      <td>0</td>\n",
              "      <td>0</td>\n",
              "      <td>0</td>\n",
              "      <td>1</td>\n",
              "      <td>2004</td>\n",
              "      <td>1.0</td>\n",
              "    </tr>\n",
              "    <tr>\n",
              "      <th>407216</th>\n",
              "      <td>0.443699</td>\n",
              "      <td>-0.469191</td>\n",
              "      <td>0.148107</td>\n",
              "      <td>0.156103</td>\n",
              "      <td>-0.004674</td>\n",
              "      <td>0.823034</td>\n",
              "      <td>0.956943</td>\n",
              "      <td>1.297350</td>\n",
              "      <td>-0.052339</td>\n",
              "      <td>1.484184</td>\n",
              "      <td>...</td>\n",
              "      <td>0</td>\n",
              "      <td>0</td>\n",
              "      <td>0</td>\n",
              "      <td>0</td>\n",
              "      <td>0</td>\n",
              "      <td>1</td>\n",
              "      <td>0</td>\n",
              "      <td>1</td>\n",
              "      <td>2002</td>\n",
              "      <td>2.0</td>\n",
              "    </tr>\n",
              "    <tr>\n",
              "      <th>656600</th>\n",
              "      <td>-0.468378</td>\n",
              "      <td>0.484707</td>\n",
              "      <td>-0.930987</td>\n",
              "      <td>0.592091</td>\n",
              "      <td>0.427392</td>\n",
              "      <td>-0.384687</td>\n",
              "      <td>-0.512243</td>\n",
              "      <td>1.773361</td>\n",
              "      <td>0.655402</td>\n",
              "      <td>0.059069</td>\n",
              "      <td>...</td>\n",
              "      <td>0</td>\n",
              "      <td>0</td>\n",
              "      <td>0</td>\n",
              "      <td>0</td>\n",
              "      <td>0</td>\n",
              "      <td>0</td>\n",
              "      <td>0</td>\n",
              "      <td>1</td>\n",
              "      <td>1996</td>\n",
              "      <td>1.0</td>\n",
              "    </tr>\n",
              "    <tr>\n",
              "      <th>442790</th>\n",
              "      <td>-0.504861</td>\n",
              "      <td>-1.349752</td>\n",
              "      <td>-1.698165</td>\n",
              "      <td>-1.101091</td>\n",
              "      <td>-1.129525</td>\n",
              "      <td>-1.789802</td>\n",
              "      <td>-1.756098</td>\n",
              "      <td>1.767225</td>\n",
              "      <td>-1.092945</td>\n",
              "      <td>-1.550648</td>\n",
              "      <td>...</td>\n",
              "      <td>0</td>\n",
              "      <td>0</td>\n",
              "      <td>0</td>\n",
              "      <td>0</td>\n",
              "      <td>0</td>\n",
              "      <td>0</td>\n",
              "      <td>0</td>\n",
              "      <td>1</td>\n",
              "      <td>1993</td>\n",
              "      <td>1.0</td>\n",
              "    </tr>\n",
              "    <tr>\n",
              "      <th>...</th>\n",
              "      <td>...</td>\n",
              "      <td>...</td>\n",
              "      <td>...</td>\n",
              "      <td>...</td>\n",
              "      <td>...</td>\n",
              "      <td>...</td>\n",
              "      <td>...</td>\n",
              "      <td>...</td>\n",
              "      <td>...</td>\n",
              "      <td>...</td>\n",
              "      <td>...</td>\n",
              "      <td>...</td>\n",
              "      <td>...</td>\n",
              "      <td>...</td>\n",
              "      <td>...</td>\n",
              "      <td>...</td>\n",
              "      <td>...</td>\n",
              "      <td>...</td>\n",
              "      <td>...</td>\n",
              "      <td>...</td>\n",
              "      <td>...</td>\n",
              "    </tr>\n",
              "    <tr>\n",
              "      <th>387445</th>\n",
              "      <td>1.830055</td>\n",
              "      <td>0.652795</td>\n",
              "      <td>-0.491372</td>\n",
              "      <td>0.754109</td>\n",
              "      <td>0.502425</td>\n",
              "      <td>0.153543</td>\n",
              "      <td>-0.216948</td>\n",
              "      <td>0.770760</td>\n",
              "      <td>0.522328</td>\n",
              "      <td>0.023214</td>\n",
              "      <td>...</td>\n",
              "      <td>0</td>\n",
              "      <td>0</td>\n",
              "      <td>0</td>\n",
              "      <td>0</td>\n",
              "      <td>0</td>\n",
              "      <td>0</td>\n",
              "      <td>0</td>\n",
              "      <td>1</td>\n",
              "      <td>2001</td>\n",
              "      <td>2.0</td>\n",
              "    </tr>\n",
              "    <tr>\n",
              "      <th>152396</th>\n",
              "      <td>-0.541344</td>\n",
              "      <td>-1.897395</td>\n",
              "      <td>-1.605346</td>\n",
              "      <td>-1.675131</td>\n",
              "      <td>-1.649194</td>\n",
              "      <td>-1.868862</td>\n",
              "      <td>-1.822936</td>\n",
              "      <td>-0.078757</td>\n",
              "      <td>-1.633217</td>\n",
              "      <td>-1.748244</td>\n",
              "      <td>...</td>\n",
              "      <td>0</td>\n",
              "      <td>0</td>\n",
              "      <td>0</td>\n",
              "      <td>0</td>\n",
              "      <td>1</td>\n",
              "      <td>0</td>\n",
              "      <td>0</td>\n",
              "      <td>0</td>\n",
              "      <td>2007</td>\n",
              "      <td>2.0</td>\n",
              "    </tr>\n",
              "    <tr>\n",
              "      <th>118021</th>\n",
              "      <td>-0.468378</td>\n",
              "      <td>1.023392</td>\n",
              "      <td>-0.369918</td>\n",
              "      <td>1.053312</td>\n",
              "      <td>0.767216</td>\n",
              "      <td>-0.077742</td>\n",
              "      <td>-0.081935</td>\n",
              "      <td>0.705666</td>\n",
              "      <td>0.742633</td>\n",
              "      <td>-0.066927</td>\n",
              "      <td>...</td>\n",
              "      <td>0</td>\n",
              "      <td>0</td>\n",
              "      <td>0</td>\n",
              "      <td>0</td>\n",
              "      <td>0</td>\n",
              "      <td>0</td>\n",
              "      <td>0</td>\n",
              "      <td>1</td>\n",
              "      <td>2007</td>\n",
              "      <td>1.0</td>\n",
              "    </tr>\n",
              "    <tr>\n",
              "      <th>472554</th>\n",
              "      <td>-0.109019</td>\n",
              "      <td>-0.058683</td>\n",
              "      <td>-0.993804</td>\n",
              "      <td>0.062544</td>\n",
              "      <td>-0.271519</td>\n",
              "      <td>-0.848925</td>\n",
              "      <td>-0.887666</td>\n",
              "      <td>0.801137</td>\n",
              "      <td>-0.150862</td>\n",
              "      <td>-0.856989</td>\n",
              "      <td>...</td>\n",
              "      <td>0</td>\n",
              "      <td>0</td>\n",
              "      <td>0</td>\n",
              "      <td>0</td>\n",
              "      <td>0</td>\n",
              "      <td>0</td>\n",
              "      <td>0</td>\n",
              "      <td>1</td>\n",
              "      <td>1993</td>\n",
              "      <td>1.0</td>\n",
              "    </tr>\n",
              "    <tr>\n",
              "      <th>308177</th>\n",
              "      <td>-0.577827</td>\n",
              "      <td>1.068381</td>\n",
              "      <td>1.163642</td>\n",
              "      <td>1.129414</td>\n",
              "      <td>1.363724</td>\n",
              "      <td>1.383862</td>\n",
              "      <td>0.936572</td>\n",
              "      <td>-0.490871</td>\n",
              "      <td>1.160346</td>\n",
              "      <td>0.866140</td>\n",
              "      <td>...</td>\n",
              "      <td>0</td>\n",
              "      <td>0</td>\n",
              "      <td>0</td>\n",
              "      <td>0</td>\n",
              "      <td>0</td>\n",
              "      <td>0</td>\n",
              "      <td>0</td>\n",
              "      <td>1</td>\n",
              "      <td>2000</td>\n",
              "      <td>1.0</td>\n",
              "    </tr>\n",
              "  </tbody>\n",
              "</table>\n",
              "<p>559369 rows × 85 columns</p>\n",
              "</div>\n",
              "      <button class=\"colab-df-convert\" onclick=\"convertToInteractive('df-d45c4e8d-e2cd-4e92-8c54-660278406040')\"\n",
              "              title=\"Convert this dataframe to an interactive table.\"\n",
              "              style=\"display:none;\">\n",
              "        \n",
              "  <svg xmlns=\"http://www.w3.org/2000/svg\" height=\"24px\"viewBox=\"0 0 24 24\"\n",
              "       width=\"24px\">\n",
              "    <path d=\"M0 0h24v24H0V0z\" fill=\"none\"/>\n",
              "    <path d=\"M18.56 5.44l.94 2.06.94-2.06 2.06-.94-2.06-.94-.94-2.06-.94 2.06-2.06.94zm-11 1L8.5 8.5l.94-2.06 2.06-.94-2.06-.94L8.5 2.5l-.94 2.06-2.06.94zm10 10l.94 2.06.94-2.06 2.06-.94-2.06-.94-.94-2.06-.94 2.06-2.06.94z\"/><path d=\"M17.41 7.96l-1.37-1.37c-.4-.4-.92-.59-1.43-.59-.52 0-1.04.2-1.43.59L10.3 9.45l-7.72 7.72c-.78.78-.78 2.05 0 2.83L4 21.41c.39.39.9.59 1.41.59.51 0 1.02-.2 1.41-.59l7.78-7.78 2.81-2.81c.8-.78.8-2.07 0-2.86zM5.41 20L4 18.59l7.72-7.72 1.47 1.35L5.41 20z\"/>\n",
              "  </svg>\n",
              "      </button>\n",
              "      \n",
              "  <style>\n",
              "    .colab-df-container {\n",
              "      display:flex;\n",
              "      flex-wrap:wrap;\n",
              "      gap: 12px;\n",
              "    }\n",
              "\n",
              "    .colab-df-convert {\n",
              "      background-color: #E8F0FE;\n",
              "      border: none;\n",
              "      border-radius: 50%;\n",
              "      cursor: pointer;\n",
              "      display: none;\n",
              "      fill: #1967D2;\n",
              "      height: 32px;\n",
              "      padding: 0 0 0 0;\n",
              "      width: 32px;\n",
              "    }\n",
              "\n",
              "    .colab-df-convert:hover {\n",
              "      background-color: #E2EBFA;\n",
              "      box-shadow: 0px 1px 2px rgba(60, 64, 67, 0.3), 0px 1px 3px 1px rgba(60, 64, 67, 0.15);\n",
              "      fill: #174EA6;\n",
              "    }\n",
              "\n",
              "    [theme=dark] .colab-df-convert {\n",
              "      background-color: #3B4455;\n",
              "      fill: #D2E3FC;\n",
              "    }\n",
              "\n",
              "    [theme=dark] .colab-df-convert:hover {\n",
              "      background-color: #434B5C;\n",
              "      box-shadow: 0px 1px 3px 1px rgba(0, 0, 0, 0.15);\n",
              "      filter: drop-shadow(0px 1px 2px rgba(0, 0, 0, 0.3));\n",
              "      fill: #FFFFFF;\n",
              "    }\n",
              "  </style>\n",
              "\n",
              "      <script>\n",
              "        const buttonEl =\n",
              "          document.querySelector('#df-d45c4e8d-e2cd-4e92-8c54-660278406040 button.colab-df-convert');\n",
              "        buttonEl.style.display =\n",
              "          google.colab.kernel.accessAllowed ? 'block' : 'none';\n",
              "\n",
              "        async function convertToInteractive(key) {\n",
              "          const element = document.querySelector('#df-d45c4e8d-e2cd-4e92-8c54-660278406040');\n",
              "          const dataTable =\n",
              "            await google.colab.kernel.invokeFunction('convertToInteractive',\n",
              "                                                     [key], {});\n",
              "          if (!dataTable) return;\n",
              "\n",
              "          const docLinkHtml = 'Like what you see? Visit the ' +\n",
              "            '<a target=\"_blank\" href=https://colab.research.google.com/notebooks/data_table.ipynb>data table notebook</a>'\n",
              "            + ' to learn more about interactive tables.';\n",
              "          element.innerHTML = '';\n",
              "          dataTable['output_type'] = 'display_data';\n",
              "          await google.colab.output.renderOutput(dataTable, element);\n",
              "          const docLink = document.createElement('div');\n",
              "          docLink.innerHTML = docLinkHtml;\n",
              "          element.appendChild(docLink);\n",
              "        }\n",
              "      </script>\n",
              "    </div>\n",
              "  </div>\n",
              "  "
            ]
          },
          "metadata": {},
          "execution_count": 123
        }
      ]
    },
    {
      "cell_type": "markdown",
      "source": [
        "**Feature Selection:**"
      ],
      "metadata": {
        "id": "t4e85EAOU0VY"
      }
    },
    {
      "cell_type": "code",
      "execution_count": 124,
      "outputs": [],
      "source": [
        "df_merged_NAICS_SBALoan_train_val = df_merged_NAICS_SBALoan[df_merged_NAICS_SBALoan['YEAR']<=2009]\n",
        "df_merged_NAICS_SBALoan_test = df_merged_NAICS_SBALoan[df_merged_NAICS_SBALoan['YEAR'] >= 2010]\n",
        "y_train_val = df_merged_NAICS_SBALoan_train_val['SBA_Appv'] / df_merged_NAICS_SBALoan_train_val['GrAppv']\n",
        "X_train_val = df_merged_NAICS_SBALoan_train_val.drop(['SBA_Appv'], axis=1)\n",
        "y_test = df_merged_NAICS_SBALoan_test['SBA_Appv'] / df_merged_NAICS_SBALoan_test['GrAppv']\n",
        "X_test = df_merged_NAICS_SBALoan_test.drop(['SBA_Appv'], axis=1)\n",
        "from sklearn.model_selection import train_test_split\n",
        "X_train, X_val, y_train, y_val = train_test_split(X_train_val, y_train_val, test_size=0.15, random_state= 0)"
      ],
      "metadata": {
        "pycharm": {
          "name": "#%%\n"
        },
        "id": "LGiI763-mUwp"
      }
    },
    {
      "cell_type": "code",
      "source": [
        "X_train = features_scale_and_dummies(X_train)\n",
        "X_val = features_scale_and_dummies(X_val)\n",
        "X_test = features_scale_and_dummies(X_test)"
      ],
      "metadata": {
        "id": "gaG_L1RuXN2a"
      },
      "execution_count": 127,
      "outputs": []
    },
    {
      "cell_type": "code",
      "execution_count": 128,
      "outputs": [
        {
          "output_type": "display_data",
          "data": {
            "text/plain": [
              "<Figure size 720x720 with 1 Axes>"
            ],
            "image/png": "[encoded data removed]"
          },
          "metadata": {
            "needs_background": "light"
          }
        }
      ],
      "source": [
        "from sklearn.linear_model import RidgeCV\n",
        "\n",
        "ridge = RidgeCV(alphas=np.logspace(-6, 6, num=5)).fit(X_train, y_train)\n",
        "importance = np.abs(ridge.coef_)\n",
        "feature_names = X_train.columns\n",
        "plt.figure(figsize=(10,10))\n",
        "plt.bar(height=importance, x=feature_names)\n",
        "plt.title(\"Feature importances via coefficients\")\n",
        "plt.xticks(rotation=90)\n",
        "plt.show()"
      ],
      "metadata": {
        "pycharm": {
          "name": "#%%\n"
        },
        "colab": {
          "base_uri": "https://localhost:8080/",
          "height": 703
        },
        "id": "ePunkN00mUwp",
        "outputId": "1f6666c8-f623-4a89-89b9-aac162b9da01"
      }
    },
    {
      "cell_type": "code",
      "source": [
        "from sklearn.feature_selection import SelectFromModel\n",
        "from time import time\n",
        "threshold = np.sort(importance)[-10]\n",
        "tic = time()\n",
        "sfm = SelectFromModel(ridge, threshold=threshold).fit(X_train, y_train)\n",
        "toc = time()\n",
        "print(f\"Features selected by SelectFromModel: {feature_names[sfm.get_support()]}\")\n",
        "print(f\"Done in {toc - tic:.3f}s\")"
      ],
      "metadata": {
        "colab": {
          "base_uri": "https://localhost:8080/"
        },
        "id": "mz9qltjSXeRR",
        "outputId": "d3aa4a04-2f9d-4b12-bd5e-dd9a8695b4d2"
      },
      "execution_count": 129,
      "outputs": [
        {
          "output_type": "stream",
          "name": "stdout",
          "text": [
            "Features selected by SelectFromModel: Index(['State_CT', 'State_MA', 'State_NY', 'State_RI', 'NAICS_23', 'NAICS_44',\n",
            "       'NAICS_45', 'NAICS_54', 'NAICS_72', 'NAICS_81'],\n",
            "      dtype='object')\n",
            "Done in 9.737s\n"
          ]
        }
      ]
    },
    {
      "cell_type": "code",
      "source": [
        "selected_features = np.array(feature_names[sfm.get_support()])"
      ],
      "metadata": {
        "id": "IyUNUAsCcCeO"
      },
      "execution_count": 130,
      "outputs": []
    },
    {
      "cell_type": "code",
      "source": [
        "selected_features"
      ],
      "metadata": {
        "colab": {
          "base_uri": "https://localhost:8080/"
        },
        "id": "zbVLWwra9JMp",
        "outputId": "890c201e-d954-4660-9fda-5dc1cf0f7bf0"
      },
      "execution_count": 131,
      "outputs": [
        {
          "output_type": "execute_result",
          "data": {
            "text/plain": [
              "array(['State_CT', 'State_MA', 'State_NY', 'State_RI', 'NAICS_23',\n",
              "       'NAICS_44', 'NAICS_45', 'NAICS_54', 'NAICS_72', 'NAICS_81'],\n",
              "      dtype=object)"
            ]
          },
          "metadata": {},
          "execution_count": 131
        }
      ]
    },
    {
      "cell_type": "code",
      "source": [
        "X_train_sf = X_train[selected_features]\n",
        "X_test_sf = X_test[selected_features]\n",
        "X_val_sf = X_val[selected_features]"
      ],
      "metadata": {
        "id": "qm7iYfRbd_KY"
      },
      "execution_count": 132,
      "outputs": []
    },
    {
      "cell_type": "code",
      "source": [
        "# Linear Regression - Performing Linear Regression\n",
        "model_3 = LinearRegression(fit_intercept=True).fit(X_train_sf, y_train)\n",
        "y_train_predicted_3 = model_3.predict(X_train_sf)\n",
        "y_val_predicted_3 = model_3.predict(X_val_sf)\n",
        "# Linear Regression - RMSE for training and validation data\n",
        "rmse_train_3 = rmse(y_train, y_train_predicted_3)\n",
        "rmse_val_3 = rmse(y_val, y_val_predicted_3)\n",
        "r2_train_3 = r2_score(y_train, y_train_predicted_3)\n",
        "r2_val_3 = r2_score(y_val, y_val_predicted_3)\n",
        "print(\"For the linear regression model in part 3:\\n\", \"RMSE for training data is: \",rmse_train_3,\"\\n\",\"RMSE for validation data is: \",rmse_val_3,\"\\n\",\"R2 Score for training data is: \",r2_train_3,\"\\n\",\"R2 Score for validation data is: \",r2_val_3)"
      ],
      "metadata": {
        "colab": {
          "base_uri": "https://localhost:8080/"
        },
        "id": "tBctuHEBem9C",
        "outputId": "c927124b-487c-4350-efef-8a43dbf2bb64"
      },
      "execution_count": 133,
      "outputs": [
        {
          "output_type": "stream",
          "name": "stdout",
          "text": [
            "For the linear regression model in part 3:\n",
            " RMSE for training data is:  0.17151216611854356 \n",
            " RMSE for validation data is:  0.17143967998675647 \n",
            " R2 Score for training data is:  0.034966261145880195 \n",
            " R2 Score for validation data is:  0.03586161908105712\n"
          ]
        }
      ]
    },
    {
      "cell_type": "code",
      "source": [
        "# Plotting residual Curves for the Regression model\n",
        "residuals_3 = y_val - y_val_predicted_3\n",
        "ax = sns.regplot(y_val, residuals_3)\n",
        "ax.set_xlabel('SBA Approved / Gross Approved (Validation Data)')\n",
        "ax.set_ylabel('Residuals (Actual Price - Predicted Price)')\n",
        "ax.set_title(\"Residuals vs. SBA Approved / Gross Approved on Validation Data\");"
      ],
      "metadata": {
        "colab": {
          "base_uri": "https://localhost:8080/",
          "height": 350
        },
        "id": "cg7nNek31frh",
        "outputId": "38a0b823-b2ae-401b-ba7d-314ed1c2c852"
      },
      "execution_count": 134,
      "outputs": [
        {
          "output_type": "stream",
          "name": "stderr",
          "text": [
            "/usr/local/lib/python3.7/dist-packages/seaborn/_decorators.py:43: FutureWarning: Pass the following variables as keyword args: x, y. From version 0.12, the only valid positional argument will be `data`, and passing other arguments without an explicit keyword will result in an error or misinterpretation.\n",
            "  FutureWarning\n"
          ]
        },
        {
          "output_type": "display_data",
          "data": {
            "text/plain": [
              "<Figure size 432x288 with 1 Axes>"
            ],
            "image/png": "[encoded data removed]"
          },
          "metadata": {
            "needs_background": "light"
          }
        }
      ]
    },
    {
      "cell_type": "markdown",
      "source": [
        "Cross Validation:"
      ],
      "metadata": {
        "id": "MN67hYymxoIt"
      }
    },
    {
      "cell_type": "code",
      "source": [
        "from sklearn.model_selection import KFold\n",
        "from sklearn.base import clone\n",
        "def cross_validate_rmse(model, X, y):\n",
        "    # Setup\n",
        "    model = clone(model)\n",
        "    five_fold = KFold(n_splits=5)\n",
        "    rmse_values = []\n",
        "    # Iterature thought cv-folds\n",
        "    for train_index, val_index in five_fold.split(X):\n",
        "        cv_X_train = X.iloc[train_index]\n",
        "        cv_y_train = y.iloc[train_index]\n",
        "        cv_X_val = X.iloc[val_index]\n",
        "        cv_y_val = y.iloc[val_index]\n",
        "        # Fit model\n",
        "        model.fit(cv_X_train,cv_y_train)\n",
        "        cv_y_predicted = model.predict(cv_X_val)\n",
        "        cv_rmse = rmse(cv_y_val, cv_y_predicted)\n",
        "        # Append RMSE scores\n",
        "        rmse_values.append(cv_rmse)\n",
        "    return rmse_values"
      ],
      "metadata": {
        "id": "a8-_HtN8xTDF"
      },
      "execution_count": 135,
      "outputs": []
    },
    {
      "cell_type": "code",
      "source": [
        "cv_scores = cross_validate_rmse(model=LinearRegression(fit_intercept=True), X=X_train_sf, y=y_train)"
      ],
      "metadata": {
        "id": "2-Cl4e0wxxxE"
      },
      "execution_count": 136,
      "outputs": []
    },
    {
      "cell_type": "code",
      "source": [
        "# Print cv scores\n",
        "print('Cross-validation RMSE scores: {}'.format(cv_scores))\n",
        "print('Cross-validation RMSE scores mean: {}'.format(np.mean(cv_scores)))\n",
        "print('Cross-validation RMSE scores std: {}'.format(np.std(cv_scores)))"
      ],
      "metadata": {
        "colab": {
          "base_uri": "https://localhost:8080/"
        },
        "id": "hTwk8yqWywC8",
        "outputId": "0e4ff5f8-5613-4d7e-ceff-b4a657d4355f"
      },
      "execution_count": 137,
      "outputs": [
        {
          "output_type": "stream",
          "name": "stdout",
          "text": [
            "Cross-validation RMSE scores: [0.17183672752791557, 0.1714777864062617, 0.1715463537483894, 0.1712986719369886, 0.17141421381677993]\n",
            "Cross-validation RMSE scores mean: 0.17151475068726701\n",
            "Cross-validation RMSE scores std: 0.00018046156715809607\n"
          ]
        }
      ]
    },
    {
      "cell_type": "markdown",
      "source": [
        "There is no effect of Cross-Validation"
      ],
      "metadata": {
        "id": "C1k44rgM0W2F"
      }
    },
    {
      "cell_type": "code",
      "source": [
        "### Test data\n",
        "y_test_predicted = model_3.predict(X_test_sf)\n",
        "# Linear Regression - RMSE for training and validation data\n",
        "rmse_test = rmse(y_test, y_test_predicted)\n",
        "r2_test = r2_score(y_test, y_test_predicted)\n",
        "print(\"For the linear regression model in part 3:\\n\", \"RMSE for test data is: \",rmse_test,\"\\n\",\"R2 Score for test data is: \",r2_test)"
      ],
      "metadata": {
        "colab": {
          "base_uri": "https://localhost:8080/"
        },
        "id": "LQ9z52BFenFA",
        "outputId": "bcd1c83d-97ae-475f-dcb9-b145c808961e"
      },
      "execution_count": 138,
      "outputs": [
        {
          "output_type": "stream",
          "name": "stdout",
          "text": [
            "For the linear regression model in part 3:\n",
            " RMSE for test data is:  0.18813930607161958 \n",
            " R2 Score for test data is:  0.031110212931341863\n"
          ]
        }
      ]
    },
    {
      "cell_type": "markdown",
      "source": [
        "**Numerical Feature Selection:**"
      ],
      "metadata": {
        "id": "c6NvdNQqf89Y"
      }
    },
    {
      "cell_type": "code",
      "source": [
        "from sklearn.datasets import make_regression\n",
        "from sklearn.feature_selection import SelectKBest\n",
        "from sklearn.feature_selection import mutual_info_regression"
      ],
      "metadata": {
        "id": "mx_orciTenHb"
      },
      "execution_count": 139,
      "outputs": []
    },
    {
      "cell_type": "code",
      "source": [
        "# feature selection\n",
        "def select_features(X_train, y_train, X_val, X_test):\n",
        "\t# configure to select all features\n",
        "\tfs = SelectKBest(score_func=mutual_info_regression, k=15)\n",
        "\t# learn relationship from training data\n",
        "\tfs.fit(X_train, y_train)\n",
        "\t# transform train input data\n",
        "\tX_train_fs = fs.transform(X_train)\n",
        "\t# transform val input data\n",
        "\tX_val_fs = fs.transform(X_val)\n",
        "  # transform test input data\n",
        "\tX_test_fs = fs.transform(X_test)\n",
        "\treturn X_train_fs, X_val_fs, X_test_fs, fs"
      ],
      "metadata": {
        "id": "1qDT9rKYfs03"
      },
      "execution_count": 140,
      "outputs": []
    },
    {
      "cell_type": "code",
      "source": [
        "X_train_fs, X_val_fs, X_test_fs, fs = select_features(X_train, y_train, X_val, X_test)"
      ],
      "metadata": {
        "id": "5XDk0pr_fs3X"
      },
      "execution_count": 141,
      "outputs": []
    },
    {
      "cell_type": "code",
      "source": [
        "# what are scores for the features\n",
        "for i in range(len(fs.scores_)):\n",
        "\tprint('Feature %d: %f' % (i, fs.scores_[i]))"
      ],
      "metadata": {
        "colab": {
          "base_uri": "https://localhost:8080/"
        },
        "id": "Cjsfyvi9oLyg",
        "outputId": "8e8d9bee-e9af-4536-d1cc-5c3440420acb"
      },
      "execution_count": 142,
      "outputs": [
        {
          "output_type": "stream",
          "name": "stdout",
          "text": [
            "Feature 0: 0.557147\n",
            "Feature 1: 0.411920\n",
            "Feature 2: 0.413047\n",
            "Feature 3: 0.410922\n",
            "Feature 4: 0.409820\n",
            "Feature 5: 0.408448\n",
            "Feature 6: 0.410313\n",
            "Feature 7: 0.404669\n",
            "Feature 8: 0.409637\n",
            "Feature 9: 0.407929\n",
            "Feature 10: 0.003097\n",
            "Feature 11: 0.000975\n",
            "Feature 12: 0.000102\n",
            "Feature 13: 0.005878\n",
            "Feature 14: 0.000240\n",
            "Feature 15: 0.000556\n",
            "Feature 16: 0.000156\n",
            "Feature 17: 0.000035\n",
            "Feature 18: 0.003975\n",
            "Feature 19: 0.001553\n",
            "Feature 20: 0.000000\n",
            "Feature 21: 0.001834\n",
            "Feature 22: 0.000551\n",
            "Feature 23: 0.000209\n",
            "Feature 24: 0.000000\n",
            "Feature 25: 0.001682\n",
            "Feature 26: 0.000000\n",
            "Feature 27: 0.003524\n",
            "Feature 28: 0.003073\n",
            "Feature 29: 0.000615\n",
            "Feature 30: 0.000909\n",
            "Feature 31: 0.001597\n",
            "Feature 32: 0.001263\n",
            "Feature 33: 0.001028\n",
            "Feature 34: 0.002674\n",
            "Feature 35: 0.003487\n",
            "Feature 36: 0.001478\n",
            "Feature 37: 0.000000\n",
            "Feature 38: 0.000000\n",
            "Feature 39: 0.002457\n",
            "Feature 40: 0.002753\n",
            "Feature 41: 0.000000\n",
            "Feature 42: 0.000000\n",
            "Feature 43: 0.008222\n",
            "Feature 44: 0.000322\n",
            "Feature 45: 0.001876\n",
            "Feature 46: 0.000463\n",
            "Feature 47: 0.003494\n",
            "Feature 48: 0.002613\n",
            "Feature 49: 0.000557\n",
            "Feature 50: 0.002450\n",
            "Feature 51: 0.001719\n",
            "Feature 52: 0.002326\n",
            "Feature 53: 0.002031\n",
            "Feature 54: 0.000000\n",
            "Feature 55: 0.000000\n",
            "Feature 56: 0.000000\n",
            "Feature 57: 0.000705\n",
            "Feature 58: 0.000000\n",
            "Feature 59: 0.001878\n",
            "Feature 60: 0.000000\n",
            "Feature 61: 0.000000\n",
            "Feature 62: 0.003867\n",
            "Feature 63: 0.000000\n",
            "Feature 64: 0.002896\n",
            "Feature 65: 0.000558\n",
            "Feature 66: 0.001429\n",
            "Feature 67: 0.001781\n",
            "Feature 68: 0.004355\n",
            "Feature 69: 0.002184\n",
            "Feature 70: 0.000714\n",
            "Feature 71: 0.001341\n",
            "Feature 72: 0.002162\n",
            "Feature 73: 0.001806\n",
            "Feature 74: 0.003867\n",
            "Feature 75: 0.001153\n",
            "Feature 76: 0.001703\n",
            "Feature 77: 0.000833\n",
            "Feature 78: 0.004469\n",
            "Feature 79: 0.000883\n",
            "Feature 80: 0.008618\n",
            "Feature 81: 0.000333\n",
            "Feature 82: 0.034868\n",
            "Feature 83: 0.384453\n",
            "Feature 84: 0.019284\n"
          ]
        }
      ]
    },
    {
      "cell_type": "code",
      "source": [
        "# plot the scores\n",
        "plt.figure(figsize=(10,10))\n",
        "plt.bar([i for i in range(len(fs.scores_))], fs.scores_)\n",
        "plt.show()"
      ],
      "metadata": {
        "colab": {
          "base_uri": "https://localhost:8080/",
          "height": 592
        },
        "id": "m8XVxl_BoL06",
        "outputId": "9199b37b-b8e4-47d5-f26a-b029b566b883"
      },
      "execution_count": 143,
      "outputs": [
        {
          "output_type": "display_data",
          "data": {
            "text/plain": [
              "<Figure size 720x720 with 1 Axes>"
            ],
            "image/png": "[encoded data removed]"
          },
          "metadata": {
            "needs_background": "light"
          }
        }
      ]
    },
    {
      "cell_type": "code",
      "source": [
        "# Linear Regression - Performing Linear Regression\n",
        "model_3 = LinearRegression(fit_intercept=True).fit(X_train_fs, y_train)\n",
        "y_train_predicted_3 = model_3.predict(X_train_fs)\n",
        "y_val_predicted_3 = model_3.predict(X_val_fs)\n",
        "# Linear Regression - RMSE for training and validation data\n",
        "rmse_train_3 = rmse(y_train, y_train_predicted_3)\n",
        "rmse_val_3 = rmse(y_val, y_val_predicted_3)\n",
        "r2_train_3 = r2_score(y_train, y_train_predicted_3)\n",
        "r2_val_3 = r2_score(y_val, y_val_predicted_3)\n",
        "print(\"For the linear regression model in part 3:\\n\", \"RMSE for training data is: \",rmse_train_3,\"\\n\",\"RMSE for validation data is: \",rmse_val_3,\"\\n\",\"R2 Score for training data is: \",r2_train_3,\"\\n\",\"R2 Score for validation data is: \",r2_val_3)"
      ],
      "metadata": {
        "colab": {
          "base_uri": "https://localhost:8080/"
        },
        "id": "RegCY872oL3i",
        "outputId": "32c6ca8c-3bc0-43f1-d907-cb91ac5b14f0"
      },
      "execution_count": 144,
      "outputs": [
        {
          "output_type": "stream",
          "name": "stdout",
          "text": [
            "For the linear regression model in part 3:\n",
            " RMSE for training data is:  0.14559366288529965 \n",
            " RMSE for validation data is:  0.14592653576659212 \n",
            " R2 Score for training data is:  0.3045953700560168 \n",
            " R2 Score for validation data is:  0.30146974313653374\n"
          ]
        }
      ]
    },
    {
      "cell_type": "code",
      "source": [
        "### Test data\n",
        "y_test_predicted = model_3.predict(X_test_fs)\n",
        "# Linear Regression - RMSE for training and validation data\n",
        "rmse_test = rmse(y_test, y_test_predicted)\n",
        "r2_test = r2_score(y_test, y_test_predicted)\n",
        "print(\"For the linear regression model in part 3:\\n\", \"RMSE for test data is: \",rmse_test,\"\\n\",\"R2 Score for test data is: \",r2_test)"
      ],
      "metadata": {
        "colab": {
          "base_uri": "https://localhost:8080/"
        },
        "id": "jjsZWp_dfs-b",
        "outputId": "b98acebe-7908-4690-90b5-2a23dedb0f33"
      },
      "execution_count": 145,
      "outputs": [
        {
          "output_type": "stream",
          "name": "stdout",
          "text": [
            "For the linear regression model in part 3:\n",
            " RMSE for test data is:  0.19912424961946432 \n",
            " R2 Score for test data is:  -0.08533449621372813\n"
          ]
        }
      ]
    },
    {
      "cell_type": "code",
      "source": [
        ""
      ],
      "metadata": {
        "id": "ZB0uqIL1ftAm"
      },
      "execution_count": 145,
      "outputs": []
    },
    {
      "cell_type": "code",
      "source": [
        "# Adding Annual Inflation Rate, Unemployment and State Income to our dataset"
      ],
      "metadata": {
        "id": "nJhXHiQ-AogG"
      },
      "execution_count": 146,
      "outputs": []
    },
    {
      "cell_type": "code",
      "source": [
        "inflation_df = pd.read_csv('annual_inflation_clean.csv', low_memory=False)\n",
        "# inflation_df = NAICS_BDS.drop([0])\n",
        "inflation_df.head()"
      ],
      "metadata": {
        "colab": {
          "base_uri": "https://localhost:8080/",
          "height": 206
        },
        "id": "7yrr9hdOAoi8",
        "outputId": "3d53de02-446e-44ba-ea32-6a91842ff673"
      },
      "execution_count": 147,
      "outputs": [
        {
          "output_type": "execute_result",
          "data": {
            "text/plain": [
              "   inflation  year\n",
              "0   1.457976  1960\n",
              "1   1.070724  1961\n",
              "2   1.198773  1962\n",
              "3   1.239669  1963\n",
              "4   1.278912  1964"
            ],
            "text/html": [
              "\n",
              "  <div id=\"df-f8a3b1ad-2c14-4120-8247-b127c27068bf\">\n",
              "    <div class=\"colab-df-container\">\n",
              "      <div>\n",
              "<style scoped>\n",
              "    .dataframe tbody tr th:only-of-type {\n",
              "        vertical-align: middle;\n",
              "    }\n",
              "\n",
              "    .dataframe tbody tr th {\n",
              "        vertical-align: top;\n",
              "    }\n",
              "\n",
              "    .dataframe thead th {\n",
              "        text-align: right;\n",
              "    }\n",
              "</style>\n",
              "<table border=\"1\" class=\"dataframe\">\n",
              "  <thead>\n",
              "    <tr style=\"text-align: right;\">\n",
              "      <th></th>\n",
              "      <th>inflation</th>\n",
              "      <th>year</th>\n",
              "    </tr>\n",
              "  </thead>\n",
              "  <tbody>\n",
              "    <tr>\n",
              "      <th>0</th>\n",
              "      <td>1.457976</td>\n",
              "      <td>1960</td>\n",
              "    </tr>\n",
              "    <tr>\n",
              "      <th>1</th>\n",
              "      <td>1.070724</td>\n",
              "      <td>1961</td>\n",
              "    </tr>\n",
              "    <tr>\n",
              "      <th>2</th>\n",
              "      <td>1.198773</td>\n",
              "      <td>1962</td>\n",
              "    </tr>\n",
              "    <tr>\n",
              "      <th>3</th>\n",
              "      <td>1.239669</td>\n",
              "      <td>1963</td>\n",
              "    </tr>\n",
              "    <tr>\n",
              "      <th>4</th>\n",
              "      <td>1.278912</td>\n",
              "      <td>1964</td>\n",
              "    </tr>\n",
              "  </tbody>\n",
              "</table>\n",
              "</div>\n",
              "      <button class=\"colab-df-convert\" onclick=\"convertToInteractive('df-f8a3b1ad-2c14-4120-8247-b127c27068bf')\"\n",
              "              title=\"Convert this dataframe to an interactive table.\"\n",
              "              style=\"display:none;\">\n",
              "        \n",
              "  <svg xmlns=\"http://www.w3.org/2000/svg\" height=\"24px\"viewBox=\"0 0 24 24\"\n",
              "       width=\"24px\">\n",
              "    <path d=\"M0 0h24v24H0V0z\" fill=\"none\"/>\n",
              "    <path d=\"M18.56 5.44l.94 2.06.94-2.06 2.06-.94-2.06-.94-.94-2.06-.94 2.06-2.06.94zm-11 1L8.5 8.5l.94-2.06 2.06-.94-2.06-.94L8.5 2.5l-.94 2.06-2.06.94zm10 10l.94 2.06.94-2.06 2.06-.94-2.06-.94-.94-2.06-.94 2.06-2.06.94z\"/><path d=\"M17.41 7.96l-1.37-1.37c-.4-.4-.92-.59-1.43-.59-.52 0-1.04.2-1.43.59L10.3 9.45l-7.72 7.72c-.78.78-.78 2.05 0 2.83L4 21.41c.39.39.9.59 1.41.59.51 0 1.02-.2 1.41-.59l7.78-7.78 2.81-2.81c.8-.78.8-2.07 0-2.86zM5.41 20L4 18.59l7.72-7.72 1.47 1.35L5.41 20z\"/>\n",
              "  </svg>\n",
              "      </button>\n",
              "      \n",
              "  <style>\n",
              "    .colab-df-container {\n",
              "      display:flex;\n",
              "      flex-wrap:wrap;\n",
              "      gap: 12px;\n",
              "    }\n",
              "\n",
              "    .colab-df-convert {\n",
              "      background-color: #E8F0FE;\n",
              "      border: none;\n",
              "      border-radius: 50%;\n",
              "      cursor: pointer;\n",
              "      display: none;\n",
              "      fill: #1967D2;\n",
              "      height: 32px;\n",
              "      padding: 0 0 0 0;\n",
              "      width: 32px;\n",
              "    }\n",
              "\n",
              "    .colab-df-convert:hover {\n",
              "      background-color: #E2EBFA;\n",
              "      box-shadow: 0px 1px 2px rgba(60, 64, 67, 0.3), 0px 1px 3px 1px rgba(60, 64, 67, 0.15);\n",
              "      fill: #174EA6;\n",
              "    }\n",
              "\n",
              "    [theme=dark] .colab-df-convert {\n",
              "      background-color: #3B4455;\n",
              "      fill: #D2E3FC;\n",
              "    }\n",
              "\n",
              "    [theme=dark] .colab-df-convert:hover {\n",
              "      background-color: #434B5C;\n",
              "      box-shadow: 0px 1px 3px 1px rgba(0, 0, 0, 0.15);\n",
              "      filter: drop-shadow(0px 1px 2px rgba(0, 0, 0, 0.3));\n",
              "      fill: #FFFFFF;\n",
              "    }\n",
              "  </style>\n",
              "\n",
              "      <script>\n",
              "        const buttonEl =\n",
              "          document.querySelector('#df-f8a3b1ad-2c14-4120-8247-b127c27068bf button.colab-df-convert');\n",
              "        buttonEl.style.display =\n",
              "          google.colab.kernel.accessAllowed ? 'block' : 'none';\n",
              "\n",
              "        async function convertToInteractive(key) {\n",
              "          const element = document.querySelector('#df-f8a3b1ad-2c14-4120-8247-b127c27068bf');\n",
              "          const dataTable =\n",
              "            await google.colab.kernel.invokeFunction('convertToInteractive',\n",
              "                                                     [key], {});\n",
              "          if (!dataTable) return;\n",
              "\n",
              "          const docLinkHtml = 'Like what you see? Visit the ' +\n",
              "            '<a target=\"_blank\" href=https://colab.research.google.com/notebooks/data_table.ipynb>data table notebook</a>'\n",
              "            + ' to learn more about interactive tables.';\n",
              "          element.innerHTML = '';\n",
              "          dataTable['output_type'] = 'display_data';\n",
              "          await google.colab.output.renderOutput(dataTable, element);\n",
              "          const docLink = document.createElement('div');\n",
              "          docLink.innerHTML = docLinkHtml;\n",
              "          element.appendChild(docLink);\n",
              "        }\n",
              "      </script>\n",
              "    </div>\n",
              "  </div>\n",
              "  "
            ]
          },
          "metadata": {},
          "execution_count": 147
        }
      ]
    },
    {
      "cell_type": "code",
      "source": [
        "income_df = pd.read_csv('state_income_clean.csv', low_memory=False)\n",
        "# inflation_df = NAICS_BDS.drop([0])\n",
        "income_df.head()"
      ],
      "metadata": {
        "colab": {
          "base_uri": "https://localhost:8080/",
          "height": 206
        },
        "id": "y8zCopNRenJ1",
        "outputId": "b9051fd0-f2da-4722-99f5-1b030eeef711"
      },
      "execution_count": 148,
      "outputs": [
        {
          "output_type": "execute_result",
          "data": {
            "text/plain": [
              "   ApprovalFY  Average_State_Income State\n",
              "0        2018                 49936    AL\n",
              "1        2017                 51113    AL\n",
              "2        2016                 47221    AL\n",
              "3        2015                 44509    AL\n",
              "4        2014                 42278    AL"
            ],
            "text/html": [
              "\n",
              "  <div id=\"df-6f306cfc-7780-4cd3-a1f3-cee9e15acd73\">\n",
              "    <div class=\"colab-df-container\">\n",
              "      <div>\n",
              "<style scoped>\n",
              "    .dataframe tbody tr th:only-of-type {\n",
              "        vertical-align: middle;\n",
              "    }\n",
              "\n",
              "    .dataframe tbody tr th {\n",
              "        vertical-align: top;\n",
              "    }\n",
              "\n",
              "    .dataframe thead th {\n",
              "        text-align: right;\n",
              "    }\n",
              "</style>\n",
              "<table border=\"1\" class=\"dataframe\">\n",
              "  <thead>\n",
              "    <tr style=\"text-align: right;\">\n",
              "      <th></th>\n",
              "      <th>ApprovalFY</th>\n",
              "      <th>Average_State_Income</th>\n",
              "      <th>State</th>\n",
              "    </tr>\n",
              "  </thead>\n",
              "  <tbody>\n",
              "    <tr>\n",
              "      <th>0</th>\n",
              "      <td>2018</td>\n",
              "      <td>49936</td>\n",
              "      <td>AL</td>\n",
              "    </tr>\n",
              "    <tr>\n",
              "      <th>1</th>\n",
              "      <td>2017</td>\n",
              "      <td>51113</td>\n",
              "      <td>AL</td>\n",
              "    </tr>\n",
              "    <tr>\n",
              "      <th>2</th>\n",
              "      <td>2016</td>\n",
              "      <td>47221</td>\n",
              "      <td>AL</td>\n",
              "    </tr>\n",
              "    <tr>\n",
              "      <th>3</th>\n",
              "      <td>2015</td>\n",
              "      <td>44509</td>\n",
              "      <td>AL</td>\n",
              "    </tr>\n",
              "    <tr>\n",
              "      <th>4</th>\n",
              "      <td>2014</td>\n",
              "      <td>42278</td>\n",
              "      <td>AL</td>\n",
              "    </tr>\n",
              "  </tbody>\n",
              "</table>\n",
              "</div>\n",
              "      <button class=\"colab-df-convert\" onclick=\"convertToInteractive('df-6f306cfc-7780-4cd3-a1f3-cee9e15acd73')\"\n",
              "              title=\"Convert this dataframe to an interactive table.\"\n",
              "              style=\"display:none;\">\n",
              "        \n",
              "  <svg xmlns=\"http://www.w3.org/2000/svg\" height=\"24px\"viewBox=\"0 0 24 24\"\n",
              "       width=\"24px\">\n",
              "    <path d=\"M0 0h24v24H0V0z\" fill=\"none\"/>\n",
              "    <path d=\"M18.56 5.44l.94 2.06.94-2.06 2.06-.94-2.06-.94-.94-2.06-.94 2.06-2.06.94zm-11 1L8.5 8.5l.94-2.06 2.06-.94-2.06-.94L8.5 2.5l-.94 2.06-2.06.94zm10 10l.94 2.06.94-2.06 2.06-.94-2.06-.94-.94-2.06-.94 2.06-2.06.94z\"/><path d=\"M17.41 7.96l-1.37-1.37c-.4-.4-.92-.59-1.43-.59-.52 0-1.04.2-1.43.59L10.3 9.45l-7.72 7.72c-.78.78-.78 2.05 0 2.83L4 21.41c.39.39.9.59 1.41.59.51 0 1.02-.2 1.41-.59l7.78-7.78 2.81-2.81c.8-.78.8-2.07 0-2.86zM5.41 20L4 18.59l7.72-7.72 1.47 1.35L5.41 20z\"/>\n",
              "  </svg>\n",
              "      </button>\n",
              "      \n",
              "  <style>\n",
              "    .colab-df-container {\n",
              "      display:flex;\n",
              "      flex-wrap:wrap;\n",
              "      gap: 12px;\n",
              "    }\n",
              "\n",
              "    .colab-df-convert {\n",
              "      background-color: #E8F0FE;\n",
              "      border: none;\n",
              "      border-radius: 50%;\n",
              "      cursor: pointer;\n",
              "      display: none;\n",
              "      fill: #1967D2;\n",
              "      height: 32px;\n",
              "      padding: 0 0 0 0;\n",
              "      width: 32px;\n",
              "    }\n",
              "\n",
              "    .colab-df-convert:hover {\n",
              "      background-color: #E2EBFA;\n",
              "      box-shadow: 0px 1px 2px rgba(60, 64, 67, 0.3), 0px 1px 3px 1px rgba(60, 64, 67, 0.15);\n",
              "      fill: #174EA6;\n",
              "    }\n",
              "\n",
              "    [theme=dark] .colab-df-convert {\n",
              "      background-color: #3B4455;\n",
              "      fill: #D2E3FC;\n",
              "    }\n",
              "\n",
              "    [theme=dark] .colab-df-convert:hover {\n",
              "      background-color: #434B5C;\n",
              "      box-shadow: 0px 1px 3px 1px rgba(0, 0, 0, 0.15);\n",
              "      filter: drop-shadow(0px 1px 2px rgba(0, 0, 0, 0.3));\n",
              "      fill: #FFFFFF;\n",
              "    }\n",
              "  </style>\n",
              "\n",
              "      <script>\n",
              "        const buttonEl =\n",
              "          document.querySelector('#df-6f306cfc-7780-4cd3-a1f3-cee9e15acd73 button.colab-df-convert');\n",
              "        buttonEl.style.display =\n",
              "          google.colab.kernel.accessAllowed ? 'block' : 'none';\n",
              "\n",
              "        async function convertToInteractive(key) {\n",
              "          const element = document.querySelector('#df-6f306cfc-7780-4cd3-a1f3-cee9e15acd73');\n",
              "          const dataTable =\n",
              "            await google.colab.kernel.invokeFunction('convertToInteractive',\n",
              "                                                     [key], {});\n",
              "          if (!dataTable) return;\n",
              "\n",
              "          const docLinkHtml = 'Like what you see? Visit the ' +\n",
              "            '<a target=\"_blank\" href=https://colab.research.google.com/notebooks/data_table.ipynb>data table notebook</a>'\n",
              "            + ' to learn more about interactive tables.';\n",
              "          element.innerHTML = '';\n",
              "          dataTable['output_type'] = 'display_data';\n",
              "          await google.colab.output.renderOutput(dataTable, element);\n",
              "          const docLink = document.createElement('div');\n",
              "          docLink.innerHTML = docLinkHtml;\n",
              "          element.appendChild(docLink);\n",
              "        }\n",
              "      </script>\n",
              "    </div>\n",
              "  </div>\n",
              "  "
            ]
          },
          "metadata": {},
          "execution_count": 148
        }
      ]
    },
    {
      "cell_type": "code",
      "source": [
        "unemployment_df = pd.read_csv('Unemployment.csv')\n",
        "#print(unemployment_df.info())\n",
        "#print(unemployment_df.head())\n",
        "unemployment_df['YEAR'] = unemployment_df['DATE'].astype(str).str[0:4]\n",
        "Annual_unemployment_rate = unemployment_df.groupby('YEAR').agg({'UNRATE': ['mean']})['UNRATE'].reset_index() #Aggregate into annual unemployment data\n",
        "Annual_unemployment_rate['YEAR'] = Annual_unemployment_rate['YEAR'].astype(int)\n",
        "Annual_unemployment_rate"
      ],
      "metadata": {
        "colab": {
          "base_uri": "https://localhost:8080/",
          "height": 423
        },
        "id": "sp4B8s1tOjmT",
        "outputId": "b207f37c-01b0-42b8-a66e-ee41c7048f04"
      },
      "execution_count": 149,
      "outputs": [
        {
          "output_type": "execute_result",
          "data": {
            "text/plain": [
              "    YEAR      mean\n",
              "0   1948  3.750000\n",
              "1   1949  6.050000\n",
              "2   1950  5.208333\n",
              "3   1951  3.283333\n",
              "4   1952  3.025000\n",
              "..   ...       ...\n",
              "70  2018  3.891667\n",
              "71  2019  3.675000\n",
              "72  2020  8.091667\n",
              "73  2021  5.358333\n",
              "74  2022  4.000000\n",
              "\n",
              "[75 rows x 2 columns]"
            ],
            "text/html": [
              "\n",
              "  <div id=\"df-b7d8a3a8-878b-42b7-b547-f36a1686c3fe\">\n",
              "    <div class=\"colab-df-container\">\n",
              "      <div>\n",
              "<style scoped>\n",
              "    .dataframe tbody tr th:only-of-type {\n",
              "        vertical-align: middle;\n",
              "    }\n",
              "\n",
              "    .dataframe tbody tr th {\n",
              "        vertical-align: top;\n",
              "    }\n",
              "\n",
              "    .dataframe thead th {\n",
              "        text-align: right;\n",
              "    }\n",
              "</style>\n",
              "<table border=\"1\" class=\"dataframe\">\n",
              "  <thead>\n",
              "    <tr style=\"text-align: right;\">\n",
              "      <th></th>\n",
              "      <th>YEAR</th>\n",
              "      <th>mean</th>\n",
              "    </tr>\n",
              "  </thead>\n",
              "  <tbody>\n",
              "    <tr>\n",
              "      <th>0</th>\n",
              "      <td>1948</td>\n",
              "      <td>3.750000</td>\n",
              "    </tr>\n",
              "    <tr>\n",
              "      <th>1</th>\n",
              "      <td>1949</td>\n",
              "      <td>6.050000</td>\n",
              "    </tr>\n",
              "    <tr>\n",
              "      <th>2</th>\n",
              "      <td>1950</td>\n",
              "      <td>5.208333</td>\n",
              "    </tr>\n",
              "    <tr>\n",
              "      <th>3</th>\n",
              "      <td>1951</td>\n",
              "      <td>3.283333</td>\n",
              "    </tr>\n",
              "    <tr>\n",
              "      <th>4</th>\n",
              "      <td>1952</td>\n",
              "      <td>3.025000</td>\n",
              "    </tr>\n",
              "    <tr>\n",
              "      <th>...</th>\n",
              "      <td>...</td>\n",
              "      <td>...</td>\n",
              "    </tr>\n",
              "    <tr>\n",
              "      <th>70</th>\n",
              "      <td>2018</td>\n",
              "      <td>3.891667</td>\n",
              "    </tr>\n",
              "    <tr>\n",
              "      <th>71</th>\n",
              "      <td>2019</td>\n",
              "      <td>3.675000</td>\n",
              "    </tr>\n",
              "    <tr>\n",
              "      <th>72</th>\n",
              "      <td>2020</td>\n",
              "      <td>8.091667</td>\n",
              "    </tr>\n",
              "    <tr>\n",
              "      <th>73</th>\n",
              "      <td>2021</td>\n",
              "      <td>5.358333</td>\n",
              "    </tr>\n",
              "    <tr>\n",
              "      <th>74</th>\n",
              "      <td>2022</td>\n",
              "      <td>4.000000</td>\n",
              "    </tr>\n",
              "  </tbody>\n",
              "</table>\n",
              "<p>75 rows × 2 columns</p>\n",
              "</div>\n",
              "      <button class=\"colab-df-convert\" onclick=\"convertToInteractive('df-b7d8a3a8-878b-42b7-b547-f36a1686c3fe')\"\n",
              "              title=\"Convert this dataframe to an interactive table.\"\n",
              "              style=\"display:none;\">\n",
              "        \n",
              "  <svg xmlns=\"http://www.w3.org/2000/svg\" height=\"24px\"viewBox=\"0 0 24 24\"\n",
              "       width=\"24px\">\n",
              "    <path d=\"M0 0h24v24H0V0z\" fill=\"none\"/>\n",
              "    <path d=\"M18.56 5.44l.94 2.06.94-2.06 2.06-.94-2.06-.94-.94-2.06-.94 2.06-2.06.94zm-11 1L8.5 8.5l.94-2.06 2.06-.94-2.06-.94L8.5 2.5l-.94 2.06-2.06.94zm10 10l.94 2.06.94-2.06 2.06-.94-2.06-.94-.94-2.06-.94 2.06-2.06.94z\"/><path d=\"M17.41 7.96l-1.37-1.37c-.4-.4-.92-.59-1.43-.59-.52 0-1.04.2-1.43.59L10.3 9.45l-7.72 7.72c-.78.78-.78 2.05 0 2.83L4 21.41c.39.39.9.59 1.41.59.51 0 1.02-.2 1.41-.59l7.78-7.78 2.81-2.81c.8-.78.8-2.07 0-2.86zM5.41 20L4 18.59l7.72-7.72 1.47 1.35L5.41 20z\"/>\n",
              "  </svg>\n",
              "      </button>\n",
              "      \n",
              "  <style>\n",
              "    .colab-df-container {\n",
              "      display:flex;\n",
              "      flex-wrap:wrap;\n",
              "      gap: 12px;\n",
              "    }\n",
              "\n",
              "    .colab-df-convert {\n",
              "      background-color: #E8F0FE;\n",
              "      border: none;\n",
              "      border-radius: 50%;\n",
              "      cursor: pointer;\n",
              "      display: none;\n",
              "      fill: #1967D2;\n",
              "      height: 32px;\n",
              "      padding: 0 0 0 0;\n",
              "      width: 32px;\n",
              "    }\n",
              "\n",
              "    .colab-df-convert:hover {\n",
              "      background-color: #E2EBFA;\n",
              "      box-shadow: 0px 1px 2px rgba(60, 64, 67, 0.3), 0px 1px 3px 1px rgba(60, 64, 67, 0.15);\n",
              "      fill: #174EA6;\n",
              "    }\n",
              "\n",
              "    [theme=dark] .colab-df-convert {\n",
              "      background-color: #3B4455;\n",
              "      fill: #D2E3FC;\n",
              "    }\n",
              "\n",
              "    [theme=dark] .colab-df-convert:hover {\n",
              "      background-color: #434B5C;\n",
              "      box-shadow: 0px 1px 3px 1px rgba(0, 0, 0, 0.15);\n",
              "      filter: drop-shadow(0px 1px 2px rgba(0, 0, 0, 0.3));\n",
              "      fill: #FFFFFF;\n",
              "    }\n",
              "  </style>\n",
              "\n",
              "      <script>\n",
              "        const buttonEl =\n",
              "          document.querySelector('#df-b7d8a3a8-878b-42b7-b547-f36a1686c3fe button.colab-df-convert');\n",
              "        buttonEl.style.display =\n",
              "          google.colab.kernel.accessAllowed ? 'block' : 'none';\n",
              "\n",
              "        async function convertToInteractive(key) {\n",
              "          const element = document.querySelector('#df-b7d8a3a8-878b-42b7-b547-f36a1686c3fe');\n",
              "          const dataTable =\n",
              "            await google.colab.kernel.invokeFunction('convertToInteractive',\n",
              "                                                     [key], {});\n",
              "          if (!dataTable) return;\n",
              "\n",
              "          const docLinkHtml = 'Like what you see? Visit the ' +\n",
              "            '<a target=\"_blank\" href=https://colab.research.google.com/notebooks/data_table.ipynb>data table notebook</a>'\n",
              "            + ' to learn more about interactive tables.';\n",
              "          element.innerHTML = '';\n",
              "          dataTable['output_type'] = 'display_data';\n",
              "          await google.colab.output.renderOutput(dataTable, element);\n",
              "          const docLink = document.createElement('div');\n",
              "          docLink.innerHTML = docLinkHtml;\n",
              "          element.appendChild(docLink);\n",
              "        }\n",
              "      </script>\n",
              "    </div>\n",
              "  </div>\n",
              "  "
            ]
          },
          "metadata": {},
          "execution_count": 149
        }
      ]
    },
    {
      "cell_type": "code",
      "source": [
        "inflation_df = inflation_df.rename(columns={\"year\": \"YEAR\"})\n",
        "income_df = income_df.rename(columns={\"ApprovalFY\": \"YEAR\"})"
      ],
      "metadata": {
        "id": "3_1o5IxWEk9b"
      },
      "execution_count": 150,
      "outputs": []
    },
    {
      "cell_type": "code",
      "source": [
        "df_merged = pd.merge(df_merged_NAICS_SBALoan, inflation_df,  how='left', left_on=['YEAR'], right_on = ['YEAR'])\n",
        "df_merged = pd.merge(df_merged, income_df,  how='left', left_on=['State', 'YEAR'], right_on = ['State', 'YEAR'])\n",
        "df_merged = pd.merge(df_merged, Annual_unemployment_rate,  how='left', left_on=['YEAR'], right_on = ['YEAR'])\n",
        "df_merged = df_merged.dropna()\n",
        "df_merged"
      ],
      "metadata": {
        "colab": {
          "base_uri": "https://localhost:8080/",
          "height": 487
        },
        "id": "9yAy5cIYERjw",
        "outputId": "e946081c-8e32-4f1f-d2a6-ac536a5caf41"
      },
      "execution_count": 151,
      "outputs": [
        {
          "output_type": "execute_result",
          "data": {
            "text/plain": [
              "       State  NAICS  YEAR  NewExist MIS_Status  SBA_Appv    GrAppv      FIRM  \\\n",
              "0         IN     45  1997       2.0      P I F   48000.0   60000.0  670945.0   \n",
              "1         IN     72  1997       2.0      P I F   32000.0   40000.0  357519.0   \n",
              "2         IN     62  1997       1.0      P I F  215250.0  287000.0  481657.0   \n",
              "3         CT     33  1997       1.0      P I F  387750.0  517000.0  292577.0   \n",
              "4         FL     81  1997       2.0      P I F   36000.0   45000.0  599136.0   \n",
              "...      ...    ...   ...       ...        ...       ...       ...       ...   \n",
              "696108    MD     33  1997       1.0      P I F   25000.0   50000.0  292577.0   \n",
              "696109    CA     31  1997       1.0      P I F  150000.0  200000.0  292577.0   \n",
              "696110    OH     45  1997       1.0      P I F   56000.0   70000.0  670945.0   \n",
              "696111    OH     45  1997       1.0      P I F   42500.0   85000.0  670945.0   \n",
              "696112    CA     33  1997       1.0      P I F  225000.0  300000.0  292577.0   \n",
              "\n",
              "             DENOM  ESTABS_ENTRY  ESTABS_EXIT  JOB_CREATION  JOB_DESTRUCTION  \\\n",
              "0       13763872.0      110091.0     115364.0     2361731.0        2038489.0   \n",
              "1        9152783.0       69257.0      63282.0     1894562.0        1728105.0   \n",
              "2       12684590.0       60737.0      50485.0     1943403.0        1632957.0   \n",
              "3       16284152.0       28296.0      29516.0     1835979.0        1672272.0   \n",
              "4        4864066.0       62099.0      58638.0      800963.0         694752.0   \n",
              "...            ...           ...          ...           ...              ...   \n",
              "696108  16284152.0       28296.0      29516.0     1835979.0        1672272.0   \n",
              "696109  16284152.0       28296.0      29516.0     1835979.0        1672272.0   \n",
              "696110  13763872.0      110091.0     115364.0     2361731.0        2038489.0   \n",
              "696111  13763872.0      110091.0     115364.0     2361731.0        2038489.0   \n",
              "696112  16284152.0       28296.0      29516.0     1835979.0        1672272.0   \n",
              "\n",
              "        REALLOCATION_RATE  FIRMDEATH_ESTABS  FIRMDEATH_EMP  inflation  \\\n",
              "0                  29.621           73384.0       349798.0    2.33769   \n",
              "1                  37.761           45776.0       441164.0    2.33769   \n",
              "2                  25.747           35763.0       328510.0    2.33769   \n",
              "3                  20.539           22142.0       255029.0    2.33769   \n",
              "4                  28.567           42290.0       156087.0    2.33769   \n",
              "...                   ...               ...            ...        ...   \n",
              "696108             20.539           22142.0       255029.0    2.33769   \n",
              "696109             20.539           22142.0       255029.0    2.33769   \n",
              "696110             29.621           73384.0       349798.0    2.33769   \n",
              "696111             29.621           73384.0       349798.0    2.33769   \n",
              "696112             20.539           22142.0       255029.0    2.33769   \n",
              "\n",
              "        Average_State_Income      mean  \n",
              "0                    38889.0  4.941667  \n",
              "1                    38889.0  4.941667  \n",
              "2                    38889.0  4.941667  \n",
              "3                    43985.0  4.941667  \n",
              "4                    32455.0  4.941667  \n",
              "...                      ...       ...  \n",
              "696108               46685.0  4.941667  \n",
              "696109               39694.0  4.941667  \n",
              "696110               36134.0  4.941667  \n",
              "696111               36134.0  4.941667  \n",
              "696112               39694.0  4.941667  \n",
              "\n",
              "[694776 rows x 19 columns]"
            ],
            "text/html": [
              "\n",
              "  <div id=\"df-77105a08-75ea-4694-acf9-1ee1f42a4f0c\">\n",
              "    <div class=\"colab-df-container\">\n",
              "      <div>\n",
              "<style scoped>\n",
              "    .dataframe tbody tr th:only-of-type {\n",
              "        vertical-align: middle;\n",
              "    }\n",
              "\n",
              "    .dataframe tbody tr th {\n",
              "        vertical-align: top;\n",
              "    }\n",
              "\n",
              "    .dataframe thead th {\n",
              "        text-align: right;\n",
              "    }\n",
              "</style>\n",
              "<table border=\"1\" class=\"dataframe\">\n",
              "  <thead>\n",
              "    <tr style=\"text-align: right;\">\n",
              "      <th></th>\n",
              "      <th>State</th>\n",
              "      <th>NAICS</th>\n",
              "      <th>YEAR</th>\n",
              "      <th>NewExist</th>\n",
              "      <th>MIS_Status</th>\n",
              "      <th>SBA_Appv</th>\n",
              "      <th>GrAppv</th>\n",
              "      <th>FIRM</th>\n",
              "      <th>DENOM</th>\n",
              "      <th>ESTABS_ENTRY</th>\n",
              "      <th>ESTABS_EXIT</th>\n",
              "      <th>JOB_CREATION</th>\n",
              "      <th>JOB_DESTRUCTION</th>\n",
              "      <th>REALLOCATION_RATE</th>\n",
              "      <th>FIRMDEATH_ESTABS</th>\n",
              "      <th>FIRMDEATH_EMP</th>\n",
              "      <th>inflation</th>\n",
              "      <th>Average_State_Income</th>\n",
              "      <th>mean</th>\n",
              "    </tr>\n",
              "  </thead>\n",
              "  <tbody>\n",
              "    <tr>\n",
              "      <th>0</th>\n",
              "      <td>IN</td>\n",
              "      <td>45</td>\n",
              "      <td>1997</td>\n",
              "      <td>2.0</td>\n",
              "      <td>P I F</td>\n",
              "      <td>48000.0</td>\n",
              "      <td>60000.0</td>\n",
              "      <td>670945.0</td>\n",
              "      <td>13763872.0</td>\n",
              "      <td>110091.0</td>\n",
              "      <td>115364.0</td>\n",
              "      <td>2361731.0</td>\n",
              "      <td>2038489.0</td>\n",
              "      <td>29.621</td>\n",
              "      <td>73384.0</td>\n",
              "      <td>349798.0</td>\n",
              "      <td>2.33769</td>\n",
              "      <td>38889.0</td>\n",
              "      <td>4.941667</td>\n",
              "    </tr>\n",
              "    <tr>\n",
              "      <th>1</th>\n",
              "      <td>IN</td>\n",
              "      <td>72</td>\n",
              "      <td>1997</td>\n",
              "      <td>2.0</td>\n",
              "      <td>P I F</td>\n",
              "      <td>32000.0</td>\n",
              "      <td>40000.0</td>\n",
              "      <td>357519.0</td>\n",
              "      <td>9152783.0</td>\n",
              "      <td>69257.0</td>\n",
              "      <td>63282.0</td>\n",
              "      <td>1894562.0</td>\n",
              "      <td>1728105.0</td>\n",
              "      <td>37.761</td>\n",
              "      <td>45776.0</td>\n",
              "      <td>441164.0</td>\n",
              "      <td>2.33769</td>\n",
              "      <td>38889.0</td>\n",
              "      <td>4.941667</td>\n",
              "    </tr>\n",
              "    <tr>\n",
              "      <th>2</th>\n",
              "      <td>IN</td>\n",
              "      <td>62</td>\n",
              "      <td>1997</td>\n",
              "      <td>1.0</td>\n",
              "      <td>P I F</td>\n",
              "      <td>215250.0</td>\n",
              "      <td>287000.0</td>\n",
              "      <td>481657.0</td>\n",
              "      <td>12684590.0</td>\n",
              "      <td>60737.0</td>\n",
              "      <td>50485.0</td>\n",
              "      <td>1943403.0</td>\n",
              "      <td>1632957.0</td>\n",
              "      <td>25.747</td>\n",
              "      <td>35763.0</td>\n",
              "      <td>328510.0</td>\n",
              "      <td>2.33769</td>\n",
              "      <td>38889.0</td>\n",
              "      <td>4.941667</td>\n",
              "    </tr>\n",
              "    <tr>\n",
              "      <th>3</th>\n",
              "      <td>CT</td>\n",
              "      <td>33</td>\n",
              "      <td>1997</td>\n",
              "      <td>1.0</td>\n",
              "      <td>P I F</td>\n",
              "      <td>387750.0</td>\n",
              "      <td>517000.0</td>\n",
              "      <td>292577.0</td>\n",
              "      <td>16284152.0</td>\n",
              "      <td>28296.0</td>\n",
              "      <td>29516.0</td>\n",
              "      <td>1835979.0</td>\n",
              "      <td>1672272.0</td>\n",
              "      <td>20.539</td>\n",
              "      <td>22142.0</td>\n",
              "      <td>255029.0</td>\n",
              "      <td>2.33769</td>\n",
              "      <td>43985.0</td>\n",
              "      <td>4.941667</td>\n",
              "    </tr>\n",
              "    <tr>\n",
              "      <th>4</th>\n",
              "      <td>FL</td>\n",
              "      <td>81</td>\n",
              "      <td>1997</td>\n",
              "      <td>2.0</td>\n",
              "      <td>P I F</td>\n",
              "      <td>36000.0</td>\n",
              "      <td>45000.0</td>\n",
              "      <td>599136.0</td>\n",
              "      <td>4864066.0</td>\n",
              "      <td>62099.0</td>\n",
              "      <td>58638.0</td>\n",
              "      <td>800963.0</td>\n",
              "      <td>694752.0</td>\n",
              "      <td>28.567</td>\n",
              "      <td>42290.0</td>\n",
              "      <td>156087.0</td>\n",
              "      <td>2.33769</td>\n",
              "      <td>32455.0</td>\n",
              "      <td>4.941667</td>\n",
              "    </tr>\n",
              "    <tr>\n",
              "      <th>...</th>\n",
              "      <td>...</td>\n",
              "      <td>...</td>\n",
              "      <td>...</td>\n",
              "      <td>...</td>\n",
              "      <td>...</td>\n",
              "      <td>...</td>\n",
              "      <td>...</td>\n",
              "      <td>...</td>\n",
              "      <td>...</td>\n",
              "      <td>...</td>\n",
              "      <td>...</td>\n",
              "      <td>...</td>\n",
              "      <td>...</td>\n",
              "      <td>...</td>\n",
              "      <td>...</td>\n",
              "      <td>...</td>\n",
              "      <td>...</td>\n",
              "      <td>...</td>\n",
              "      <td>...</td>\n",
              "    </tr>\n",
              "    <tr>\n",
              "      <th>696108</th>\n",
              "      <td>MD</td>\n",
              "      <td>33</td>\n",
              "      <td>1997</td>\n",
              "      <td>1.0</td>\n",
              "      <td>P I F</td>\n",
              "      <td>25000.0</td>\n",
              "      <td>50000.0</td>\n",
              "      <td>292577.0</td>\n",
              "      <td>16284152.0</td>\n",
              "      <td>28296.0</td>\n",
              "      <td>29516.0</td>\n",
              "      <td>1835979.0</td>\n",
              "      <td>1672272.0</td>\n",
              "      <td>20.539</td>\n",
              "      <td>22142.0</td>\n",
              "      <td>255029.0</td>\n",
              "      <td>2.33769</td>\n",
              "      <td>46685.0</td>\n",
              "      <td>4.941667</td>\n",
              "    </tr>\n",
              "    <tr>\n",
              "      <th>696109</th>\n",
              "      <td>CA</td>\n",
              "      <td>31</td>\n",
              "      <td>1997</td>\n",
              "      <td>1.0</td>\n",
              "      <td>P I F</td>\n",
              "      <td>150000.0</td>\n",
              "      <td>200000.0</td>\n",
              "      <td>292577.0</td>\n",
              "      <td>16284152.0</td>\n",
              "      <td>28296.0</td>\n",
              "      <td>29516.0</td>\n",
              "      <td>1835979.0</td>\n",
              "      <td>1672272.0</td>\n",
              "      <td>20.539</td>\n",
              "      <td>22142.0</td>\n",
              "      <td>255029.0</td>\n",
              "      <td>2.33769</td>\n",
              "      <td>39694.0</td>\n",
              "      <td>4.941667</td>\n",
              "    </tr>\n",
              "    <tr>\n",
              "      <th>696110</th>\n",
              "      <td>OH</td>\n",
              "      <td>45</td>\n",
              "      <td>1997</td>\n",
              "      <td>1.0</td>\n",
              "      <td>P I F</td>\n",
              "      <td>56000.0</td>\n",
              "      <td>70000.0</td>\n",
              "      <td>670945.0</td>\n",
              "      <td>13763872.0</td>\n",
              "      <td>110091.0</td>\n",
              "      <td>115364.0</td>\n",
              "      <td>2361731.0</td>\n",
              "      <td>2038489.0</td>\n",
              "      <td>29.621</td>\n",
              "      <td>73384.0</td>\n",
              "      <td>349798.0</td>\n",
              "      <td>2.33769</td>\n",
              "      <td>36134.0</td>\n",
              "      <td>4.941667</td>\n",
              "    </tr>\n",
              "    <tr>\n",
              "      <th>696111</th>\n",
              "      <td>OH</td>\n",
              "      <td>45</td>\n",
              "      <td>1997</td>\n",
              "      <td>1.0</td>\n",
              "      <td>P I F</td>\n",
              "      <td>42500.0</td>\n",
              "      <td>85000.0</td>\n",
              "      <td>670945.0</td>\n",
              "      <td>13763872.0</td>\n",
              "      <td>110091.0</td>\n",
              "      <td>115364.0</td>\n",
              "      <td>2361731.0</td>\n",
              "      <td>2038489.0</td>\n",
              "      <td>29.621</td>\n",
              "      <td>73384.0</td>\n",
              "      <td>349798.0</td>\n",
              "      <td>2.33769</td>\n",
              "      <td>36134.0</td>\n",
              "      <td>4.941667</td>\n",
              "    </tr>\n",
              "    <tr>\n",
              "      <th>696112</th>\n",
              "      <td>CA</td>\n",
              "      <td>33</td>\n",
              "      <td>1997</td>\n",
              "      <td>1.0</td>\n",
              "      <td>P I F</td>\n",
              "      <td>225000.0</td>\n",
              "      <td>300000.0</td>\n",
              "      <td>292577.0</td>\n",
              "      <td>16284152.0</td>\n",
              "      <td>28296.0</td>\n",
              "      <td>29516.0</td>\n",
              "      <td>1835979.0</td>\n",
              "      <td>1672272.0</td>\n",
              "      <td>20.539</td>\n",
              "      <td>22142.0</td>\n",
              "      <td>255029.0</td>\n",
              "      <td>2.33769</td>\n",
              "      <td>39694.0</td>\n",
              "      <td>4.941667</td>\n",
              "    </tr>\n",
              "  </tbody>\n",
              "</table>\n",
              "<p>694776 rows × 19 columns</p>\n",
              "</div>\n",
              "      <button class=\"colab-df-convert\" onclick=\"convertToInteractive('df-77105a08-75ea-4694-acf9-1ee1f42a4f0c')\"\n",
              "              title=\"Convert this dataframe to an interactive table.\"\n",
              "              style=\"display:none;\">\n",
              "        \n",
              "  <svg xmlns=\"http://www.w3.org/2000/svg\" height=\"24px\"viewBox=\"0 0 24 24\"\n",
              "       width=\"24px\">\n",
              "    <path d=\"M0 0h24v24H0V0z\" fill=\"none\"/>\n",
              "    <path d=\"M18.56 5.44l.94 2.06.94-2.06 2.06-.94-2.06-.94-.94-2.06-.94 2.06-2.06.94zm-11 1L8.5 8.5l.94-2.06 2.06-.94-2.06-.94L8.5 2.5l-.94 2.06-2.06.94zm10 10l.94 2.06.94-2.06 2.06-.94-2.06-.94-.94-2.06-.94 2.06-2.06.94z\"/><path d=\"M17.41 7.96l-1.37-1.37c-.4-.4-.92-.59-1.43-.59-.52 0-1.04.2-1.43.59L10.3 9.45l-7.72 7.72c-.78.78-.78 2.05 0 2.83L4 21.41c.39.39.9.59 1.41.59.51 0 1.02-.2 1.41-.59l7.78-7.78 2.81-2.81c.8-.78.8-2.07 0-2.86zM5.41 20L4 18.59l7.72-7.72 1.47 1.35L5.41 20z\"/>\n",
              "  </svg>\n",
              "      </button>\n",
              "      \n",
              "  <style>\n",
              "    .colab-df-container {\n",
              "      display:flex;\n",
              "      flex-wrap:wrap;\n",
              "      gap: 12px;\n",
              "    }\n",
              "\n",
              "    .colab-df-convert {\n",
              "      background-color: #E8F0FE;\n",
              "      border: none;\n",
              "      border-radius: 50%;\n",
              "      cursor: pointer;\n",
              "      display: none;\n",
              "      fill: #1967D2;\n",
              "      height: 32px;\n",
              "      padding: 0 0 0 0;\n",
              "      width: 32px;\n",
              "    }\n",
              "\n",
              "    .colab-df-convert:hover {\n",
              "      background-color: #E2EBFA;\n",
              "      box-shadow: 0px 1px 2px rgba(60, 64, 67, 0.3), 0px 1px 3px 1px rgba(60, 64, 67, 0.15);\n",
              "      fill: #174EA6;\n",
              "    }\n",
              "\n",
              "    [theme=dark] .colab-df-convert {\n",
              "      background-color: #3B4455;\n",
              "      fill: #D2E3FC;\n",
              "    }\n",
              "\n",
              "    [theme=dark] .colab-df-convert:hover {\n",
              "      background-color: #434B5C;\n",
              "      box-shadow: 0px 1px 3px 1px rgba(0, 0, 0, 0.15);\n",
              "      filter: drop-shadow(0px 1px 2px rgba(0, 0, 0, 0.3));\n",
              "      fill: #FFFFFF;\n",
              "    }\n",
              "  </style>\n",
              "\n",
              "      <script>\n",
              "        const buttonEl =\n",
              "          document.querySelector('#df-77105a08-75ea-4694-acf9-1ee1f42a4f0c button.colab-df-convert');\n",
              "        buttonEl.style.display =\n",
              "          google.colab.kernel.accessAllowed ? 'block' : 'none';\n",
              "\n",
              "        async function convertToInteractive(key) {\n",
              "          const element = document.querySelector('#df-77105a08-75ea-4694-acf9-1ee1f42a4f0c');\n",
              "          const dataTable =\n",
              "            await google.colab.kernel.invokeFunction('convertToInteractive',\n",
              "                                                     [key], {});\n",
              "          if (!dataTable) return;\n",
              "\n",
              "          const docLinkHtml = 'Like what you see? Visit the ' +\n",
              "            '<a target=\"_blank\" href=https://colab.research.google.com/notebooks/data_table.ipynb>data table notebook</a>'\n",
              "            + ' to learn more about interactive tables.';\n",
              "          element.innerHTML = '';\n",
              "          dataTable['output_type'] = 'display_data';\n",
              "          await google.colab.output.renderOutput(dataTable, element);\n",
              "          const docLink = document.createElement('div');\n",
              "          docLink.innerHTML = docLinkHtml;\n",
              "          element.appendChild(docLink);\n",
              "        }\n",
              "      </script>\n",
              "    </div>\n",
              "  </div>\n",
              "  "
            ]
          },
          "metadata": {},
          "execution_count": 151
        }
      ]
    },
    {
      "cell_type": "code",
      "source": [
        "### Splitting the data into Train, Val and Test as per time-series:\n",
        "df_merged_train_val = df_merged[df_merged['YEAR']<=2009]\n",
        "df_merged_test = df_merged[df_merged['YEAR'] >= 2010]\n",
        "y_train_val = df_merged_train_val['SBA_Appv'] / df_merged_train_val['GrAppv']\n",
        "X_train_val = df_merged_train_val.drop(['SBA_Appv'], axis=1)\n",
        "y_test = df_merged_test['SBA_Appv'] / df_merged_test['GrAppv']\n",
        "X_test = df_merged_test.drop(['SBA_Appv'], axis=1)\n",
        "from sklearn.model_selection import train_test_split\n",
        "X_train, X_val, y_train, y_val = train_test_split(X_train_val, y_train_val, test_size=0.15, random_state= 0)"
      ],
      "metadata": {
        "id": "R4A6g8vNHRKV"
      },
      "execution_count": 152,
      "outputs": []
    },
    {
      "cell_type": "code",
      "source": [
        "#['State_CT', 'State_MA', 'State_NY', 'State_RI', 'NAICS_23', 'NAICS_44', 'NAICS_45', 'NAICS_54', 'NAICS_72', 'NAICS_81']"
      ],
      "metadata": {
        "id": "lheotZtiJP5F"
      },
      "execution_count": 153,
      "outputs": []
    },
    {
      "cell_type": "code",
      "source": [
        "from sklearn.preprocessing import StandardScaler\n",
        "\n",
        "# Define numerical features to use for modelling\n",
        "num_features = ['GrAppv', 'FIRM', 'DENOM', 'ESTABS_ENTRY', 'ESTABS_EXIT', 'JOB_CREATION', 'JOB_DESTRUCTION', 'REALLOCATION_RATE', 'FIRMDEATH_ESTABS', 'FIRMDEATH_EMP', 'inflation', 'Average_State_Income', 'mean']\n",
        "\n",
        "# Define categorical features to use for modelling\n",
        "cat_features = ['State', 'NAICS', 'MIS_Status']\n",
        "misc_features = ['YEAR', 'NewExist']\n",
        "\n",
        "# Fitting scaler for the training data\n",
        "scaler = StandardScaler()\n",
        "scaler.fit(X_train[num_features])\n",
        "\n",
        "def features_scale_and_dummies(df):\n",
        "    scaled = df[num_features].copy()\n",
        "    # Convert numeric features to standard units\n",
        "    scaled.iloc[:, :] = scaler.transform(scaled)\n",
        "    # Convert categorical features using dummy encoding\n",
        "    categoricals = [pd.get_dummies(df[s], prefix=s, drop_first=True) for s in cat_features]\n",
        "    misc = df[misc_features]\n",
        "    return pd.concat([scaled] + categoricals + [misc], axis=1)"
      ],
      "metadata": {
        "id": "N3MVqq5OHRUS"
      },
      "execution_count": 154,
      "outputs": []
    },
    {
      "cell_type": "code",
      "source": [
        "X_train = features_scale_and_dummies(X_train)\n",
        "X_val = features_scale_and_dummies(X_val)\n",
        "X_test = features_scale_and_dummies(X_test)"
      ],
      "metadata": {
        "id": "XQWWKcHlHRW5"
      },
      "execution_count": 155,
      "outputs": []
    },
    {
      "cell_type": "code",
      "source": [
        "X_train"
      ],
      "metadata": {
        "colab": {
          "base_uri": "https://localhost:8080/",
          "height": 505
        },
        "id": "JVC4-vabLWfk",
        "outputId": "97912d53-de5d-4dec-d313-0717f692fea8"
      },
      "execution_count": 156,
      "outputs": [
        {
          "output_type": "execute_result",
          "data": {
            "text/plain": [
              "          GrAppv      FIRM     DENOM  ESTABS_ENTRY  ESTABS_EXIT  JOB_CREATION  \\\n",
              "660147 -0.315042  0.756133 -0.972765     -0.025204    -0.178398     -1.069514   \n",
              "280664  0.115217 -0.237355 -1.079449      0.101189    -0.194299     -0.691166   \n",
              "265110 -0.614036  0.983161 -0.331270      0.670628     1.173460     -0.361418   \n",
              "662206 -0.285872  0.110917  0.637680     -0.397909    -0.462418      0.118475   \n",
              "263886 -0.431723 -0.512595  0.086418     -0.320523    -0.192741      0.569374   \n",
              "...          ...       ...       ...           ...          ...           ...   \n",
              "388147 -0.103559 -0.899753  1.469153     -1.329068    -1.083863      0.156526   \n",
              "152606 -0.481571  1.125405 -0.504415      1.584694     0.746261      0.525307   \n",
              "118151 -0.614036  1.176431 -0.440500      1.132568     1.155222      0.023437   \n",
              "473154 -0.294076  0.225171 -1.060186      0.492655     0.425517     -0.469545   \n",
              "309026  0.808008 -0.762850 -0.786828     -0.864790    -0.691795     -0.777195   \n",
              "\n",
              "        JOB_DESTRUCTION  REALLOCATION_RATE  FIRMDEATH_ESTABS  FIRMDEATH_EMP  \\\n",
              "660147        -1.174246          -0.298800         -0.005293      -0.850900   \n",
              "280664        -1.040773           0.658121          0.002686      -0.573001   \n",
              "265110         0.091600           0.276011          1.137046       0.156937   \n",
              "662206        -0.010520          -1.066462         -0.319204       0.354712   \n",
              "263886         0.284514           0.281397         -0.130360       1.070983   \n",
              "...                 ...                ...               ...            ...   \n",
              "388147         1.312869          -1.489865         -1.041888       0.243183   \n",
              "152606        -0.316628           0.572093          0.963589       0.115241   \n",
              "118151         0.334236           1.509565          1.446553       0.467329   \n",
              "473154        -0.421322           2.913827          0.592532       0.062293   \n",
              "309026        -0.842621           0.098271         -0.731345      -0.765782   \n",
              "\n",
              "        ...  NAICS_55  NAICS_56  NAICS_61  NAICS_62  NAICS_71  NAICS_72  \\\n",
              "660147  ...         0         0         0         0         0         0   \n",
              "280664  ...         0         0         0         0         0         0   \n",
              "265110  ...         0         0         0         0         0         0   \n",
              "662206  ...         0         0         0         1         0         0   \n",
              "263886  ...         0         0         0         0         0         1   \n",
              "...     ...       ...       ...       ...       ...       ...       ...   \n",
              "388147  ...         0         0         0         0         0         0   \n",
              "152606  ...         0         0         0         0         0         0   \n",
              "118151  ...         0         0         0         0         0         0   \n",
              "473154  ...         0         0         0         0         0         0   \n",
              "309026  ...         0         0         0         0         0         0   \n",
              "\n",
              "        NAICS_81  MIS_Status_P I F  YEAR  NewExist  \n",
              "660147         1                 1  1996       1.0  \n",
              "280664         0                 0  1989       2.0  \n",
              "265110         0                 0  2009       1.0  \n",
              "662206         0                 1  1996       1.0  \n",
              "263886         0                 1  2000       1.0  \n",
              "...          ...               ...   ...       ...  \n",
              "388147         0                 1  2001       1.0  \n",
              "152606         0                 1  2006       2.0  \n",
              "118151         0                 1  2007       2.0  \n",
              "473154         0                 1  1993       1.0  \n",
              "309026         0                 1  2000       1.0  \n",
              "\n",
              "[558277 rows x 87 columns]"
            ],
            "text/html": [
              "\n",
              "  <div id=\"df-9f267aed-bdab-4bc7-a640-3abbef3cef94\">\n",
              "    <div class=\"colab-df-container\">\n",
              "      <div>\n",
              "<style scoped>\n",
              "    .dataframe tbody tr th:only-of-type {\n",
              "        vertical-align: middle;\n",
              "    }\n",
              "\n",
              "    .dataframe tbody tr th {\n",
              "        vertical-align: top;\n",
              "    }\n",
              "\n",
              "    .dataframe thead th {\n",
              "        text-align: right;\n",
              "    }\n",
              "</style>\n",
              "<table border=\"1\" class=\"dataframe\">\n",
              "  <thead>\n",
              "    <tr style=\"text-align: right;\">\n",
              "      <th></th>\n",
              "      <th>GrAppv</th>\n",
              "      <th>FIRM</th>\n",
              "      <th>DENOM</th>\n",
              "      <th>ESTABS_ENTRY</th>\n",
              "      <th>ESTABS_EXIT</th>\n",
              "      <th>JOB_CREATION</th>\n",
              "      <th>JOB_DESTRUCTION</th>\n",
              "      <th>REALLOCATION_RATE</th>\n",
              "      <th>FIRMDEATH_ESTABS</th>\n",
              "      <th>FIRMDEATH_EMP</th>\n",
              "      <th>...</th>\n",
              "      <th>NAICS_55</th>\n",
              "      <th>NAICS_56</th>\n",
              "      <th>NAICS_61</th>\n",
              "      <th>NAICS_62</th>\n",
              "      <th>NAICS_71</th>\n",
              "      <th>NAICS_72</th>\n",
              "      <th>NAICS_81</th>\n",
              "      <th>MIS_Status_P I F</th>\n",
              "      <th>YEAR</th>\n",
              "      <th>NewExist</th>\n",
              "    </tr>\n",
              "  </thead>\n",
              "  <tbody>\n",
              "    <tr>\n",
              "      <th>660147</th>\n",
              "      <td>-0.315042</td>\n",
              "      <td>0.756133</td>\n",
              "      <td>-0.972765</td>\n",
              "      <td>-0.025204</td>\n",
              "      <td>-0.178398</td>\n",
              "      <td>-1.069514</td>\n",
              "      <td>-1.174246</td>\n",
              "      <td>-0.298800</td>\n",
              "      <td>-0.005293</td>\n",
              "      <td>-0.850900</td>\n",
              "      <td>...</td>\n",
              "      <td>0</td>\n",
              "      <td>0</td>\n",
              "      <td>0</td>\n",
              "      <td>0</td>\n",
              "      <td>0</td>\n",
              "      <td>0</td>\n",
              "      <td>1</td>\n",
              "      <td>1</td>\n",
              "      <td>1996</td>\n",
              "      <td>1.0</td>\n",
              "    </tr>\n",
              "    <tr>\n",
              "      <th>280664</th>\n",
              "      <td>0.115217</td>\n",
              "      <td>-0.237355</td>\n",
              "      <td>-1.079449</td>\n",
              "      <td>0.101189</td>\n",
              "      <td>-0.194299</td>\n",
              "      <td>-0.691166</td>\n",
              "      <td>-1.040773</td>\n",
              "      <td>0.658121</td>\n",
              "      <td>0.002686</td>\n",
              "      <td>-0.573001</td>\n",
              "      <td>...</td>\n",
              "      <td>0</td>\n",
              "      <td>0</td>\n",
              "      <td>0</td>\n",
              "      <td>0</td>\n",
              "      <td>0</td>\n",
              "      <td>0</td>\n",
              "      <td>0</td>\n",
              "      <td>0</td>\n",
              "      <td>1989</td>\n",
              "      <td>2.0</td>\n",
              "    </tr>\n",
              "    <tr>\n",
              "      <th>265110</th>\n",
              "      <td>-0.614036</td>\n",
              "      <td>0.983161</td>\n",
              "      <td>-0.331270</td>\n",
              "      <td>0.670628</td>\n",
              "      <td>1.173460</td>\n",
              "      <td>-0.361418</td>\n",
              "      <td>0.091600</td>\n",
              "      <td>0.276011</td>\n",
              "      <td>1.137046</td>\n",
              "      <td>0.156937</td>\n",
              "      <td>...</td>\n",
              "      <td>0</td>\n",
              "      <td>0</td>\n",
              "      <td>0</td>\n",
              "      <td>0</td>\n",
              "      <td>0</td>\n",
              "      <td>0</td>\n",
              "      <td>0</td>\n",
              "      <td>0</td>\n",
              "      <td>2009</td>\n",
              "      <td>1.0</td>\n",
              "    </tr>\n",
              "    <tr>\n",
              "      <th>662206</th>\n",
              "      <td>-0.285872</td>\n",
              "      <td>0.110917</td>\n",
              "      <td>0.637680</td>\n",
              "      <td>-0.397909</td>\n",
              "      <td>-0.462418</td>\n",
              "      <td>0.118475</td>\n",
              "      <td>-0.010520</td>\n",
              "      <td>-1.066462</td>\n",
              "      <td>-0.319204</td>\n",
              "      <td>0.354712</td>\n",
              "      <td>...</td>\n",
              "      <td>0</td>\n",
              "      <td>0</td>\n",
              "      <td>0</td>\n",
              "      <td>1</td>\n",
              "      <td>0</td>\n",
              "      <td>0</td>\n",
              "      <td>0</td>\n",
              "      <td>1</td>\n",
              "      <td>1996</td>\n",
              "      <td>1.0</td>\n",
              "    </tr>\n",
              "    <tr>\n",
              "      <th>263886</th>\n",
              "      <td>-0.431723</td>\n",
              "      <td>-0.512595</td>\n",
              "      <td>0.086418</td>\n",
              "      <td>-0.320523</td>\n",
              "      <td>-0.192741</td>\n",
              "      <td>0.569374</td>\n",
              "      <td>0.284514</td>\n",
              "      <td>0.281397</td>\n",
              "      <td>-0.130360</td>\n",
              "      <td>1.070983</td>\n",
              "      <td>...</td>\n",
              "      <td>0</td>\n",
              "      <td>0</td>\n",
              "      <td>0</td>\n",
              "      <td>0</td>\n",
              "      <td>0</td>\n",
              "      <td>1</td>\n",
              "      <td>0</td>\n",
              "      <td>1</td>\n",
              "      <td>2000</td>\n",
              "      <td>1.0</td>\n",
              "    </tr>\n",
              "    <tr>\n",
              "      <th>...</th>\n",
              "      <td>...</td>\n",
              "      <td>...</td>\n",
              "      <td>...</td>\n",
              "      <td>...</td>\n",
              "      <td>...</td>\n",
              "      <td>...</td>\n",
              "      <td>...</td>\n",
              "      <td>...</td>\n",
              "      <td>...</td>\n",
              "      <td>...</td>\n",
              "      <td>...</td>\n",
              "      <td>...</td>\n",
              "      <td>...</td>\n",
              "      <td>...</td>\n",
              "      <td>...</td>\n",
              "      <td>...</td>\n",
              "      <td>...</td>\n",
              "      <td>...</td>\n",
              "      <td>...</td>\n",
              "      <td>...</td>\n",
              "      <td>...</td>\n",
              "    </tr>\n",
              "    <tr>\n",
              "      <th>388147</th>\n",
              "      <td>-0.103559</td>\n",
              "      <td>-0.899753</td>\n",
              "      <td>1.469153</td>\n",
              "      <td>-1.329068</td>\n",
              "      <td>-1.083863</td>\n",
              "      <td>0.156526</td>\n",
              "      <td>1.312869</td>\n",
              "      <td>-1.489865</td>\n",
              "      <td>-1.041888</td>\n",
              "      <td>0.243183</td>\n",
              "      <td>...</td>\n",
              "      <td>0</td>\n",
              "      <td>0</td>\n",
              "      <td>0</td>\n",
              "      <td>0</td>\n",
              "      <td>0</td>\n",
              "      <td>0</td>\n",
              "      <td>0</td>\n",
              "      <td>1</td>\n",
              "      <td>2001</td>\n",
              "      <td>1.0</td>\n",
              "    </tr>\n",
              "    <tr>\n",
              "      <th>152606</th>\n",
              "      <td>-0.481571</td>\n",
              "      <td>1.125405</td>\n",
              "      <td>-0.504415</td>\n",
              "      <td>1.584694</td>\n",
              "      <td>0.746261</td>\n",
              "      <td>0.525307</td>\n",
              "      <td>-0.316628</td>\n",
              "      <td>0.572093</td>\n",
              "      <td>0.963589</td>\n",
              "      <td>0.115241</td>\n",
              "      <td>...</td>\n",
              "      <td>0</td>\n",
              "      <td>0</td>\n",
              "      <td>0</td>\n",
              "      <td>0</td>\n",
              "      <td>0</td>\n",
              "      <td>0</td>\n",
              "      <td>0</td>\n",
              "      <td>1</td>\n",
              "      <td>2006</td>\n",
              "      <td>2.0</td>\n",
              "    </tr>\n",
              "    <tr>\n",
              "      <th>118151</th>\n",
              "      <td>-0.614036</td>\n",
              "      <td>1.176431</td>\n",
              "      <td>-0.440500</td>\n",
              "      <td>1.132568</td>\n",
              "      <td>1.155222</td>\n",
              "      <td>0.023437</td>\n",
              "      <td>0.334236</td>\n",
              "      <td>1.509565</td>\n",
              "      <td>1.446553</td>\n",
              "      <td>0.467329</td>\n",
              "      <td>...</td>\n",
              "      <td>0</td>\n",
              "      <td>0</td>\n",
              "      <td>0</td>\n",
              "      <td>0</td>\n",
              "      <td>0</td>\n",
              "      <td>0</td>\n",
              "      <td>0</td>\n",
              "      <td>1</td>\n",
              "      <td>2007</td>\n",
              "      <td>2.0</td>\n",
              "    </tr>\n",
              "    <tr>\n",
              "      <th>473154</th>\n",
              "      <td>-0.294076</td>\n",
              "      <td>0.225171</td>\n",
              "      <td>-1.060186</td>\n",
              "      <td>0.492655</td>\n",
              "      <td>0.425517</td>\n",
              "      <td>-0.469545</td>\n",
              "      <td>-0.421322</td>\n",
              "      <td>2.913827</td>\n",
              "      <td>0.592532</td>\n",
              "      <td>0.062293</td>\n",
              "      <td>...</td>\n",
              "      <td>0</td>\n",
              "      <td>0</td>\n",
              "      <td>0</td>\n",
              "      <td>0</td>\n",
              "      <td>0</td>\n",
              "      <td>0</td>\n",
              "      <td>0</td>\n",
              "      <td>1</td>\n",
              "      <td>1993</td>\n",
              "      <td>1.0</td>\n",
              "    </tr>\n",
              "    <tr>\n",
              "      <th>309026</th>\n",
              "      <td>0.808008</td>\n",
              "      <td>-0.762850</td>\n",
              "      <td>-0.786828</td>\n",
              "      <td>-0.864790</td>\n",
              "      <td>-0.691795</td>\n",
              "      <td>-0.777195</td>\n",
              "      <td>-0.842621</td>\n",
              "      <td>0.098271</td>\n",
              "      <td>-0.731345</td>\n",
              "      <td>-0.765782</td>\n",
              "      <td>...</td>\n",
              "      <td>0</td>\n",
              "      <td>0</td>\n",
              "      <td>0</td>\n",
              "      <td>0</td>\n",
              "      <td>0</td>\n",
              "      <td>0</td>\n",
              "      <td>0</td>\n",
              "      <td>1</td>\n",
              "      <td>2000</td>\n",
              "      <td>1.0</td>\n",
              "    </tr>\n",
              "  </tbody>\n",
              "</table>\n",
              "<p>558277 rows × 87 columns</p>\n",
              "</div>\n",
              "      <button class=\"colab-df-convert\" onclick=\"convertToInteractive('df-9f267aed-bdab-4bc7-a640-3abbef3cef94')\"\n",
              "              title=\"Convert this dataframe to an interactive table.\"\n",
              "              style=\"display:none;\">\n",
              "        \n",
              "  <svg xmlns=\"http://www.w3.org/2000/svg\" height=\"24px\"viewBox=\"0 0 24 24\"\n",
              "       width=\"24px\">\n",
              "    <path d=\"M0 0h24v24H0V0z\" fill=\"none\"/>\n",
              "    <path d=\"M18.56 5.44l.94 2.06.94-2.06 2.06-.94-2.06-.94-.94-2.06-.94 2.06-2.06.94zm-11 1L8.5 8.5l.94-2.06 2.06-.94-2.06-.94L8.5 2.5l-.94 2.06-2.06.94zm10 10l.94 2.06.94-2.06 2.06-.94-2.06-.94-.94-2.06-.94 2.06-2.06.94z\"/><path d=\"M17.41 7.96l-1.37-1.37c-.4-.4-.92-.59-1.43-.59-.52 0-1.04.2-1.43.59L10.3 9.45l-7.72 7.72c-.78.78-.78 2.05 0 2.83L4 21.41c.39.39.9.59 1.41.59.51 0 1.02-.2 1.41-.59l7.78-7.78 2.81-2.81c.8-.78.8-2.07 0-2.86zM5.41 20L4 18.59l7.72-7.72 1.47 1.35L5.41 20z\"/>\n",
              "  </svg>\n",
              "      </button>\n",
              "      \n",
              "  <style>\n",
              "    .colab-df-container {\n",
              "      display:flex;\n",
              "      flex-wrap:wrap;\n",
              "      gap: 12px;\n",
              "    }\n",
              "\n",
              "    .colab-df-convert {\n",
              "      background-color: #E8F0FE;\n",
              "      border: none;\n",
              "      border-radius: 50%;\n",
              "      cursor: pointer;\n",
              "      display: none;\n",
              "      fill: #1967D2;\n",
              "      height: 32px;\n",
              "      padding: 0 0 0 0;\n",
              "      width: 32px;\n",
              "    }\n",
              "\n",
              "    .colab-df-convert:hover {\n",
              "      background-color: #E2EBFA;\n",
              "      box-shadow: 0px 1px 2px rgba(60, 64, 67, 0.3), 0px 1px 3px 1px rgba(60, 64, 67, 0.15);\n",
              "      fill: #174EA6;\n",
              "    }\n",
              "\n",
              "    [theme=dark] .colab-df-convert {\n",
              "      background-color: #3B4455;\n",
              "      fill: #D2E3FC;\n",
              "    }\n",
              "\n",
              "    [theme=dark] .colab-df-convert:hover {\n",
              "      background-color: #434B5C;\n",
              "      box-shadow: 0px 1px 3px 1px rgba(0, 0, 0, 0.15);\n",
              "      filter: drop-shadow(0px 1px 2px rgba(0, 0, 0, 0.3));\n",
              "      fill: #FFFFFF;\n",
              "    }\n",
              "  </style>\n",
              "\n",
              "      <script>\n",
              "        const buttonEl =\n",
              "          document.querySelector('#df-9f267aed-bdab-4bc7-a640-3abbef3cef94 button.colab-df-convert');\n",
              "        buttonEl.style.display =\n",
              "          google.colab.kernel.accessAllowed ? 'block' : 'none';\n",
              "\n",
              "        async function convertToInteractive(key) {\n",
              "          const element = document.querySelector('#df-9f267aed-bdab-4bc7-a640-3abbef3cef94');\n",
              "          const dataTable =\n",
              "            await google.colab.kernel.invokeFunction('convertToInteractive',\n",
              "                                                     [key], {});\n",
              "          if (!dataTable) return;\n",
              "\n",
              "          const docLinkHtml = 'Like what you see? Visit the ' +\n",
              "            '<a target=\"_blank\" href=https://colab.research.google.com/notebooks/data_table.ipynb>data table notebook</a>'\n",
              "            + ' to learn more about interactive tables.';\n",
              "          element.innerHTML = '';\n",
              "          dataTable['output_type'] = 'display_data';\n",
              "          await google.colab.output.renderOutput(dataTable, element);\n",
              "          const docLink = document.createElement('div');\n",
              "          docLink.innerHTML = docLinkHtml;\n",
              "          element.appendChild(docLink);\n",
              "        }\n",
              "      </script>\n",
              "    </div>\n",
              "  </div>\n",
              "  "
            ]
          },
          "metadata": {},
          "execution_count": 156
        }
      ]
    },
    {
      "cell_type": "code",
      "source": [
        "features_considered = ['State_CT', 'State_MA', 'State_NY', 'State_RI', 'NAICS_23', 'NAICS_44', 'NAICS_45', 'NAICS_54', 'NAICS_72', 'NAICS_81','inflation', 'Average_State_Income', 'mean', 'REALLOCATION_RATE', 'JOB_DESTRUCTION']"
      ],
      "metadata": {
        "id": "Pdqosn9HKQDD"
      },
      "execution_count": 157,
      "outputs": []
    },
    {
      "cell_type": "code",
      "source": [
        "X_train_inc_inf = X_train[features_considered]\n",
        "X_test_sf_inc_inf = X_test[features_considered]\n",
        "X_val_sf_inc_inf = X_val[features_considered]"
      ],
      "metadata": {
        "id": "39_0qCIzHRZR"
      },
      "execution_count": 158,
      "outputs": []
    },
    {
      "cell_type": "code",
      "source": [
        "# Linear Regression - Performing Linear Regression\n",
        "from sklearn.linear_model import LinearRegression\n",
        "model_3 = LinearRegression(fit_intercept=True).fit(X_train_inc_inf, y_train)\n",
        "y_train_predicted_3 = model_3.predict(X_train_inc_inf)\n",
        "y_val_predicted_3 = model_3.predict(X_val_sf_inc_inf)\n",
        "# Linear Regression - RMSE for training and validation data\n",
        "rmse_train_3 = rmse(y_train, y_train_predicted_3)\n",
        "rmse_val_3 = rmse(y_val, y_val_predicted_3)\n",
        "r2_train_3 = r2_score(y_train, y_train_predicted_3)\n",
        "r2_val_3 = r2_score(y_val, y_val_predicted_3)\n",
        "print(\"For the linear regression model in part 3:\\n\", \"RMSE for training data is: \",rmse_train_3,\"\\n\",\"RMSE for validation data is: \",rmse_val_3,\"\\n\",\"R2 Score for training data is: \",r2_train_3,\"\\n\",\"R2 Score for validation data is: \",r2_val_3)"
      ],
      "metadata": {
        "colab": {
          "base_uri": "https://localhost:8080/"
        },
        "id": "svK8-8cYHRbo",
        "outputId": "fee956a4-68db-43e9-c553-cbc5971e41a4"
      },
      "execution_count": 159,
      "outputs": [
        {
          "output_type": "stream",
          "name": "stdout",
          "text": [
            "For the linear regression model in part 3:\n",
            " RMSE for training data is:  0.15818406689073714 \n",
            " RMSE for validation data is:  0.15832851380835958 \n",
            " R2 Score for training data is:  0.17904172580377287 \n",
            " R2 Score for validation data is:  0.17880983648615278\n"
          ]
        }
      ]
    },
    {
      "cell_type": "code",
      "source": [
        "# Plotting residual Curves for the Regression model\n",
        "residuals_3 = y_val - y_val_predicted_3\n",
        "ax = sns.regplot(y_val, residuals_3)\n",
        "ax.set_xlabel('SBA Approved / Gross Approved (Validation Data)')\n",
        "ax.set_ylabel('Residuals (Actual Price - Predicted Price)')\n",
        "ax.set_title(\"Residuals vs. SBA Approved / Gross Approved on Validation Data\");"
      ],
      "metadata": {
        "colab": {
          "base_uri": "https://localhost:8080/",
          "height": 350
        },
        "id": "WlZrAln2LJFk",
        "outputId": "07759566-8fae-4992-80e9-28afd6763fa5"
      },
      "execution_count": 160,
      "outputs": [
        {
          "output_type": "stream",
          "name": "stderr",
          "text": [
            "/usr/local/lib/python3.7/dist-packages/seaborn/_decorators.py:43: FutureWarning: Pass the following variables as keyword args: x, y. From version 0.12, the only valid positional argument will be `data`, and passing other arguments without an explicit keyword will result in an error or misinterpretation.\n",
            "  FutureWarning\n"
          ]
        },
        {
          "output_type": "display_data",
          "data": {
            "text/plain": [
              "<Figure size 432x288 with 1 Axes>"
            ],
            "image/png": "[encoded data removed]"
          },
          "metadata": {
            "needs_background": "light"
          }
        }
      ]
    },
    {
      "cell_type": "code",
      "source": [
        "### Test data\n",
        "y_test_predicted = model_3.predict(X_test_sf_inc_inf)\n",
        "# Linear Regression - RMSE for training and validation data\n",
        "rmse_test = rmse(y_test, y_test_predicted)\n",
        "r2_test = r2_score(y_test, y_test_predicted)\n",
        "print(\"For the linear regression model in part 3:\\n\", \"RMSE for test data is: \",rmse_test,\"\\n\",\"R2 Score for test data is: \",r2_test)"
      ],
      "metadata": {
        "colab": {
          "base_uri": "https://localhost:8080/"
        },
        "id": "JkaZ1xkhKX4R",
        "outputId": "59a650b5-0221-4126-ceb1-c2bb2244fda2"
      },
      "execution_count": 161,
      "outputs": [
        {
          "output_type": "stream",
          "name": "stdout",
          "text": [
            "For the linear regression model in part 3:\n",
            " RMSE for test data is:  0.19035823905319302 \n",
            " R2 Score for test data is:  0.007878341088477736\n"
          ]
        }
      ]
    },
    {
      "cell_type": "code",
      "source": [
        ""
      ],
      "metadata": {
        "id": "VNZMcWruKX61"
      },
      "execution_count": null,
      "outputs": []
    },
    {
      "cell_type": "code",
      "source": [
        ""
      ],
      "metadata": {
        "id": "_B2iVHwwKX-u"
      },
      "execution_count": null,
      "outputs": []
    },
    {
      "cell_type": "code",
      "source": [
        ""
      ],
      "metadata": {
        "id": "ZdtLzyZOKYEF"
      },
      "execution_count": null,
      "outputs": []
    },
    {
      "cell_type": "code",
      "execution_count": null,
      "outputs": [],
      "source": [
        "####TRASH#####"
      ],
      "metadata": {
        "pycharm": {
          "name": "#%%\n"
        },
        "id": "RBBUsb4imUwp"
      }
    },
    {
      "cell_type": "code",
      "execution_count": null,
      "outputs": [],
      "source": [
        "# ###Polynomial Regression\n",
        "# from sklearn.preprocessing import PolynomialFeatures\n",
        "# poly = PolynomialFeatures()\n",
        "# poly.fit(X_train_2)\n",
        "# X_train_2_poly = poly.transform(X_train_2)\n",
        "# X_val_2_poly = poly.transform(X_val_2)"
      ],
      "metadata": {
        "pycharm": {
          "name": "#%%\n"
        },
        "id": "2pNbfRc8mUwp"
      }
    },
    {
      "cell_type": "code",
      "execution_count": null,
      "outputs": [],
      "source": [
        "# Linear Regression - Performing Linear Regression\n",
        "# poly_model_2 = LinearRegression(fit_intercept=True).fit(X_val_2_poly, y_train)\n",
        "# y_train_predicted_poly_2 = poly_model_2.predict(X_train_2_poly)\n",
        "# y_val_predicted_poly_2 = poly_model_2.predict(X_val_2_poly)\n",
        "# # Linear Regression - RMSE for training and validation data\n",
        "# rmse_train_poly_2 = rmse(y_train, y_train_predicted_poly_2)\n",
        "# rmse_val_poly_2 = rmse(y_val, y_val_predicted_poly_2)\n",
        "# print(\"For the linear regression model in part 2:\\n\", \"RMSE for training data is: \",rmse_train_poly_2,\"\\n\",\"RMSE for validation data is: \",rmse_val_poly_2)"
      ],
      "metadata": {
        "pycharm": {
          "name": "#%%\n"
        },
        "id": "pUJfPXYTmUwp"
      }
    },
    {
      "cell_type": "code",
      "execution_count": 162,
      "outputs": [
        {
          "output_type": "execute_result",
          "data": {
            "text/plain": [
              "87"
            ]
          },
          "metadata": {},
          "execution_count": 162
        }
      ],
      "source": [
        "len(X_train.columns)"
      ],
      "metadata": {
        "pycharm": {
          "name": "#%%\n"
        },
        "colab": {
          "base_uri": "https://localhost:8080/"
        },
        "id": "VxrIAk67mUwp",
        "outputId": "36d97260-82e6-40f7-b9ed-2f9cf08db2c8"
      }
    },
    {
      "cell_type": "code",
      "execution_count": 163,
      "outputs": [
        {
          "output_type": "execute_result",
          "data": {
            "text/plain": [
              "PCA(n_components=87, random_state=0)"
            ]
          },
          "metadata": {},
          "execution_count": 163
        }
      ],
      "source": [
        "###PCA\n",
        "from sklearn.decomposition import PCA\n",
        "pca = PCA(n_components=len(X_train.columns), random_state = 0)\n",
        "pca.fit(X_train)"
      ],
      "metadata": {
        "pycharm": {
          "name": "#%%\n"
        },
        "colab": {
          "base_uri": "https://localhost:8080/"
        },
        "id": "4erZS3C9mUwp",
        "outputId": "50b40b1b-ac07-442f-c8cb-e5bc73e58ed2"
      }
    },
    {
      "cell_type": "code",
      "execution_count": 164,
      "outputs": [],
      "source": [
        "from sklearn import preprocessing\n",
        "# X_train_pca = pca.transform(preprocessing.scale(X_train))\n",
        "X_train_pca = pca.transform(X_train)\n",
        "X_train_pca = pd.DataFrame(X_train_pca)\n",
        "# X_val_pca = pca.transform(preprocessing.scale(X_val))\n",
        "X_val_pca = pca.transform(X_val)\n",
        "X_val_pca = pd.DataFrame(X_val_pca)"
      ],
      "metadata": {
        "pycharm": {
          "name": "#%%\n"
        },
        "id": "3z4gN9mrmUwq"
      }
    },
    {
      "cell_type": "code",
      "execution_count": 165,
      "outputs": [],
      "source": [
        "variance = pca.explained_variance_\n",
        "prop_variance = pca.explained_variance_ratio_\n",
        "cum_prop_variance = np.cumsum(pca.explained_variance_ratio_)\n",
        "pca_summary = pd.DataFrame({'Variance':variance, 'Proportion of Variance':prop_variance, 'Cumulative Proportion':cum_prop_variance}).T\n",
        "pca_column_name_array = []\n",
        "for num in range(1,len(X_train.columns)+1):\n",
        "    name='PC'+str(num)\n",
        "    pca_column_name_array.append(name)\n",
        "pca_summary.columns = pca_column_name_array"
      ],
      "metadata": {
        "pycharm": {
          "name": "#%%\n"
        },
        "id": "bw7LmyGBmUwq"
      }
    },
    {
      "cell_type": "code",
      "execution_count": 166,
      "outputs": [
        {
          "output_type": "execute_result",
          "data": {
            "text/plain": [
              "                              PC1       PC2       PC3       PC4       PC5  \\\n",
              "Variance                22.735580  5.729601  2.009210  1.505539  1.037402   \n",
              "Proportion of Variance   0.608905  0.153450  0.053811  0.040321  0.027784   \n",
              "Cumulative Proportion    0.608905  0.762355  0.816166  0.856487  0.884271   \n",
              "\n",
              "                             PC6       PC7       PC8       PC9      PC10  ...  \\\n",
              "Variance                0.956915  0.521833  0.472245  0.211379  0.179821  ...   \n",
              "Proportion of Variance  0.025628  0.013976  0.012648  0.005661  0.004816  ...   \n",
              "Cumulative Proportion   0.909899  0.923875  0.936523  0.942184  0.947000  ...   \n",
              "\n",
              "                            PC78      PC79      PC80      PC81      PC82  \\\n",
              "Variance                0.002693  0.002616  0.001772  0.001641  0.001526   \n",
              "Proportion of Variance  0.000072  0.000070  0.000047  0.000044  0.000041   \n",
              "Cumulative Proportion   0.999736  0.999806  0.999853  0.999897  0.999938   \n",
              "\n",
              "                            PC83      PC84      PC85      PC86      PC87  \n",
              "Variance                0.001072  0.000687  0.000354  0.000158  0.000039  \n",
              "Proportion of Variance  0.000029  0.000018  0.000009  0.000004  0.000001  \n",
              "Cumulative Proportion   0.999967  0.999985  0.999995  0.999999  1.000000  \n",
              "\n",
              "[3 rows x 87 columns]"
            ],
            "text/html": [
              "\n",
              "  <div id=\"df-c6849114-21f7-4c53-ac9b-1ebad9656a5b\">\n",
              "    <div class=\"colab-df-container\">\n",
              "      <div>\n",
              "<style scoped>\n",
              "    .dataframe tbody tr th:only-of-type {\n",
              "        vertical-align: middle;\n",
              "    }\n",
              "\n",
              "    .dataframe tbody tr th {\n",
              "        vertical-align: top;\n",
              "    }\n",
              "\n",
              "    .dataframe thead th {\n",
              "        text-align: right;\n",
              "    }\n",
              "</style>\n",
              "<table border=\"1\" class=\"dataframe\">\n",
              "  <thead>\n",
              "    <tr style=\"text-align: right;\">\n",
              "      <th></th>\n",
              "      <th>PC1</th>\n",
              "      <th>PC2</th>\n",
              "      <th>PC3</th>\n",
              "      <th>PC4</th>\n",
              "      <th>PC5</th>\n",
              "      <th>PC6</th>\n",
              "      <th>PC7</th>\n",
              "      <th>PC8</th>\n",
              "      <th>PC9</th>\n",
              "      <th>PC10</th>\n",
              "      <th>...</th>\n",
              "      <th>PC78</th>\n",
              "      <th>PC79</th>\n",
              "      <th>PC80</th>\n",
              "      <th>PC81</th>\n",
              "      <th>PC82</th>\n",
              "      <th>PC83</th>\n",
              "      <th>PC84</th>\n",
              "      <th>PC85</th>\n",
              "      <th>PC86</th>\n",
              "      <th>PC87</th>\n",
              "    </tr>\n",
              "  </thead>\n",
              "  <tbody>\n",
              "    <tr>\n",
              "      <th>Variance</th>\n",
              "      <td>22.735580</td>\n",
              "      <td>5.729601</td>\n",
              "      <td>2.009210</td>\n",
              "      <td>1.505539</td>\n",
              "      <td>1.037402</td>\n",
              "      <td>0.956915</td>\n",
              "      <td>0.521833</td>\n",
              "      <td>0.472245</td>\n",
              "      <td>0.211379</td>\n",
              "      <td>0.179821</td>\n",
              "      <td>...</td>\n",
              "      <td>0.002693</td>\n",
              "      <td>0.002616</td>\n",
              "      <td>0.001772</td>\n",
              "      <td>0.001641</td>\n",
              "      <td>0.001526</td>\n",
              "      <td>0.001072</td>\n",
              "      <td>0.000687</td>\n",
              "      <td>0.000354</td>\n",
              "      <td>0.000158</td>\n",
              "      <td>0.000039</td>\n",
              "    </tr>\n",
              "    <tr>\n",
              "      <th>Proportion of Variance</th>\n",
              "      <td>0.608905</td>\n",
              "      <td>0.153450</td>\n",
              "      <td>0.053811</td>\n",
              "      <td>0.040321</td>\n",
              "      <td>0.027784</td>\n",
              "      <td>0.025628</td>\n",
              "      <td>0.013976</td>\n",
              "      <td>0.012648</td>\n",
              "      <td>0.005661</td>\n",
              "      <td>0.004816</td>\n",
              "      <td>...</td>\n",
              "      <td>0.000072</td>\n",
              "      <td>0.000070</td>\n",
              "      <td>0.000047</td>\n",
              "      <td>0.000044</td>\n",
              "      <td>0.000041</td>\n",
              "      <td>0.000029</td>\n",
              "      <td>0.000018</td>\n",
              "      <td>0.000009</td>\n",
              "      <td>0.000004</td>\n",
              "      <td>0.000001</td>\n",
              "    </tr>\n",
              "    <tr>\n",
              "      <th>Cumulative Proportion</th>\n",
              "      <td>0.608905</td>\n",
              "      <td>0.762355</td>\n",
              "      <td>0.816166</td>\n",
              "      <td>0.856487</td>\n",
              "      <td>0.884271</td>\n",
              "      <td>0.909899</td>\n",
              "      <td>0.923875</td>\n",
              "      <td>0.936523</td>\n",
              "      <td>0.942184</td>\n",
              "      <td>0.947000</td>\n",
              "      <td>...</td>\n",
              "      <td>0.999736</td>\n",
              "      <td>0.999806</td>\n",
              "      <td>0.999853</td>\n",
              "      <td>0.999897</td>\n",
              "      <td>0.999938</td>\n",
              "      <td>0.999967</td>\n",
              "      <td>0.999985</td>\n",
              "      <td>0.999995</td>\n",
              "      <td>0.999999</td>\n",
              "      <td>1.000000</td>\n",
              "    </tr>\n",
              "  </tbody>\n",
              "</table>\n",
              "<p>3 rows × 87 columns</p>\n",
              "</div>\n",
              "      <button class=\"colab-df-convert\" onclick=\"convertToInteractive('df-c6849114-21f7-4c53-ac9b-1ebad9656a5b')\"\n",
              "              title=\"Convert this dataframe to an interactive table.\"\n",
              "              style=\"display:none;\">\n",
              "        \n",
              "  <svg xmlns=\"http://www.w3.org/2000/svg\" height=\"24px\"viewBox=\"0 0 24 24\"\n",
              "       width=\"24px\">\n",
              "    <path d=\"M0 0h24v24H0V0z\" fill=\"none\"/>\n",
              "    <path d=\"M18.56 5.44l.94 2.06.94-2.06 2.06-.94-2.06-.94-.94-2.06-.94 2.06-2.06.94zm-11 1L8.5 8.5l.94-2.06 2.06-.94-2.06-.94L8.5 2.5l-.94 2.06-2.06.94zm10 10l.94 2.06.94-2.06 2.06-.94-2.06-.94-.94-2.06-.94 2.06-2.06.94z\"/><path d=\"M17.41 7.96l-1.37-1.37c-.4-.4-.92-.59-1.43-.59-.52 0-1.04.2-1.43.59L10.3 9.45l-7.72 7.72c-.78.78-.78 2.05 0 2.83L4 21.41c.39.39.9.59 1.41.59.51 0 1.02-.2 1.41-.59l7.78-7.78 2.81-2.81c.8-.78.8-2.07 0-2.86zM5.41 20L4 18.59l7.72-7.72 1.47 1.35L5.41 20z\"/>\n",
              "  </svg>\n",
              "      </button>\n",
              "      \n",
              "  <style>\n",
              "    .colab-df-container {\n",
              "      display:flex;\n",
              "      flex-wrap:wrap;\n",
              "      gap: 12px;\n",
              "    }\n",
              "\n",
              "    .colab-df-convert {\n",
              "      background-color: #E8F0FE;\n",
              "      border: none;\n",
              "      border-radius: 50%;\n",
              "      cursor: pointer;\n",
              "      display: none;\n",
              "      fill: #1967D2;\n",
              "      height: 32px;\n",
              "      padding: 0 0 0 0;\n",
              "      width: 32px;\n",
              "    }\n",
              "\n",
              "    .colab-df-convert:hover {\n",
              "      background-color: #E2EBFA;\n",
              "      box-shadow: 0px 1px 2px rgba(60, 64, 67, 0.3), 0px 1px 3px 1px rgba(60, 64, 67, 0.15);\n",
              "      fill: #174EA6;\n",
              "    }\n",
              "\n",
              "    [theme=dark] .colab-df-convert {\n",
              "      background-color: #3B4455;\n",
              "      fill: #D2E3FC;\n",
              "    }\n",
              "\n",
              "    [theme=dark] .colab-df-convert:hover {\n",
              "      background-color: #434B5C;\n",
              "      box-shadow: 0px 1px 3px 1px rgba(0, 0, 0, 0.15);\n",
              "      filter: drop-shadow(0px 1px 2px rgba(0, 0, 0, 0.3));\n",
              "      fill: #FFFFFF;\n",
              "    }\n",
              "  </style>\n",
              "\n",
              "      <script>\n",
              "        const buttonEl =\n",
              "          document.querySelector('#df-c6849114-21f7-4c53-ac9b-1ebad9656a5b button.colab-df-convert');\n",
              "        buttonEl.style.display =\n",
              "          google.colab.kernel.accessAllowed ? 'block' : 'none';\n",
              "\n",
              "        async function convertToInteractive(key) {\n",
              "          const element = document.querySelector('#df-c6849114-21f7-4c53-ac9b-1ebad9656a5b');\n",
              "          const dataTable =\n",
              "            await google.colab.kernel.invokeFunction('convertToInteractive',\n",
              "                                                     [key], {});\n",
              "          if (!dataTable) return;\n",
              "\n",
              "          const docLinkHtml = 'Like what you see? Visit the ' +\n",
              "            '<a target=\"_blank\" href=https://colab.research.google.com/notebooks/data_table.ipynb>data table notebook</a>'\n",
              "            + ' to learn more about interactive tables.';\n",
              "          element.innerHTML = '';\n",
              "          dataTable['output_type'] = 'display_data';\n",
              "          await google.colab.output.renderOutput(dataTable, element);\n",
              "          const docLink = document.createElement('div');\n",
              "          docLink.innerHTML = docLinkHtml;\n",
              "          element.appendChild(docLink);\n",
              "        }\n",
              "      </script>\n",
              "    </div>\n",
              "  </div>\n",
              "  "
            ]
          },
          "metadata": {},
          "execution_count": 166
        }
      ],
      "source": [
        "pca_summary"
      ],
      "metadata": {
        "pycharm": {
          "name": "#%%\n"
        },
        "colab": {
          "base_uri": "https://localhost:8080/",
          "height": 271
        },
        "id": "NubNw7M_mUwq",
        "outputId": "54fefa09-5fb4-4072-bdf1-fa3685285144"
      }
    },
    {
      "cell_type": "code",
      "execution_count": 167,
      "outputs": [
        {
          "output_type": "display_data",
          "data": {
            "text/plain": [
              "<Figure size 720x504 with 1 Axes>"
            ],
            "image/png": "[encoded data removed]"
          },
          "metadata": {
            "needs_background": "light"
          }
        }
      ],
      "source": [
        "plt.figure(figsize=(10,7))\n",
        "plt.plot(pca_summary.iloc[1:2].T.loc[\"PC1\":\"PC15\"]*100, marker = 'o', linestyle= '-')\n",
        "plt.plot(pca_summary.iloc[2:3].T.loc[\"PC1\":\"PC15\"]*100, marker = 'o', linestyle= '-')\n",
        "plt.legend(['Variance', 'Cummulative Variance'])\n",
        "plt.xlabel('Principal Component', fontsize = 14)\n",
        "plt.ylabel('Proportion of Explained Variance, %', fontsize = 14);"
      ],
      "metadata": {
        "pycharm": {
          "name": "#%%\n"
        },
        "colab": {
          "base_uri": "https://localhost:8080/",
          "height": 446
        },
        "id": "3rPQRDSfmUwq",
        "outputId": "4e5d55ef-6146-471c-f9bf-2cd6f8d225ab"
      }
    },
    {
      "cell_type": "code",
      "execution_count": 168,
      "outputs": [
        {
          "output_type": "stream",
          "name": "stdout",
          "text": [
            "For the linear regression model in part 4:\n",
            " RMSE for training data is:  0.14519674702080057 \n",
            " RMSE for validation data is:  0.14528851301206094 \n",
            " R2 Score for training data is:  0.30831336611528726 \n",
            " R2 Score for validation data is:  0.3085066210753352\n"
          ]
        }
      ],
      "source": [
        "# Linear Regression - Performing Linear Regression\n",
        "model_4 = LinearRegression().fit(X_train_pca.iloc[: , :10], y_train)\n",
        "y_train_predicted_4 = model_4.predict(X_train_pca.iloc[: , :10])\n",
        "y_val_predicted_4 = model_4.predict(X_val_pca.iloc[: , :10])\n",
        "# Linear Regression - RMSE for training and validation data\n",
        "rmse_train_4 = rmse(y_train, y_train_predicted_4)\n",
        "rmse_val_4 = rmse(y_val, y_val_predicted_4)\n",
        "r2_train_4 = r2_score(y_train, y_train_predicted_4)\n",
        "r2_val_4 = r2_score(y_val, y_val_predicted_4)\n",
        "print(\"For the linear regression model in part 4:\\n\", \"RMSE for training data is: \",rmse_train_4,\"\\n\",\"RMSE for validation data is: \",rmse_val_4,\"\\n\",\"R2 Score for training data is: \",r2_train_4,\"\\n\",\"R2 Score for validation data is: \",r2_val_4)"
      ],
      "metadata": {
        "pycharm": {
          "name": "#%%\n",
          "is_executing": true
        },
        "colab": {
          "base_uri": "https://localhost:8080/"
        },
        "id": "JsyKxkS8mUwq",
        "outputId": "1964be12-d9c1-4707-c2e6-5af85cbf29c5"
      }
    },
    {
      "cell_type": "code",
      "execution_count": 169,
      "outputs": [
        {
          "output_type": "stream",
          "name": "stdout",
          "text": [
            "For the linear regression model in part 3:\n",
            " RMSE for test data is:  0.22480614357125192 \n",
            " R2 Score for test data is:  -0.38368720405548307\n"
          ]
        },
        {
          "output_type": "stream",
          "name": "stderr",
          "text": [
            "/usr/local/lib/python3.7/dist-packages/sklearn/base.py:444: UserWarning: X has feature names, but LinearRegression was fitted without feature names\n",
            "  f\"X has feature names, but {self.__class__.__name__} was fitted without\"\n"
          ]
        }
      ],
      "source": [
        "### Test data\n",
        "X_test_pca = pca.transform(X_test)\n",
        "X_test_pca = pd.DataFrame(X_test_pca)\n",
        "y_test_predicted = model_4.predict(X_test.iloc[: , :10])\n",
        "# Linear Regression - RMSE for training and validation data\n",
        "rmse_test = rmse(y_test, y_test_predicted)\n",
        "r2_test = r2_score(y_test, y_test_predicted)\n",
        "print(\"For the linear regression model in part 3:\\n\", \"RMSE for test data is: \",rmse_test,\"\\n\",\"R2 Score for test data is: \",r2_test)"
      ],
      "metadata": {
        "pycharm": {
          "name": "#%%\n"
        },
        "colab": {
          "base_uri": "https://localhost:8080/"
        },
        "id": "x5WNvNKimUwq",
        "outputId": "0748ccb6-626e-4b43-e8f6-33cb3acd1f78"
      }
    }
  ],
  "metadata": {
    "kernelspec": {
      "display_name": "Python 3",
      "language": "python",
      "name": "python3"
    },
    "language_info": {
      "codemirror_mode": {
        "name": "ipython",
        "version": 2
      },
      "file_extension": ".py",
      "mimetype": "text/x-python",
      "name": "python",
      "nbconvert_exporter": "python",
      "pygments_lexer": "ipython2",
      "version": "2.7.6"
    },
    "colab": {
      "name": "Python_NAICS_Notebook.ipynb",
      "provenance": []
    }
  },
  "nbformat": 4,
  "nbformat_minor": 0
}