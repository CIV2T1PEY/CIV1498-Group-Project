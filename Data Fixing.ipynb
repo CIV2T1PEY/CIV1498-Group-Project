{
 "cells": [
  {
   "cell_type": "code",
   "execution_count": 1,
   "id": "10c35f43",
   "metadata": {},
   "outputs": [],
   "source": [
    "# ----------------Import packages\n",
    "import os\n",
    "import json\n",
    "import pandas as pd\n",
    "import seaborn as sns\n",
    "from datetime import datetime\n",
    "import numpy as np\n",
    "import matplotlib.pylab as plt"
   ]
  },
  {
   "cell_type": "code",
   "execution_count": 2,
   "id": "41cd5d42",
   "metadata": {},
   "outputs": [],
   "source": [
    "# ----------------Panda Dataframe Set Up\n",
    "SBA_Loan = pd.read_csv('SBAnational.csv', low_memory=False)\n",
    "\n",
    "SBA_Loan['ApprovalDate'] = pd.to_datetime(SBA_Loan['ApprovalDate'], dayfirst=True, format='%d-%b-%y')\n",
    "#SBA_Loan = SBA_Loan.sort_values(by='ApprovalFY', ascending=False)"
   ]
  },
  {
   "cell_type": "code",
   "execution_count": 3,
   "id": "6ce3929c",
   "metadata": {},
   "outputs": [
    {
     "name": "stdout",
     "output_type": "stream",
     "text": [
      "1969-01-31T00:00:00.000000000 \n",
      "\n",
      "2068-12-03T00:00:00.000000000 \n",
      "\n"
     ]
    }
   ],
   "source": [
    "US_President = pd.read_csv('US_President.csv')\n",
    "\n",
    "#print(SBA_Loan['ApprovalFY'].values.min())  #check the earliest year, output = 1962\n",
    "#print(SBA_Loan['ApprovalFY'].values.max())  #check the latest year, output = 2014\n",
    "print(SBA_Loan['ApprovalDate'].values.min(), '\\n')  \n",
    "#check the earliest date, output = 1969-01-31, doesnt match with the approval year data\n",
    "print(SBA_Loan['ApprovalDate'].values.max(), '\\n')  \n",
    "#check the latest date, output = 2068-12-03, makes no sense, \n",
    "#need to check to_datetime function above, it appears to_datetime function assumes year 62 to be 2062, but it is 1962"
   ]
  },
  {
   "cell_type": "code",
   "execution_count": 4,
   "id": "3daed960",
   "metadata": {},
   "outputs": [],
   "source": [
    "US_President['start date'] = pd.to_datetime(US_President['From'])\n",
    "\n",
    "US_President['end date'] = pd.to_datetime(US_President['To'],errors='coerce')  \n",
    "# the last end date is current, which is a string, replace it with NAT\n",
    "US_President['end date'] = US_President['end date'].fillna(pd.to_datetime('2021-01-20'))  \n",
    "# Replace NAT with the googled last day of Trump's presidency term"
   ]
  },
  {
   "cell_type": "code",
   "execution_count": 5,
   "id": "f14385ac",
   "metadata": {},
   "outputs": [
    {
     "name": "stdout",
     "output_type": "stream",
     "text": [
      "<class 'pandas.core.frame.DataFrame'>\n",
      "RangeIndex: 899164 entries, 0 to 899163\n",
      "Data columns (total 27 columns):\n",
      " #   Column             Non-Null Count   Dtype         \n",
      "---  ------             --------------   -----         \n",
      " 0   LoanNr_ChkDgt      899164 non-null  int64         \n",
      " 1   Name               899150 non-null  object        \n",
      " 2   City               899134 non-null  object        \n",
      " 3   State              899150 non-null  object        \n",
      " 4   Zip                899164 non-null  int64         \n",
      " 5   Bank               897605 non-null  object        \n",
      " 6   BankState          897598 non-null  object        \n",
      " 7   NAICS              899164 non-null  int64         \n",
      " 8   ApprovalDate       899164 non-null  datetime64[ns]\n",
      " 9   ApprovalFY         899164 non-null  object        \n",
      " 10  Term               899164 non-null  int64         \n",
      " 11  NoEmp              899164 non-null  int64         \n",
      " 12  NewExist           899028 non-null  float64       \n",
      " 13  CreateJob          899164 non-null  int64         \n",
      " 14  RetainedJob        899164 non-null  int64         \n",
      " 15  FranchiseCode      899164 non-null  int64         \n",
      " 16  UrbanRural         899164 non-null  int64         \n",
      " 17  RevLineCr          894636 non-null  object        \n",
      " 18  LowDoc             896582 non-null  object        \n",
      " 19  ChgOffDate         162699 non-null  object        \n",
      " 20  DisbursementDate   896796 non-null  object        \n",
      " 21  DisbursementGross  899164 non-null  object        \n",
      " 22  BalanceGross       899164 non-null  object        \n",
      " 23  MIS_Status         897167 non-null  object        \n",
      " 24  ChgOffPrinGr       899164 non-null  object        \n",
      " 25  GrAppv             899164 non-null  object        \n",
      " 26  SBA_Appv           899164 non-null  object        \n",
      "dtypes: datetime64[ns](1), float64(1), int64(9), object(16)\n",
      "memory usage: 185.2+ MB\n",
      "None \n",
      "\n",
      "0.2245952907367288 \n",
      "\n",
      "0.0009008367772731115 \n",
      "\n"
     ]
    }
   ],
   "source": [
    "#----------------Overview of the Dataframe\n",
    "print(SBA_Loan.info(), '\\n')\n",
    "print(SBA_Loan['NAICS'].value_counts()[0]/SBA_Loan.shape[0], '\\n')   \n",
    "#about 22.5% of data do not have industry info, they can be removed for some questions\n",
    "print(SBA_Loan['Term'].value_counts()[0]/SBA_Loan.shape[0], '\\n')   \n",
    "#about 0.1% of data have 0 term, which makes no sense, since the term is in months, \n",
    "#it is likely that the loan duration is less than 1 month (e.g., 1 week), in this case 0 should be round up to 1"
   ]
  },
  {
   "cell_type": "code",
   "execution_count": 6,
   "id": "5343809e",
   "metadata": {},
   "outputs": [],
   "source": [
    "#Data Cleaning\n",
    "#----------------Drop the dollar under some columns in SBA_Loan and convert the type to float\n",
    "def clean_currency(x):\n",
    "    \"\"\" If the value is a string, then remove currency symbol and delimiters\n",
    "    otherwise, the value is numeric and can be converted\n",
    "    \"\"\"\n",
    "    if isinstance(x, str):\n",
    "        return x.replace('$', '').replace(',', '')\n",
    "    return x"
   ]
  },
  {
   "cell_type": "code",
   "execution_count": 7,
   "id": "18f5570c",
   "metadata": {},
   "outputs": [
    {
     "name": "stdout",
     "output_type": "stream",
     "text": [
      "0          60000.0\n",
      "1          40000.0\n",
      "2         287000.0\n",
      "3          35000.0\n",
      "4         229000.0\n",
      "            ...   \n",
      "899159     70000.0\n",
      "899160     85000.0\n",
      "899161    300000.0\n",
      "899162     75000.0\n",
      "899163     30000.0\n",
      "Name: DisbursementGross, Length: 899164, dtype: float64\n"
     ]
    }
   ],
   "source": [
    "SBA_Loan['DisbursementGross'] = SBA_Loan['DisbursementGross'].apply(clean_currency).astype('float')\n",
    "SBA_Loan['ChgOffPrinGr'] = SBA_Loan['ChgOffPrinGr'].apply(clean_currency).astype('float')\n",
    "SBA_Loan['GrAppv'] = SBA_Loan['GrAppv'].apply(clean_currency).astype('float')\n",
    "SBA_Loan['SBA_Appv'] = SBA_Loan['SBA_Appv'].apply(clean_currency).astype('float')\n",
    "SBA_Loan['BalanceGross'] = SBA_Loan['BalanceGross'].apply(clean_currency).astype('float')\n",
    "#test\n",
    "print(SBA_Loan['DisbursementGross'])"
   ]
  },
  {
   "cell_type": "code",
   "execution_count": 8,
   "id": "8e85d663",
   "metadata": {},
   "outputs": [],
   "source": [
    "#----------------round term up from 0 to 1\n",
    "SBA_Loan['Term'] = SBA_Loan['Term'].replace(0, 1)"
   ]
  },
  {
   "cell_type": "code",
   "execution_count": 9,
   "id": "090b9e4e",
   "metadata": {},
   "outputs": [],
   "source": [
    "#----------------fix the year in ApprovalDate\n",
    "def fix_year(series_A, series_B):\n",
    "    empty_list = []\n",
    "    for index, value in enumerate(series_A):\n",
    "        k = value.replace(year = int(series_B[index]))\n",
    "        empty_list.append(k)\n",
    "    series_A = empty_list\n",
    "    return series_A"
   ]
  },
  {
   "cell_type": "code",
   "execution_count": 10,
   "id": "f9f2d127",
   "metadata": {},
   "outputs": [],
   "source": [
    "# 'Dhairya' - ApprovalFY columns had vstring values like '1967A' hence converted those values to only digits\n",
    "SBA_Loan['ApprovalFY'] = SBA_Loan['ApprovalFY'].str.extract('(\\d+)')"
   ]
  },
  {
   "cell_type": "code",
   "execution_count": 11,
   "id": "9a7dad81",
   "metadata": {},
   "outputs": [
    {
     "name": "stdout",
     "output_type": "stream",
     "text": [
      "1962\n",
      "2014\n",
      "1962-12-07T00:00:00.000000000\n",
      "2014-12-31T00:00:00.000000000\n"
     ]
    }
   ],
   "source": [
    "SBA_Loan['ApprovalDate'] = fix_year(SBA_Loan['ApprovalDate'],SBA_Loan['ApprovalFY'])\n",
    "\n",
    "print(SBA_Loan['ApprovalFY'].values.min())  #check the earliest year, output = 1962\n",
    "print(SBA_Loan['ApprovalFY'].values.max())  #check the latest year, output = 2014\n",
    "print(SBA_Loan['ApprovalDate'].values.min())  #check the earliest date, output = 1962-12-07, code worked!\n",
    "print(SBA_Loan['ApprovalDate'].values.max())  #check the latest date, output = 2014-12-31, code worked!"
   ]
  },
  {
   "cell_type": "code",
   "execution_count": 12,
   "id": "87d72b08",
   "metadata": {},
   "outputs": [
    {
     "name": "stdout",
     "output_type": "stream",
     "text": [
      "<class 'pandas.core.frame.DataFrame'>\n",
      "Int64Index: 26 entries, 11 to 92\n",
      "Data columns (total 1 columns):\n",
      " #   Column        Non-Null Count  Dtype \n",
      "---  ------        --------------  ----- \n",
      " 0   IndustryName  26 non-null     object\n",
      "dtypes: object(1)\n",
      "memory usage: 416.0+ bytes\n",
      "None\n",
      "[11, 21, 22, 23, 31, 32, 33, 41, 42, 44, 45, 48, 49, 51, 52, 53, 54, 55, 56, 61, 62, 71, 72, 81, 91, 92]\n"
     ]
    }
   ],
   "source": [
    "#----------------convert Industry codes to text\n",
    "NAICS_DF = pd.read_csv('General Industry Codes.csv')\n",
    "NAICS_DF = NAICS_DF.set_index('Code')\n",
    "print(NAICS_DF.info())\n",
    "print(list(NAICS_DF.index.values))"
   ]
  },
  {
   "cell_type": "code",
   "execution_count": 13,
   "id": "ecaa21f3",
   "metadata": {},
   "outputs": [],
   "source": [
    "def industry_identifier(code):\n",
    "    industry_name = 'Undefined'\n",
    "    first_two_digits = int(str(code)[:2])\n",
    "    if first_two_digits in NAICS_DF.index.values:\n",
    "        if code != 0:\n",
    "           #industry_name = NAICS_DF[NAICS_DF['Code'] == first_two_digits]['IndustryName'].values\n",
    "           industry_name = NAICS_DF.loc[first_two_digits, 'IndustryName']\n",
    "\n",
    "    return industry_name"
   ]
  },
  {
   "cell_type": "code",
   "execution_count": 14,
   "id": "813b57f6",
   "metadata": {},
   "outputs": [],
   "source": [
    "SBA_Loan['Industry'] = SBA_Loan['NAICS'].apply(industry_identifier)\n",
    "\n",
    "SBA_Loan.to_csv('SBA_Loan_test.csv', index=False)"
   ]
  },
  {
   "cell_type": "code",
   "execution_count": 15,
   "id": "840dabae",
   "metadata": {},
   "outputs": [],
   "source": [
    "#Feature Engineering\n",
    "# --------------Create a function for merging based timestamp between two dates, run time is long, optimization could occur\n",
    "def merge_on_date(df_A, df_B, df_A_column, df_B_column):\n",
    "    for index, row in df_B.iterrows():\n",
    "        start_date = row['start date']\n",
    "        end_date = row['end date']\n",
    "        for index1, row1 in df_A.iterrows():\n",
    "            if row1['ApprovalDate'] < end_date and row1['ApprovalDate'] >= start_date:\n",
    "                df_A.at[index1, df_A_column] = row[df_B_column]\n",
    "\n",
    "    return df_A"
   ]
  },
  {
   "cell_type": "code",
   "execution_count": null,
   "id": "c96fc491",
   "metadata": {},
   "outputs": [
    {
     "name": "stderr",
     "output_type": "stream",
     "text": [
      "/Users/dhairyaparmar/anaconda3/lib/python3.9/site-packages/pandas/core/indexing.py:1684: SettingWithCopyWarning: \n",
      "A value is trying to be set on a copy of a slice from a DataFrame.\n",
      "Try using .loc[row_indexer,col_indexer] = value instead\n",
      "\n",
      "See the caveats in the documentation: https://pandas.pydata.org/pandas-docs/stable/user_guide/indexing.html#returning-a-view-versus-a-copy\n",
      "  self.obj[key] = infer_fill_value(value)\n",
      "/Users/dhairyaparmar/anaconda3/lib/python3.9/site-packages/pandas/core/indexing.py:1817: SettingWithCopyWarning: \n",
      "A value is trying to be set on a copy of a slice from a DataFrame.\n",
      "Try using .loc[row_indexer,col_indexer] = value instead\n",
      "\n",
      "See the caveats in the documentation: https://pandas.pydata.org/pandas-docs/stable/user_guide/indexing.html#returning-a-view-versus-a-copy\n",
      "  self._setitem_single_column(loc, value, pi)\n"
     ]
    }
   ],
   "source": [
    "#---------------Testing the function above\n",
    "# SBA_Loan_TX = SBA_Loan[SBA_Loan['State'] == 'TX']\n",
    "SBA_Loan_FL = SBA_Loan[SBA_Loan['State'] == 'FL']  \n",
    "#focus on Florida since the entire dataset is too big, Florida has historically being a swing state\n",
    "# SBA_Loan_TX = merge_on_date(SBA_Loan_TX, US_President, 'President Party','Party')\n",
    "SBA_Loan_FL = merge_on_date(SBA_Loan_FL, US_President, 'President Party','Party')\n",
    "SBA_Loan_merged = merge_on_date(SBA_Loan, US_President, 'President Party','Party')\n",
    "# SBA_Loan_TX = SBA_Loan[SBA_Loan['State'] == 'TX']\n",
    "# print(SBA_Loan_TX.head())\n",
    "# print(SBA_Loan_TX.info())\n",
    "# SBA_Loan_TX.to_csv('SBA_Loan_TX.csv', index=False)\n",
    "SBA_Loan_FL.to_csv('SBA_Loan_FL.csv', index=False)\n",
    "\n",
    "# 'Dhairya' - this cell is taking too long to run even if you exclude TX and only consider FL"
   ]
  },
  {
   "cell_type": "code",
   "execution_count": null,
   "id": "db4cd853",
   "metadata": {},
   "outputs": [],
   "source": [
    "#------------------Visualization\n",
    "SBA_Loan_FL_grouped = SBA_Loan_FL.groupby('President Party')['DisbursementGross'].sum()       \n",
    "#output the total amount of loan approved with each of the two parties, has to be normalized to amount per month/year\n",
    "print(SBA_Loan_FL_grouped)"
   ]
  },
  {
   "cell_type": "code",
   "execution_count": null,
   "id": "8a165509",
   "metadata": {},
   "outputs": [],
   "source": []
  }
 ],
 "metadata": {
  "kernelspec": {
   "display_name": "Python 3 (ipykernel)",
   "language": "python",
   "name": "python3"
  },
  "language_info": {
   "codemirror_mode": {
    "name": "ipython",
    "version": 3
   },
   "file_extension": ".py",
   "mimetype": "text/x-python",
   "name": "python",
   "nbconvert_exporter": "python",
   "pygments_lexer": "ipython3",
   "version": "3.9.7"
  }
 },
 "nbformat": 4,
 "nbformat_minor": 5
}
