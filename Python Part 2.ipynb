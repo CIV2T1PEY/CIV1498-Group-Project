{
 "cells": [
  {
   "cell_type": "code",
   "execution_count": 1,
   "metadata": {
    "collapsed": true
   },
   "outputs": [],
   "source": [
    "import os\n",
    "import json\n",
    "import pandas as pd\n",
    "import seaborn as sns\n",
    "from datetime import datetime\n",
    "import numpy as np\n",
    "import matplotlib.pylab as plt\n",
    "#from Useful_Functions import *\n",
    "from sklearn.linear_model import LogisticRegression\n",
    "from sklearn.model_selection import train_test_split\n"
   ]
  },
  {
   "cell_type": "code",
   "execution_count": 4,
   "outputs": [],
   "source": [
    "SBA_Loan = pd.read_csv('SBAnational.csv', low_memory=False)\n",
    "NAICS_DF = pd.read_csv('General Industry Codes.csv')\n",
    "NAICS_DF = NAICS_DF.set_index('Code')"
   ],
   "metadata": {
    "collapsed": false,
    "pycharm": {
     "name": "#%%\n"
    }
   }
  },
  {
   "cell_type": "code",
   "execution_count": 5,
   "outputs": [
    {
     "data": {
      "text/plain": "                                           IndustryName\nCode                                                   \n11           Agriculture, forestry, fishing and hunting\n21        Mining, quarrying, and oil and gas extraction\n22                                            Utilities\n23                                         Construction\n31                                        Manufacturing\n32                                        Manufacturing\n33                                        Manufacturing\n41                                      Wholesale trade\n42                                      Wholesale trade\n44                                         Retail trade\n45                                         Retail trade\n48                       Transportation and warehousing\n49                       Transportation and warehousing\n51                  Information and cultural industries\n52                                Finance and insurance\n53                   Real estate and rental and leasing\n54      Professional, scientific and technical services\n55              Management of companies and enterprises\n56    Administrative and support, waste management a...\n61                                 Educational services\n62                    Health care and social assistance\n71                   Arts, entertainment and recreation\n72                      Accommodation and food services\n81        Other services (except public administration)\n91                                Public administration\n92                                Public administration",
      "text/html": "<div>\n<style scoped>\n    .dataframe tbody tr th:only-of-type {\n        vertical-align: middle;\n    }\n\n    .dataframe tbody tr th {\n        vertical-align: top;\n    }\n\n    .dataframe thead th {\n        text-align: right;\n    }\n</style>\n<table border=\"1\" class=\"dataframe\">\n  <thead>\n    <tr style=\"text-align: right;\">\n      <th></th>\n      <th>IndustryName</th>\n    </tr>\n    <tr>\n      <th>Code</th>\n      <th></th>\n    </tr>\n  </thead>\n  <tbody>\n    <tr>\n      <th>11</th>\n      <td>Agriculture, forestry, fishing and hunting</td>\n    </tr>\n    <tr>\n      <th>21</th>\n      <td>Mining, quarrying, and oil and gas extraction</td>\n    </tr>\n    <tr>\n      <th>22</th>\n      <td>Utilities</td>\n    </tr>\n    <tr>\n      <th>23</th>\n      <td>Construction</td>\n    </tr>\n    <tr>\n      <th>31</th>\n      <td>Manufacturing</td>\n    </tr>\n    <tr>\n      <th>32</th>\n      <td>Manufacturing</td>\n    </tr>\n    <tr>\n      <th>33</th>\n      <td>Manufacturing</td>\n    </tr>\n    <tr>\n      <th>41</th>\n      <td>Wholesale trade</td>\n    </tr>\n    <tr>\n      <th>42</th>\n      <td>Wholesale trade</td>\n    </tr>\n    <tr>\n      <th>44</th>\n      <td>Retail trade</td>\n    </tr>\n    <tr>\n      <th>45</th>\n      <td>Retail trade</td>\n    </tr>\n    <tr>\n      <th>48</th>\n      <td>Transportation and warehousing</td>\n    </tr>\n    <tr>\n      <th>49</th>\n      <td>Transportation and warehousing</td>\n    </tr>\n    <tr>\n      <th>51</th>\n      <td>Information and cultural industries</td>\n    </tr>\n    <tr>\n      <th>52</th>\n      <td>Finance and insurance</td>\n    </tr>\n    <tr>\n      <th>53</th>\n      <td>Real estate and rental and leasing</td>\n    </tr>\n    <tr>\n      <th>54</th>\n      <td>Professional, scientific and technical services</td>\n    </tr>\n    <tr>\n      <th>55</th>\n      <td>Management of companies and enterprises</td>\n    </tr>\n    <tr>\n      <th>56</th>\n      <td>Administrative and support, waste management a...</td>\n    </tr>\n    <tr>\n      <th>61</th>\n      <td>Educational services</td>\n    </tr>\n    <tr>\n      <th>62</th>\n      <td>Health care and social assistance</td>\n    </tr>\n    <tr>\n      <th>71</th>\n      <td>Arts, entertainment and recreation</td>\n    </tr>\n    <tr>\n      <th>72</th>\n      <td>Accommodation and food services</td>\n    </tr>\n    <tr>\n      <th>81</th>\n      <td>Other services (except public administration)</td>\n    </tr>\n    <tr>\n      <th>91</th>\n      <td>Public administration</td>\n    </tr>\n    <tr>\n      <th>92</th>\n      <td>Public administration</td>\n    </tr>\n  </tbody>\n</table>\n</div>"
     },
     "execution_count": 5,
     "metadata": {},
     "output_type": "execute_result"
    }
   ],
   "source": [
    "NAICS_DF"
   ],
   "metadata": {
    "collapsed": false,
    "pycharm": {
     "name": "#%%\n"
    }
   }
  },
  {
   "cell_type": "code",
   "execution_count": 6,
   "outputs": [
    {
     "name": "stdout",
     "output_type": "stream",
     "text": [
      "0.2245952907367288\n",
      "0.0009008367772731115\n",
      "1.557001837262168e-05\n",
      "1.1121441694729772e-06\n"
     ]
    }
   ],
   "source": [
    "#----------------Overview of the Dataframe\n",
    "#print(SBA_Loan.info())\n",
    "print(SBA_Loan['NAICS'].value_counts()[0]/SBA_Loan.shape[0])   #about 22.5% of data do not have industry info, they can be removed for some questions\n",
    "print(SBA_Loan['Term'].value_counts()[0]/SBA_Loan.shape[0])    #about 0.1% of data have 0 term, which makes no sense, since the term is in months, it is likely that the loan duration is less than 1 month (e.g., 1 week), in this case 0 should be round up to 1\n",
    "print(SBA_Loan['State'].value_counts(dropna = False)[-1]/SBA_Loan.shape[0]) # only a few entries done have state info, we can drop them\n",
    "print(SBA_Loan['Name'].value_counts(dropna = False)[-1]/SBA_Loan.shape[0]) # only a few entries done have name info, we can drop them\n",
    "SBA_Loan = SBA_Loan[SBA_Loan['State'].notna()]\n",
    "SBA_Loan = SBA_Loan[SBA_Loan['Name'].notna()]\n",
    "SBA_Loan['Name'] = SBA_Loan['Name'].astype(str)"
   ],
   "metadata": {
    "collapsed": false,
    "pycharm": {
     "name": "#%%\n"
    }
   }
  },
  {
   "cell_type": "code",
   "execution_count": 7,
   "outputs": [
    {
     "name": "stderr",
     "output_type": "stream",
     "text": [
      "<ipython-input-7-ec52c39fc6c3>:4: SettingWithCopyWarning: \n",
      "A value is trying to be set on a copy of a slice from a DataFrame.\n",
      "Try using .loc[row_indexer,col_indexer] = value instead\n",
      "\n",
      "See the caveats in the documentation: https://pandas.pydata.org/pandas-docs/stable/user_guide/indexing.html#returning-a-view-versus-a-copy\n",
      "  No_missing_industry_df['Industry'] = SBA_Loan['NAICS']\n",
      "<ipython-input-7-ec52c39fc6c3>:5: SettingWithCopyWarning: \n",
      "A value is trying to be set on a copy of a slice from a DataFrame.\n",
      "Try using .loc[row_indexer,col_indexer] = value instead\n",
      "\n",
      "See the caveats in the documentation: https://pandas.pydata.org/pandas-docs/stable/user_guide/indexing.html#returning-a-view-versus-a-copy\n",
      "  No_missing_industry_df['Industry'] = No_missing_industry_df['Industry'].apply(lambda x: industry_identifier(x,NAICS_DF))\n"
     ]
    }
   ],
   "source": [
    "#Fill Missing values in the Industry Column\n",
    "#step 1 Append General Industry to dataframe, and create a list of all states\n",
    "No_missing_industry_df = SBA_Loan[SBA_Loan['NAICS'] != 0]\n",
    "No_missing_industry_df['Industry'] = SBA_Loan['NAICS']\n",
    "No_missing_industry_df['Industry'] = No_missing_industry_df['Industry'].apply(lambda x: industry_identifier(x,NAICS_DF))\n",
    "\n",
    "States_list = No_missing_industry_df['State'].unique().tolist()\n"
   ],
   "metadata": {
    "collapsed": false,
    "pycharm": {
     "name": "#%%\n"
    }
   }
  },
  {
   "cell_type": "code",
   "execution_count": 8,
   "outputs": [
    {
     "data": {
      "text/plain": "     LoanNr_ChkDgt                            Name          City State    Zip  \\\n0       1000014003                  ABC HOBBYCRAFT    EVANSVILLE    IN  47711   \n1       1000024006     LANDMARK BAR & GRILLE (THE)     NEW PARIS    IN  46526   \n2       1000034009           WHITLOCK DDS, TODD M.   BLOOMINGTON    IN  47401   \n5       1000084002  B&T SCREW MACHINE COMPANY, INC    PLAINVILLE    CT   6062   \n7       1000094005                 WEAVER PRODUCTS   SUMMERFIELD    FL  34491   \n..             ...                             ...           ...   ...    ...   \n186     1001494009  THE SPORTS SECTION OF THE N.S.   NEWBURYPORT    MA   1950   \n188     1001506002             TRIPLE J EXCAVATION    LAS CRUCES    NM  88012   \n189     1001515009                A. DeSousa, Inc.       Berkley    MA   2779   \n192     1001535004  Classic Plumbing & Heating Con     Cambridge    MA   2141   \n193     1001546003   MEDIA ONE DIGITAL IMAGING LLC  GARDEN GROVE    CA  92841   \n\n                              Bank BankState   NAICS ApprovalDate ApprovalFY  \\\n0                 FIFTH THIRD BANK        OH  451120    28-Feb-97       1997   \n1                  1ST SOURCE BANK        IN  722410    28-Feb-97       1997   \n2          GRANT COUNTY STATE BANK        IN  621210    28-Feb-97       1997   \n5    TD BANK, NATIONAL ASSOCIATION        DE  332721    28-Feb-97       1997   \n7                     REGIONS BANK        AL  811118    28-Feb-97       1997   \n..                             ...       ...     ...          ...        ...   \n186                    DANVERSBANK        MA  541921    28-Feb-97       1997   \n188                   COMPASS BANK        TX  238190     7-Feb-06       2006   \n189     BANK OF AMERICA NATL ASSOC        NC  235510     8-Jul-97       1997   \n192     BANK OF AMERICA NATL ASSOC        NC  235110    10-Jul-97       1997   \n193    WELLS FARGO BANK NATL ASSOC        CA  541810     7-Feb-06       2006   \n\n     ...  LowDoc  ChgOffDate  DisbursementDate  DisbursementGross  \\\n0    ...       Y         NaN         28-Feb-99        $60,000.00    \n1    ...       Y         NaN         31-May-97        $40,000.00    \n2    ...       N         NaN         31-Dec-97       $287,000.00    \n5    ...       N         NaN         30-Jun-97       $517,000.00    \n7    ...       Y         NaN         30-Jun-98        $45,000.00    \n..   ...     ...         ...               ...                ...   \n186  ...       Y         NaN         31-Mar-97        $31,000.00    \n188  ...       N         NaN         28-Feb-06        $50,000.00    \n189  ...       N         NaN         31-May-98        $40,000.00    \n192  ...       N         NaN         31-Oct-97        $50,000.00    \n193  ...       N         NaN         30-Jun-06        $85,163.00    \n\n     BalanceGross  MIS_Status  ChgOffPrinGr        GrAppv      SBA_Appv  \\\n0          $0.00        P I F        $0.00    $60,000.00    $48,000.00    \n1          $0.00        P I F        $0.00    $40,000.00    $32,000.00    \n2          $0.00        P I F        $0.00   $287,000.00   $215,250.00    \n5          $0.00        P I F        $0.00   $517,000.00   $387,750.00    \n7          $0.00        P I F        $0.00    $45,000.00    $36,000.00    \n..            ...         ...           ...           ...           ...   \n186        $0.00        P I F        $0.00    $31,000.00    $24,800.00    \n188        $0.00        P I F        $0.00    $50,000.00    $25,000.00    \n189        $0.00        P I F        $0.00    $40,000.00    $20,000.00    \n192        $0.00        P I F        $0.00    $50,000.00    $25,000.00    \n193        $0.00        P I F        $0.00    $50,000.00    $25,000.00    \n\n                                            Industry  \n0                                       Retail trade  \n1                    Accommodation and food services  \n2                  Health care and social assistance  \n5                                      Manufacturing  \n7      Other services (except public administration)  \n..                                               ...  \n186  Professional, scientific and technical services  \n188                                     Construction  \n189                                     Construction  \n192                                     Construction  \n193  Professional, scientific and technical services  \n\n[100 rows x 28 columns]",
      "text/html": "<div>\n<style scoped>\n    .dataframe tbody tr th:only-of-type {\n        vertical-align: middle;\n    }\n\n    .dataframe tbody tr th {\n        vertical-align: top;\n    }\n\n    .dataframe thead th {\n        text-align: right;\n    }\n</style>\n<table border=\"1\" class=\"dataframe\">\n  <thead>\n    <tr style=\"text-align: right;\">\n      <th></th>\n      <th>LoanNr_ChkDgt</th>\n      <th>Name</th>\n      <th>City</th>\n      <th>State</th>\n      <th>Zip</th>\n      <th>Bank</th>\n      <th>BankState</th>\n      <th>NAICS</th>\n      <th>ApprovalDate</th>\n      <th>ApprovalFY</th>\n      <th>...</th>\n      <th>LowDoc</th>\n      <th>ChgOffDate</th>\n      <th>DisbursementDate</th>\n      <th>DisbursementGross</th>\n      <th>BalanceGross</th>\n      <th>MIS_Status</th>\n      <th>ChgOffPrinGr</th>\n      <th>GrAppv</th>\n      <th>SBA_Appv</th>\n      <th>Industry</th>\n    </tr>\n  </thead>\n  <tbody>\n    <tr>\n      <th>0</th>\n      <td>1000014003</td>\n      <td>ABC HOBBYCRAFT</td>\n      <td>EVANSVILLE</td>\n      <td>IN</td>\n      <td>47711</td>\n      <td>FIFTH THIRD BANK</td>\n      <td>OH</td>\n      <td>451120</td>\n      <td>28-Feb-97</td>\n      <td>1997</td>\n      <td>...</td>\n      <td>Y</td>\n      <td>NaN</td>\n      <td>28-Feb-99</td>\n      <td>$60,000.00</td>\n      <td>$0.00</td>\n      <td>P I F</td>\n      <td>$0.00</td>\n      <td>$60,000.00</td>\n      <td>$48,000.00</td>\n      <td>Retail trade</td>\n    </tr>\n    <tr>\n      <th>1</th>\n      <td>1000024006</td>\n      <td>LANDMARK BAR &amp; GRILLE (THE)</td>\n      <td>NEW PARIS</td>\n      <td>IN</td>\n      <td>46526</td>\n      <td>1ST SOURCE BANK</td>\n      <td>IN</td>\n      <td>722410</td>\n      <td>28-Feb-97</td>\n      <td>1997</td>\n      <td>...</td>\n      <td>Y</td>\n      <td>NaN</td>\n      <td>31-May-97</td>\n      <td>$40,000.00</td>\n      <td>$0.00</td>\n      <td>P I F</td>\n      <td>$0.00</td>\n      <td>$40,000.00</td>\n      <td>$32,000.00</td>\n      <td>Accommodation and food services</td>\n    </tr>\n    <tr>\n      <th>2</th>\n      <td>1000034009</td>\n      <td>WHITLOCK DDS, TODD M.</td>\n      <td>BLOOMINGTON</td>\n      <td>IN</td>\n      <td>47401</td>\n      <td>GRANT COUNTY STATE BANK</td>\n      <td>IN</td>\n      <td>621210</td>\n      <td>28-Feb-97</td>\n      <td>1997</td>\n      <td>...</td>\n      <td>N</td>\n      <td>NaN</td>\n      <td>31-Dec-97</td>\n      <td>$287,000.00</td>\n      <td>$0.00</td>\n      <td>P I F</td>\n      <td>$0.00</td>\n      <td>$287,000.00</td>\n      <td>$215,250.00</td>\n      <td>Health care and social assistance</td>\n    </tr>\n    <tr>\n      <th>5</th>\n      <td>1000084002</td>\n      <td>B&amp;T SCREW MACHINE COMPANY, INC</td>\n      <td>PLAINVILLE</td>\n      <td>CT</td>\n      <td>6062</td>\n      <td>TD BANK, NATIONAL ASSOCIATION</td>\n      <td>DE</td>\n      <td>332721</td>\n      <td>28-Feb-97</td>\n      <td>1997</td>\n      <td>...</td>\n      <td>N</td>\n      <td>NaN</td>\n      <td>30-Jun-97</td>\n      <td>$517,000.00</td>\n      <td>$0.00</td>\n      <td>P I F</td>\n      <td>$0.00</td>\n      <td>$517,000.00</td>\n      <td>$387,750.00</td>\n      <td>Manufacturing</td>\n    </tr>\n    <tr>\n      <th>7</th>\n      <td>1000094005</td>\n      <td>WEAVER PRODUCTS</td>\n      <td>SUMMERFIELD</td>\n      <td>FL</td>\n      <td>34491</td>\n      <td>REGIONS BANK</td>\n      <td>AL</td>\n      <td>811118</td>\n      <td>28-Feb-97</td>\n      <td>1997</td>\n      <td>...</td>\n      <td>Y</td>\n      <td>NaN</td>\n      <td>30-Jun-98</td>\n      <td>$45,000.00</td>\n      <td>$0.00</td>\n      <td>P I F</td>\n      <td>$0.00</td>\n      <td>$45,000.00</td>\n      <td>$36,000.00</td>\n      <td>Other services (except public administration)</td>\n    </tr>\n    <tr>\n      <th>...</th>\n      <td>...</td>\n      <td>...</td>\n      <td>...</td>\n      <td>...</td>\n      <td>...</td>\n      <td>...</td>\n      <td>...</td>\n      <td>...</td>\n      <td>...</td>\n      <td>...</td>\n      <td>...</td>\n      <td>...</td>\n      <td>...</td>\n      <td>...</td>\n      <td>...</td>\n      <td>...</td>\n      <td>...</td>\n      <td>...</td>\n      <td>...</td>\n      <td>...</td>\n      <td>...</td>\n    </tr>\n    <tr>\n      <th>186</th>\n      <td>1001494009</td>\n      <td>THE SPORTS SECTION OF THE N.S.</td>\n      <td>NEWBURYPORT</td>\n      <td>MA</td>\n      <td>1950</td>\n      <td>DANVERSBANK</td>\n      <td>MA</td>\n      <td>541921</td>\n      <td>28-Feb-97</td>\n      <td>1997</td>\n      <td>...</td>\n      <td>Y</td>\n      <td>NaN</td>\n      <td>31-Mar-97</td>\n      <td>$31,000.00</td>\n      <td>$0.00</td>\n      <td>P I F</td>\n      <td>$0.00</td>\n      <td>$31,000.00</td>\n      <td>$24,800.00</td>\n      <td>Professional, scientific and technical services</td>\n    </tr>\n    <tr>\n      <th>188</th>\n      <td>1001506002</td>\n      <td>TRIPLE J EXCAVATION</td>\n      <td>LAS CRUCES</td>\n      <td>NM</td>\n      <td>88012</td>\n      <td>COMPASS BANK</td>\n      <td>TX</td>\n      <td>238190</td>\n      <td>7-Feb-06</td>\n      <td>2006</td>\n      <td>...</td>\n      <td>N</td>\n      <td>NaN</td>\n      <td>28-Feb-06</td>\n      <td>$50,000.00</td>\n      <td>$0.00</td>\n      <td>P I F</td>\n      <td>$0.00</td>\n      <td>$50,000.00</td>\n      <td>$25,000.00</td>\n      <td>Construction</td>\n    </tr>\n    <tr>\n      <th>189</th>\n      <td>1001515009</td>\n      <td>A. DeSousa, Inc.</td>\n      <td>Berkley</td>\n      <td>MA</td>\n      <td>2779</td>\n      <td>BANK OF AMERICA NATL ASSOC</td>\n      <td>NC</td>\n      <td>235510</td>\n      <td>8-Jul-97</td>\n      <td>1997</td>\n      <td>...</td>\n      <td>N</td>\n      <td>NaN</td>\n      <td>31-May-98</td>\n      <td>$40,000.00</td>\n      <td>$0.00</td>\n      <td>P I F</td>\n      <td>$0.00</td>\n      <td>$40,000.00</td>\n      <td>$20,000.00</td>\n      <td>Construction</td>\n    </tr>\n    <tr>\n      <th>192</th>\n      <td>1001535004</td>\n      <td>Classic Plumbing &amp; Heating Con</td>\n      <td>Cambridge</td>\n      <td>MA</td>\n      <td>2141</td>\n      <td>BANK OF AMERICA NATL ASSOC</td>\n      <td>NC</td>\n      <td>235110</td>\n      <td>10-Jul-97</td>\n      <td>1997</td>\n      <td>...</td>\n      <td>N</td>\n      <td>NaN</td>\n      <td>31-Oct-97</td>\n      <td>$50,000.00</td>\n      <td>$0.00</td>\n      <td>P I F</td>\n      <td>$0.00</td>\n      <td>$50,000.00</td>\n      <td>$25,000.00</td>\n      <td>Construction</td>\n    </tr>\n    <tr>\n      <th>193</th>\n      <td>1001546003</td>\n      <td>MEDIA ONE DIGITAL IMAGING LLC</td>\n      <td>GARDEN GROVE</td>\n      <td>CA</td>\n      <td>92841</td>\n      <td>WELLS FARGO BANK NATL ASSOC</td>\n      <td>CA</td>\n      <td>541810</td>\n      <td>7-Feb-06</td>\n      <td>2006</td>\n      <td>...</td>\n      <td>N</td>\n      <td>NaN</td>\n      <td>30-Jun-06</td>\n      <td>$85,163.00</td>\n      <td>$0.00</td>\n      <td>P I F</td>\n      <td>$0.00</td>\n      <td>$50,000.00</td>\n      <td>$25,000.00</td>\n      <td>Professional, scientific and technical services</td>\n    </tr>\n  </tbody>\n</table>\n<p>100 rows × 28 columns</p>\n</div>"
     },
     "execution_count": 8,
     "metadata": {},
     "output_type": "execute_result"
    }
   ],
   "source": [
    "No_missing_industry_df.head(100)"
   ],
   "metadata": {
    "collapsed": false,
    "pycharm": {
     "name": "#%%\n"
    }
   }
  },
  {
   "cell_type": "code",
   "execution_count": 9,
   "outputs": [
    {
     "data": {
      "text/plain": "['IN',\n 'CT',\n 'FL',\n 'NC',\n 'IL',\n 'OK',\n 'AR',\n 'MN',\n 'CA',\n 'SC',\n 'TX',\n 'LA',\n 'IA',\n 'TN',\n 'MS',\n 'OH',\n 'MD',\n 'VA',\n 'MA',\n 'PA',\n 'OR',\n 'ME',\n 'KS',\n 'MI',\n 'AK',\n 'WA',\n 'CO',\n 'WY',\n 'UT',\n 'MO',\n 'AZ',\n 'ID',\n 'RI',\n 'NJ',\n 'NH',\n 'NM',\n 'NV',\n 'NY',\n 'ND',\n 'VT',\n 'WI',\n 'MT',\n 'AL',\n 'GA',\n 'KY',\n 'NE',\n 'WV',\n 'SD',\n 'DE',\n 'DC',\n 'HI']"
     },
     "execution_count": 9,
     "metadata": {},
     "output_type": "execute_result"
    }
   ],
   "source": [
    "States_list # ok"
   ],
   "metadata": {
    "collapsed": false,
    "pycharm": {
     "name": "#%%\n"
    }
   }
  },
  {
   "cell_type": "code",
   "execution_count": 12,
   "outputs": [
    {
     "ename": "IndentationError",
     "evalue": "unexpected indent (<ipython-input-12-e313720983d2>, line 3)",
     "output_type": "error",
     "traceback": [
      "\u001B[1;36m  File \u001B[1;32m\"<ipython-input-12-e313720983d2>\"\u001B[1;36m, line \u001B[1;32m3\u001B[0m\n\u001B[1;33m    plt.figure()\u001B[0m\n\u001B[1;37m    ^\u001B[0m\n\u001B[1;31mIndentationError\u001B[0m\u001B[1;31m:\u001B[0m unexpected indent\n"
     ]
    }
   ],
   "source": [
    "#visuailization, looks like there is a wide distribution of industry in every state, explore other means to fill missing industry data\n",
    "for state in States_list:\n",
    "    plt.figure()\n",
    "    df = No_missing_industry_df[No_missing_industry_df['State'] == state]\n",
    "    ax = sns.countplot(x=\"Industry\", data=df)\n",
    "    plt.xticks(rotation='vertical')\n",
    "    plt.title(state)\n",
    "    # Show/save figure as desired.\n",
    "\n",
    "#plt.show()"
   ],
   "metadata": {
    "collapsed": false,
    "pycharm": {
     "name": "#%%\n"
    }
   }
  },
  {
   "cell_type": "code",
   "execution_count": 13,
   "outputs": [
    {
     "name": "stdout",
     "output_type": "stream",
     "text": [
      "<class 'pandas.core.frame.DataFrame'>\n",
      "Int64Index: 697197 entries, 0 to 899161\n",
      "Data columns (total 28 columns):\n",
      " #   Column             Non-Null Count   Dtype  \n",
      "---  ------             --------------   -----  \n",
      " 0   LoanNr_ChkDgt      697197 non-null  int64  \n",
      " 1   Name               697197 non-null  object \n",
      " 2   City               697197 non-null  object \n",
      " 3   State              697197 non-null  object \n",
      " 4   Zip                697197 non-null  int64  \n",
      " 5   Bank               696575 non-null  object \n",
      " 6   BankState          696572 non-null  object \n",
      " 7   NAICS              697197 non-null  int64  \n",
      " 8   ApprovalDate       697197 non-null  object \n",
      " 9   ApprovalFY         697197 non-null  object \n",
      " 10  Term               697197 non-null  int64  \n",
      " 11  NoEmp              697197 non-null  int64  \n",
      " 12  NewExist           697061 non-null  float64\n",
      " 13  CreateJob          697197 non-null  int64  \n",
      " 14  RetainedJob        697197 non-null  int64  \n",
      " 15  FranchiseCode      697197 non-null  int64  \n",
      " 16  UrbanRural         697197 non-null  int64  \n",
      " 17  RevLineCr          694859 non-null  object \n",
      " 18  LowDoc             694615 non-null  object \n",
      " 19  ChgOffDate         145319 non-null  object \n",
      " 20  DisbursementDate   695242 non-null  object \n",
      " 21  DisbursementGross  697197 non-null  object \n",
      " 22  BalanceGross       697197 non-null  object \n",
      " 23  MIS_Status         695481 non-null  object \n",
      " 24  ChgOffPrinGr       697197 non-null  object \n",
      " 25  GrAppv             697197 non-null  object \n",
      " 26  SBA_Appv           697197 non-null  object \n",
      " 27  Industry           697197 non-null  object \n",
      "dtypes: float64(1), int64(9), object(18)\n",
      "memory usage: 154.3+ MB\n",
      "None\n",
      "0                         ABC HOBBYCRAFT\n",
      "1            LANDMARK BAR & GRILLE (THE)\n",
      "2                  WHITLOCK DDS, TODD M.\n",
      "5         B&T SCREW MACHINE COMPANY, INC\n",
      "7                        WEAVER PRODUCTS\n",
      "                       ...              \n",
      "899156           FABRICATORS STEEL, INC.\n",
      "899157                    PULLTARPS MFG.\n",
      "899159                      FABRIC FARMS\n",
      "899160                      FABRIC FARMS\n",
      "899161      RADCO MANUFACTURING CO.,INC.\n",
      "Name: Name, Length: 697197, dtype: object\n"
     ]
    }
   ],
   "source": [
    "#Alternatively, maybe the business name can be used to predict the industry that it is in, for example, if a company has 'manufacturing' in the name, it is probably in the manufacturing industry\n",
    "print(No_missing_industry_df.info())\n",
    "print(No_missing_industry_df['Name'])\n",
    "\n"
   ],
   "metadata": {
    "collapsed": false,
    "pycharm": {
     "name": "#%%\n"
    }
   }
  },
  {
   "cell_type": "code",
   "execution_count": 14,
   "outputs": [
    {
     "name": "stdout",
     "output_type": "stream",
     "text": [
      "557757\n",
      "139440\n"
     ]
    }
   ],
   "source": [
    "#step 1, split data set to train and test\n",
    "No_missing_industry_df = No_missing_industry_df.set_index('LoanNr_ChkDgt')\n",
    "train, test = train_test_split(No_missing_industry_df, test_size=0.2, random_state=0, stratify=No_missing_industry_df['Industry'])\n",
    "print(train.shape[0])\n",
    "print(test.shape[0])"
   ],
   "metadata": {
    "collapsed": false,
    "pycharm": {
     "name": "#%%\n"
    }
   }
  },
  {
   "cell_type": "code",
   "execution_count": 114,
   "outputs": [
    {
     "data": {
      "text/plain": "                                         Name             City State    Zip  \\\nLoanNr_ChkDgt                                                                 \n1000014003                     ABC HOBBYCRAFT       EVANSVILLE    IN  47711   \n1000024006        LANDMARK BAR & GRILLE (THE)        NEW PARIS    IN  46526   \n1000034009              WHITLOCK DDS, TODD M.      BLOOMINGTON    IN  47401   \n1000084002     B&T SCREW MACHINE COMPANY, INC       PLAINVILLE    CT   6062   \n1000094005                    WEAVER PRODUCTS      SUMMERFIELD    FL  34491   \n...                                       ...              ...   ...    ...   \n9995473009            FABRICATORS STEEL, INC.        BALTIMORE    MD  21224   \n9995493004                     PULLTARPS MFG.         EL CAJON    CA  92020   \n9995573004                       FABRIC FARMS  UPPER ARLINGTON    OH  43221   \n9995603000                       FABRIC FARMS         COLUMBUS    OH  43221   \n9995613003       RADCO MANUFACTURING CO.,INC.      SANTA MARIA    CA  93455   \n\n                                         Bank BankState   NAICS ApprovalDate  \\\nLoanNr_ChkDgt                                                                  \n1000014003                   FIFTH THIRD BANK        OH  451120    28-Feb-97   \n1000024006                    1ST SOURCE BANK        IN  722410    28-Feb-97   \n1000034009            GRANT COUNTY STATE BANK        IN  621210    28-Feb-97   \n1000084002      TD BANK, NATIONAL ASSOCIATION        DE  332721    28-Feb-97   \n1000094005                       REGIONS BANK        AL  811118    28-Feb-97   \n...                                       ...       ...     ...          ...   \n9995473009         BANK OF AMERICA NATL ASSOC        MD  332431    27-Feb-97   \n9995493004     U.S. BANK NATIONAL ASSOCIATION        CA  314912    27-Feb-97   \n9995573004     JPMORGAN CHASE BANK NATL ASSOC        IL  451120    27-Feb-97   \n9995603000     JPMORGAN CHASE BANK NATL ASSOC        IL  451130    27-Feb-97   \n9995613003     RABOBANK, NATIONAL ASSOCIATION        CA  332321    27-Feb-97   \n\n              ApprovalFY  Term  ...  LowDoc  ChgOffDate  DisbursementDate  \\\nLoanNr_ChkDgt                   ...                                         \n1000014003          1997    84  ...       Y         NaN         28-Feb-99   \n1000024006          1997    60  ...       Y         NaN         31-May-97   \n1000034009          1997   180  ...       N         NaN         31-Dec-97   \n1000084002          1997   120  ...       N         NaN         30-Jun-97   \n1000094005          1997    84  ...       Y         NaN         30-Jun-98   \n...                  ...   ...  ...     ...         ...               ...   \n9995473009          1997    60  ...       N         NaN         30-Jun-97   \n9995493004          1997    36  ...       N         NaN         31-Mar-97   \n9995573004          1997    60  ...       N         NaN         30-Sep-97   \n9995603000          1997    60  ...       N         NaN         31-Oct-97   \n9995613003          1997   108  ...       N         NaN         30-Sep-97   \n\n               DisbursementGross  BalanceGross  MIS_Status ChgOffPrinGr  \\\nLoanNr_ChkDgt                                                             \n1000014003           $60,000.00         $0.00        P I F       $0.00    \n1000024006           $40,000.00         $0.00        P I F       $0.00    \n1000034009          $287,000.00         $0.00        P I F       $0.00    \n1000084002          $517,000.00         $0.00        P I F       $0.00    \n1000094005           $45,000.00         $0.00        P I F       $0.00    \n...                          ...           ...         ...          ...   \n9995473009           $50,000.00         $0.00        P I F       $0.00    \n9995493004          $200,000.00         $0.00        P I F       $0.00    \n9995573004           $70,000.00         $0.00        P I F       $0.00    \n9995603000           $85,000.00         $0.00        P I F       $0.00    \n9995613003          $300,000.00         $0.00        P I F       $0.00    \n\n                     GrAppv      SBA_Appv  \\\nLoanNr_ChkDgt                               \n1000014003      $60,000.00    $48,000.00    \n1000024006      $40,000.00    $32,000.00    \n1000034009     $287,000.00   $215,250.00    \n1000084002     $517,000.00   $387,750.00    \n1000094005      $45,000.00    $36,000.00    \n...                     ...           ...   \n9995473009      $50,000.00    $25,000.00    \n9995493004     $200,000.00   $150,000.00    \n9995573004      $70,000.00    $56,000.00    \n9995603000      $85,000.00    $42,500.00    \n9995613003     $300,000.00   $225,000.00    \n\n                                                    Industry  \nLoanNr_ChkDgt                                                 \n1000014003                                      Retail trade  \n1000024006                   Accommodation and food services  \n1000034009                 Health care and social assistance  \n1000084002                                     Manufacturing  \n1000094005     Other services (except public administration)  \n...                                                      ...  \n9995473009                                     Manufacturing  \n9995493004                                     Manufacturing  \n9995573004                                      Retail trade  \n9995603000                                      Retail trade  \n9995613003                                     Manufacturing  \n\n[697197 rows x 27 columns]",
      "text/html": "<div>\n<style scoped>\n    .dataframe tbody tr th:only-of-type {\n        vertical-align: middle;\n    }\n\n    .dataframe tbody tr th {\n        vertical-align: top;\n    }\n\n    .dataframe thead th {\n        text-align: right;\n    }\n</style>\n<table border=\"1\" class=\"dataframe\">\n  <thead>\n    <tr style=\"text-align: right;\">\n      <th></th>\n      <th>Name</th>\n      <th>City</th>\n      <th>State</th>\n      <th>Zip</th>\n      <th>Bank</th>\n      <th>BankState</th>\n      <th>NAICS</th>\n      <th>ApprovalDate</th>\n      <th>ApprovalFY</th>\n      <th>Term</th>\n      <th>...</th>\n      <th>LowDoc</th>\n      <th>ChgOffDate</th>\n      <th>DisbursementDate</th>\n      <th>DisbursementGross</th>\n      <th>BalanceGross</th>\n      <th>MIS_Status</th>\n      <th>ChgOffPrinGr</th>\n      <th>GrAppv</th>\n      <th>SBA_Appv</th>\n      <th>Industry</th>\n    </tr>\n    <tr>\n      <th>LoanNr_ChkDgt</th>\n      <th></th>\n      <th></th>\n      <th></th>\n      <th></th>\n      <th></th>\n      <th></th>\n      <th></th>\n      <th></th>\n      <th></th>\n      <th></th>\n      <th></th>\n      <th></th>\n      <th></th>\n      <th></th>\n      <th></th>\n      <th></th>\n      <th></th>\n      <th></th>\n      <th></th>\n      <th></th>\n      <th></th>\n    </tr>\n  </thead>\n  <tbody>\n    <tr>\n      <th>1000014003</th>\n      <td>ABC HOBBYCRAFT</td>\n      <td>EVANSVILLE</td>\n      <td>IN</td>\n      <td>47711</td>\n      <td>FIFTH THIRD BANK</td>\n      <td>OH</td>\n      <td>451120</td>\n      <td>28-Feb-97</td>\n      <td>1997</td>\n      <td>84</td>\n      <td>...</td>\n      <td>Y</td>\n      <td>NaN</td>\n      <td>28-Feb-99</td>\n      <td>$60,000.00</td>\n      <td>$0.00</td>\n      <td>P I F</td>\n      <td>$0.00</td>\n      <td>$60,000.00</td>\n      <td>$48,000.00</td>\n      <td>Retail trade</td>\n    </tr>\n    <tr>\n      <th>1000024006</th>\n      <td>LANDMARK BAR &amp; GRILLE (THE)</td>\n      <td>NEW PARIS</td>\n      <td>IN</td>\n      <td>46526</td>\n      <td>1ST SOURCE BANK</td>\n      <td>IN</td>\n      <td>722410</td>\n      <td>28-Feb-97</td>\n      <td>1997</td>\n      <td>60</td>\n      <td>...</td>\n      <td>Y</td>\n      <td>NaN</td>\n      <td>31-May-97</td>\n      <td>$40,000.00</td>\n      <td>$0.00</td>\n      <td>P I F</td>\n      <td>$0.00</td>\n      <td>$40,000.00</td>\n      <td>$32,000.00</td>\n      <td>Accommodation and food services</td>\n    </tr>\n    <tr>\n      <th>1000034009</th>\n      <td>WHITLOCK DDS, TODD M.</td>\n      <td>BLOOMINGTON</td>\n      <td>IN</td>\n      <td>47401</td>\n      <td>GRANT COUNTY STATE BANK</td>\n      <td>IN</td>\n      <td>621210</td>\n      <td>28-Feb-97</td>\n      <td>1997</td>\n      <td>180</td>\n      <td>...</td>\n      <td>N</td>\n      <td>NaN</td>\n      <td>31-Dec-97</td>\n      <td>$287,000.00</td>\n      <td>$0.00</td>\n      <td>P I F</td>\n      <td>$0.00</td>\n      <td>$287,000.00</td>\n      <td>$215,250.00</td>\n      <td>Health care and social assistance</td>\n    </tr>\n    <tr>\n      <th>1000084002</th>\n      <td>B&amp;T SCREW MACHINE COMPANY, INC</td>\n      <td>PLAINVILLE</td>\n      <td>CT</td>\n      <td>6062</td>\n      <td>TD BANK, NATIONAL ASSOCIATION</td>\n      <td>DE</td>\n      <td>332721</td>\n      <td>28-Feb-97</td>\n      <td>1997</td>\n      <td>120</td>\n      <td>...</td>\n      <td>N</td>\n      <td>NaN</td>\n      <td>30-Jun-97</td>\n      <td>$517,000.00</td>\n      <td>$0.00</td>\n      <td>P I F</td>\n      <td>$0.00</td>\n      <td>$517,000.00</td>\n      <td>$387,750.00</td>\n      <td>Manufacturing</td>\n    </tr>\n    <tr>\n      <th>1000094005</th>\n      <td>WEAVER PRODUCTS</td>\n      <td>SUMMERFIELD</td>\n      <td>FL</td>\n      <td>34491</td>\n      <td>REGIONS BANK</td>\n      <td>AL</td>\n      <td>811118</td>\n      <td>28-Feb-97</td>\n      <td>1997</td>\n      <td>84</td>\n      <td>...</td>\n      <td>Y</td>\n      <td>NaN</td>\n      <td>30-Jun-98</td>\n      <td>$45,000.00</td>\n      <td>$0.00</td>\n      <td>P I F</td>\n      <td>$0.00</td>\n      <td>$45,000.00</td>\n      <td>$36,000.00</td>\n      <td>Other services (except public administration)</td>\n    </tr>\n    <tr>\n      <th>...</th>\n      <td>...</td>\n      <td>...</td>\n      <td>...</td>\n      <td>...</td>\n      <td>...</td>\n      <td>...</td>\n      <td>...</td>\n      <td>...</td>\n      <td>...</td>\n      <td>...</td>\n      <td>...</td>\n      <td>...</td>\n      <td>...</td>\n      <td>...</td>\n      <td>...</td>\n      <td>...</td>\n      <td>...</td>\n      <td>...</td>\n      <td>...</td>\n      <td>...</td>\n      <td>...</td>\n    </tr>\n    <tr>\n      <th>9995473009</th>\n      <td>FABRICATORS STEEL, INC.</td>\n      <td>BALTIMORE</td>\n      <td>MD</td>\n      <td>21224</td>\n      <td>BANK OF AMERICA NATL ASSOC</td>\n      <td>MD</td>\n      <td>332431</td>\n      <td>27-Feb-97</td>\n      <td>1997</td>\n      <td>60</td>\n      <td>...</td>\n      <td>N</td>\n      <td>NaN</td>\n      <td>30-Jun-97</td>\n      <td>$50,000.00</td>\n      <td>$0.00</td>\n      <td>P I F</td>\n      <td>$0.00</td>\n      <td>$50,000.00</td>\n      <td>$25,000.00</td>\n      <td>Manufacturing</td>\n    </tr>\n    <tr>\n      <th>9995493004</th>\n      <td>PULLTARPS MFG.</td>\n      <td>EL CAJON</td>\n      <td>CA</td>\n      <td>92020</td>\n      <td>U.S. BANK NATIONAL ASSOCIATION</td>\n      <td>CA</td>\n      <td>314912</td>\n      <td>27-Feb-97</td>\n      <td>1997</td>\n      <td>36</td>\n      <td>...</td>\n      <td>N</td>\n      <td>NaN</td>\n      <td>31-Mar-97</td>\n      <td>$200,000.00</td>\n      <td>$0.00</td>\n      <td>P I F</td>\n      <td>$0.00</td>\n      <td>$200,000.00</td>\n      <td>$150,000.00</td>\n      <td>Manufacturing</td>\n    </tr>\n    <tr>\n      <th>9995573004</th>\n      <td>FABRIC FARMS</td>\n      <td>UPPER ARLINGTON</td>\n      <td>OH</td>\n      <td>43221</td>\n      <td>JPMORGAN CHASE BANK NATL ASSOC</td>\n      <td>IL</td>\n      <td>451120</td>\n      <td>27-Feb-97</td>\n      <td>1997</td>\n      <td>60</td>\n      <td>...</td>\n      <td>N</td>\n      <td>NaN</td>\n      <td>30-Sep-97</td>\n      <td>$70,000.00</td>\n      <td>$0.00</td>\n      <td>P I F</td>\n      <td>$0.00</td>\n      <td>$70,000.00</td>\n      <td>$56,000.00</td>\n      <td>Retail trade</td>\n    </tr>\n    <tr>\n      <th>9995603000</th>\n      <td>FABRIC FARMS</td>\n      <td>COLUMBUS</td>\n      <td>OH</td>\n      <td>43221</td>\n      <td>JPMORGAN CHASE BANK NATL ASSOC</td>\n      <td>IL</td>\n      <td>451130</td>\n      <td>27-Feb-97</td>\n      <td>1997</td>\n      <td>60</td>\n      <td>...</td>\n      <td>N</td>\n      <td>NaN</td>\n      <td>31-Oct-97</td>\n      <td>$85,000.00</td>\n      <td>$0.00</td>\n      <td>P I F</td>\n      <td>$0.00</td>\n      <td>$85,000.00</td>\n      <td>$42,500.00</td>\n      <td>Retail trade</td>\n    </tr>\n    <tr>\n      <th>9995613003</th>\n      <td>RADCO MANUFACTURING CO.,INC.</td>\n      <td>SANTA MARIA</td>\n      <td>CA</td>\n      <td>93455</td>\n      <td>RABOBANK, NATIONAL ASSOCIATION</td>\n      <td>CA</td>\n      <td>332321</td>\n      <td>27-Feb-97</td>\n      <td>1997</td>\n      <td>108</td>\n      <td>...</td>\n      <td>N</td>\n      <td>NaN</td>\n      <td>30-Sep-97</td>\n      <td>$300,000.00</td>\n      <td>$0.00</td>\n      <td>P I F</td>\n      <td>$0.00</td>\n      <td>$300,000.00</td>\n      <td>$225,000.00</td>\n      <td>Manufacturing</td>\n    </tr>\n  </tbody>\n</table>\n<p>697197 rows × 27 columns</p>\n</div>"
     },
     "execution_count": 114,
     "metadata": {},
     "output_type": "execute_result"
    }
   ],
   "source": [],
   "metadata": {
    "collapsed": false,
    "pycharm": {
     "name": "#%%\n"
    }
   }
  },
  {
   "cell_type": "markdown",
   "source": [],
   "metadata": {
    "collapsed": false
   }
  },
  {
   "cell_type": "code",
   "execution_count": 15,
   "outputs": [
    {
     "name": "stdout",
     "output_type": "stream",
     "text": [
      "['', 'inc', 'llc', 'of', 'school', 'center', 'academy', 'learning', 'dance', 'the', '&', 'dba', 'arts', 'l', 'and', 'training', 'institute', 'a', 'gymnastics', 'martial', 'in', 'enterprises', 'driving', 'montessori', 'college', 'studio', 'services', 'music', 'education', 'huntington', 'c', 'sylvan', 'i', 'international', 'karate', 'educational', 'yoga', 'new', 'group', 'for', 'solutions', 'associates', 'consulting', 'art', 'tutoring', 'sports', 'j', 'computer', 'beauty', 'kids', 'american', 's', 'aviation', 'fitness', 'club', 'd', 'll', 'tae', 'language', 'career', 'm', 'corp', 'golf', 'do', 'professional', 'gym', 'to', 'elite', 'world', 'taekwondo', 'company', 'corporation', 'little', 'studios', 'ltd', 'california', 'cheer', 'systems', 'kwon', 'r', 'business', 'centers', 't', 'schools', 'young', 'health', 'technologies', 'e', 'usa', 'unlimited', 'service', 'technology', 'management', 'valley', 'co', 'all', 'massage', 'creative', 'development', 'south', 'advanced', 'on', 'real', 'united', 'medical', 'k', 'mountain', 'family', 'performing', 'ballet', 'com', 'incorporated', 'north', 'g', 'preschool', 'city', 'w', 'care', 'hair', 'star', 'science', 'black', 'salon', 'performance', 'swim', 'centre', 'f', 'flight', 'tech', 'b', 'schoo', \"children's\", 'knowledge', 'ventures', 'consultants', 'belt', 'at', 'play', 'university', 'works', 'east', 'tennis', 'math', 'design', 'step', 'n', 'u', 'red', 'blue', 'team', 'early', 'first', 'by', 'home', 'kidz', 'resources', 'p', 'just', 'day', 'barber', 'technical', 'dojo', 'america', 'power', 'horizons', 'west', 'goddard', 'life', 'bikram', 'lee', 'institut', 'defense', 'motion', 'reading', 'academic', 'body', 'estate', 'house', 'plus', 'baseball', 'kumon', 'gymnastic', 'holdings', 'properties', 'one', 'cosmetology', 'productions', 'prep', 'mad', 'midwest', 'lake', 'h', 'christian', 'cent', 'global', 'stage', 'boston', 'bay', 'ata', 'smith', 'soccer', 'john', 'coast', 'private', 'z', 'edge', 'o', 'texas', 'smart', 'central', 'gymboree', 'resource', 'concepts', 'capital', 'learn', 'financial', 'cooking', 'york', 'traffic', 'safety', 'success', 'achievement', 'your', 'truck', 'ohio', 'ce', 'pro', 'child', 'tutor', \"dancer's\", 'village', 'network', 'support', 'workshop', 'partners', 'northern', 'kilimanjaro', 'advantage', 'spa', 'scho', 'careers', 'spirit', 'total', 'river', 'cente', 'connection', 'carolina', 'academ', 'national', 'acad']\n",
      "['', 'inc', 'llc', '&', 'company', 'co', 'and', 'products', 'manufacturing', 'industries', 'l', 'corporation', 'corp', 'the', 'printing', 'a', 'machine', 'systems', 'dba', 'c', 'of', 'enterprises', 'custom', 'design', 'in', 'metal', 'tool', 'international', 'technologies', 's', 'precision', 'j', 'services', 'i', 'm', 'group', 'ltd', 'bakery', 'dental', 'd', 'american', 'r', 'graphics', 'b', 'engineering', 'steel', 'solutions', 'technology', 'mfg', 'works', 'service', 'designs', 'machining', 'plastics', 'press', 'wood', 'industrial', 'h', 'e', 'sign', 'signs', 'glass', 'supply', 'incorporated', 't', 'p', 'advanced', 'equipment', 'quality', 'fabrication', 'g', 'packaging', 'cabinets', 'tech', 'associates', 'foods', 'k', 'new', 'print', 'furniture', 'shop', 'valley', 'w', 'usa', 'west', 'ice', 'stone', 'concrete', 'die', 'creative', 'lab', 'marble', 'mountain', 'fabricators', 'pallet', 'finishing', 'coating', 'by', 'welding', 'f', 'sales', 'studio', 'iron', 'woodworking', 'cabinet', 'specialty', 'plating', 'art', 'll', 'coatings', 'california', 'embroidery', 'star', 'holdings', 'food', 'concepts', 'water', 'pacific', 'city', 'color', 'center', 'granite', 'screen', 'great', 'properties', 'electronics', 'jewelry', 'powder', 'donuts', 'metals', 'coast', 'specialties', 'texas', 'digital', 'world', 'cabinetry', 'plus', 'all', 'label', 'door', 'millwork', 'lighting', 'laboratory', 'superior', 'power', 'creations', 'lumber', 'pro', 'la', 'laboratories', 'factory', 'graphic', 'n', 'communications', 'sheet', 'components', 'u', 'apparel', 'john', 'brewing', 'sports', 'business', 'mold', 'global', 'unlimited', 'image', 'river', 'trading', 'plastic', 'air', 'woodworks', 'blue', 'mill', 'southern', 'united', 'controls', 'bread', 'classic', 'fashion', 'western', 'laser', 'architectural', 'coffee', 'premier', 'control', 'innovative', 'express', 'cutting', 'michael', 'marketing', 'bindery', 'north', 'minuteman', 'performance', 'brothers', 'marine', 'lee', 'automation', 'paper', 'baking', 'research', 'tools', 'universal', 'national', 'wire', 'fine', 'to', 'midwest', 'realty', 'imaging', 'central', 'box', 'construction', 'sons', 'david', 'house', 'tooling', 'home', 'winery', 'fab', 'america', 'building', 'window', 'investments', 'rubber', 'v', 'productions', 'creek', 'medical', 'edge', 'copy', 'commercial', 'best', 'aluminum', 'eagle', 'country', 'kitchen', 'grinding', 'circuits', 'bay', 'fabricating', 'enterprise', 'cleaners', 'com', 'arts', 'royal', 'limited', 'repair', 'media', 'machinery']\n"
     ]
    }
   ],
   "source": [
    "#step 2, get the most common keywords that will be used as features for each industry\n",
    "def find_n_most_common_words(df,industry,n=250):\n",
    "\n",
    "    df = df.copy()\n",
    "    df = df[df['Industry'] == industry]\n",
    "    #parse name column to workable format\n",
    "    df['Name'] = df['Name'].str.lower()\n",
    "    df['Name'] = df['Name'].str.replace(',',' ')\n",
    "    df['Name'] = df['Name'].str.replace('.',' ')\n",
    "    df['Name'] = df['Name'].str.split(' ') #convert string to a list of words\n",
    "\n",
    "\n",
    "    list_of_all_words = [item for sublist in df['Name'] for item in sublist]\n",
    "\n",
    "    new_df = pd.DataFrame(list_of_all_words,columns = ['words'])\n",
    "    new_df_groupped = new_df.groupby(['words'])['words'].count().sort_values(ascending = False)\n",
    "    most_common_words = new_df_groupped.index.to_list()[0:n]\n",
    "\n",
    "    return most_common_words\n",
    "print(find_n_most_common_words(train,'Educational services')) #try this for Educations service industry, looks good\n",
    "print(find_n_most_common_words(train,'Manufacturing')) #some makes sense, many are random"
   ],
   "metadata": {
    "collapsed": false,
    "pycharm": {
     "name": "#%%\n"
    }
   }
  },
  {
   "cell_type": "code",
   "execution_count": 16,
   "outputs": [
    {
     "name": "stdout",
     "output_type": "stream",
     "text": [
      "['', 'inc', 'llc', 'services', '&', 'c', 'dba', 'l', 'j', 'of', 'a', 'm', 'the', 'd', 'p', 'co', 'enterprises', 'r', 'corp', 'and', 'g', 'corporation', 's']\n"
     ]
    }
   ],
   "source": [
    "#Step 3, from step 2 there seems to be a lot of overlapping words between different industries, the next step would be eliminating the overlapping words\n",
    "def intersection(lst1, lst2):\n",
    "    lst3 = [value for value in lst1 if value in lst2]\n",
    "    return lst3\n",
    "\n",
    "\n",
    "\n",
    "list_of_words= find_n_most_common_words(train,'Manufacturing')\n",
    "list_of_industry = train['Industry'].unique()\n",
    "\n",
    "for industry in list_of_industry:\n",
    "    industry_words = find_n_most_common_words(train,industry)\n",
    "    list_of_words = intersection(industry_words,list_of_words)\n",
    "\n",
    "print(list_of_words)  #['', 'inc', 'llc', 'l', '&', 'c', 'corp', 'enterprises', 'management', 'associates', 'j', 'and', 'r', 'group', 'the', 'of', 'm', 'co', 'company', 'd', 'a', 'in', 'g', 'p', 'i', 'corporation', 's', 'w', 'services', 'american', 'dba', 'service'] is the overlapping words, so remove them from the list of most used words\n",
    "\n"
   ],
   "metadata": {
    "collapsed": false,
    "pycharm": {
     "name": "#%%\n"
    }
   }
  },
  {
   "cell_type": "code",
   "execution_count": 25,
   "outputs": [
    {
     "data": {
      "text/plain": "0         0\n1         0\n2         0\n3         1\n4         1\n         ..\n557752    0\n557753    0\n557754    0\n557755    0\n557756    0\nLength: 557757, dtype: int32"
     },
     "execution_count": 25,
     "metadata": {},
     "output_type": "execute_result"
    }
   ],
   "source": [
    "y_train = pd.Series(np.array(train['Industry']=='Manufacturing')).astype(int)\n",
    "y_train"
   ],
   "metadata": {
    "collapsed": false,
    "pycharm": {
     "name": "#%%\n"
    }
   }
  },
  {
   "cell_type": "code",
   "execution_count": 31,
   "outputs": [],
   "source": [
    "def industry_identifier(code,NAICS_DF):\n",
    "    industry_name = 'Undefined'\n",
    "    first_two_digits = int(str(code)[:2])\n",
    "    if first_two_digits in NAICS_DF.index.values:\n",
    "        if code != 0:\n",
    "           industry_name = NAICS_DF.loc[first_two_digits, 'IndustryName']\n",
    "\n",
    "    return industry_name\n",
    "\n",
    "def merge_on_date(df_A, df_B, df_A_column, df_B_column):\n",
    "    for index, row in df_B.iterrows():\n",
    "        start_date = row['start date']\n",
    "        end_date = row['end date']\n",
    "        for index1, row1 in df_A.iterrows():\n",
    "            if row1['ApprovalDate'] < end_date and row1['ApprovalDate'] >= start_date:\n",
    "                df_A.at[index1, df_A_column] = row[df_B_column]\n",
    "\n",
    "    return df_A\n",
    "\n",
    "def fix_year(series_A, series_B):\n",
    "    empty_list = []\n",
    "    for index, value in enumerate(series_A):\n",
    "        k = value.replace(year = int(series_B[index]))\n",
    "        empty_list.append(k)\n",
    "    series_A = empty_list\n",
    "    return series_A\n",
    "\n",
    "def clean_currency(x):\n",
    "    \"\"\" If the value is a string, then remove currency symbol and delimiters\n",
    "    otherwise, the value is numeric and can be converted\n",
    "    \"\"\"\n",
    "    if isinstance(x, str):\n",
    "        return x.replace('$', '').replace(',', '')\n",
    "    return x\n",
    "\n",
    "\n",
    "def precision(y_true, y_pred):\n",
    "    \"\"\"\n",
    "    Returns the precision score.\n",
    "\n",
    "    Parameters:\n",
    "        y_true (1D numpy array): 1D array of true binary labels\n",
    "                                 np.array([0, 1, 0, 0, ..]).\n",
    "        y_pred (1D numpy array): 1D array of predicted binary labels\n",
    "                                 np.array([1, 0, 0, 1, ..]).\n",
    "\n",
    "    Returns:\n",
    "        (float): The precision.\n",
    "    \"\"\"\n",
    "\n",
    "    # Write your code here\n",
    "    try:\n",
    "        return count_true_positives(y_true, y_pred) / (\n",
    "                    count_true_positives(y_true, y_pred) + count_false_positives(y_true, y_pred))\n",
    "    except ZeroDivisionError:\n",
    "        return 0\n",
    "\n",
    "def accuracy(y_true, y_pred):\n",
    "\n",
    "    \"\"\"\n",
    "    Copied from Assignment 8\n",
    "    Returns a accuracy score for two 1D numpy array of the same length.\n",
    "\n",
    "    Parameters:\n",
    "        y_true (1D numpy array): 1D array of true binary labels\n",
    "                                 np.array([0, 1, 0, 0, ..]).\n",
    "        y_pred (1D numpy array): 1D array of predicted binary labels\n",
    "                                 np.array([1, 0, 0, 1, ..]).\n",
    "\n",
    "    Returns:\n",
    "        (float): Accuracy score of y_true and y_pred.\n",
    "    \"\"\"\n",
    "\n",
    "    # Write your code here\n",
    "    TP_plus_TN = 0\n",
    "    for i in range(len(y_true)):\n",
    "        if y_true[i] - y_pred[i] == 0:\n",
    "            TP_plus_TN +=1\n",
    "\n",
    "    accuracy_score = TP_plus_TN/len(y_true)\n",
    "    return accuracy_score\n",
    "\n",
    "def recall(y_true, y_pred):\n",
    "    \"\"\"\n",
    "    Returns the recall score.\n",
    "\n",
    "    Parameters:\n",
    "        y_true (1D numpy array): 1D array of true binary labels\n",
    "                                 np.array([0, 1, 0, 0, ..]).\n",
    "        y_pred (1D numpy array): 1D array of predicted binary labels\n",
    "                                 np.array([1, 0, 0, 1, ..]).\n",
    "\n",
    "    Returns:\n",
    "        (float): The recall.\n",
    "    \"\"\"\n",
    "\n",
    "    # Write your code here\n",
    "    recall_score = count_true_positives(y_true, y_pred) / (count_true_positives(y_true, y_pred) + count_false_negatives(y_true, y_pred))\n",
    "\n",
    "    return recall_score\n",
    "\n",
    "\n",
    "def false_alarm_rate(y_true, y_pred):\n",
    "    \"\"\"\n",
    "    Returns the false alarm rate.\n",
    "\n",
    "    Parameters:\n",
    "        y_true (1D numpy array): 1D array of true binary labels\n",
    "                                 np.array([0, 1, 0, 0, ..]).\n",
    "        y_pred (1D numpy array): 1D array of predicted binary labels\n",
    "                                 np.array([1, 0, 0, 1, ..]).\n",
    "\n",
    "    Returns:\n",
    "        (float): The false positive rate.\n",
    "    \"\"\"\n",
    "\n",
    "    # Write your code here\n",
    "    false_alarm_score = count_false_positives(y_true, y_pred) / (count_false_positives(y_true, y_pred) + count_true_negatives(y_true, y_pred))\n",
    "\n",
    "    return false_alarm_score\n",
    "\n",
    "\n",
    "def f_beta(y_true, y_pred, beta):\n",
    "    \"\"\"\n",
    "    Returns the F-beta score.\n",
    "\n",
    "    Parameters:\n",
    "        y_true (1D numpy array): 1D array of true binary labels\n",
    "                                 np.array([0, 1, 0, 0, ..]).\n",
    "        y_pred (1D numpy array): 1D array of predicted binary labels\n",
    "                                 np.array([1, 0, 0, 1, ..]).\n",
    "        beta (float): The beta parameter for the F-beta metric.\n",
    "\n",
    "    Returns:\n",
    "        (float): The F-beta score.\n",
    "    \"\"\"\n",
    "\n",
    "\n",
    "    try:\n",
    "        return (1 + beta ** 2) * precision(y_true, y_pred) * recall(y_true, y_pred) / (beta ** 2 * precision(y_true, y_pred) + recall(y_true, y_pred))\n",
    "    except ZeroDivisionError:\n",
    "        return 0\n",
    "\n",
    "\n",
    "def count_false_positives(y_true, y_pred):\n",
    "    \"\"\"\n",
    "    Returns the number of false positives.\n",
    "\n",
    "    Parameters:\n",
    "        y_true (1D numpy array): 1D array of true binary labels\n",
    "                                 np.array([0, 1, 0, 0, ..]).\n",
    "        y_pred (1D numpy array): 1D array of predicted binary labels\n",
    "                                 np.array([1, 0, 0, 1, ..]).\n",
    "\n",
    "    Returns:\n",
    "        (int): The number of false positives detected.\n",
    "    \"\"\"\n",
    "\n",
    "    FP = 0\n",
    "    for i in range(len(y_true)):\n",
    "        if y_true[i] - y_pred[i] == -1:\n",
    "            if y_true[i] == 0:\n",
    "                FP += 1\n",
    "\n",
    "    return FP\n",
    "\n",
    "\n",
    "def count_false_negatives(y_true, y_pred):\n",
    "    \"\"\"\n",
    "    Returns the number of false negatives.\n",
    "\n",
    "    Parameters:\n",
    "        y_true (1D numpy array): 1D array of true binary labels\n",
    "                                 np.array([0, 1, 0, 0, ..]).\n",
    "        y_pred (1D numpy array): 1D array of predicted binary labels\n",
    "                                 np.array([1, 0, 0, 1, ..]).\n",
    "\n",
    "    Returns:\n",
    "        (int): The number of false negatives detected.\n",
    "    \"\"\"\n",
    "\n",
    "    FN = 0\n",
    "    for i in range(len(y_true)):\n",
    "        if (y_true[i] - y_pred[i] == 1) and (y_true[i] == 1):\n",
    "            FN += 1\n",
    "\n",
    "    return FN\n",
    "\n",
    "\n",
    "def count_true_positives(y_true, y_pred):\n",
    "    \"\"\"\n",
    "    Returns the number of true positives.\n",
    "\n",
    "    Parameters:\n",
    "        y_true (1D numpy array): 1D array of true binary labels\n",
    "                                 np.array([0, 1, 0, 0, ..]).\n",
    "        y_pred (1D numpy array): 1D array of predicted binary labels\n",
    "                                 np.array([1, 0, 0, 1, ..]).\n",
    "\n",
    "    Returns:\n",
    "        (int): The number of true positives detected.\n",
    "    \"\"\"\n",
    "\n",
    "    # Write your code here\n",
    "    TP = 0\n",
    "    for i in range(len(y_true)):\n",
    "        if (y_true[i] - y_pred[i] == 0) and (y_true[i] == 1):\n",
    "            TP += 1\n",
    "\n",
    "    return TP\n",
    "\n",
    "\n",
    "def count_true_negatives(y_true, y_pred):\n",
    "    \"\"\"\n",
    "    Returns the number of false negatives.\n",
    "\n",
    "    Parameters:\n",
    "        y_true (1D numpy array): 1D array of true binary labels\n",
    "                                 np.array([0, 1, 0, 0, ..]).\n",
    "        y_pred (1D numpy array): 1D array of predicted binary labels\n",
    "                                 np.array([1, 0, 0, 1, ..]).\n",
    "\n",
    "    Returns:\n",
    "        (int): The number of true negatives detected.\n",
    "    \"\"\"\n",
    "\n",
    "    # Write your code here\n",
    "    TN = 0\n",
    "    for i in range(len(y_true)):\n",
    "        if (y_true[i] - y_pred[i] == 0) and (y_true[i] == 0):\n",
    "            TN += 1\n",
    "\n",
    "    return TN\n",
    "\n",
    "def word_detector(words, texts):\n",
    "\n",
    "    \"\"\"\n",
    "    Copied from Assignment 8\n",
    "    Returns a DataFrame with detections of words.\n",
    "\n",
    "    Parameters:\n",
    "        words (list): A list of words to look for.\n",
    "        texts (Series): A series of strings to search in.\n",
    "\n",
    "    Returns:\n",
    "        (DataFrame): A DataFrame with len(words) columns and texts.shape[0] rows.\n",
    "    \"\"\"\n",
    "\n",
    "\n",
    "    row_to_df = []\n",
    "    for index, value in texts.items():\n",
    "        row = [0]*len(words)\n",
    "        for y in range(len(words)):\n",
    "            n = 0\n",
    "            if words[y] in value.lower():\n",
    "                n = 1\n",
    "            row[y] = n\n",
    "        row_to_df.append(row)\n",
    "    df = pd.DataFrame(row_to_df,columns=words)\n",
    "    df = df.set_index(texts.index)\n",
    "    return df"
   ],
   "metadata": {
    "collapsed": false,
    "pycharm": {
     "name": "#%%\n"
    }
   }
  },
  {
   "cell_type": "code",
   "execution_count": 62,
   "outputs": [
    {
     "name": "stderr",
     "output_type": "stream",
     "text": [
      "<ipython-input-62-3aada4e241b9>:3: SettingWithCopyWarning: \n",
      "A value is trying to be set on a copy of a slice from a DataFrame.\n",
      "Try using .loc[row_indexer,col_indexer] = value instead\n",
      "\n",
      "See the caveats in the documentation: https://pandas.pydata.org/pandas-docs/stable/user_guide/indexing.html#returning-a-view-versus-a-copy\n",
      "  Missing_industry_df['Industry'] = 0\n",
      "<ipython-input-62-3aada4e241b9>:4: SettingWithCopyWarning: \n",
      "A value is trying to be set on a copy of a slice from a DataFrame.\n",
      "Try using .loc[row_indexer,col_indexer] = value instead\n",
      "\n",
      "See the caveats in the documentation: https://pandas.pydata.org/pandas-docs/stable/user_guide/indexing.html#returning-a-view-versus-a-copy\n",
      "  Missing_industry_df['Industry'] = result_array\n"
     ]
    },
    {
     "data": {
      "text/plain": "        LoanNr_ChkDgt                            Name          City State  \\\n3          1000044001   BIG BUCKS PAWN & JEWELRY, LLC  BROKEN ARROW    OK   \n4          1000054004     ANASTASIA CONFECTIONS, INC.       ORLANDO    FL   \n6          1000093009   MIDDLE ATLANTIC SPORTS CO INC         UNION    NJ   \n9          1000124001         INTEXT BUILDING SYS LLC   GLASTONBURY    CT   \n13         1000154010     ORCHARD CAFE & BAKERY, INC.  SLATERSVILLE    RI   \n...               ...                             ...           ...   ...   \n899153     9995413002              NORTH SHORE FLORAL      WOODBURY    NY   \n899154     9995423005    LITWIN LIVERY SERVICES, INC.      CAMPBELL    OH   \n899158     9995563001  SHADES WINDOW TINTING AUTO ALA        IRVING    TX   \n899162     9995973006           MARUTAMA HAWAII, INC.      HONOLULU    HI   \n899163     9996003010  PACIFIC TRADEWINDS FAN & LIGHT        KAILUA    HI   \n\n          Zip                            Bank BankState  NAICS ApprovalDate  \\\n3       74012   1ST NATL BK & TR CO OF BROKEN        OK      0    28-Feb-97   \n4       32801         FLORIDA BUS. DEVEL CORP        FL      0    28-Feb-97   \n6        7083     WELLS FARGO BANK NATL ASSOC        SD      0     2-Jun-80   \n9        6073         WEBSTER BANK NATL ASSOC        CT      0    28-Feb-97   \n13       2876        CITIZENS BANK NATL ASSOC        RI      0    28-Feb-97   \n...       ...                             ...       ...    ...          ...   \n899153  11797                   FLUSHING BANK        NY      0    27-Feb-97   \n899154  44405  JPMORGAN CHASE BANK NATL ASSOC        IL      0    27-Feb-97   \n899158  75062   LOANS FROM OLD CLOSED LENDERS        DC      0    27-Feb-97   \n899162  96830                  BANK OF HAWAII        HI      0    27-Feb-97   \n899163  96734            CENTRAL PACIFIC BANK        HI      0    27-Feb-97   \n\n       ApprovalFY  ...  LowDoc  ChgOffDate  DisbursementDate  \\\n3            1997  ...       Y         NaN         30-Jun-97   \n4            1997  ...       N         NaN         14-May-97   \n6            1980  ...       N   24-Jun-91         22-Jul-80   \n9            1997  ...       Y         NaN         30-Apr-97   \n13           1997  ...       N         NaN         31-May-97   \n...           ...  ...     ...         ...               ...   \n899153       1997  ...       N    7-Jul-04         31-May-97   \n899154       1997  ...       N         NaN         30-Sep-97   \n899158       1997  ...       Y         NaN         30-Jun-97   \n899162       1997  ...       Y    8-Mar-00         31-Mar-97   \n899163       1997  ...       N         NaN         31-May-97   \n\n        DisbursementGross  BalanceGross  MIS_Status  ChgOffPrinGr  \\\n3             $35,000.00         $0.00        P I F        $0.00    \n4            $229,000.00         $0.00        P I F        $0.00    \n6            $600,000.00         $0.00       CHGOFF  $208,959.00    \n9             $70,000.00         $0.00        P I F        $0.00    \n13           $370,000.00         $0.00        P I F        $0.00    \n...                   ...           ...         ...           ...   \n899153       $142,000.00         $0.00       CHGOFF        $0.00    \n899154        $10,000.00         $0.00        P I F        $0.00    \n899158        $79,000.00         $0.00        P I F        $0.00    \n899162        $75,000.00         $0.00       CHGOFF   $46,383.00    \n899163        $30,000.00         $0.00        P I F        $0.00    \n\n              GrAppv      SBA_Appv Industry  \n3        $35,000.00    $28,000.00         0  \n4       $229,000.00   $229,000.00         0  \n6       $600,000.00   $499,998.00         0  \n9        $70,000.00    $56,000.00         0  \n13      $370,000.00   $277,500.00         0  \n...              ...           ...      ...  \n899153  $142,000.00   $106,500.00         0  \n899154   $10,000.00     $5,000.00         0  \n899158   $79,000.00    $63,200.00         0  \n899162   $75,000.00    $60,000.00         0  \n899163   $30,000.00    $24,000.00         0  \n\n[197074 rows x 28 columns]",
      "text/html": "<div>\n<style scoped>\n    .dataframe tbody tr th:only-of-type {\n        vertical-align: middle;\n    }\n\n    .dataframe tbody tr th {\n        vertical-align: top;\n    }\n\n    .dataframe thead th {\n        text-align: right;\n    }\n</style>\n<table border=\"1\" class=\"dataframe\">\n  <thead>\n    <tr style=\"text-align: right;\">\n      <th></th>\n      <th>LoanNr_ChkDgt</th>\n      <th>Name</th>\n      <th>City</th>\n      <th>State</th>\n      <th>Zip</th>\n      <th>Bank</th>\n      <th>BankState</th>\n      <th>NAICS</th>\n      <th>ApprovalDate</th>\n      <th>ApprovalFY</th>\n      <th>...</th>\n      <th>LowDoc</th>\n      <th>ChgOffDate</th>\n      <th>DisbursementDate</th>\n      <th>DisbursementGross</th>\n      <th>BalanceGross</th>\n      <th>MIS_Status</th>\n      <th>ChgOffPrinGr</th>\n      <th>GrAppv</th>\n      <th>SBA_Appv</th>\n      <th>Industry</th>\n    </tr>\n  </thead>\n  <tbody>\n    <tr>\n      <th>3</th>\n      <td>1000044001</td>\n      <td>BIG BUCKS PAWN &amp; JEWELRY, LLC</td>\n      <td>BROKEN ARROW</td>\n      <td>OK</td>\n      <td>74012</td>\n      <td>1ST NATL BK &amp; TR CO OF BROKEN</td>\n      <td>OK</td>\n      <td>0</td>\n      <td>28-Feb-97</td>\n      <td>1997</td>\n      <td>...</td>\n      <td>Y</td>\n      <td>NaN</td>\n      <td>30-Jun-97</td>\n      <td>$35,000.00</td>\n      <td>$0.00</td>\n      <td>P I F</td>\n      <td>$0.00</td>\n      <td>$35,000.00</td>\n      <td>$28,000.00</td>\n      <td>0</td>\n    </tr>\n    <tr>\n      <th>4</th>\n      <td>1000054004</td>\n      <td>ANASTASIA CONFECTIONS, INC.</td>\n      <td>ORLANDO</td>\n      <td>FL</td>\n      <td>32801</td>\n      <td>FLORIDA BUS. DEVEL CORP</td>\n      <td>FL</td>\n      <td>0</td>\n      <td>28-Feb-97</td>\n      <td>1997</td>\n      <td>...</td>\n      <td>N</td>\n      <td>NaN</td>\n      <td>14-May-97</td>\n      <td>$229,000.00</td>\n      <td>$0.00</td>\n      <td>P I F</td>\n      <td>$0.00</td>\n      <td>$229,000.00</td>\n      <td>$229,000.00</td>\n      <td>0</td>\n    </tr>\n    <tr>\n      <th>6</th>\n      <td>1000093009</td>\n      <td>MIDDLE ATLANTIC SPORTS CO INC</td>\n      <td>UNION</td>\n      <td>NJ</td>\n      <td>7083</td>\n      <td>WELLS FARGO BANK NATL ASSOC</td>\n      <td>SD</td>\n      <td>0</td>\n      <td>2-Jun-80</td>\n      <td>1980</td>\n      <td>...</td>\n      <td>N</td>\n      <td>24-Jun-91</td>\n      <td>22-Jul-80</td>\n      <td>$600,000.00</td>\n      <td>$0.00</td>\n      <td>CHGOFF</td>\n      <td>$208,959.00</td>\n      <td>$600,000.00</td>\n      <td>$499,998.00</td>\n      <td>0</td>\n    </tr>\n    <tr>\n      <th>9</th>\n      <td>1000124001</td>\n      <td>INTEXT BUILDING SYS LLC</td>\n      <td>GLASTONBURY</td>\n      <td>CT</td>\n      <td>6073</td>\n      <td>WEBSTER BANK NATL ASSOC</td>\n      <td>CT</td>\n      <td>0</td>\n      <td>28-Feb-97</td>\n      <td>1997</td>\n      <td>...</td>\n      <td>Y</td>\n      <td>NaN</td>\n      <td>30-Apr-97</td>\n      <td>$70,000.00</td>\n      <td>$0.00</td>\n      <td>P I F</td>\n      <td>$0.00</td>\n      <td>$70,000.00</td>\n      <td>$56,000.00</td>\n      <td>0</td>\n    </tr>\n    <tr>\n      <th>13</th>\n      <td>1000154010</td>\n      <td>ORCHARD CAFE &amp; BAKERY, INC.</td>\n      <td>SLATERSVILLE</td>\n      <td>RI</td>\n      <td>2876</td>\n      <td>CITIZENS BANK NATL ASSOC</td>\n      <td>RI</td>\n      <td>0</td>\n      <td>28-Feb-97</td>\n      <td>1997</td>\n      <td>...</td>\n      <td>N</td>\n      <td>NaN</td>\n      <td>31-May-97</td>\n      <td>$370,000.00</td>\n      <td>$0.00</td>\n      <td>P I F</td>\n      <td>$0.00</td>\n      <td>$370,000.00</td>\n      <td>$277,500.00</td>\n      <td>0</td>\n    </tr>\n    <tr>\n      <th>...</th>\n      <td>...</td>\n      <td>...</td>\n      <td>...</td>\n      <td>...</td>\n      <td>...</td>\n      <td>...</td>\n      <td>...</td>\n      <td>...</td>\n      <td>...</td>\n      <td>...</td>\n      <td>...</td>\n      <td>...</td>\n      <td>...</td>\n      <td>...</td>\n      <td>...</td>\n      <td>...</td>\n      <td>...</td>\n      <td>...</td>\n      <td>...</td>\n      <td>...</td>\n      <td>...</td>\n    </tr>\n    <tr>\n      <th>899153</th>\n      <td>9995413002</td>\n      <td>NORTH SHORE FLORAL</td>\n      <td>WOODBURY</td>\n      <td>NY</td>\n      <td>11797</td>\n      <td>FLUSHING BANK</td>\n      <td>NY</td>\n      <td>0</td>\n      <td>27-Feb-97</td>\n      <td>1997</td>\n      <td>...</td>\n      <td>N</td>\n      <td>7-Jul-04</td>\n      <td>31-May-97</td>\n      <td>$142,000.00</td>\n      <td>$0.00</td>\n      <td>CHGOFF</td>\n      <td>$0.00</td>\n      <td>$142,000.00</td>\n      <td>$106,500.00</td>\n      <td>0</td>\n    </tr>\n    <tr>\n      <th>899154</th>\n      <td>9995423005</td>\n      <td>LITWIN LIVERY SERVICES, INC.</td>\n      <td>CAMPBELL</td>\n      <td>OH</td>\n      <td>44405</td>\n      <td>JPMORGAN CHASE BANK NATL ASSOC</td>\n      <td>IL</td>\n      <td>0</td>\n      <td>27-Feb-97</td>\n      <td>1997</td>\n      <td>...</td>\n      <td>N</td>\n      <td>NaN</td>\n      <td>30-Sep-97</td>\n      <td>$10,000.00</td>\n      <td>$0.00</td>\n      <td>P I F</td>\n      <td>$0.00</td>\n      <td>$10,000.00</td>\n      <td>$5,000.00</td>\n      <td>0</td>\n    </tr>\n    <tr>\n      <th>899158</th>\n      <td>9995563001</td>\n      <td>SHADES WINDOW TINTING AUTO ALA</td>\n      <td>IRVING</td>\n      <td>TX</td>\n      <td>75062</td>\n      <td>LOANS FROM OLD CLOSED LENDERS</td>\n      <td>DC</td>\n      <td>0</td>\n      <td>27-Feb-97</td>\n      <td>1997</td>\n      <td>...</td>\n      <td>Y</td>\n      <td>NaN</td>\n      <td>30-Jun-97</td>\n      <td>$79,000.00</td>\n      <td>$0.00</td>\n      <td>P I F</td>\n      <td>$0.00</td>\n      <td>$79,000.00</td>\n      <td>$63,200.00</td>\n      <td>0</td>\n    </tr>\n    <tr>\n      <th>899162</th>\n      <td>9995973006</td>\n      <td>MARUTAMA HAWAII, INC.</td>\n      <td>HONOLULU</td>\n      <td>HI</td>\n      <td>96830</td>\n      <td>BANK OF HAWAII</td>\n      <td>HI</td>\n      <td>0</td>\n      <td>27-Feb-97</td>\n      <td>1997</td>\n      <td>...</td>\n      <td>Y</td>\n      <td>8-Mar-00</td>\n      <td>31-Mar-97</td>\n      <td>$75,000.00</td>\n      <td>$0.00</td>\n      <td>CHGOFF</td>\n      <td>$46,383.00</td>\n      <td>$75,000.00</td>\n      <td>$60,000.00</td>\n      <td>0</td>\n    </tr>\n    <tr>\n      <th>899163</th>\n      <td>9996003010</td>\n      <td>PACIFIC TRADEWINDS FAN &amp; LIGHT</td>\n      <td>KAILUA</td>\n      <td>HI</td>\n      <td>96734</td>\n      <td>CENTRAL PACIFIC BANK</td>\n      <td>HI</td>\n      <td>0</td>\n      <td>27-Feb-97</td>\n      <td>1997</td>\n      <td>...</td>\n      <td>N</td>\n      <td>NaN</td>\n      <td>31-May-97</td>\n      <td>$30,000.00</td>\n      <td>$0.00</td>\n      <td>P I F</td>\n      <td>$0.00</td>\n      <td>$30,000.00</td>\n      <td>$24,000.00</td>\n      <td>0</td>\n    </tr>\n  </tbody>\n</table>\n<p>197074 rows × 28 columns</p>\n</div>"
     },
     "execution_count": 62,
     "metadata": {},
     "output_type": "execute_result"
    }
   ],
   "source": [
    "Missing_industry_df = SBA_Loan[SBA_Loan['NAICS'] == 0]\n",
    "#Missing_industry_df['Industry'] = No_missing_industry_df['Industry'].apply(lambda x: industry_identifier(x,NAICS_DF))\n",
    "Missing_industry_df['Industry'] = 0\n",
    "Missing_industry_df['Industry'] = result_array\n",
    "\n",
    "Missing_industry_df = Missing_industry_df[Missing_industry_df['Industry'] == '0']\n",
    "Missing_industry_df"
   ],
   "metadata": {
    "collapsed": false,
    "pycharm": {
     "name": "#%%\n"
    }
   }
  },
  {
   "cell_type": "code",
   "execution_count": 67,
   "outputs": [
    {
     "name": "stdout",
     "output_type": "stream",
     "text": [
      "2\n",
      "3\n",
      "4\n",
      "5\n",
      "6\n",
      "7\n",
      "8\n",
      "9\n",
      "10\n",
      "11\n",
      "12\n",
      "13\n",
      "14\n",
      "15\n",
      "16\n",
      "17\n",
      "18\n",
      "19\n",
      "20\n",
      "21\n"
     ]
    }
   ],
   "source": [
    "#Step 4 Train 20 models to predict industry\n",
    "iteration = 1\n",
    "for industry in list_of_industry:\n",
    "    industry_name_words = find_n_most_common_words(train,industry)\n",
    "    industry_name_words_revised = [item for item in industry_name_words if item not in list_of_words]#filter out the overlapping words\n",
    "    industry_name_words_revised = [item for item in industry_name_words_revised if len(item)>1] #filter out words that has only 1 character\n",
    "    x_train = word_detector(industry_name_words_revised,train['Name'])\n",
    "    y_train = pd.Series(np.array(train['Industry']==industry)).astype(int)\n",
    "    model = LogisticRegression(solver='liblinear', random_state=0)\n",
    "    model = model.fit(x_train,y_train)\n",
    "    x_predict = word_detector(industry_name_words_revised,Missing_industry_df['Name'])\n",
    "    y_predict = model.predict(x_predict)\n",
    "    y_predict_proba = model.predict_proba(x_predict)[:,1]\n",
    "    #result_array = np.where(y_predict == 1, industry, y_predict)\n",
    "    Missing_industry_df[industry] = y_predict_proba\n",
    "    #Missing_industry_df = Missing_industry_df[Missing_industry_df['Industry'] == '0']\n",
    "    #print(result_array)\n",
    "    #Missing_industry_df\n",
    "    #print(false_alarm_rate(y_train,y_predict))  #false alarm rate ranges from 0 to about 2%, not bad\n",
    "\n",
    "    print(iteration)\n",
    "    iteration = iteration + 1\n",
    "#industry_name_words = find_n_most_common_words(train,'Manufacturing')\n",
    "#industry_name_words_revised = [item for item in industry_name_words if item not in list_of_words] #filter out the overlapping words\n",
    "#industry_name_words_revised = [item for item in industry_name_words_revised if len(item)>1] #further filter out words that has only 1 character\n",
    "#x_train = word_detector(industry_name_words_revised,train['Name'])\n",
    "#y_train = pd.Series(np.array(train['Industry']=='Manufacturing')).astype(int)\n",
    "#train_industry_df= pd.concat((x_train,y_train), axis=1)\n",
    "#model = LogisticRegression(solver='liblinear', random_state=0)\n",
    "#model = model.fit(x_train, y_train)\n",
    "#y_predict_prob = model.predict_proba(x_train)[:,1]\n",
    "#y_pred = np.where(y_predict_prob > 0.35, 1, 0)"
   ],
   "metadata": {
    "collapsed": false,
    "pycharm": {
     "name": "#%%\n"
    }
   }
  },
  {
   "cell_type": "code",
   "execution_count": 107,
   "outputs": [],
   "source": [
    "Missing_industry_df\n",
    "Missing_industry_df_copy = Missing_industry_df.copy()\n",
    "threshold = 0.35\n"
   ],
   "metadata": {
    "collapsed": false,
    "pycharm": {
     "name": "#%%\n"
    }
   }
  },
  {
   "cell_type": "code",
   "execution_count": 108,
   "outputs": [
    {
     "name": "stdout",
     "output_type": "stream",
     "text": [
      "        probability\n",
      "3          0.665081\n",
      "13         0.770393\n",
      "17         0.967508\n",
      "18         0.914018\n",
      "19         0.351076\n",
      "...             ...\n",
      "899134     0.908748\n",
      "899148     0.950088\n",
      "899153     0.888966\n",
      "899158     0.442537\n",
      "899163     0.518129\n",
      "\n",
      "[102349 rows x 1 columns]\n"
     ]
    },
    {
     "data": {
      "text/plain": "        LoanNr_ChkDgt                            Name          City State  \\\n3          1000044001   BIG BUCKS PAWN & JEWELRY, LLC  BROKEN ARROW    OK   \n13         1000154010     ORCHARD CAFE & BAKERY, INC.  SLATERSVILLE    RI   \n17         1000264008      FAIRFAX COURT SUBWAY, INC.   CENTREVILLE    VA   \n18         1000284003                  FANTASTIC SAMS         PLANO    TX   \n19         1000294006                SIR GOONY'S GOLF     KNOXVILLE    TN   \n...               ...                             ...           ...   ...   \n899134     9995083010               RUSHING'S GROCERY    LAURINBURG    NC   \n899148     9995353008   FRANKIE'S CHICAGO STYLE PIZZA   MAPLE GROVE    MN   \n899153     9995413002              NORTH SHORE FLORAL      WOODBURY    NY   \n899158     9995563001  SHADES WINDOW TINTING AUTO ALA        IRVING    TX   \n899163     9996003010  PACIFIC TRADEWINDS FAN & LIGHT        KAILUA    HI   \n\n          Zip                            Bank BankState  NAICS ApprovalDate  \\\n3       74012   1ST NATL BK & TR CO OF BROKEN        OK      0    28-Feb-97   \n13       2876        CITIZENS BANK NATL ASSOC        RI      0    28-Feb-97   \n17      20120      BANK OF AMERICA NATL ASSOC        MD      0    28-Feb-97   \n18      75093  NEWTEK SMALL BUS. FINANCE INC.        NY      0    28-Feb-97   \n19      37922          CITIZENS NATIONAL BANK        TN      0    28-Feb-97   \n...       ...                             ...       ...    ...          ...   \n899134  28352     WELLS FARGO BANK NATL ASSOC        SD      0    27-Feb-97   \n899148  55369     WELLS FARGO BANK NATL ASSOC        SD      0    27-Feb-97   \n899153  11797                   FLUSHING BANK        NY      0    27-Feb-97   \n899158  75062   LOANS FROM OLD CLOSED LENDERS        DC      0    27-Feb-97   \n899163  96734            CENTRAL PACIFIC BANK        HI      0    27-Feb-97   \n\n       ApprovalFY  ...  Transportation and warehousing  \\\n3            1997  ...                        0.019135   \n13           1997  ...                        0.011753   \n17           1997  ...                        0.017693   \n18           1997  ...                        0.013406   \n19           1997  ...                        0.008525   \n...           ...  ...                             ...   \n899134       1997  ...                        0.011452   \n899148       1997  ...                        0.026963   \n899153       1997  ...                        0.012872   \n899158       1997  ...                        0.003946   \n899163       1997  ...                        0.008259   \n\n        Accommodation and food services  \\\n3                              0.110384   \n13                             0.770393   \n17                             0.967508   \n18                             0.035434   \n19                             0.051553   \n...                                 ...   \n899134                         0.042792   \n899148                         0.950088   \n899153                         0.048914   \n899158                         0.017558   \n899163                         0.028671   \n\n        Administrative and support, waste management and remediation services  \\\n3                                                0.021391                       \n13                                               0.019980                       \n17                                               0.008815                       \n18                                               0.018651                       \n19                                               0.020771                       \n...                                                   ...                       \n899134                                           0.019980                       \n899148                                           0.018651                       \n899153                                           0.022530                       \n899158                                           0.028539                       \n899163                                           0.018367                       \n\n        Wholesale trade  Finance and insurance  Educational services  \\\n3              0.092919               0.377260              0.005359   \n13             0.058597               0.003287              0.003560   \n17             0.047741               0.003287              0.003560   \n18             0.042835               0.003955              0.003508   \n19             0.049254               0.003433              0.011170   \n...                 ...                    ...                   ...   \n899134         0.056197               0.003304              0.003790   \n899148         0.037545               0.010554              0.003508   \n899153         0.053535               0.003192              0.004572   \n899158         0.023049               0.001275              0.002920   \n899163         0.518129               0.005475              0.003560   \n\n        Mining, quarrying, and oil and gas extraction Utilities  \\\n3                                            0.001902  0.000428   \n13                                           0.001043  0.000413   \n17                                           0.001043  0.000863   \n18                                           0.000717  0.000414   \n19                                           0.000717  0.000414   \n...                                               ...       ...   \n899134                                       0.001043  0.000413   \n899148                                       0.000717  0.000375   \n899153                                       0.000717  0.001023   \n899158                                       0.001043  0.000244   \n899163                                       0.000990  0.000609   \n\n       Management of companies and enterprises Public administration  \n3                                     0.000360              0.000288  \n13                                    0.000215              0.000193  \n17                                    0.000215              0.000612  \n18                                    0.000212              0.000176  \n19                                    0.000215              0.000193  \n...                                        ...                   ...  \n899134                                0.000215              0.000695  \n899148                                0.000212              0.000193  \n899153                                0.000801              0.000193  \n899158                                0.000215              0.000193  \n899163                                0.000212              0.000193  \n\n[102349 rows x 48 columns]",
      "text/html": "<div>\n<style scoped>\n    .dataframe tbody tr th:only-of-type {\n        vertical-align: middle;\n    }\n\n    .dataframe tbody tr th {\n        vertical-align: top;\n    }\n\n    .dataframe thead th {\n        text-align: right;\n    }\n</style>\n<table border=\"1\" class=\"dataframe\">\n  <thead>\n    <tr style=\"text-align: right;\">\n      <th></th>\n      <th>LoanNr_ChkDgt</th>\n      <th>Name</th>\n      <th>City</th>\n      <th>State</th>\n      <th>Zip</th>\n      <th>Bank</th>\n      <th>BankState</th>\n      <th>NAICS</th>\n      <th>ApprovalDate</th>\n      <th>ApprovalFY</th>\n      <th>...</th>\n      <th>Transportation and warehousing</th>\n      <th>Accommodation and food services</th>\n      <th>Administrative and support, waste management and remediation services</th>\n      <th>Wholesale trade</th>\n      <th>Finance and insurance</th>\n      <th>Educational services</th>\n      <th>Mining, quarrying, and oil and gas extraction</th>\n      <th>Utilities</th>\n      <th>Management of companies and enterprises</th>\n      <th>Public administration</th>\n    </tr>\n  </thead>\n  <tbody>\n    <tr>\n      <th>3</th>\n      <td>1000044001</td>\n      <td>BIG BUCKS PAWN &amp; JEWELRY, LLC</td>\n      <td>BROKEN ARROW</td>\n      <td>OK</td>\n      <td>74012</td>\n      <td>1ST NATL BK &amp; TR CO OF BROKEN</td>\n      <td>OK</td>\n      <td>0</td>\n      <td>28-Feb-97</td>\n      <td>1997</td>\n      <td>...</td>\n      <td>0.019135</td>\n      <td>0.110384</td>\n      <td>0.021391</td>\n      <td>0.092919</td>\n      <td>0.377260</td>\n      <td>0.005359</td>\n      <td>0.001902</td>\n      <td>0.000428</td>\n      <td>0.000360</td>\n      <td>0.000288</td>\n    </tr>\n    <tr>\n      <th>13</th>\n      <td>1000154010</td>\n      <td>ORCHARD CAFE &amp; BAKERY, INC.</td>\n      <td>SLATERSVILLE</td>\n      <td>RI</td>\n      <td>2876</td>\n      <td>CITIZENS BANK NATL ASSOC</td>\n      <td>RI</td>\n      <td>0</td>\n      <td>28-Feb-97</td>\n      <td>1997</td>\n      <td>...</td>\n      <td>0.011753</td>\n      <td>0.770393</td>\n      <td>0.019980</td>\n      <td>0.058597</td>\n      <td>0.003287</td>\n      <td>0.003560</td>\n      <td>0.001043</td>\n      <td>0.000413</td>\n      <td>0.000215</td>\n      <td>0.000193</td>\n    </tr>\n    <tr>\n      <th>17</th>\n      <td>1000264008</td>\n      <td>FAIRFAX COURT SUBWAY, INC.</td>\n      <td>CENTREVILLE</td>\n      <td>VA</td>\n      <td>20120</td>\n      <td>BANK OF AMERICA NATL ASSOC</td>\n      <td>MD</td>\n      <td>0</td>\n      <td>28-Feb-97</td>\n      <td>1997</td>\n      <td>...</td>\n      <td>0.017693</td>\n      <td>0.967508</td>\n      <td>0.008815</td>\n      <td>0.047741</td>\n      <td>0.003287</td>\n      <td>0.003560</td>\n      <td>0.001043</td>\n      <td>0.000863</td>\n      <td>0.000215</td>\n      <td>0.000612</td>\n    </tr>\n    <tr>\n      <th>18</th>\n      <td>1000284003</td>\n      <td>FANTASTIC SAMS</td>\n      <td>PLANO</td>\n      <td>TX</td>\n      <td>75093</td>\n      <td>NEWTEK SMALL BUS. FINANCE INC.</td>\n      <td>NY</td>\n      <td>0</td>\n      <td>28-Feb-97</td>\n      <td>1997</td>\n      <td>...</td>\n      <td>0.013406</td>\n      <td>0.035434</td>\n      <td>0.018651</td>\n      <td>0.042835</td>\n      <td>0.003955</td>\n      <td>0.003508</td>\n      <td>0.000717</td>\n      <td>0.000414</td>\n      <td>0.000212</td>\n      <td>0.000176</td>\n    </tr>\n    <tr>\n      <th>19</th>\n      <td>1000294006</td>\n      <td>SIR GOONY'S GOLF</td>\n      <td>KNOXVILLE</td>\n      <td>TN</td>\n      <td>37922</td>\n      <td>CITIZENS NATIONAL BANK</td>\n      <td>TN</td>\n      <td>0</td>\n      <td>28-Feb-97</td>\n      <td>1997</td>\n      <td>...</td>\n      <td>0.008525</td>\n      <td>0.051553</td>\n      <td>0.020771</td>\n      <td>0.049254</td>\n      <td>0.003433</td>\n      <td>0.011170</td>\n      <td>0.000717</td>\n      <td>0.000414</td>\n      <td>0.000215</td>\n      <td>0.000193</td>\n    </tr>\n    <tr>\n      <th>...</th>\n      <td>...</td>\n      <td>...</td>\n      <td>...</td>\n      <td>...</td>\n      <td>...</td>\n      <td>...</td>\n      <td>...</td>\n      <td>...</td>\n      <td>...</td>\n      <td>...</td>\n      <td>...</td>\n      <td>...</td>\n      <td>...</td>\n      <td>...</td>\n      <td>...</td>\n      <td>...</td>\n      <td>...</td>\n      <td>...</td>\n      <td>...</td>\n      <td>...</td>\n      <td>...</td>\n    </tr>\n    <tr>\n      <th>899134</th>\n      <td>9995083010</td>\n      <td>RUSHING'S GROCERY</td>\n      <td>LAURINBURG</td>\n      <td>NC</td>\n      <td>28352</td>\n      <td>WELLS FARGO BANK NATL ASSOC</td>\n      <td>SD</td>\n      <td>0</td>\n      <td>27-Feb-97</td>\n      <td>1997</td>\n      <td>...</td>\n      <td>0.011452</td>\n      <td>0.042792</td>\n      <td>0.019980</td>\n      <td>0.056197</td>\n      <td>0.003304</td>\n      <td>0.003790</td>\n      <td>0.001043</td>\n      <td>0.000413</td>\n      <td>0.000215</td>\n      <td>0.000695</td>\n    </tr>\n    <tr>\n      <th>899148</th>\n      <td>9995353008</td>\n      <td>FRANKIE'S CHICAGO STYLE PIZZA</td>\n      <td>MAPLE GROVE</td>\n      <td>MN</td>\n      <td>55369</td>\n      <td>WELLS FARGO BANK NATL ASSOC</td>\n      <td>SD</td>\n      <td>0</td>\n      <td>27-Feb-97</td>\n      <td>1997</td>\n      <td>...</td>\n      <td>0.026963</td>\n      <td>0.950088</td>\n      <td>0.018651</td>\n      <td>0.037545</td>\n      <td>0.010554</td>\n      <td>0.003508</td>\n      <td>0.000717</td>\n      <td>0.000375</td>\n      <td>0.000212</td>\n      <td>0.000193</td>\n    </tr>\n    <tr>\n      <th>899153</th>\n      <td>9995413002</td>\n      <td>NORTH SHORE FLORAL</td>\n      <td>WOODBURY</td>\n      <td>NY</td>\n      <td>11797</td>\n      <td>FLUSHING BANK</td>\n      <td>NY</td>\n      <td>0</td>\n      <td>27-Feb-97</td>\n      <td>1997</td>\n      <td>...</td>\n      <td>0.012872</td>\n      <td>0.048914</td>\n      <td>0.022530</td>\n      <td>0.053535</td>\n      <td>0.003192</td>\n      <td>0.004572</td>\n      <td>0.000717</td>\n      <td>0.001023</td>\n      <td>0.000801</td>\n      <td>0.000193</td>\n    </tr>\n    <tr>\n      <th>899158</th>\n      <td>9995563001</td>\n      <td>SHADES WINDOW TINTING AUTO ALA</td>\n      <td>IRVING</td>\n      <td>TX</td>\n      <td>75062</td>\n      <td>LOANS FROM OLD CLOSED LENDERS</td>\n      <td>DC</td>\n      <td>0</td>\n      <td>27-Feb-97</td>\n      <td>1997</td>\n      <td>...</td>\n      <td>0.003946</td>\n      <td>0.017558</td>\n      <td>0.028539</td>\n      <td>0.023049</td>\n      <td>0.001275</td>\n      <td>0.002920</td>\n      <td>0.001043</td>\n      <td>0.000244</td>\n      <td>0.000215</td>\n      <td>0.000193</td>\n    </tr>\n    <tr>\n      <th>899163</th>\n      <td>9996003010</td>\n      <td>PACIFIC TRADEWINDS FAN &amp; LIGHT</td>\n      <td>KAILUA</td>\n      <td>HI</td>\n      <td>96734</td>\n      <td>CENTRAL PACIFIC BANK</td>\n      <td>HI</td>\n      <td>0</td>\n      <td>27-Feb-97</td>\n      <td>1997</td>\n      <td>...</td>\n      <td>0.008259</td>\n      <td>0.028671</td>\n      <td>0.018367</td>\n      <td>0.518129</td>\n      <td>0.005475</td>\n      <td>0.003560</td>\n      <td>0.000990</td>\n      <td>0.000609</td>\n      <td>0.000212</td>\n      <td>0.000193</td>\n    </tr>\n  </tbody>\n</table>\n<p>102349 rows × 48 columns</p>\n</div>"
     },
     "execution_count": 108,
     "metadata": {},
     "output_type": "execute_result"
    }
   ],
   "source": [
    "Missing_industry_df_copy['Industry'] = Missing_industry_df_copy[list_of_industry].max(axis=1)\n",
    "Missing_industry_df_copy = Missing_industry_df_copy[Missing_industry_df_copy['Industry'] >= threshold]\n",
    "print(max_proba)\n",
    "Missing_industry_df_copy"
   ],
   "metadata": {
    "collapsed": false,
    "pycharm": {
     "name": "#%%\n"
    }
   }
  },
  {
   "cell_type": "code",
   "execution_count": 113,
   "outputs": [
    {
     "name": "stdout",
     "output_type": "stream",
     "text": [
      "102349\n"
     ]
    },
    {
     "data": {
      "text/plain": "        LoanNr_ChkDgt                            Name          City State  \\\n3          1000044001   BIG BUCKS PAWN & JEWELRY, LLC  BROKEN ARROW    OK   \n13         1000154010     ORCHARD CAFE & BAKERY, INC.  SLATERSVILLE    RI   \n17         1000264008      FAIRFAX COURT SUBWAY, INC.   CENTREVILLE    VA   \n18         1000284003                  FANTASTIC SAMS         PLANO    TX   \n19         1000294006                SIR GOONY'S GOLF     KNOXVILLE    TN   \n...               ...                             ...           ...   ...   \n899134     9995083010               RUSHING'S GROCERY    LAURINBURG    NC   \n899148     9995353008   FRANKIE'S CHICAGO STYLE PIZZA   MAPLE GROVE    MN   \n899153     9995413002              NORTH SHORE FLORAL      WOODBURY    NY   \n899158     9995563001  SHADES WINDOW TINTING AUTO ALA        IRVING    TX   \n899163     9996003010  PACIFIC TRADEWINDS FAN & LIGHT        KAILUA    HI   \n\n          Zip                            Bank BankState  NAICS ApprovalDate  \\\n3       74012   1ST NATL BK & TR CO OF BROKEN        OK      0    28-Feb-97   \n13       2876        CITIZENS BANK NATL ASSOC        RI      0    28-Feb-97   \n17      20120      BANK OF AMERICA NATL ASSOC        MD      0    28-Feb-97   \n18      75093  NEWTEK SMALL BUS. FINANCE INC.        NY      0    28-Feb-97   \n19      37922          CITIZENS NATIONAL BANK        TN      0    28-Feb-97   \n...       ...                             ...       ...    ...          ...   \n899134  28352     WELLS FARGO BANK NATL ASSOC        SD      0    27-Feb-97   \n899148  55369     WELLS FARGO BANK NATL ASSOC        SD      0    27-Feb-97   \n899153  11797                   FLUSHING BANK        NY      0    27-Feb-97   \n899158  75062   LOANS FROM OLD CLOSED LENDERS        DC      0    27-Feb-97   \n899163  96734            CENTRAL PACIFIC BANK        HI      0    27-Feb-97   \n\n       ApprovalFY  ...  Transportation and warehousing  \\\n3            1997  ...                        0.019135   \n13           1997  ...                        0.011753   \n17           1997  ...                        0.017693   \n18           1997  ...                        0.013406   \n19           1997  ...                        0.008525   \n...           ...  ...                             ...   \n899134       1997  ...                        0.011452   \n899148       1997  ...                        0.026963   \n899153       1997  ...                        0.012872   \n899158       1997  ...                        0.003946   \n899163       1997  ...                        0.008259   \n\n        Accommodation and food services  \\\n3                              0.110384   \n13                             0.770393   \n17                             0.967508   \n18                             0.035434   \n19                             0.051553   \n...                                 ...   \n899134                         0.042792   \n899148                         0.950088   \n899153                         0.048914   \n899158                         0.017558   \n899163                         0.028671   \n\n        Administrative and support, waste management and remediation services  \\\n3                                                0.021391                       \n13                                               0.019980                       \n17                                               0.008815                       \n18                                               0.018651                       \n19                                               0.020771                       \n...                                                   ...                       \n899134                                           0.019980                       \n899148                                           0.018651                       \n899153                                           0.022530                       \n899158                                           0.028539                       \n899163                                           0.018367                       \n\n        Wholesale trade  Finance and insurance  Educational services  \\\n3              0.092919               0.377260              0.005359   \n13             0.058597               0.003287              0.003560   \n17             0.047741               0.003287              0.003560   \n18             0.042835               0.003955              0.003508   \n19             0.049254               0.003433              0.011170   \n...                 ...                    ...                   ...   \n899134         0.056197               0.003304              0.003790   \n899148         0.037545               0.010554              0.003508   \n899153         0.053535               0.003192              0.004572   \n899158         0.023049               0.001275              0.002920   \n899163         0.518129               0.005475              0.003560   \n\n        Mining, quarrying, and oil and gas extraction Utilities  \\\n3                                            0.001902  0.000428   \n13                                           0.001043  0.000413   \n17                                           0.001043  0.000863   \n18                                           0.000717  0.000414   \n19                                           0.000717  0.000414   \n...                                               ...       ...   \n899134                                       0.001043  0.000413   \n899148                                       0.000717  0.000375   \n899153                                       0.000717  0.001023   \n899158                                       0.001043  0.000244   \n899163                                       0.000990  0.000609   \n\n       Management of companies and enterprises Public administration  \n3                                     0.000360              0.000288  \n13                                    0.000215              0.000193  \n17                                    0.000215              0.000612  \n18                                    0.000212              0.000176  \n19                                    0.000215              0.000193  \n...                                        ...                   ...  \n899134                                0.000215              0.000695  \n899148                                0.000212              0.000193  \n899153                                0.000801              0.000193  \n899158                                0.000215              0.000193  \n899163                                0.000212              0.000193  \n\n[102349 rows x 48 columns]",
      "text/html": "<div>\n<style scoped>\n    .dataframe tbody tr th:only-of-type {\n        vertical-align: middle;\n    }\n\n    .dataframe tbody tr th {\n        vertical-align: top;\n    }\n\n    .dataframe thead th {\n        text-align: right;\n    }\n</style>\n<table border=\"1\" class=\"dataframe\">\n  <thead>\n    <tr style=\"text-align: right;\">\n      <th></th>\n      <th>LoanNr_ChkDgt</th>\n      <th>Name</th>\n      <th>City</th>\n      <th>State</th>\n      <th>Zip</th>\n      <th>Bank</th>\n      <th>BankState</th>\n      <th>NAICS</th>\n      <th>ApprovalDate</th>\n      <th>ApprovalFY</th>\n      <th>...</th>\n      <th>Transportation and warehousing</th>\n      <th>Accommodation and food services</th>\n      <th>Administrative and support, waste management and remediation services</th>\n      <th>Wholesale trade</th>\n      <th>Finance and insurance</th>\n      <th>Educational services</th>\n      <th>Mining, quarrying, and oil and gas extraction</th>\n      <th>Utilities</th>\n      <th>Management of companies and enterprises</th>\n      <th>Public administration</th>\n    </tr>\n  </thead>\n  <tbody>\n    <tr>\n      <th>3</th>\n      <td>1000044001</td>\n      <td>BIG BUCKS PAWN &amp; JEWELRY, LLC</td>\n      <td>BROKEN ARROW</td>\n      <td>OK</td>\n      <td>74012</td>\n      <td>1ST NATL BK &amp; TR CO OF BROKEN</td>\n      <td>OK</td>\n      <td>0</td>\n      <td>28-Feb-97</td>\n      <td>1997</td>\n      <td>...</td>\n      <td>0.019135</td>\n      <td>0.110384</td>\n      <td>0.021391</td>\n      <td>0.092919</td>\n      <td>0.377260</td>\n      <td>0.005359</td>\n      <td>0.001902</td>\n      <td>0.000428</td>\n      <td>0.000360</td>\n      <td>0.000288</td>\n    </tr>\n    <tr>\n      <th>13</th>\n      <td>1000154010</td>\n      <td>ORCHARD CAFE &amp; BAKERY, INC.</td>\n      <td>SLATERSVILLE</td>\n      <td>RI</td>\n      <td>2876</td>\n      <td>CITIZENS BANK NATL ASSOC</td>\n      <td>RI</td>\n      <td>0</td>\n      <td>28-Feb-97</td>\n      <td>1997</td>\n      <td>...</td>\n      <td>0.011753</td>\n      <td>0.770393</td>\n      <td>0.019980</td>\n      <td>0.058597</td>\n      <td>0.003287</td>\n      <td>0.003560</td>\n      <td>0.001043</td>\n      <td>0.000413</td>\n      <td>0.000215</td>\n      <td>0.000193</td>\n    </tr>\n    <tr>\n      <th>17</th>\n      <td>1000264008</td>\n      <td>FAIRFAX COURT SUBWAY, INC.</td>\n      <td>CENTREVILLE</td>\n      <td>VA</td>\n      <td>20120</td>\n      <td>BANK OF AMERICA NATL ASSOC</td>\n      <td>MD</td>\n      <td>0</td>\n      <td>28-Feb-97</td>\n      <td>1997</td>\n      <td>...</td>\n      <td>0.017693</td>\n      <td>0.967508</td>\n      <td>0.008815</td>\n      <td>0.047741</td>\n      <td>0.003287</td>\n      <td>0.003560</td>\n      <td>0.001043</td>\n      <td>0.000863</td>\n      <td>0.000215</td>\n      <td>0.000612</td>\n    </tr>\n    <tr>\n      <th>18</th>\n      <td>1000284003</td>\n      <td>FANTASTIC SAMS</td>\n      <td>PLANO</td>\n      <td>TX</td>\n      <td>75093</td>\n      <td>NEWTEK SMALL BUS. FINANCE INC.</td>\n      <td>NY</td>\n      <td>0</td>\n      <td>28-Feb-97</td>\n      <td>1997</td>\n      <td>...</td>\n      <td>0.013406</td>\n      <td>0.035434</td>\n      <td>0.018651</td>\n      <td>0.042835</td>\n      <td>0.003955</td>\n      <td>0.003508</td>\n      <td>0.000717</td>\n      <td>0.000414</td>\n      <td>0.000212</td>\n      <td>0.000176</td>\n    </tr>\n    <tr>\n      <th>19</th>\n      <td>1000294006</td>\n      <td>SIR GOONY'S GOLF</td>\n      <td>KNOXVILLE</td>\n      <td>TN</td>\n      <td>37922</td>\n      <td>CITIZENS NATIONAL BANK</td>\n      <td>TN</td>\n      <td>0</td>\n      <td>28-Feb-97</td>\n      <td>1997</td>\n      <td>...</td>\n      <td>0.008525</td>\n      <td>0.051553</td>\n      <td>0.020771</td>\n      <td>0.049254</td>\n      <td>0.003433</td>\n      <td>0.011170</td>\n      <td>0.000717</td>\n      <td>0.000414</td>\n      <td>0.000215</td>\n      <td>0.000193</td>\n    </tr>\n    <tr>\n      <th>...</th>\n      <td>...</td>\n      <td>...</td>\n      <td>...</td>\n      <td>...</td>\n      <td>...</td>\n      <td>...</td>\n      <td>...</td>\n      <td>...</td>\n      <td>...</td>\n      <td>...</td>\n      <td>...</td>\n      <td>...</td>\n      <td>...</td>\n      <td>...</td>\n      <td>...</td>\n      <td>...</td>\n      <td>...</td>\n      <td>...</td>\n      <td>...</td>\n      <td>...</td>\n      <td>...</td>\n    </tr>\n    <tr>\n      <th>899134</th>\n      <td>9995083010</td>\n      <td>RUSHING'S GROCERY</td>\n      <td>LAURINBURG</td>\n      <td>NC</td>\n      <td>28352</td>\n      <td>WELLS FARGO BANK NATL ASSOC</td>\n      <td>SD</td>\n      <td>0</td>\n      <td>27-Feb-97</td>\n      <td>1997</td>\n      <td>...</td>\n      <td>0.011452</td>\n      <td>0.042792</td>\n      <td>0.019980</td>\n      <td>0.056197</td>\n      <td>0.003304</td>\n      <td>0.003790</td>\n      <td>0.001043</td>\n      <td>0.000413</td>\n      <td>0.000215</td>\n      <td>0.000695</td>\n    </tr>\n    <tr>\n      <th>899148</th>\n      <td>9995353008</td>\n      <td>FRANKIE'S CHICAGO STYLE PIZZA</td>\n      <td>MAPLE GROVE</td>\n      <td>MN</td>\n      <td>55369</td>\n      <td>WELLS FARGO BANK NATL ASSOC</td>\n      <td>SD</td>\n      <td>0</td>\n      <td>27-Feb-97</td>\n      <td>1997</td>\n      <td>...</td>\n      <td>0.026963</td>\n      <td>0.950088</td>\n      <td>0.018651</td>\n      <td>0.037545</td>\n      <td>0.010554</td>\n      <td>0.003508</td>\n      <td>0.000717</td>\n      <td>0.000375</td>\n      <td>0.000212</td>\n      <td>0.000193</td>\n    </tr>\n    <tr>\n      <th>899153</th>\n      <td>9995413002</td>\n      <td>NORTH SHORE FLORAL</td>\n      <td>WOODBURY</td>\n      <td>NY</td>\n      <td>11797</td>\n      <td>FLUSHING BANK</td>\n      <td>NY</td>\n      <td>0</td>\n      <td>27-Feb-97</td>\n      <td>1997</td>\n      <td>...</td>\n      <td>0.012872</td>\n      <td>0.048914</td>\n      <td>0.022530</td>\n      <td>0.053535</td>\n      <td>0.003192</td>\n      <td>0.004572</td>\n      <td>0.000717</td>\n      <td>0.001023</td>\n      <td>0.000801</td>\n      <td>0.000193</td>\n    </tr>\n    <tr>\n      <th>899158</th>\n      <td>9995563001</td>\n      <td>SHADES WINDOW TINTING AUTO ALA</td>\n      <td>IRVING</td>\n      <td>TX</td>\n      <td>75062</td>\n      <td>LOANS FROM OLD CLOSED LENDERS</td>\n      <td>DC</td>\n      <td>0</td>\n      <td>27-Feb-97</td>\n      <td>1997</td>\n      <td>...</td>\n      <td>0.003946</td>\n      <td>0.017558</td>\n      <td>0.028539</td>\n      <td>0.023049</td>\n      <td>0.001275</td>\n      <td>0.002920</td>\n      <td>0.001043</td>\n      <td>0.000244</td>\n      <td>0.000215</td>\n      <td>0.000193</td>\n    </tr>\n    <tr>\n      <th>899163</th>\n      <td>9996003010</td>\n      <td>PACIFIC TRADEWINDS FAN &amp; LIGHT</td>\n      <td>KAILUA</td>\n      <td>HI</td>\n      <td>96734</td>\n      <td>CENTRAL PACIFIC BANK</td>\n      <td>HI</td>\n      <td>0</td>\n      <td>27-Feb-97</td>\n      <td>1997</td>\n      <td>...</td>\n      <td>0.008259</td>\n      <td>0.028671</td>\n      <td>0.018367</td>\n      <td>0.518129</td>\n      <td>0.005475</td>\n      <td>0.003560</td>\n      <td>0.000990</td>\n      <td>0.000609</td>\n      <td>0.000212</td>\n      <td>0.000193</td>\n    </tr>\n  </tbody>\n</table>\n<p>102349 rows × 48 columns</p>\n</div>"
     },
     "execution_count": 113,
     "metadata": {},
     "output_type": "execute_result"
    }
   ],
   "source": [
    "Probability_df = Missing_industry_df_copy[list_of_industry]\n",
    "Missing_industry_df_copy['Industry'] = Probability_df.apply(lambda x: Probability_df.columns[x.argmax()], axis = 1)\n",
    "print(Missing_industry_df_copy.shape[0])\n",
    "Missing_industry_df_copy #used text analysis to fill in the industry info for 102349 rows\n"
   ],
   "metadata": {
    "collapsed": false,
    "pycharm": {
     "name": "#%%\n"
    }
   }
  },
  {
   "cell_type": "code",
   "execution_count": 122,
   "outputs": [
    {
     "data": {
      "text/plain": "        LoanNr_ChkDgt                            Name          City State  \\\n3          1000044001   BIG BUCKS PAWN & JEWELRY, LLC  BROKEN ARROW    OK   \n13         1000154010     ORCHARD CAFE & BAKERY, INC.  SLATERSVILLE    RI   \n17         1000264008      FAIRFAX COURT SUBWAY, INC.   CENTREVILLE    VA   \n18         1000284003                  FANTASTIC SAMS         PLANO    TX   \n19         1000294006                SIR GOONY'S GOLF     KNOXVILLE    TN   \n...               ...                             ...           ...   ...   \n899134     9995083010               RUSHING'S GROCERY    LAURINBURG    NC   \n899148     9995353008   FRANKIE'S CHICAGO STYLE PIZZA   MAPLE GROVE    MN   \n899153     9995413002              NORTH SHORE FLORAL      WOODBURY    NY   \n899158     9995563001  SHADES WINDOW TINTING AUTO ALA        IRVING    TX   \n899163     9996003010  PACIFIC TRADEWINDS FAN & LIGHT        KAILUA    HI   \n\n          Zip                            Bank BankState  NAICS ApprovalDate  \\\n3       74012   1ST NATL BK & TR CO OF BROKEN        OK      0    28-Feb-97   \n13       2876        CITIZENS BANK NATL ASSOC        RI      0    28-Feb-97   \n17      20120      BANK OF AMERICA NATL ASSOC        MD      0    28-Feb-97   \n18      75093  NEWTEK SMALL BUS. FINANCE INC.        NY      0    28-Feb-97   \n19      37922          CITIZENS NATIONAL BANK        TN      0    28-Feb-97   \n...       ...                             ...       ...    ...          ...   \n899134  28352     WELLS FARGO BANK NATL ASSOC        SD      0    27-Feb-97   \n899148  55369     WELLS FARGO BANK NATL ASSOC        SD      0    27-Feb-97   \n899153  11797                   FLUSHING BANK        NY      0    27-Feb-97   \n899158  75062   LOANS FROM OLD CLOSED LENDERS        DC      0    27-Feb-97   \n899163  96734            CENTRAL PACIFIC BANK        HI      0    27-Feb-97   \n\n       ApprovalFY  ...  LowDoc  ChgOffDate  DisbursementDate  \\\n3            1997  ...       Y         NaN         30-Jun-97   \n13           1997  ...       N         NaN         31-May-97   \n17           1997  ...       Y         NaN         31-Jul-97   \n18           1997  ...       Y         NaN         31-May-97   \n19           1997  ...       Y         NaN         31-May-98   \n...           ...  ...     ...         ...               ...   \n899134       1997  ...       N         NaN         31-Mar-97   \n899148       1997  ...       N         NaN         31-Mar-97   \n899153       1997  ...       N    7-Jul-04         31-May-97   \n899158       1997  ...       Y         NaN         30-Jun-97   \n899163       1997  ...       N         NaN         31-May-97   \n\n        DisbursementGross  BalanceGross  MIS_Status  ChgOffPrinGr  \\\n3             $35,000.00         $0.00        P I F        $0.00    \n13           $370,000.00         $0.00        P I F        $0.00    \n17           $100,000.00         $0.00        P I F        $0.00    \n18            $57,500.00         $0.00        P I F        $0.00    \n19            $50,000.00         $0.00        P I F        $0.00    \n...                   ...           ...         ...           ...   \n899134        $25,455.00         $0.00        P I F        $0.00    \n899148       $100,000.00         $0.00        P I F        $0.00    \n899153       $142,000.00         $0.00       CHGOFF        $0.00    \n899158        $79,000.00         $0.00        P I F        $0.00    \n899163        $30,000.00         $0.00        P I F        $0.00    \n\n              GrAppv      SBA_Appv  \\\n3        $35,000.00    $28,000.00    \n13      $370,000.00   $277,500.00    \n17      $100,000.00    $80,000.00    \n18       $57,500.00    $46,000.00    \n19       $50,000.00    $40,000.00    \n...              ...           ...   \n899134   $20,000.00    $10,000.00    \n899148  $100,000.00    $80,000.00    \n899153  $142,000.00   $106,500.00    \n899158   $79,000.00    $63,200.00    \n899163   $30,000.00    $24,000.00    \n\n                                             Industry  \n3                                        Retail trade  \n13                    Accommodation and food services  \n17                    Accommodation and food services  \n18      Other services (except public administration)  \n19                                       Retail trade  \n...                                               ...  \n899134                                   Retail trade  \n899148                Accommodation and food services  \n899153                                   Retail trade  \n899158  Other services (except public administration)  \n899163                                Wholesale trade  \n\n[102349 rows x 28 columns]",
      "text/html": "<div>\n<style scoped>\n    .dataframe tbody tr th:only-of-type {\n        vertical-align: middle;\n    }\n\n    .dataframe tbody tr th {\n        vertical-align: top;\n    }\n\n    .dataframe thead th {\n        text-align: right;\n    }\n</style>\n<table border=\"1\" class=\"dataframe\">\n  <thead>\n    <tr style=\"text-align: right;\">\n      <th></th>\n      <th>LoanNr_ChkDgt</th>\n      <th>Name</th>\n      <th>City</th>\n      <th>State</th>\n      <th>Zip</th>\n      <th>Bank</th>\n      <th>BankState</th>\n      <th>NAICS</th>\n      <th>ApprovalDate</th>\n      <th>ApprovalFY</th>\n      <th>...</th>\n      <th>LowDoc</th>\n      <th>ChgOffDate</th>\n      <th>DisbursementDate</th>\n      <th>DisbursementGross</th>\n      <th>BalanceGross</th>\n      <th>MIS_Status</th>\n      <th>ChgOffPrinGr</th>\n      <th>GrAppv</th>\n      <th>SBA_Appv</th>\n      <th>Industry</th>\n    </tr>\n  </thead>\n  <tbody>\n    <tr>\n      <th>3</th>\n      <td>1000044001</td>\n      <td>BIG BUCKS PAWN &amp; JEWELRY, LLC</td>\n      <td>BROKEN ARROW</td>\n      <td>OK</td>\n      <td>74012</td>\n      <td>1ST NATL BK &amp; TR CO OF BROKEN</td>\n      <td>OK</td>\n      <td>0</td>\n      <td>28-Feb-97</td>\n      <td>1997</td>\n      <td>...</td>\n      <td>Y</td>\n      <td>NaN</td>\n      <td>30-Jun-97</td>\n      <td>$35,000.00</td>\n      <td>$0.00</td>\n      <td>P I F</td>\n      <td>$0.00</td>\n      <td>$35,000.00</td>\n      <td>$28,000.00</td>\n      <td>Retail trade</td>\n    </tr>\n    <tr>\n      <th>13</th>\n      <td>1000154010</td>\n      <td>ORCHARD CAFE &amp; BAKERY, INC.</td>\n      <td>SLATERSVILLE</td>\n      <td>RI</td>\n      <td>2876</td>\n      <td>CITIZENS BANK NATL ASSOC</td>\n      <td>RI</td>\n      <td>0</td>\n      <td>28-Feb-97</td>\n      <td>1997</td>\n      <td>...</td>\n      <td>N</td>\n      <td>NaN</td>\n      <td>31-May-97</td>\n      <td>$370,000.00</td>\n      <td>$0.00</td>\n      <td>P I F</td>\n      <td>$0.00</td>\n      <td>$370,000.00</td>\n      <td>$277,500.00</td>\n      <td>Accommodation and food services</td>\n    </tr>\n    <tr>\n      <th>17</th>\n      <td>1000264008</td>\n      <td>FAIRFAX COURT SUBWAY, INC.</td>\n      <td>CENTREVILLE</td>\n      <td>VA</td>\n      <td>20120</td>\n      <td>BANK OF AMERICA NATL ASSOC</td>\n      <td>MD</td>\n      <td>0</td>\n      <td>28-Feb-97</td>\n      <td>1997</td>\n      <td>...</td>\n      <td>Y</td>\n      <td>NaN</td>\n      <td>31-Jul-97</td>\n      <td>$100,000.00</td>\n      <td>$0.00</td>\n      <td>P I F</td>\n      <td>$0.00</td>\n      <td>$100,000.00</td>\n      <td>$80,000.00</td>\n      <td>Accommodation and food services</td>\n    </tr>\n    <tr>\n      <th>18</th>\n      <td>1000284003</td>\n      <td>FANTASTIC SAMS</td>\n      <td>PLANO</td>\n      <td>TX</td>\n      <td>75093</td>\n      <td>NEWTEK SMALL BUS. FINANCE INC.</td>\n      <td>NY</td>\n      <td>0</td>\n      <td>28-Feb-97</td>\n      <td>1997</td>\n      <td>...</td>\n      <td>Y</td>\n      <td>NaN</td>\n      <td>31-May-97</td>\n      <td>$57,500.00</td>\n      <td>$0.00</td>\n      <td>P I F</td>\n      <td>$0.00</td>\n      <td>$57,500.00</td>\n      <td>$46,000.00</td>\n      <td>Other services (except public administration)</td>\n    </tr>\n    <tr>\n      <th>19</th>\n      <td>1000294006</td>\n      <td>SIR GOONY'S GOLF</td>\n      <td>KNOXVILLE</td>\n      <td>TN</td>\n      <td>37922</td>\n      <td>CITIZENS NATIONAL BANK</td>\n      <td>TN</td>\n      <td>0</td>\n      <td>28-Feb-97</td>\n      <td>1997</td>\n      <td>...</td>\n      <td>Y</td>\n      <td>NaN</td>\n      <td>31-May-98</td>\n      <td>$50,000.00</td>\n      <td>$0.00</td>\n      <td>P I F</td>\n      <td>$0.00</td>\n      <td>$50,000.00</td>\n      <td>$40,000.00</td>\n      <td>Retail trade</td>\n    </tr>\n    <tr>\n      <th>...</th>\n      <td>...</td>\n      <td>...</td>\n      <td>...</td>\n      <td>...</td>\n      <td>...</td>\n      <td>...</td>\n      <td>...</td>\n      <td>...</td>\n      <td>...</td>\n      <td>...</td>\n      <td>...</td>\n      <td>...</td>\n      <td>...</td>\n      <td>...</td>\n      <td>...</td>\n      <td>...</td>\n      <td>...</td>\n      <td>...</td>\n      <td>...</td>\n      <td>...</td>\n      <td>...</td>\n    </tr>\n    <tr>\n      <th>899134</th>\n      <td>9995083010</td>\n      <td>RUSHING'S GROCERY</td>\n      <td>LAURINBURG</td>\n      <td>NC</td>\n      <td>28352</td>\n      <td>WELLS FARGO BANK NATL ASSOC</td>\n      <td>SD</td>\n      <td>0</td>\n      <td>27-Feb-97</td>\n      <td>1997</td>\n      <td>...</td>\n      <td>N</td>\n      <td>NaN</td>\n      <td>31-Mar-97</td>\n      <td>$25,455.00</td>\n      <td>$0.00</td>\n      <td>P I F</td>\n      <td>$0.00</td>\n      <td>$20,000.00</td>\n      <td>$10,000.00</td>\n      <td>Retail trade</td>\n    </tr>\n    <tr>\n      <th>899148</th>\n      <td>9995353008</td>\n      <td>FRANKIE'S CHICAGO STYLE PIZZA</td>\n      <td>MAPLE GROVE</td>\n      <td>MN</td>\n      <td>55369</td>\n      <td>WELLS FARGO BANK NATL ASSOC</td>\n      <td>SD</td>\n      <td>0</td>\n      <td>27-Feb-97</td>\n      <td>1997</td>\n      <td>...</td>\n      <td>N</td>\n      <td>NaN</td>\n      <td>31-Mar-97</td>\n      <td>$100,000.00</td>\n      <td>$0.00</td>\n      <td>P I F</td>\n      <td>$0.00</td>\n      <td>$100,000.00</td>\n      <td>$80,000.00</td>\n      <td>Accommodation and food services</td>\n    </tr>\n    <tr>\n      <th>899153</th>\n      <td>9995413002</td>\n      <td>NORTH SHORE FLORAL</td>\n      <td>WOODBURY</td>\n      <td>NY</td>\n      <td>11797</td>\n      <td>FLUSHING BANK</td>\n      <td>NY</td>\n      <td>0</td>\n      <td>27-Feb-97</td>\n      <td>1997</td>\n      <td>...</td>\n      <td>N</td>\n      <td>7-Jul-04</td>\n      <td>31-May-97</td>\n      <td>$142,000.00</td>\n      <td>$0.00</td>\n      <td>CHGOFF</td>\n      <td>$0.00</td>\n      <td>$142,000.00</td>\n      <td>$106,500.00</td>\n      <td>Retail trade</td>\n    </tr>\n    <tr>\n      <th>899158</th>\n      <td>9995563001</td>\n      <td>SHADES WINDOW TINTING AUTO ALA</td>\n      <td>IRVING</td>\n      <td>TX</td>\n      <td>75062</td>\n      <td>LOANS FROM OLD CLOSED LENDERS</td>\n      <td>DC</td>\n      <td>0</td>\n      <td>27-Feb-97</td>\n      <td>1997</td>\n      <td>...</td>\n      <td>Y</td>\n      <td>NaN</td>\n      <td>30-Jun-97</td>\n      <td>$79,000.00</td>\n      <td>$0.00</td>\n      <td>P I F</td>\n      <td>$0.00</td>\n      <td>$79,000.00</td>\n      <td>$63,200.00</td>\n      <td>Other services (except public administration)</td>\n    </tr>\n    <tr>\n      <th>899163</th>\n      <td>9996003010</td>\n      <td>PACIFIC TRADEWINDS FAN &amp; LIGHT</td>\n      <td>KAILUA</td>\n      <td>HI</td>\n      <td>96734</td>\n      <td>CENTRAL PACIFIC BANK</td>\n      <td>HI</td>\n      <td>0</td>\n      <td>27-Feb-97</td>\n      <td>1997</td>\n      <td>...</td>\n      <td>N</td>\n      <td>NaN</td>\n      <td>31-May-97</td>\n      <td>$30,000.00</td>\n      <td>$0.00</td>\n      <td>P I F</td>\n      <td>$0.00</td>\n      <td>$30,000.00</td>\n      <td>$24,000.00</td>\n      <td>Wholesale trade</td>\n    </tr>\n  </tbody>\n</table>\n<p>102349 rows × 28 columns</p>\n</div>"
     },
     "execution_count": 122,
     "metadata": {},
     "output_type": "execute_result"
    }
   ],
   "source": [
    "Missing_industry_df_copy = Missing_industry_df_copy.drop(columns = list_of_industry)\n",
    "Missing_industry_df_copy"
   ],
   "metadata": {
    "collapsed": false,
    "pycharm": {
     "name": "#%%\n"
    }
   }
  },
  {
   "cell_type": "code",
   "execution_count": 118,
   "outputs": [
    {
     "data": {
      "text/plain": "        LoanNr_ChkDgt                            Name             City State  \\\n0          1000014003                  ABC HOBBYCRAFT       EVANSVILLE    IN   \n1          1000024006     LANDMARK BAR & GRILLE (THE)        NEW PARIS    IN   \n2          1000034009           WHITLOCK DDS, TODD M.      BLOOMINGTON    IN   \n3          1000084002  B&T SCREW MACHINE COMPANY, INC       PLAINVILLE    CT   \n4          1000094005                 WEAVER PRODUCTS      SUMMERFIELD    FL   \n...               ...                             ...              ...   ...   \n697192     9995473009         FABRICATORS STEEL, INC.        BALTIMORE    MD   \n697193     9995493004                  PULLTARPS MFG.         EL CAJON    CA   \n697194     9995573004                    FABRIC FARMS  UPPER ARLINGTON    OH   \n697195     9995603000                    FABRIC FARMS         COLUMBUS    OH   \n697196     9995613003    RADCO MANUFACTURING CO.,INC.      SANTA MARIA    CA   \n\n          Zip                            Bank BankState   NAICS ApprovalDate  \\\n0       47711                FIFTH THIRD BANK        OH  451120    28-Feb-97   \n1       46526                 1ST SOURCE BANK        IN  722410    28-Feb-97   \n2       47401         GRANT COUNTY STATE BANK        IN  621210    28-Feb-97   \n3        6062   TD BANK, NATIONAL ASSOCIATION        DE  332721    28-Feb-97   \n4       34491                    REGIONS BANK        AL  811118    28-Feb-97   \n...       ...                             ...       ...     ...          ...   \n697192  21224      BANK OF AMERICA NATL ASSOC        MD  332431    27-Feb-97   \n697193  92020  U.S. BANK NATIONAL ASSOCIATION        CA  314912    27-Feb-97   \n697194  43221  JPMORGAN CHASE BANK NATL ASSOC        IL  451120    27-Feb-97   \n697195  43221  JPMORGAN CHASE BANK NATL ASSOC        IL  451130    27-Feb-97   \n697196  93455  RABOBANK, NATIONAL ASSOCIATION        CA  332321    27-Feb-97   \n\n       ApprovalFY  ...  LowDoc  ChgOffDate  DisbursementDate  \\\n0            1997  ...       Y         NaN         28-Feb-99   \n1            1997  ...       Y         NaN         31-May-97   \n2            1997  ...       N         NaN         31-Dec-97   \n3            1997  ...       N         NaN         30-Jun-97   \n4            1997  ...       Y         NaN         30-Jun-98   \n...           ...  ...     ...         ...               ...   \n697192       1997  ...       N         NaN         30-Jun-97   \n697193       1997  ...       N         NaN         31-Mar-97   \n697194       1997  ...       N         NaN         30-Sep-97   \n697195       1997  ...       N         NaN         31-Oct-97   \n697196       1997  ...       N         NaN         30-Sep-97   \n\n        DisbursementGross  BalanceGross  MIS_Status  ChgOffPrinGr  \\\n0             $60,000.00         $0.00        P I F        $0.00    \n1             $40,000.00         $0.00        P I F        $0.00    \n2            $287,000.00         $0.00        P I F        $0.00    \n3            $517,000.00         $0.00        P I F        $0.00    \n4             $45,000.00         $0.00        P I F        $0.00    \n...                   ...           ...         ...           ...   \n697192        $50,000.00         $0.00        P I F        $0.00    \n697193       $200,000.00         $0.00        P I F        $0.00    \n697194        $70,000.00         $0.00        P I F        $0.00    \n697195        $85,000.00         $0.00        P I F        $0.00    \n697196       $300,000.00         $0.00        P I F        $0.00    \n\n              GrAppv      SBA_Appv  \\\n0        $60,000.00    $48,000.00    \n1        $40,000.00    $32,000.00    \n2       $287,000.00   $215,250.00    \n3       $517,000.00   $387,750.00    \n4        $45,000.00    $36,000.00    \n...              ...           ...   \n697192   $50,000.00    $25,000.00    \n697193  $200,000.00   $150,000.00    \n697194   $70,000.00    $56,000.00    \n697195   $85,000.00    $42,500.00    \n697196  $300,000.00   $225,000.00    \n\n                                             Industry  \n0                                        Retail trade  \n1                     Accommodation and food services  \n2                   Health care and social assistance  \n3                                       Manufacturing  \n4       Other services (except public administration)  \n...                                               ...  \n697192                                  Manufacturing  \n697193                                  Manufacturing  \n697194                                   Retail trade  \n697195                                   Retail trade  \n697196                                  Manufacturing  \n\n[697197 rows x 28 columns]",
      "text/html": "<div>\n<style scoped>\n    .dataframe tbody tr th:only-of-type {\n        vertical-align: middle;\n    }\n\n    .dataframe tbody tr th {\n        vertical-align: top;\n    }\n\n    .dataframe thead th {\n        text-align: right;\n    }\n</style>\n<table border=\"1\" class=\"dataframe\">\n  <thead>\n    <tr style=\"text-align: right;\">\n      <th></th>\n      <th>LoanNr_ChkDgt</th>\n      <th>Name</th>\n      <th>City</th>\n      <th>State</th>\n      <th>Zip</th>\n      <th>Bank</th>\n      <th>BankState</th>\n      <th>NAICS</th>\n      <th>ApprovalDate</th>\n      <th>ApprovalFY</th>\n      <th>...</th>\n      <th>LowDoc</th>\n      <th>ChgOffDate</th>\n      <th>DisbursementDate</th>\n      <th>DisbursementGross</th>\n      <th>BalanceGross</th>\n      <th>MIS_Status</th>\n      <th>ChgOffPrinGr</th>\n      <th>GrAppv</th>\n      <th>SBA_Appv</th>\n      <th>Industry</th>\n    </tr>\n  </thead>\n  <tbody>\n    <tr>\n      <th>0</th>\n      <td>1000014003</td>\n      <td>ABC HOBBYCRAFT</td>\n      <td>EVANSVILLE</td>\n      <td>IN</td>\n      <td>47711</td>\n      <td>FIFTH THIRD BANK</td>\n      <td>OH</td>\n      <td>451120</td>\n      <td>28-Feb-97</td>\n      <td>1997</td>\n      <td>...</td>\n      <td>Y</td>\n      <td>NaN</td>\n      <td>28-Feb-99</td>\n      <td>$60,000.00</td>\n      <td>$0.00</td>\n      <td>P I F</td>\n      <td>$0.00</td>\n      <td>$60,000.00</td>\n      <td>$48,000.00</td>\n      <td>Retail trade</td>\n    </tr>\n    <tr>\n      <th>1</th>\n      <td>1000024006</td>\n      <td>LANDMARK BAR &amp; GRILLE (THE)</td>\n      <td>NEW PARIS</td>\n      <td>IN</td>\n      <td>46526</td>\n      <td>1ST SOURCE BANK</td>\n      <td>IN</td>\n      <td>722410</td>\n      <td>28-Feb-97</td>\n      <td>1997</td>\n      <td>...</td>\n      <td>Y</td>\n      <td>NaN</td>\n      <td>31-May-97</td>\n      <td>$40,000.00</td>\n      <td>$0.00</td>\n      <td>P I F</td>\n      <td>$0.00</td>\n      <td>$40,000.00</td>\n      <td>$32,000.00</td>\n      <td>Accommodation and food services</td>\n    </tr>\n    <tr>\n      <th>2</th>\n      <td>1000034009</td>\n      <td>WHITLOCK DDS, TODD M.</td>\n      <td>BLOOMINGTON</td>\n      <td>IN</td>\n      <td>47401</td>\n      <td>GRANT COUNTY STATE BANK</td>\n      <td>IN</td>\n      <td>621210</td>\n      <td>28-Feb-97</td>\n      <td>1997</td>\n      <td>...</td>\n      <td>N</td>\n      <td>NaN</td>\n      <td>31-Dec-97</td>\n      <td>$287,000.00</td>\n      <td>$0.00</td>\n      <td>P I F</td>\n      <td>$0.00</td>\n      <td>$287,000.00</td>\n      <td>$215,250.00</td>\n      <td>Health care and social assistance</td>\n    </tr>\n    <tr>\n      <th>3</th>\n      <td>1000084002</td>\n      <td>B&amp;T SCREW MACHINE COMPANY, INC</td>\n      <td>PLAINVILLE</td>\n      <td>CT</td>\n      <td>6062</td>\n      <td>TD BANK, NATIONAL ASSOCIATION</td>\n      <td>DE</td>\n      <td>332721</td>\n      <td>28-Feb-97</td>\n      <td>1997</td>\n      <td>...</td>\n      <td>N</td>\n      <td>NaN</td>\n      <td>30-Jun-97</td>\n      <td>$517,000.00</td>\n      <td>$0.00</td>\n      <td>P I F</td>\n      <td>$0.00</td>\n      <td>$517,000.00</td>\n      <td>$387,750.00</td>\n      <td>Manufacturing</td>\n    </tr>\n    <tr>\n      <th>4</th>\n      <td>1000094005</td>\n      <td>WEAVER PRODUCTS</td>\n      <td>SUMMERFIELD</td>\n      <td>FL</td>\n      <td>34491</td>\n      <td>REGIONS BANK</td>\n      <td>AL</td>\n      <td>811118</td>\n      <td>28-Feb-97</td>\n      <td>1997</td>\n      <td>...</td>\n      <td>Y</td>\n      <td>NaN</td>\n      <td>30-Jun-98</td>\n      <td>$45,000.00</td>\n      <td>$0.00</td>\n      <td>P I F</td>\n      <td>$0.00</td>\n      <td>$45,000.00</td>\n      <td>$36,000.00</td>\n      <td>Other services (except public administration)</td>\n    </tr>\n    <tr>\n      <th>...</th>\n      <td>...</td>\n      <td>...</td>\n      <td>...</td>\n      <td>...</td>\n      <td>...</td>\n      <td>...</td>\n      <td>...</td>\n      <td>...</td>\n      <td>...</td>\n      <td>...</td>\n      <td>...</td>\n      <td>...</td>\n      <td>...</td>\n      <td>...</td>\n      <td>...</td>\n      <td>...</td>\n      <td>...</td>\n      <td>...</td>\n      <td>...</td>\n      <td>...</td>\n      <td>...</td>\n    </tr>\n    <tr>\n      <th>697192</th>\n      <td>9995473009</td>\n      <td>FABRICATORS STEEL, INC.</td>\n      <td>BALTIMORE</td>\n      <td>MD</td>\n      <td>21224</td>\n      <td>BANK OF AMERICA NATL ASSOC</td>\n      <td>MD</td>\n      <td>332431</td>\n      <td>27-Feb-97</td>\n      <td>1997</td>\n      <td>...</td>\n      <td>N</td>\n      <td>NaN</td>\n      <td>30-Jun-97</td>\n      <td>$50,000.00</td>\n      <td>$0.00</td>\n      <td>P I F</td>\n      <td>$0.00</td>\n      <td>$50,000.00</td>\n      <td>$25,000.00</td>\n      <td>Manufacturing</td>\n    </tr>\n    <tr>\n      <th>697193</th>\n      <td>9995493004</td>\n      <td>PULLTARPS MFG.</td>\n      <td>EL CAJON</td>\n      <td>CA</td>\n      <td>92020</td>\n      <td>U.S. BANK NATIONAL ASSOCIATION</td>\n      <td>CA</td>\n      <td>314912</td>\n      <td>27-Feb-97</td>\n      <td>1997</td>\n      <td>...</td>\n      <td>N</td>\n      <td>NaN</td>\n      <td>31-Mar-97</td>\n      <td>$200,000.00</td>\n      <td>$0.00</td>\n      <td>P I F</td>\n      <td>$0.00</td>\n      <td>$200,000.00</td>\n      <td>$150,000.00</td>\n      <td>Manufacturing</td>\n    </tr>\n    <tr>\n      <th>697194</th>\n      <td>9995573004</td>\n      <td>FABRIC FARMS</td>\n      <td>UPPER ARLINGTON</td>\n      <td>OH</td>\n      <td>43221</td>\n      <td>JPMORGAN CHASE BANK NATL ASSOC</td>\n      <td>IL</td>\n      <td>451120</td>\n      <td>27-Feb-97</td>\n      <td>1997</td>\n      <td>...</td>\n      <td>N</td>\n      <td>NaN</td>\n      <td>30-Sep-97</td>\n      <td>$70,000.00</td>\n      <td>$0.00</td>\n      <td>P I F</td>\n      <td>$0.00</td>\n      <td>$70,000.00</td>\n      <td>$56,000.00</td>\n      <td>Retail trade</td>\n    </tr>\n    <tr>\n      <th>697195</th>\n      <td>9995603000</td>\n      <td>FABRIC FARMS</td>\n      <td>COLUMBUS</td>\n      <td>OH</td>\n      <td>43221</td>\n      <td>JPMORGAN CHASE BANK NATL ASSOC</td>\n      <td>IL</td>\n      <td>451130</td>\n      <td>27-Feb-97</td>\n      <td>1997</td>\n      <td>...</td>\n      <td>N</td>\n      <td>NaN</td>\n      <td>31-Oct-97</td>\n      <td>$85,000.00</td>\n      <td>$0.00</td>\n      <td>P I F</td>\n      <td>$0.00</td>\n      <td>$85,000.00</td>\n      <td>$42,500.00</td>\n      <td>Retail trade</td>\n    </tr>\n    <tr>\n      <th>697196</th>\n      <td>9995613003</td>\n      <td>RADCO MANUFACTURING CO.,INC.</td>\n      <td>SANTA MARIA</td>\n      <td>CA</td>\n      <td>93455</td>\n      <td>RABOBANK, NATIONAL ASSOCIATION</td>\n      <td>CA</td>\n      <td>332321</td>\n      <td>27-Feb-97</td>\n      <td>1997</td>\n      <td>...</td>\n      <td>N</td>\n      <td>NaN</td>\n      <td>30-Sep-97</td>\n      <td>$300,000.00</td>\n      <td>$0.00</td>\n      <td>P I F</td>\n      <td>$0.00</td>\n      <td>$300,000.00</td>\n      <td>$225,000.00</td>\n      <td>Manufacturing</td>\n    </tr>\n  </tbody>\n</table>\n<p>697197 rows × 28 columns</p>\n</div>"
     },
     "execution_count": 118,
     "metadata": {},
     "output_type": "execute_result"
    }
   ],
   "source": [
    "No_missing_industry_df = No_missing_industry_df.reset_index(drop = False)\n",
    "No_missing_industry_df"
   ],
   "metadata": {
    "collapsed": false,
    "pycharm": {
     "name": "#%%\n"
    }
   }
  },
  {
   "cell_type": "code",
   "execution_count": 127,
   "outputs": [
    {
     "data": {
      "text/plain": "        LoanNr_ChkDgt                            Name         City State  \\\n0          1000014003                  ABC HOBBYCRAFT   EVANSVILLE    IN   \n1          1000024006     LANDMARK BAR & GRILLE (THE)    NEW PARIS    IN   \n2          1000034009           WHITLOCK DDS, TODD M.  BLOOMINGTON    IN   \n3          1000084002  B&T SCREW MACHINE COMPANY, INC   PLAINVILLE    CT   \n4          1000094005                 WEAVER PRODUCTS  SUMMERFIELD    FL   \n...               ...                             ...          ...   ...   \n899134     9995083010               RUSHING'S GROCERY   LAURINBURG    NC   \n899148     9995353008   FRANKIE'S CHICAGO STYLE PIZZA  MAPLE GROVE    MN   \n899153     9995413002              NORTH SHORE FLORAL     WOODBURY    NY   \n899158     9995563001  SHADES WINDOW TINTING AUTO ALA       IRVING    TX   \n899163     9996003010  PACIFIC TRADEWINDS FAN & LIGHT       KAILUA    HI   \n\n          Zip                           Bank BankState   NAICS ApprovalDate  \\\n0       47711               FIFTH THIRD BANK        OH  451120    28-Feb-97   \n1       46526                1ST SOURCE BANK        IN  722410    28-Feb-97   \n2       47401        GRANT COUNTY STATE BANK        IN  621210    28-Feb-97   \n3        6062  TD BANK, NATIONAL ASSOCIATION        DE  332721    28-Feb-97   \n4       34491                   REGIONS BANK        AL  811118    28-Feb-97   \n...       ...                            ...       ...     ...          ...   \n899134  28352    WELLS FARGO BANK NATL ASSOC        SD       0    27-Feb-97   \n899148  55369    WELLS FARGO BANK NATL ASSOC        SD       0    27-Feb-97   \n899153  11797                  FLUSHING BANK        NY       0    27-Feb-97   \n899158  75062  LOANS FROM OLD CLOSED LENDERS        DC       0    27-Feb-97   \n899163  96734           CENTRAL PACIFIC BANK        HI       0    27-Feb-97   \n\n       ApprovalFY  ...  LowDoc  ChgOffDate  DisbursementDate  \\\n0            1997  ...       Y         NaN         28-Feb-99   \n1            1997  ...       Y         NaN         31-May-97   \n2            1997  ...       N         NaN         31-Dec-97   \n3            1997  ...       N         NaN         30-Jun-97   \n4            1997  ...       Y         NaN         30-Jun-98   \n...           ...  ...     ...         ...               ...   \n899134       1997  ...       N         NaN         31-Mar-97   \n899148       1997  ...       N         NaN         31-Mar-97   \n899153       1997  ...       N    7-Jul-04         31-May-97   \n899158       1997  ...       Y         NaN         30-Jun-97   \n899163       1997  ...       N         NaN         31-May-97   \n\n        DisbursementGross  BalanceGross  MIS_Status  ChgOffPrinGr  \\\n0             $60,000.00         $0.00        P I F        $0.00    \n1             $40,000.00         $0.00        P I F        $0.00    \n2            $287,000.00         $0.00        P I F        $0.00    \n3            $517,000.00         $0.00        P I F        $0.00    \n4             $45,000.00         $0.00        P I F        $0.00    \n...                   ...           ...         ...           ...   \n899134        $25,455.00         $0.00        P I F        $0.00    \n899148       $100,000.00         $0.00        P I F        $0.00    \n899153       $142,000.00         $0.00       CHGOFF        $0.00    \n899158        $79,000.00         $0.00        P I F        $0.00    \n899163        $30,000.00         $0.00        P I F        $0.00    \n\n              GrAppv      SBA_Appv  \\\n0        $60,000.00    $48,000.00    \n1        $40,000.00    $32,000.00    \n2       $287,000.00   $215,250.00    \n3       $517,000.00   $387,750.00    \n4        $45,000.00    $36,000.00    \n...              ...           ...   \n899134   $20,000.00    $10,000.00    \n899148  $100,000.00    $80,000.00    \n899153  $142,000.00   $106,500.00    \n899158   $79,000.00    $63,200.00    \n899163   $30,000.00    $24,000.00    \n\n                                             Industry  \n0                                        Retail trade  \n1                     Accommodation and food services  \n2                   Health care and social assistance  \n3                                       Manufacturing  \n4       Other services (except public administration)  \n...                                               ...  \n899134                                   Retail trade  \n899148                Accommodation and food services  \n899153                                   Retail trade  \n899158  Other services (except public administration)  \n899163                                Wholesale trade  \n\n[799546 rows x 28 columns]",
      "text/html": "<div>\n<style scoped>\n    .dataframe tbody tr th:only-of-type {\n        vertical-align: middle;\n    }\n\n    .dataframe tbody tr th {\n        vertical-align: top;\n    }\n\n    .dataframe thead th {\n        text-align: right;\n    }\n</style>\n<table border=\"1\" class=\"dataframe\">\n  <thead>\n    <tr style=\"text-align: right;\">\n      <th></th>\n      <th>LoanNr_ChkDgt</th>\n      <th>Name</th>\n      <th>City</th>\n      <th>State</th>\n      <th>Zip</th>\n      <th>Bank</th>\n      <th>BankState</th>\n      <th>NAICS</th>\n      <th>ApprovalDate</th>\n      <th>ApprovalFY</th>\n      <th>...</th>\n      <th>LowDoc</th>\n      <th>ChgOffDate</th>\n      <th>DisbursementDate</th>\n      <th>DisbursementGross</th>\n      <th>BalanceGross</th>\n      <th>MIS_Status</th>\n      <th>ChgOffPrinGr</th>\n      <th>GrAppv</th>\n      <th>SBA_Appv</th>\n      <th>Industry</th>\n    </tr>\n  </thead>\n  <tbody>\n    <tr>\n      <th>0</th>\n      <td>1000014003</td>\n      <td>ABC HOBBYCRAFT</td>\n      <td>EVANSVILLE</td>\n      <td>IN</td>\n      <td>47711</td>\n      <td>FIFTH THIRD BANK</td>\n      <td>OH</td>\n      <td>451120</td>\n      <td>28-Feb-97</td>\n      <td>1997</td>\n      <td>...</td>\n      <td>Y</td>\n      <td>NaN</td>\n      <td>28-Feb-99</td>\n      <td>$60,000.00</td>\n      <td>$0.00</td>\n      <td>P I F</td>\n      <td>$0.00</td>\n      <td>$60,000.00</td>\n      <td>$48,000.00</td>\n      <td>Retail trade</td>\n    </tr>\n    <tr>\n      <th>1</th>\n      <td>1000024006</td>\n      <td>LANDMARK BAR &amp; GRILLE (THE)</td>\n      <td>NEW PARIS</td>\n      <td>IN</td>\n      <td>46526</td>\n      <td>1ST SOURCE BANK</td>\n      <td>IN</td>\n      <td>722410</td>\n      <td>28-Feb-97</td>\n      <td>1997</td>\n      <td>...</td>\n      <td>Y</td>\n      <td>NaN</td>\n      <td>31-May-97</td>\n      <td>$40,000.00</td>\n      <td>$0.00</td>\n      <td>P I F</td>\n      <td>$0.00</td>\n      <td>$40,000.00</td>\n      <td>$32,000.00</td>\n      <td>Accommodation and food services</td>\n    </tr>\n    <tr>\n      <th>2</th>\n      <td>1000034009</td>\n      <td>WHITLOCK DDS, TODD M.</td>\n      <td>BLOOMINGTON</td>\n      <td>IN</td>\n      <td>47401</td>\n      <td>GRANT COUNTY STATE BANK</td>\n      <td>IN</td>\n      <td>621210</td>\n      <td>28-Feb-97</td>\n      <td>1997</td>\n      <td>...</td>\n      <td>N</td>\n      <td>NaN</td>\n      <td>31-Dec-97</td>\n      <td>$287,000.00</td>\n      <td>$0.00</td>\n      <td>P I F</td>\n      <td>$0.00</td>\n      <td>$287,000.00</td>\n      <td>$215,250.00</td>\n      <td>Health care and social assistance</td>\n    </tr>\n    <tr>\n      <th>3</th>\n      <td>1000084002</td>\n      <td>B&amp;T SCREW MACHINE COMPANY, INC</td>\n      <td>PLAINVILLE</td>\n      <td>CT</td>\n      <td>6062</td>\n      <td>TD BANK, NATIONAL ASSOCIATION</td>\n      <td>DE</td>\n      <td>332721</td>\n      <td>28-Feb-97</td>\n      <td>1997</td>\n      <td>...</td>\n      <td>N</td>\n      <td>NaN</td>\n      <td>30-Jun-97</td>\n      <td>$517,000.00</td>\n      <td>$0.00</td>\n      <td>P I F</td>\n      <td>$0.00</td>\n      <td>$517,000.00</td>\n      <td>$387,750.00</td>\n      <td>Manufacturing</td>\n    </tr>\n    <tr>\n      <th>4</th>\n      <td>1000094005</td>\n      <td>WEAVER PRODUCTS</td>\n      <td>SUMMERFIELD</td>\n      <td>FL</td>\n      <td>34491</td>\n      <td>REGIONS BANK</td>\n      <td>AL</td>\n      <td>811118</td>\n      <td>28-Feb-97</td>\n      <td>1997</td>\n      <td>...</td>\n      <td>Y</td>\n      <td>NaN</td>\n      <td>30-Jun-98</td>\n      <td>$45,000.00</td>\n      <td>$0.00</td>\n      <td>P I F</td>\n      <td>$0.00</td>\n      <td>$45,000.00</td>\n      <td>$36,000.00</td>\n      <td>Other services (except public administration)</td>\n    </tr>\n    <tr>\n      <th>...</th>\n      <td>...</td>\n      <td>...</td>\n      <td>...</td>\n      <td>...</td>\n      <td>...</td>\n      <td>...</td>\n      <td>...</td>\n      <td>...</td>\n      <td>...</td>\n      <td>...</td>\n      <td>...</td>\n      <td>...</td>\n      <td>...</td>\n      <td>...</td>\n      <td>...</td>\n      <td>...</td>\n      <td>...</td>\n      <td>...</td>\n      <td>...</td>\n      <td>...</td>\n      <td>...</td>\n    </tr>\n    <tr>\n      <th>899134</th>\n      <td>9995083010</td>\n      <td>RUSHING'S GROCERY</td>\n      <td>LAURINBURG</td>\n      <td>NC</td>\n      <td>28352</td>\n      <td>WELLS FARGO BANK NATL ASSOC</td>\n      <td>SD</td>\n      <td>0</td>\n      <td>27-Feb-97</td>\n      <td>1997</td>\n      <td>...</td>\n      <td>N</td>\n      <td>NaN</td>\n      <td>31-Mar-97</td>\n      <td>$25,455.00</td>\n      <td>$0.00</td>\n      <td>P I F</td>\n      <td>$0.00</td>\n      <td>$20,000.00</td>\n      <td>$10,000.00</td>\n      <td>Retail trade</td>\n    </tr>\n    <tr>\n      <th>899148</th>\n      <td>9995353008</td>\n      <td>FRANKIE'S CHICAGO STYLE PIZZA</td>\n      <td>MAPLE GROVE</td>\n      <td>MN</td>\n      <td>55369</td>\n      <td>WELLS FARGO BANK NATL ASSOC</td>\n      <td>SD</td>\n      <td>0</td>\n      <td>27-Feb-97</td>\n      <td>1997</td>\n      <td>...</td>\n      <td>N</td>\n      <td>NaN</td>\n      <td>31-Mar-97</td>\n      <td>$100,000.00</td>\n      <td>$0.00</td>\n      <td>P I F</td>\n      <td>$0.00</td>\n      <td>$100,000.00</td>\n      <td>$80,000.00</td>\n      <td>Accommodation and food services</td>\n    </tr>\n    <tr>\n      <th>899153</th>\n      <td>9995413002</td>\n      <td>NORTH SHORE FLORAL</td>\n      <td>WOODBURY</td>\n      <td>NY</td>\n      <td>11797</td>\n      <td>FLUSHING BANK</td>\n      <td>NY</td>\n      <td>0</td>\n      <td>27-Feb-97</td>\n      <td>1997</td>\n      <td>...</td>\n      <td>N</td>\n      <td>7-Jul-04</td>\n      <td>31-May-97</td>\n      <td>$142,000.00</td>\n      <td>$0.00</td>\n      <td>CHGOFF</td>\n      <td>$0.00</td>\n      <td>$142,000.00</td>\n      <td>$106,500.00</td>\n      <td>Retail trade</td>\n    </tr>\n    <tr>\n      <th>899158</th>\n      <td>9995563001</td>\n      <td>SHADES WINDOW TINTING AUTO ALA</td>\n      <td>IRVING</td>\n      <td>TX</td>\n      <td>75062</td>\n      <td>LOANS FROM OLD CLOSED LENDERS</td>\n      <td>DC</td>\n      <td>0</td>\n      <td>27-Feb-97</td>\n      <td>1997</td>\n      <td>...</td>\n      <td>Y</td>\n      <td>NaN</td>\n      <td>30-Jun-97</td>\n      <td>$79,000.00</td>\n      <td>$0.00</td>\n      <td>P I F</td>\n      <td>$0.00</td>\n      <td>$79,000.00</td>\n      <td>$63,200.00</td>\n      <td>Other services (except public administration)</td>\n    </tr>\n    <tr>\n      <th>899163</th>\n      <td>9996003010</td>\n      <td>PACIFIC TRADEWINDS FAN &amp; LIGHT</td>\n      <td>KAILUA</td>\n      <td>HI</td>\n      <td>96734</td>\n      <td>CENTRAL PACIFIC BANK</td>\n      <td>HI</td>\n      <td>0</td>\n      <td>27-Feb-97</td>\n      <td>1997</td>\n      <td>...</td>\n      <td>N</td>\n      <td>NaN</td>\n      <td>31-May-97</td>\n      <td>$30,000.00</td>\n      <td>$0.00</td>\n      <td>P I F</td>\n      <td>$0.00</td>\n      <td>$30,000.00</td>\n      <td>$24,000.00</td>\n      <td>Wholesale trade</td>\n    </tr>\n  </tbody>\n</table>\n<p>799546 rows × 28 columns</p>\n</div>"
     },
     "execution_count": 127,
     "metadata": {},
     "output_type": "execute_result"
    }
   ],
   "source": [
    "#Concatenante the dataframes, the total row number is 799546, which is 88.9% of the original dataset. Missing industry data went from 22.5% to 11%\n",
    "frames = [No_missing_industry_df, Missing_industry_df_copy]\n",
    "merged_df = pd.concat(frames)\n",
    "merged_df\n"
   ],
   "metadata": {
    "collapsed": false,
    "pycharm": {
     "name": "#%%\n"
    }
   }
  },
  {
   "cell_type": "code",
   "execution_count": 128,
   "outputs": [],
   "source": [
    "merged_df.to_csv('SBAnational_with_industry_added.csv')\n"
   ],
   "metadata": {
    "collapsed": false,
    "pycharm": {
     "name": "#%%\n"
    }
   }
  },
  {
   "cell_type": "markdown",
   "source": [
    "Data Cleaning: Add Rural and Urban Info"
   ],
   "metadata": {
    "collapsed": false,
    "pycharm": {
     "name": "#%% md\n"
    }
   }
  },
  {
   "cell_type": "code",
   "execution_count": 4,
   "outputs": [
    {
     "name": "stderr",
     "output_type": "stream",
     "text": [
      "D:\\Anaconda\\lib\\site-packages\\IPython\\core\\interactiveshell.py:3146: DtypeWarning: Columns (10) have mixed types.Specify dtype option on import or set low_memory=False.\n",
      "  has_raised = await self.run_ast_nodes(code_ast.body, cell_name,\n"
     ]
    }
   ],
   "source": [
    "merged_df = pd.read_csv('SBAnational_with_industry_added.csv')\n",
    "urbanruralzip = pd.read_csv('UrbanRuralZipcodes.csv')"
   ],
   "metadata": {
    "collapsed": false,
    "pycharm": {
     "name": "#%%\n"
    }
   }
  },
  {
   "cell_type": "code",
   "execution_count": 3,
   "outputs": [
    {
     "data": {
      "text/plain": "        Unnamed: 0  LoanNr_ChkDgt                            Name  \\\n0                0     1000014003                  ABC HOBBYCRAFT   \n1                1     1000024006     LANDMARK BAR & GRILLE (THE)   \n2                2     1000034009           WHITLOCK DDS, TODD M.   \n3                3     1000084002  B&T SCREW MACHINE COMPANY, INC   \n4                4     1000094005                 WEAVER PRODUCTS   \n...            ...            ...                             ...   \n799541      899134     9995083010               RUSHING'S GROCERY   \n799542      899148     9995353008   FRANKIE'S CHICAGO STYLE PIZZA   \n799543      899153     9995413002              NORTH SHORE FLORAL   \n799544      899158     9995563001  SHADES WINDOW TINTING AUTO ALA   \n799545      899163     9996003010  PACIFIC TRADEWINDS FAN & LIGHT   \n\n               City State    Zip                           Bank BankState  \\\n0        EVANSVILLE    IN  47711               FIFTH THIRD BANK        OH   \n1         NEW PARIS    IN  46526                1ST SOURCE BANK        IN   \n2       BLOOMINGTON    IN  47401        GRANT COUNTY STATE BANK        IN   \n3        PLAINVILLE    CT   6062  TD BANK, NATIONAL ASSOCIATION        DE   \n4       SUMMERFIELD    FL  34491                   REGIONS BANK        AL   \n...             ...   ...    ...                            ...       ...   \n799541   LAURINBURG    NC  28352    WELLS FARGO BANK NATL ASSOC        SD   \n799542  MAPLE GROVE    MN  55369    WELLS FARGO BANK NATL ASSOC        SD   \n799543     WOODBURY    NY  11797                  FLUSHING BANK        NY   \n799544       IRVING    TX  75062  LOANS FROM OLD CLOSED LENDERS        DC   \n799545       KAILUA    HI  96734           CENTRAL PACIFIC BANK        HI   \n\n         NAICS ApprovalDate  ... LowDoc  ChgOffDate  DisbursementDate  \\\n0       451120    28-Feb-97  ...      Y         NaN         28-Feb-99   \n1       722410    28-Feb-97  ...      Y         NaN         31-May-97   \n2       621210    28-Feb-97  ...      N         NaN         31-Dec-97   \n3       332721    28-Feb-97  ...      N         NaN         30-Jun-97   \n4       811118    28-Feb-97  ...      Y         NaN         30-Jun-98   \n...        ...          ...  ...    ...         ...               ...   \n799541       0    27-Feb-97  ...      N         NaN         31-Mar-97   \n799542       0    27-Feb-97  ...      N         NaN         31-Mar-97   \n799543       0    27-Feb-97  ...      N    7-Jul-04         31-May-97   \n799544       0    27-Feb-97  ...      Y         NaN         30-Jun-97   \n799545       0    27-Feb-97  ...      N         NaN         31-May-97   \n\n        DisbursementGross  BalanceGross  MIS_Status  ChgOffPrinGr  \\\n0             $60,000.00         $0.00        P I F        $0.00    \n1             $40,000.00         $0.00        P I F        $0.00    \n2            $287,000.00         $0.00        P I F        $0.00    \n3            $517,000.00         $0.00        P I F        $0.00    \n4             $45,000.00         $0.00        P I F        $0.00    \n...                   ...           ...         ...           ...   \n799541        $25,455.00         $0.00        P I F        $0.00    \n799542       $100,000.00         $0.00        P I F        $0.00    \n799543       $142,000.00         $0.00       CHGOFF        $0.00    \n799544        $79,000.00         $0.00        P I F        $0.00    \n799545        $30,000.00         $0.00        P I F        $0.00    \n\n              GrAppv      SBA_Appv  \\\n0        $60,000.00    $48,000.00    \n1        $40,000.00    $32,000.00    \n2       $287,000.00   $215,250.00    \n3       $517,000.00   $387,750.00    \n4        $45,000.00    $36,000.00    \n...              ...           ...   \n799541   $20,000.00    $10,000.00    \n799542  $100,000.00    $80,000.00    \n799543  $142,000.00   $106,500.00    \n799544   $79,000.00    $63,200.00    \n799545   $30,000.00    $24,000.00    \n\n                                             Industry  \n0                                        Retail trade  \n1                     Accommodation and food services  \n2                   Health care and social assistance  \n3                                       Manufacturing  \n4       Other services (except public administration)  \n...                                               ...  \n799541                                   Retail trade  \n799542                Accommodation and food services  \n799543                                   Retail trade  \n799544  Other services (except public administration)  \n799545                                Wholesale trade  \n\n[799546 rows x 29 columns]",
      "text/html": "<div>\n<style scoped>\n    .dataframe tbody tr th:only-of-type {\n        vertical-align: middle;\n    }\n\n    .dataframe tbody tr th {\n        vertical-align: top;\n    }\n\n    .dataframe thead th {\n        text-align: right;\n    }\n</style>\n<table border=\"1\" class=\"dataframe\">\n  <thead>\n    <tr style=\"text-align: right;\">\n      <th></th>\n      <th>Unnamed: 0</th>\n      <th>LoanNr_ChkDgt</th>\n      <th>Name</th>\n      <th>City</th>\n      <th>State</th>\n      <th>Zip</th>\n      <th>Bank</th>\n      <th>BankState</th>\n      <th>NAICS</th>\n      <th>ApprovalDate</th>\n      <th>...</th>\n      <th>LowDoc</th>\n      <th>ChgOffDate</th>\n      <th>DisbursementDate</th>\n      <th>DisbursementGross</th>\n      <th>BalanceGross</th>\n      <th>MIS_Status</th>\n      <th>ChgOffPrinGr</th>\n      <th>GrAppv</th>\n      <th>SBA_Appv</th>\n      <th>Industry</th>\n    </tr>\n  </thead>\n  <tbody>\n    <tr>\n      <th>0</th>\n      <td>0</td>\n      <td>1000014003</td>\n      <td>ABC HOBBYCRAFT</td>\n      <td>EVANSVILLE</td>\n      <td>IN</td>\n      <td>47711</td>\n      <td>FIFTH THIRD BANK</td>\n      <td>OH</td>\n      <td>451120</td>\n      <td>28-Feb-97</td>\n      <td>...</td>\n      <td>Y</td>\n      <td>NaN</td>\n      <td>28-Feb-99</td>\n      <td>$60,000.00</td>\n      <td>$0.00</td>\n      <td>P I F</td>\n      <td>$0.00</td>\n      <td>$60,000.00</td>\n      <td>$48,000.00</td>\n      <td>Retail trade</td>\n    </tr>\n    <tr>\n      <th>1</th>\n      <td>1</td>\n      <td>1000024006</td>\n      <td>LANDMARK BAR &amp; GRILLE (THE)</td>\n      <td>NEW PARIS</td>\n      <td>IN</td>\n      <td>46526</td>\n      <td>1ST SOURCE BANK</td>\n      <td>IN</td>\n      <td>722410</td>\n      <td>28-Feb-97</td>\n      <td>...</td>\n      <td>Y</td>\n      <td>NaN</td>\n      <td>31-May-97</td>\n      <td>$40,000.00</td>\n      <td>$0.00</td>\n      <td>P I F</td>\n      <td>$0.00</td>\n      <td>$40,000.00</td>\n      <td>$32,000.00</td>\n      <td>Accommodation and food services</td>\n    </tr>\n    <tr>\n      <th>2</th>\n      <td>2</td>\n      <td>1000034009</td>\n      <td>WHITLOCK DDS, TODD M.</td>\n      <td>BLOOMINGTON</td>\n      <td>IN</td>\n      <td>47401</td>\n      <td>GRANT COUNTY STATE BANK</td>\n      <td>IN</td>\n      <td>621210</td>\n      <td>28-Feb-97</td>\n      <td>...</td>\n      <td>N</td>\n      <td>NaN</td>\n      <td>31-Dec-97</td>\n      <td>$287,000.00</td>\n      <td>$0.00</td>\n      <td>P I F</td>\n      <td>$0.00</td>\n      <td>$287,000.00</td>\n      <td>$215,250.00</td>\n      <td>Health care and social assistance</td>\n    </tr>\n    <tr>\n      <th>3</th>\n      <td>3</td>\n      <td>1000084002</td>\n      <td>B&amp;T SCREW MACHINE COMPANY, INC</td>\n      <td>PLAINVILLE</td>\n      <td>CT</td>\n      <td>6062</td>\n      <td>TD BANK, NATIONAL ASSOCIATION</td>\n      <td>DE</td>\n      <td>332721</td>\n      <td>28-Feb-97</td>\n      <td>...</td>\n      <td>N</td>\n      <td>NaN</td>\n      <td>30-Jun-97</td>\n      <td>$517,000.00</td>\n      <td>$0.00</td>\n      <td>P I F</td>\n      <td>$0.00</td>\n      <td>$517,000.00</td>\n      <td>$387,750.00</td>\n      <td>Manufacturing</td>\n    </tr>\n    <tr>\n      <th>4</th>\n      <td>4</td>\n      <td>1000094005</td>\n      <td>WEAVER PRODUCTS</td>\n      <td>SUMMERFIELD</td>\n      <td>FL</td>\n      <td>34491</td>\n      <td>REGIONS BANK</td>\n      <td>AL</td>\n      <td>811118</td>\n      <td>28-Feb-97</td>\n      <td>...</td>\n      <td>Y</td>\n      <td>NaN</td>\n      <td>30-Jun-98</td>\n      <td>$45,000.00</td>\n      <td>$0.00</td>\n      <td>P I F</td>\n      <td>$0.00</td>\n      <td>$45,000.00</td>\n      <td>$36,000.00</td>\n      <td>Other services (except public administration)</td>\n    </tr>\n    <tr>\n      <th>...</th>\n      <td>...</td>\n      <td>...</td>\n      <td>...</td>\n      <td>...</td>\n      <td>...</td>\n      <td>...</td>\n      <td>...</td>\n      <td>...</td>\n      <td>...</td>\n      <td>...</td>\n      <td>...</td>\n      <td>...</td>\n      <td>...</td>\n      <td>...</td>\n      <td>...</td>\n      <td>...</td>\n      <td>...</td>\n      <td>...</td>\n      <td>...</td>\n      <td>...</td>\n      <td>...</td>\n    </tr>\n    <tr>\n      <th>799541</th>\n      <td>899134</td>\n      <td>9995083010</td>\n      <td>RUSHING'S GROCERY</td>\n      <td>LAURINBURG</td>\n      <td>NC</td>\n      <td>28352</td>\n      <td>WELLS FARGO BANK NATL ASSOC</td>\n      <td>SD</td>\n      <td>0</td>\n      <td>27-Feb-97</td>\n      <td>...</td>\n      <td>N</td>\n      <td>NaN</td>\n      <td>31-Mar-97</td>\n      <td>$25,455.00</td>\n      <td>$0.00</td>\n      <td>P I F</td>\n      <td>$0.00</td>\n      <td>$20,000.00</td>\n      <td>$10,000.00</td>\n      <td>Retail trade</td>\n    </tr>\n    <tr>\n      <th>799542</th>\n      <td>899148</td>\n      <td>9995353008</td>\n      <td>FRANKIE'S CHICAGO STYLE PIZZA</td>\n      <td>MAPLE GROVE</td>\n      <td>MN</td>\n      <td>55369</td>\n      <td>WELLS FARGO BANK NATL ASSOC</td>\n      <td>SD</td>\n      <td>0</td>\n      <td>27-Feb-97</td>\n      <td>...</td>\n      <td>N</td>\n      <td>NaN</td>\n      <td>31-Mar-97</td>\n      <td>$100,000.00</td>\n      <td>$0.00</td>\n      <td>P I F</td>\n      <td>$0.00</td>\n      <td>$100,000.00</td>\n      <td>$80,000.00</td>\n      <td>Accommodation and food services</td>\n    </tr>\n    <tr>\n      <th>799543</th>\n      <td>899153</td>\n      <td>9995413002</td>\n      <td>NORTH SHORE FLORAL</td>\n      <td>WOODBURY</td>\n      <td>NY</td>\n      <td>11797</td>\n      <td>FLUSHING BANK</td>\n      <td>NY</td>\n      <td>0</td>\n      <td>27-Feb-97</td>\n      <td>...</td>\n      <td>N</td>\n      <td>7-Jul-04</td>\n      <td>31-May-97</td>\n      <td>$142,000.00</td>\n      <td>$0.00</td>\n      <td>CHGOFF</td>\n      <td>$0.00</td>\n      <td>$142,000.00</td>\n      <td>$106,500.00</td>\n      <td>Retail trade</td>\n    </tr>\n    <tr>\n      <th>799544</th>\n      <td>899158</td>\n      <td>9995563001</td>\n      <td>SHADES WINDOW TINTING AUTO ALA</td>\n      <td>IRVING</td>\n      <td>TX</td>\n      <td>75062</td>\n      <td>LOANS FROM OLD CLOSED LENDERS</td>\n      <td>DC</td>\n      <td>0</td>\n      <td>27-Feb-97</td>\n      <td>...</td>\n      <td>Y</td>\n      <td>NaN</td>\n      <td>30-Jun-97</td>\n      <td>$79,000.00</td>\n      <td>$0.00</td>\n      <td>P I F</td>\n      <td>$0.00</td>\n      <td>$79,000.00</td>\n      <td>$63,200.00</td>\n      <td>Other services (except public administration)</td>\n    </tr>\n    <tr>\n      <th>799545</th>\n      <td>899163</td>\n      <td>9996003010</td>\n      <td>PACIFIC TRADEWINDS FAN &amp; LIGHT</td>\n      <td>KAILUA</td>\n      <td>HI</td>\n      <td>96734</td>\n      <td>CENTRAL PACIFIC BANK</td>\n      <td>HI</td>\n      <td>0</td>\n      <td>27-Feb-97</td>\n      <td>...</td>\n      <td>N</td>\n      <td>NaN</td>\n      <td>31-May-97</td>\n      <td>$30,000.00</td>\n      <td>$0.00</td>\n      <td>P I F</td>\n      <td>$0.00</td>\n      <td>$30,000.00</td>\n      <td>$24,000.00</td>\n      <td>Wholesale trade</td>\n    </tr>\n  </tbody>\n</table>\n<p>799546 rows × 29 columns</p>\n</div>"
     },
     "execution_count": 3,
     "metadata": {},
     "output_type": "execute_result"
    }
   ],
   "source": [
    "merged_df"
   ],
   "metadata": {
    "collapsed": false,
    "pycharm": {
     "name": "#%%\n"
    }
   }
  },
  {
   "cell_type": "code",
   "execution_count": 6,
   "outputs": [
    {
     "data": {
      "text/plain": "         zip  migmet\n0       1001   100.0\n1       1002   100.0\n2       1005   100.0\n3       1007   100.0\n4       1008   100.0\n...      ...     ...\n31738  99925     0.0\n31739  99926     0.0\n31740  99927     0.0\n31741  99929     0.0\n31742  99950     0.0\n\n[31743 rows x 2 columns]",
      "text/html": "<div>\n<style scoped>\n    .dataframe tbody tr th:only-of-type {\n        vertical-align: middle;\n    }\n\n    .dataframe tbody tr th {\n        vertical-align: top;\n    }\n\n    .dataframe thead th {\n        text-align: right;\n    }\n</style>\n<table border=\"1\" class=\"dataframe\">\n  <thead>\n    <tr style=\"text-align: right;\">\n      <th></th>\n      <th>zip</th>\n      <th>migmet</th>\n    </tr>\n  </thead>\n  <tbody>\n    <tr>\n      <th>0</th>\n      <td>1001</td>\n      <td>100.0</td>\n    </tr>\n    <tr>\n      <th>1</th>\n      <td>1002</td>\n      <td>100.0</td>\n    </tr>\n    <tr>\n      <th>2</th>\n      <td>1005</td>\n      <td>100.0</td>\n    </tr>\n    <tr>\n      <th>3</th>\n      <td>1007</td>\n      <td>100.0</td>\n    </tr>\n    <tr>\n      <th>4</th>\n      <td>1008</td>\n      <td>100.0</td>\n    </tr>\n    <tr>\n      <th>...</th>\n      <td>...</td>\n      <td>...</td>\n    </tr>\n    <tr>\n      <th>31738</th>\n      <td>99925</td>\n      <td>0.0</td>\n    </tr>\n    <tr>\n      <th>31739</th>\n      <td>99926</td>\n      <td>0.0</td>\n    </tr>\n    <tr>\n      <th>31740</th>\n      <td>99927</td>\n      <td>0.0</td>\n    </tr>\n    <tr>\n      <th>31741</th>\n      <td>99929</td>\n      <td>0.0</td>\n    </tr>\n    <tr>\n      <th>31742</th>\n      <td>99950</td>\n      <td>0.0</td>\n    </tr>\n  </tbody>\n</table>\n<p>31743 rows × 2 columns</p>\n</div>"
     },
     "execution_count": 6,
     "metadata": {},
     "output_type": "execute_result"
    }
   ],
   "source": [
    "urbanruralzip_for_merge = urbanruralzip[['zip','migmet']]\n",
    "urbanruralzip_for_merge"
   ],
   "metadata": {
    "collapsed": false,
    "pycharm": {
     "name": "#%%\n"
    }
   }
  },
  {
   "cell_type": "code",
   "execution_count": 20,
   "outputs": [
    {
     "data": {
      "text/plain": "  UrbanRural UrbanWorkerPercentage                    \n                              mean   count    max  min\n0  Undefined             82.845330  224721  100.0  0.0\n1      Urban             95.519891  449267  100.0  0.0\n2      Rural             62.877542  100919  100.0  0.0",
      "text/html": "<div>\n<style scoped>\n    .dataframe tbody tr th:only-of-type {\n        vertical-align: middle;\n    }\n\n    .dataframe tbody tr th {\n        vertical-align: top;\n    }\n\n    .dataframe thead tr th {\n        text-align: left;\n    }\n</style>\n<table border=\"1\" class=\"dataframe\">\n  <thead>\n    <tr>\n      <th></th>\n      <th>UrbanRural</th>\n      <th colspan=\"4\" halign=\"left\">UrbanWorkerPercentage</th>\n    </tr>\n    <tr>\n      <th></th>\n      <th></th>\n      <th>mean</th>\n      <th>count</th>\n      <th>max</th>\n      <th>min</th>\n    </tr>\n  </thead>\n  <tbody>\n    <tr>\n      <th>0</th>\n      <td>Undefined</td>\n      <td>82.845330</td>\n      <td>224721</td>\n      <td>100.0</td>\n      <td>0.0</td>\n    </tr>\n    <tr>\n      <th>1</th>\n      <td>Urban</td>\n      <td>95.519891</td>\n      <td>449267</td>\n      <td>100.0</td>\n      <td>0.0</td>\n    </tr>\n    <tr>\n      <th>2</th>\n      <td>Rural</td>\n      <td>62.877542</td>\n      <td>100919</td>\n      <td>100.0</td>\n      <td>0.0</td>\n    </tr>\n  </tbody>\n</table>\n</div>"
     },
     "execution_count": 20,
     "metadata": {},
     "output_type": "execute_result"
    }
   ],
   "source": [
    "merged_with_urban = merged_df.merge(urbanruralzip_for_merge, how='left', left_on = 'Zip', right_on = 'zip')\n",
    "merged_with_urban = merged_with_urban.drop(['zip'], axis=1)\n",
    "merged_with_urban.rename(columns = {'migmet':'UrbanWorkerPercentage'}, inplace = True)\n",
    "urban_df = merged_with_urban.groupby(['UrbanRural']).agg({'UrbanWorkerPercentage': ['mean','count','max','min']})\n",
    "urban_df = urban_df.reset_index()\n",
    "urban_df['UrbanRural'] = urban_df['UrbanRural'].apply(lambda x: 'Undefined' if x == 0 else x).apply(lambda x: 'Urban' if x == 1 else x).apply(lambda x: 'Rural' if x == 2 else x)\n",
    "urban_df"
   ],
   "metadata": {
    "collapsed": false,
    "pycharm": {
     "name": "#%%\n"
    }
   }
  },
  {
   "cell_type": "code",
   "execution_count": 37,
   "outputs": [
    {
     "data": {
      "text/plain": "<Figure size 720x360 with 1 Axes>",
      "image/png": "[encoded data removed]"
     },
     "metadata": {
      "needs_background": "light"
     },
     "output_type": "display_data"
    }
   ],
   "source": [
    "plt.figure(figsize=(10,5))\n",
    "plt.title('Distribution of Urban and Rural Businesses', fontsize = 15)\n",
    "y = urban_df['UrbanWorkerPercentage']['count']\n",
    "ax3 = sns.barplot(x = 'UrbanRural',y = y,data = urban_df)\n",
    "plt.xlabel('', fontsize=15)\n",
    "plt.ylabel('count', fontsize=15)\n",
    "plt.xticks(fontsize= 13)\n",
    "plt.yticks(fontsize= 13)\n",
    "plt.savefig('Distribution of Urban and Rural Businesses')\n"
   ],
   "metadata": {
    "collapsed": false,
    "pycharm": {
     "name": "#%%\n"
    }
   }
  },
  {
   "cell_type": "code",
   "execution_count": 127,
   "outputs": [],
   "source": [],
   "metadata": {
    "collapsed": false,
    "pycharm": {
     "name": "#%%\n"
    }
   }
  },
  {
   "cell_type": "code",
   "execution_count": 127,
   "outputs": [],
   "source": [
    "\n"
   ],
   "metadata": {
    "collapsed": false,
    "pycharm": {
     "name": "#%%\n"
    }
   }
  },
  {
   "cell_type": "code",
   "execution_count": 127,
   "outputs": [],
   "source": [],
   "metadata": {
    "collapsed": false,
    "pycharm": {
     "name": "#%%\n"
    }
   }
  },
  {
   "cell_type": "code",
   "execution_count": 127,
   "outputs": [],
   "source": [
    "\n",
    "\n"
   ],
   "metadata": {
    "collapsed": false,
    "pycharm": {
     "name": "#%%\n"
    }
   }
  },
  {
   "cell_type": "code",
   "execution_count": 127,
   "outputs": [],
   "source": [],
   "metadata": {
    "collapsed": false,
    "pycharm": {
     "name": "#%%\n"
    }
   }
  },
  {
   "cell_type": "code",
   "execution_count": 127,
   "outputs": [],
   "source": [
    "\n"
   ],
   "metadata": {
    "collapsed": false,
    "pycharm": {
     "name": "#%%\n"
    }
   }
  },
  {
   "cell_type": "code",
   "execution_count": 127,
   "outputs": [],
   "source": [],
   "metadata": {
    "collapsed": false,
    "pycharm": {
     "name": "#%%\n"
    }
   }
  },
  {
   "cell_type": "code",
   "execution_count": null,
   "outputs": [],
   "source": [],
   "metadata": {
    "collapsed": false,
    "pycharm": {
     "name": "#%%\n"
    }
   }
  }
 ],
 "metadata": {
  "kernelspec": {
   "display_name": "Python 3",
   "language": "python",
   "name": "python3"
  },
  "language_info": {
   "codemirror_mode": {
    "name": "ipython",
    "version": 2
   },
   "file_extension": ".py",
   "mimetype": "text/x-python",
   "name": "python",
   "nbconvert_exporter": "python",
   "pygments_lexer": "ipython2",
   "version": "2.7.6"
  }
 },
 "nbformat": 4,
 "nbformat_minor": 0
}