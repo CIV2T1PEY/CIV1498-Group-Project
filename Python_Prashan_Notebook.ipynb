{
 "cells": [
  {
   "cell_type": "code",
   "execution_count": 1,
   "metadata": {
    "collapsed": true
   },
   "outputs": [],
   "source": [
    "import os\n",
    "import json\n",
    "import pandas as pd\n",
    "import seaborn as sns\n",
    "from datetime import datetime\n",
    "import numpy as np\n",
    "import matplotlib.pylab as plt"
   ]
  },
  {
   "cell_type": "code",
   "execution_count": 2,
   "outputs": [],
   "source": [
    "SBA_Loan = pd.read_csv('SBA_Loan_test.csv')"
   ],
   "metadata": {
    "collapsed": false,
    "pycharm": {
     "name": "#%%\n"
    }
   }
  },
  {
   "cell_type": "code",
   "execution_count": 3,
   "outputs": [
    {
     "data": {
      "text/plain": "        LoanNr_ChkDgt                            Name             City State  \\\n0          1000014003                  ABC HOBBYCRAFT       EVANSVILLE    IN   \n1          1000024006     LANDMARK BAR & GRILLE (THE)        NEW PARIS    IN   \n2          1000034009           WHITLOCK DDS, TODD M.      BLOOMINGTON    IN   \n3          1000044001   BIG BUCKS PAWN & JEWELRY, LLC     BROKEN ARROW    OK   \n4          1000054004     ANASTASIA CONFECTIONS, INC.          ORLANDO    FL   \n...               ...                             ...              ...   ...   \n899159     9995573004                    FABRIC FARMS  UPPER ARLINGTON    OH   \n899160     9995603000                    FABRIC FARMS         COLUMBUS    OH   \n899161     9995613003    RADCO MANUFACTURING CO.,INC.      SANTA MARIA    CA   \n899162     9995973006           MARUTAMA HAWAII, INC.         HONOLULU    HI   \n899163     9996003010  PACIFIC TRADEWINDS FAN & LIGHT           KAILUA    HI   \n\n          Zip                            Bank BankState   NAICS ApprovalDate  \\\n0       47711                FIFTH THIRD BANK        OH  451120   1997-02-28   \n1       46526                 1ST SOURCE BANK        IN  722410   1997-02-28   \n2       47401         GRANT COUNTY STATE BANK        IN  621210   1997-02-28   \n3       74012   1ST NATL BK & TR CO OF BROKEN        OK       0   1997-02-28   \n4       32801         FLORIDA BUS. DEVEL CORP        FL       0   1997-02-28   \n...       ...                             ...       ...     ...          ...   \n899159  43221  JPMORGAN CHASE BANK NATL ASSOC        IL  451120   1997-02-27   \n899160  43221  JPMORGAN CHASE BANK NATL ASSOC        IL  451130   1997-02-27   \n899161  93455  RABOBANK, NATIONAL ASSOCIATION        CA  332321   1997-02-27   \n899162  96830                  BANK OF HAWAII        HI       0   1997-02-27   \n899163  96734            CENTRAL PACIFIC BANK        HI       0   1997-02-27   \n\n        ApprovalFY  ...  LowDoc  ChgOffDate  DisbursementDate  \\\n0             1997  ...       Y         NaN         28-Feb-99   \n1             1997  ...       Y         NaN         31-May-97   \n2             1997  ...       N         NaN         31-Dec-97   \n3             1997  ...       Y         NaN         30-Jun-97   \n4             1997  ...       N         NaN         14-May-97   \n...            ...  ...     ...         ...               ...   \n899159        1997  ...       N         NaN         30-Sep-97   \n899160        1997  ...       N         NaN         31-Oct-97   \n899161        1997  ...       N         NaN         30-Sep-97   \n899162        1997  ...       Y    8-Mar-00         31-Mar-97   \n899163        1997  ...       N         NaN         31-May-97   \n\n        DisbursementGross  BalanceGross  MIS_Status  ChgOffPrinGr    GrAppv  \\\n0                 60000.0           0.0       P I F           0.0   60000.0   \n1                 40000.0           0.0       P I F           0.0   40000.0   \n2                287000.0           0.0       P I F           0.0  287000.0   \n3                 35000.0           0.0       P I F           0.0   35000.0   \n4                229000.0           0.0       P I F           0.0  229000.0   \n...                   ...           ...         ...           ...       ...   \n899159            70000.0           0.0       P I F           0.0   70000.0   \n899160            85000.0           0.0       P I F           0.0   85000.0   \n899161           300000.0           0.0       P I F           0.0  300000.0   \n899162            75000.0           0.0      CHGOFF       46383.0   75000.0   \n899163            30000.0           0.0       P I F           0.0   30000.0   \n\n        SBA_Appv                           Industry  \n0        48000.0                       Retail trade  \n1        32000.0    Accommodation and food services  \n2       215250.0  Health care and social assistance  \n3        28000.0                          Undefined  \n4       229000.0                          Undefined  \n...          ...                                ...  \n899159   56000.0                       Retail trade  \n899160   42500.0                       Retail trade  \n899161  225000.0                      Manufacturing  \n899162   60000.0                          Undefined  \n899163   24000.0                          Undefined  \n\n[899164 rows x 28 columns]",
      "text/html": "<div>\n<style scoped>\n    .dataframe tbody tr th:only-of-type {\n        vertical-align: middle;\n    }\n\n    .dataframe tbody tr th {\n        vertical-align: top;\n    }\n\n    .dataframe thead th {\n        text-align: right;\n    }\n</style>\n<table border=\"1\" class=\"dataframe\">\n  <thead>\n    <tr style=\"text-align: right;\">\n      <th></th>\n      <th>LoanNr_ChkDgt</th>\n      <th>Name</th>\n      <th>City</th>\n      <th>State</th>\n      <th>Zip</th>\n      <th>Bank</th>\n      <th>BankState</th>\n      <th>NAICS</th>\n      <th>ApprovalDate</th>\n      <th>ApprovalFY</th>\n      <th>...</th>\n      <th>LowDoc</th>\n      <th>ChgOffDate</th>\n      <th>DisbursementDate</th>\n      <th>DisbursementGross</th>\n      <th>BalanceGross</th>\n      <th>MIS_Status</th>\n      <th>ChgOffPrinGr</th>\n      <th>GrAppv</th>\n      <th>SBA_Appv</th>\n      <th>Industry</th>\n    </tr>\n  </thead>\n  <tbody>\n    <tr>\n      <th>0</th>\n      <td>1000014003</td>\n      <td>ABC HOBBYCRAFT</td>\n      <td>EVANSVILLE</td>\n      <td>IN</td>\n      <td>47711</td>\n      <td>FIFTH THIRD BANK</td>\n      <td>OH</td>\n      <td>451120</td>\n      <td>1997-02-28</td>\n      <td>1997</td>\n      <td>...</td>\n      <td>Y</td>\n      <td>NaN</td>\n      <td>28-Feb-99</td>\n      <td>60000.0</td>\n      <td>0.0</td>\n      <td>P I F</td>\n      <td>0.0</td>\n      <td>60000.0</td>\n      <td>48000.0</td>\n      <td>Retail trade</td>\n    </tr>\n    <tr>\n      <th>1</th>\n      <td>1000024006</td>\n      <td>LANDMARK BAR &amp; GRILLE (THE)</td>\n      <td>NEW PARIS</td>\n      <td>IN</td>\n      <td>46526</td>\n      <td>1ST SOURCE BANK</td>\n      <td>IN</td>\n      <td>722410</td>\n      <td>1997-02-28</td>\n      <td>1997</td>\n      <td>...</td>\n      <td>Y</td>\n      <td>NaN</td>\n      <td>31-May-97</td>\n      <td>40000.0</td>\n      <td>0.0</td>\n      <td>P I F</td>\n      <td>0.0</td>\n      <td>40000.0</td>\n      <td>32000.0</td>\n      <td>Accommodation and food services</td>\n    </tr>\n    <tr>\n      <th>2</th>\n      <td>1000034009</td>\n      <td>WHITLOCK DDS, TODD M.</td>\n      <td>BLOOMINGTON</td>\n      <td>IN</td>\n      <td>47401</td>\n      <td>GRANT COUNTY STATE BANK</td>\n      <td>IN</td>\n      <td>621210</td>\n      <td>1997-02-28</td>\n      <td>1997</td>\n      <td>...</td>\n      <td>N</td>\n      <td>NaN</td>\n      <td>31-Dec-97</td>\n      <td>287000.0</td>\n      <td>0.0</td>\n      <td>P I F</td>\n      <td>0.0</td>\n      <td>287000.0</td>\n      <td>215250.0</td>\n      <td>Health care and social assistance</td>\n    </tr>\n    <tr>\n      <th>3</th>\n      <td>1000044001</td>\n      <td>BIG BUCKS PAWN &amp; JEWELRY, LLC</td>\n      <td>BROKEN ARROW</td>\n      <td>OK</td>\n      <td>74012</td>\n      <td>1ST NATL BK &amp; TR CO OF BROKEN</td>\n      <td>OK</td>\n      <td>0</td>\n      <td>1997-02-28</td>\n      <td>1997</td>\n      <td>...</td>\n      <td>Y</td>\n      <td>NaN</td>\n      <td>30-Jun-97</td>\n      <td>35000.0</td>\n      <td>0.0</td>\n      <td>P I F</td>\n      <td>0.0</td>\n      <td>35000.0</td>\n      <td>28000.0</td>\n      <td>Undefined</td>\n    </tr>\n    <tr>\n      <th>4</th>\n      <td>1000054004</td>\n      <td>ANASTASIA CONFECTIONS, INC.</td>\n      <td>ORLANDO</td>\n      <td>FL</td>\n      <td>32801</td>\n      <td>FLORIDA BUS. DEVEL CORP</td>\n      <td>FL</td>\n      <td>0</td>\n      <td>1997-02-28</td>\n      <td>1997</td>\n      <td>...</td>\n      <td>N</td>\n      <td>NaN</td>\n      <td>14-May-97</td>\n      <td>229000.0</td>\n      <td>0.0</td>\n      <td>P I F</td>\n      <td>0.0</td>\n      <td>229000.0</td>\n      <td>229000.0</td>\n      <td>Undefined</td>\n    </tr>\n    <tr>\n      <th>...</th>\n      <td>...</td>\n      <td>...</td>\n      <td>...</td>\n      <td>...</td>\n      <td>...</td>\n      <td>...</td>\n      <td>...</td>\n      <td>...</td>\n      <td>...</td>\n      <td>...</td>\n      <td>...</td>\n      <td>...</td>\n      <td>...</td>\n      <td>...</td>\n      <td>...</td>\n      <td>...</td>\n      <td>...</td>\n      <td>...</td>\n      <td>...</td>\n      <td>...</td>\n      <td>...</td>\n    </tr>\n    <tr>\n      <th>899159</th>\n      <td>9995573004</td>\n      <td>FABRIC FARMS</td>\n      <td>UPPER ARLINGTON</td>\n      <td>OH</td>\n      <td>43221</td>\n      <td>JPMORGAN CHASE BANK NATL ASSOC</td>\n      <td>IL</td>\n      <td>451120</td>\n      <td>1997-02-27</td>\n      <td>1997</td>\n      <td>...</td>\n      <td>N</td>\n      <td>NaN</td>\n      <td>30-Sep-97</td>\n      <td>70000.0</td>\n      <td>0.0</td>\n      <td>P I F</td>\n      <td>0.0</td>\n      <td>70000.0</td>\n      <td>56000.0</td>\n      <td>Retail trade</td>\n    </tr>\n    <tr>\n      <th>899160</th>\n      <td>9995603000</td>\n      <td>FABRIC FARMS</td>\n      <td>COLUMBUS</td>\n      <td>OH</td>\n      <td>43221</td>\n      <td>JPMORGAN CHASE BANK NATL ASSOC</td>\n      <td>IL</td>\n      <td>451130</td>\n      <td>1997-02-27</td>\n      <td>1997</td>\n      <td>...</td>\n      <td>N</td>\n      <td>NaN</td>\n      <td>31-Oct-97</td>\n      <td>85000.0</td>\n      <td>0.0</td>\n      <td>P I F</td>\n      <td>0.0</td>\n      <td>85000.0</td>\n      <td>42500.0</td>\n      <td>Retail trade</td>\n    </tr>\n    <tr>\n      <th>899161</th>\n      <td>9995613003</td>\n      <td>RADCO MANUFACTURING CO.,INC.</td>\n      <td>SANTA MARIA</td>\n      <td>CA</td>\n      <td>93455</td>\n      <td>RABOBANK, NATIONAL ASSOCIATION</td>\n      <td>CA</td>\n      <td>332321</td>\n      <td>1997-02-27</td>\n      <td>1997</td>\n      <td>...</td>\n      <td>N</td>\n      <td>NaN</td>\n      <td>30-Sep-97</td>\n      <td>300000.0</td>\n      <td>0.0</td>\n      <td>P I F</td>\n      <td>0.0</td>\n      <td>300000.0</td>\n      <td>225000.0</td>\n      <td>Manufacturing</td>\n    </tr>\n    <tr>\n      <th>899162</th>\n      <td>9995973006</td>\n      <td>MARUTAMA HAWAII, INC.</td>\n      <td>HONOLULU</td>\n      <td>HI</td>\n      <td>96830</td>\n      <td>BANK OF HAWAII</td>\n      <td>HI</td>\n      <td>0</td>\n      <td>1997-02-27</td>\n      <td>1997</td>\n      <td>...</td>\n      <td>Y</td>\n      <td>8-Mar-00</td>\n      <td>31-Mar-97</td>\n      <td>75000.0</td>\n      <td>0.0</td>\n      <td>CHGOFF</td>\n      <td>46383.0</td>\n      <td>75000.0</td>\n      <td>60000.0</td>\n      <td>Undefined</td>\n    </tr>\n    <tr>\n      <th>899163</th>\n      <td>9996003010</td>\n      <td>PACIFIC TRADEWINDS FAN &amp; LIGHT</td>\n      <td>KAILUA</td>\n      <td>HI</td>\n      <td>96734</td>\n      <td>CENTRAL PACIFIC BANK</td>\n      <td>HI</td>\n      <td>0</td>\n      <td>1997-02-27</td>\n      <td>1997</td>\n      <td>...</td>\n      <td>N</td>\n      <td>NaN</td>\n      <td>31-May-97</td>\n      <td>30000.0</td>\n      <td>0.0</td>\n      <td>P I F</td>\n      <td>0.0</td>\n      <td>30000.0</td>\n      <td>24000.0</td>\n      <td>Undefined</td>\n    </tr>\n  </tbody>\n</table>\n<p>899164 rows × 28 columns</p>\n</div>"
     },
     "execution_count": 3,
     "metadata": {},
     "output_type": "execute_result"
    }
   ],
   "source": [
    "DF_SBA_Loan = SBA_Loan.copy()\n",
    "DF_SBA_Loan"
   ],
   "metadata": {
    "collapsed": false,
    "pycharm": {
     "name": "#%%\n"
    }
   }
  },
  {
   "cell_type": "code",
   "execution_count": 4,
   "outputs": [],
   "source": [
    "for x in DF_SBA_Loan[DF_SBA_Loan['MIS_Status'].isnull()]['ChgOffPrinGr'].index:\n",
    "    if DF_SBA_Loan['ChgOffPrinGr'][x] == 0:\n",
    "        DF_SBA_Loan.loc[x,'MIS_Status'] = \"P I F\"\n",
    "    else:\n",
    "        DF_SBA_Loan.loc[x,'MIS_Status'] = \"CHGOFF\""
   ],
   "metadata": {
    "collapsed": false,
    "pycharm": {
     "name": "#%%\n"
    }
   }
  },
  {
   "cell_type": "code",
   "execution_count": 5,
   "outputs": [],
   "source": [
    "#Keeping just the first 2 digits in the NAICS column of DF_SBA_Loan\n",
    "DF_SBA_Loan.drop(DF_SBA_Loan[DF_SBA_Loan[\"NAICS\"] == 0].index, inplace=True)"
   ],
   "metadata": {
    "collapsed": false,
    "pycharm": {
     "name": "#%%\n"
    }
   }
  },
  {
   "cell_type": "code",
   "execution_count": 6,
   "outputs": [],
   "source": [
    "a = [str(x) for x in np.array(DF_SBA_Loan[\"NAICS\"])]\n",
    "a = [s[:2] for s in a]\n",
    "DF_SBA_Loan[\"NAICS\"] = [int(x) for x in a]"
   ],
   "metadata": {
    "collapsed": false,
    "pycharm": {
     "name": "#%%\n"
    }
   }
  },
  {
   "cell_type": "code",
   "execution_count": 7,
   "outputs": [
    {
     "data": {
      "text/plain": "       State  NAICS  ApprovalFY  NewExist MIS_Status  SBA_Appv    GrAppv\n0         IN     45        1997       2.0      P I F   48000.0   60000.0\n1         IN     72        1997       2.0      P I F   32000.0   40000.0\n2         IN     62        1997       1.0      P I F  215250.0  287000.0\n3         CT     33        1997       1.0      P I F  387750.0  517000.0\n4         FL     81        1997       2.0      P I F   36000.0   45000.0\n...      ...    ...         ...       ...        ...       ...       ...\n697211    MD     33        1997       1.0      P I F   25000.0   50000.0\n697212    CA     31        1997       1.0      P I F  150000.0  200000.0\n697213    OH     45        1997       1.0      P I F   56000.0   70000.0\n697214    OH     45        1997       1.0      P I F   42500.0   85000.0\n697215    CA     33        1997       1.0      P I F  225000.0  300000.0\n\n[697216 rows x 7 columns]",
      "text/html": "<div>\n<style scoped>\n    .dataframe tbody tr th:only-of-type {\n        vertical-align: middle;\n    }\n\n    .dataframe tbody tr th {\n        vertical-align: top;\n    }\n\n    .dataframe thead th {\n        text-align: right;\n    }\n</style>\n<table border=\"1\" class=\"dataframe\">\n  <thead>\n    <tr style=\"text-align: right;\">\n      <th></th>\n      <th>State</th>\n      <th>NAICS</th>\n      <th>ApprovalFY</th>\n      <th>NewExist</th>\n      <th>MIS_Status</th>\n      <th>SBA_Appv</th>\n      <th>GrAppv</th>\n    </tr>\n  </thead>\n  <tbody>\n    <tr>\n      <th>0</th>\n      <td>IN</td>\n      <td>45</td>\n      <td>1997</td>\n      <td>2.0</td>\n      <td>P I F</td>\n      <td>48000.0</td>\n      <td>60000.0</td>\n    </tr>\n    <tr>\n      <th>1</th>\n      <td>IN</td>\n      <td>72</td>\n      <td>1997</td>\n      <td>2.0</td>\n      <td>P I F</td>\n      <td>32000.0</td>\n      <td>40000.0</td>\n    </tr>\n    <tr>\n      <th>2</th>\n      <td>IN</td>\n      <td>62</td>\n      <td>1997</td>\n      <td>1.0</td>\n      <td>P I F</td>\n      <td>215250.0</td>\n      <td>287000.0</td>\n    </tr>\n    <tr>\n      <th>3</th>\n      <td>CT</td>\n      <td>33</td>\n      <td>1997</td>\n      <td>1.0</td>\n      <td>P I F</td>\n      <td>387750.0</td>\n      <td>517000.0</td>\n    </tr>\n    <tr>\n      <th>4</th>\n      <td>FL</td>\n      <td>81</td>\n      <td>1997</td>\n      <td>2.0</td>\n      <td>P I F</td>\n      <td>36000.0</td>\n      <td>45000.0</td>\n    </tr>\n    <tr>\n      <th>...</th>\n      <td>...</td>\n      <td>...</td>\n      <td>...</td>\n      <td>...</td>\n      <td>...</td>\n      <td>...</td>\n      <td>...</td>\n    </tr>\n    <tr>\n      <th>697211</th>\n      <td>MD</td>\n      <td>33</td>\n      <td>1997</td>\n      <td>1.0</td>\n      <td>P I F</td>\n      <td>25000.0</td>\n      <td>50000.0</td>\n    </tr>\n    <tr>\n      <th>697212</th>\n      <td>CA</td>\n      <td>31</td>\n      <td>1997</td>\n      <td>1.0</td>\n      <td>P I F</td>\n      <td>150000.0</td>\n      <td>200000.0</td>\n    </tr>\n    <tr>\n      <th>697213</th>\n      <td>OH</td>\n      <td>45</td>\n      <td>1997</td>\n      <td>1.0</td>\n      <td>P I F</td>\n      <td>56000.0</td>\n      <td>70000.0</td>\n    </tr>\n    <tr>\n      <th>697214</th>\n      <td>OH</td>\n      <td>45</td>\n      <td>1997</td>\n      <td>1.0</td>\n      <td>P I F</td>\n      <td>42500.0</td>\n      <td>85000.0</td>\n    </tr>\n    <tr>\n      <th>697215</th>\n      <td>CA</td>\n      <td>33</td>\n      <td>1997</td>\n      <td>1.0</td>\n      <td>P I F</td>\n      <td>225000.0</td>\n      <td>300000.0</td>\n    </tr>\n  </tbody>\n</table>\n<p>697216 rows × 7 columns</p>\n</div>"
     },
     "execution_count": 7,
     "metadata": {},
     "output_type": "execute_result"
    }
   ],
   "source": [
    "DF_SBA_Loan = DF_SBA_Loan[['State', 'NAICS', 'ApprovalFY', 'NewExist', 'MIS_Status', 'SBA_Appv', 'GrAppv']] #'UrbanRural', 'LowDoc' left out\n",
    "DF_SBA_Loan = DF_SBA_Loan.reset_index(drop=True)\n",
    "DF_SBA_Loan"
   ],
   "metadata": {
    "collapsed": false,
    "pycharm": {
     "name": "#%%\n"
    }
   }
  },
  {
   "cell_type": "code",
   "execution_count": 8,
   "outputs": [],
   "source": [
    "DF_SBA_Loan.drop(DF_SBA_Loan[DF_SBA_Loan['NewExist'] == 0].index, inplace=True)"
   ],
   "metadata": {
    "collapsed": false,
    "pycharm": {
     "name": "#%%\n"
    }
   }
  },
  {
   "cell_type": "code",
   "execution_count": 9,
   "outputs": [],
   "source": [
    "DF_SBA_Loan = DF_SBA_Loan.dropna()"
   ],
   "metadata": {
    "collapsed": false,
    "pycharm": {
     "name": "#%%\n"
    }
   }
  },
  {
   "cell_type": "code",
   "execution_count": 10,
   "outputs": [],
   "source": [
    "# DF_SBA_Loan['UrbanRural'].value_counts()\n",
    "# DF_SBA_Loan[DF_SBA_Loan['UrbanRural'] == 0]\n",
    "# sns.countplot(x='UrbanRural', data=DF_SBA_Loan, hue='RevLineCr')\n",
    "# DF_SBA_Loan['MIS_Status'].value_counts()"
   ],
   "metadata": {
    "collapsed": false,
    "pycharm": {
     "name": "#%%\n"
    }
   }
  },
  {
   "cell_type": "code",
   "execution_count": 11,
   "outputs": [],
   "source": [
    "NAICS_BDS = pd.read_csv('NAICS_BDS_timeseries_data.csv', low_memory=False)\n",
    "NAICS_BDS = NAICS_BDS.drop([0])"
   ],
   "metadata": {
    "collapsed": false,
    "pycharm": {
     "name": "#%%\n"
    }
   }
  },
  {
   "cell_type": "code",
   "execution_count": 12,
   "outputs": [
    {
     "data": {
      "text/plain": "        GEO_ID           NAME NAICS  \\\n1    0100000US  United States     0   \n2    0100000US  United States     0   \n3    0100000US  United States     0   \n4    0100000US  United States     0   \n5    0100000US  United States     0   \n..         ...            ...   ...   \n836  0100000US  United States    81   \n837  0100000US  United States    81   \n838  0100000US  United States    81   \n839  0100000US  United States    81   \n840  0100000US  United States    81   \n\n                                       NAICS_LABEL  YEAR     FIRM    ESTAB  \\\n1                            Total for all sectors  1978  3557994  4310626   \n2                            Total for all sectors  1979  3692077  4472108   \n3                            Total for all sectors  1980  3739809  4533251   \n4                            Total for all sectors  1981  3770852  4615479   \n5                            Total for all sectors  1982  3720273  4598769   \n..                                             ...   ...      ...      ...   \n836  Other services (except public administration)  2015   627870   692521   \n837  Other services (except public administration)  2016   635866   701530   \n838  Other services (except public administration)  2017   639820   705522   \n839  Other services (except public administration)  2018   643774   708344   \n840  Other services (except public administration)  2019   645831   710628   \n\n          EMP     DENOM ESTABS_ENTRY  ... JOB_DESTRUCTION_DEATHS  \\\n1    69410001  66810001       654226  ...                4048046   \n2    73848234  71727111       630253  ...                3760616   \n3    74109267  74018218       592484  ...                4246135   \n4    75728652  74924061       606853  ...                3478843   \n5    74922226  75267274       572030  ...                4055239   \n..        ...       ...          ...  ...                    ...   \n836   5402143   5367556        54337  ...                 190691   \n837   5495043   5443433        56964  ...                 183389   \n838   5499089   5473326        56065  ...                 199943   \n839   5590509   5547912        54528  ...                 192597   \n840   5615669   5600892        54205  ...                 191207   \n\n    JOB_DESTRUCTION_CONTINUERS JOB_DESTRUCTION_RATE_DEATHS  \\\n1                      5420961                       6.059   \n2                      6043218                       5.243   \n3                      7797198                       5.737   \n4                      7782399                       4.643   \n5                      8683755                       5.388   \n..                         ...                         ...   \n836                     389703                       3.553   \n837                     390994                       3.369   \n838                     435503                       3.653   \n839                     420088                       3.472   \n840                     413919                       3.414   \n\n    JOB_DESTRUCTION_RATE NET_JOB_CREATION NET_JOB_CREATION_RATE  \\\n1                 14.173          5196537                 7.778   \n2                 13.668          4248257                 5.923   \n3                 16.271           188937                 0.255   \n4                  15.03          1609104                 2.148   \n5                 16.925          -678350                -0.901   \n..                   ...              ...                   ...   \n836               10.813            68593                 1.278   \n837               10.552           102848                 1.889   \n838                11.61            53589                 0.979   \n839               11.044            86437                 1.558   \n840               10.804            28782                 0.514   \n\n    REALLOCATION_RATE FIRMDEATH_FIRMS FIRMDEATH_ESTABS FIRMDEATH_EMP  \n1              28.346          327278           332504       1824251  \n2              27.336          328024           332633       1785478  \n3              32.542          368578           373754       1941422  \n4               30.06          377291           383748       2005707  \n5              32.048          412488           418501       2211944  \n..                ...             ...              ...           ...  \n836            21.626           34254            34772        117491  \n837            21.104           35133            35590        125535  \n838             23.22           37298            37944        138168  \n839            22.087           38866            39746        142311  \n840            21.608           43430            44098        153253  \n\n[840 rows x 29 columns]",
      "text/html": "<div>\n<style scoped>\n    .dataframe tbody tr th:only-of-type {\n        vertical-align: middle;\n    }\n\n    .dataframe tbody tr th {\n        vertical-align: top;\n    }\n\n    .dataframe thead th {\n        text-align: right;\n    }\n</style>\n<table border=\"1\" class=\"dataframe\">\n  <thead>\n    <tr style=\"text-align: right;\">\n      <th></th>\n      <th>GEO_ID</th>\n      <th>NAME</th>\n      <th>NAICS</th>\n      <th>NAICS_LABEL</th>\n      <th>YEAR</th>\n      <th>FIRM</th>\n      <th>ESTAB</th>\n      <th>EMP</th>\n      <th>DENOM</th>\n      <th>ESTABS_ENTRY</th>\n      <th>...</th>\n      <th>JOB_DESTRUCTION_DEATHS</th>\n      <th>JOB_DESTRUCTION_CONTINUERS</th>\n      <th>JOB_DESTRUCTION_RATE_DEATHS</th>\n      <th>JOB_DESTRUCTION_RATE</th>\n      <th>NET_JOB_CREATION</th>\n      <th>NET_JOB_CREATION_RATE</th>\n      <th>REALLOCATION_RATE</th>\n      <th>FIRMDEATH_FIRMS</th>\n      <th>FIRMDEATH_ESTABS</th>\n      <th>FIRMDEATH_EMP</th>\n    </tr>\n  </thead>\n  <tbody>\n    <tr>\n      <th>1</th>\n      <td>0100000US</td>\n      <td>United States</td>\n      <td>0</td>\n      <td>Total for all sectors</td>\n      <td>1978</td>\n      <td>3557994</td>\n      <td>4310626</td>\n      <td>69410001</td>\n      <td>66810001</td>\n      <td>654226</td>\n      <td>...</td>\n      <td>4048046</td>\n      <td>5420961</td>\n      <td>6.059</td>\n      <td>14.173</td>\n      <td>5196537</td>\n      <td>7.778</td>\n      <td>28.346</td>\n      <td>327278</td>\n      <td>332504</td>\n      <td>1824251</td>\n    </tr>\n    <tr>\n      <th>2</th>\n      <td>0100000US</td>\n      <td>United States</td>\n      <td>0</td>\n      <td>Total for all sectors</td>\n      <td>1979</td>\n      <td>3692077</td>\n      <td>4472108</td>\n      <td>73848234</td>\n      <td>71727111</td>\n      <td>630253</td>\n      <td>...</td>\n      <td>3760616</td>\n      <td>6043218</td>\n      <td>5.243</td>\n      <td>13.668</td>\n      <td>4248257</td>\n      <td>5.923</td>\n      <td>27.336</td>\n      <td>328024</td>\n      <td>332633</td>\n      <td>1785478</td>\n    </tr>\n    <tr>\n      <th>3</th>\n      <td>0100000US</td>\n      <td>United States</td>\n      <td>0</td>\n      <td>Total for all sectors</td>\n      <td>1980</td>\n      <td>3739809</td>\n      <td>4533251</td>\n      <td>74109267</td>\n      <td>74018218</td>\n      <td>592484</td>\n      <td>...</td>\n      <td>4246135</td>\n      <td>7797198</td>\n      <td>5.737</td>\n      <td>16.271</td>\n      <td>188937</td>\n      <td>0.255</td>\n      <td>32.542</td>\n      <td>368578</td>\n      <td>373754</td>\n      <td>1941422</td>\n    </tr>\n    <tr>\n      <th>4</th>\n      <td>0100000US</td>\n      <td>United States</td>\n      <td>0</td>\n      <td>Total for all sectors</td>\n      <td>1981</td>\n      <td>3770852</td>\n      <td>4615479</td>\n      <td>75728652</td>\n      <td>74924061</td>\n      <td>606853</td>\n      <td>...</td>\n      <td>3478843</td>\n      <td>7782399</td>\n      <td>4.643</td>\n      <td>15.03</td>\n      <td>1609104</td>\n      <td>2.148</td>\n      <td>30.06</td>\n      <td>377291</td>\n      <td>383748</td>\n      <td>2005707</td>\n    </tr>\n    <tr>\n      <th>5</th>\n      <td>0100000US</td>\n      <td>United States</td>\n      <td>0</td>\n      <td>Total for all sectors</td>\n      <td>1982</td>\n      <td>3720273</td>\n      <td>4598769</td>\n      <td>74922226</td>\n      <td>75267274</td>\n      <td>572030</td>\n      <td>...</td>\n      <td>4055239</td>\n      <td>8683755</td>\n      <td>5.388</td>\n      <td>16.925</td>\n      <td>-678350</td>\n      <td>-0.901</td>\n      <td>32.048</td>\n      <td>412488</td>\n      <td>418501</td>\n      <td>2211944</td>\n    </tr>\n    <tr>\n      <th>...</th>\n      <td>...</td>\n      <td>...</td>\n      <td>...</td>\n      <td>...</td>\n      <td>...</td>\n      <td>...</td>\n      <td>...</td>\n      <td>...</td>\n      <td>...</td>\n      <td>...</td>\n      <td>...</td>\n      <td>...</td>\n      <td>...</td>\n      <td>...</td>\n      <td>...</td>\n      <td>...</td>\n      <td>...</td>\n      <td>...</td>\n      <td>...</td>\n      <td>...</td>\n      <td>...</td>\n    </tr>\n    <tr>\n      <th>836</th>\n      <td>0100000US</td>\n      <td>United States</td>\n      <td>81</td>\n      <td>Other services (except public administration)</td>\n      <td>2015</td>\n      <td>627870</td>\n      <td>692521</td>\n      <td>5402143</td>\n      <td>5367556</td>\n      <td>54337</td>\n      <td>...</td>\n      <td>190691</td>\n      <td>389703</td>\n      <td>3.553</td>\n      <td>10.813</td>\n      <td>68593</td>\n      <td>1.278</td>\n      <td>21.626</td>\n      <td>34254</td>\n      <td>34772</td>\n      <td>117491</td>\n    </tr>\n    <tr>\n      <th>837</th>\n      <td>0100000US</td>\n      <td>United States</td>\n      <td>81</td>\n      <td>Other services (except public administration)</td>\n      <td>2016</td>\n      <td>635866</td>\n      <td>701530</td>\n      <td>5495043</td>\n      <td>5443433</td>\n      <td>56964</td>\n      <td>...</td>\n      <td>183389</td>\n      <td>390994</td>\n      <td>3.369</td>\n      <td>10.552</td>\n      <td>102848</td>\n      <td>1.889</td>\n      <td>21.104</td>\n      <td>35133</td>\n      <td>35590</td>\n      <td>125535</td>\n    </tr>\n    <tr>\n      <th>838</th>\n      <td>0100000US</td>\n      <td>United States</td>\n      <td>81</td>\n      <td>Other services (except public administration)</td>\n      <td>2017</td>\n      <td>639820</td>\n      <td>705522</td>\n      <td>5499089</td>\n      <td>5473326</td>\n      <td>56065</td>\n      <td>...</td>\n      <td>199943</td>\n      <td>435503</td>\n      <td>3.653</td>\n      <td>11.61</td>\n      <td>53589</td>\n      <td>0.979</td>\n      <td>23.22</td>\n      <td>37298</td>\n      <td>37944</td>\n      <td>138168</td>\n    </tr>\n    <tr>\n      <th>839</th>\n      <td>0100000US</td>\n      <td>United States</td>\n      <td>81</td>\n      <td>Other services (except public administration)</td>\n      <td>2018</td>\n      <td>643774</td>\n      <td>708344</td>\n      <td>5590509</td>\n      <td>5547912</td>\n      <td>54528</td>\n      <td>...</td>\n      <td>192597</td>\n      <td>420088</td>\n      <td>3.472</td>\n      <td>11.044</td>\n      <td>86437</td>\n      <td>1.558</td>\n      <td>22.087</td>\n      <td>38866</td>\n      <td>39746</td>\n      <td>142311</td>\n    </tr>\n    <tr>\n      <th>840</th>\n      <td>0100000US</td>\n      <td>United States</td>\n      <td>81</td>\n      <td>Other services (except public administration)</td>\n      <td>2019</td>\n      <td>645831</td>\n      <td>710628</td>\n      <td>5615669</td>\n      <td>5600892</td>\n      <td>54205</td>\n      <td>...</td>\n      <td>191207</td>\n      <td>413919</td>\n      <td>3.414</td>\n      <td>10.804</td>\n      <td>28782</td>\n      <td>0.514</td>\n      <td>21.608</td>\n      <td>43430</td>\n      <td>44098</td>\n      <td>153253</td>\n    </tr>\n  </tbody>\n</table>\n<p>840 rows × 29 columns</p>\n</div>"
     },
     "execution_count": 12,
     "metadata": {},
     "output_type": "execute_result"
    }
   ],
   "source": [
    "NAICS_BDS"
   ],
   "metadata": {
    "collapsed": false,
    "pycharm": {
     "name": "#%%\n"
    }
   }
  },
  {
   "cell_type": "code",
   "execution_count": 13,
   "outputs": [],
   "source": [
    "DF_NAICS = NAICS_BDS.copy()\n",
    "DF_NAICS.drop(DF_NAICS[(DF_NAICS.NAICS == '0')].index, inplace=True)"
   ],
   "metadata": {
    "collapsed": false,
    "pycharm": {
     "name": "#%%\n"
    }
   }
  },
  {
   "cell_type": "code",
   "execution_count": 14,
   "outputs": [
    {
     "data": {
      "text/plain": "        GEO_ID           NAME NAICS  \\\n43   0100000US  United States    11   \n44   0100000US  United States    11   \n45   0100000US  United States    11   \n46   0100000US  United States    11   \n47   0100000US  United States    11   \n..         ...            ...   ...   \n836  0100000US  United States    81   \n837  0100000US  United States    81   \n838  0100000US  United States    81   \n839  0100000US  United States    81   \n840  0100000US  United States    81   \n\n                                       NAICS_LABEL  YEAR    FIRM   ESTAB  \\\n43      Agriculture, forestry, fishing and hunting  1978   23763   24429   \n44      Agriculture, forestry, fishing and hunting  1979   21765   22373   \n45      Agriculture, forestry, fishing and hunting  1980   21882   22500   \n46      Agriculture, forestry, fishing and hunting  1981   21862   22468   \n47      Agriculture, forestry, fishing and hunting  1982   19040   19695   \n..                                             ...   ...     ...     ...   \n836  Other services (except public administration)  2015  627870  692521   \n837  Other services (except public administration)  2016  635866  701530   \n838  Other services (except public administration)  2017  639820  705522   \n839  Other services (except public administration)  2018  643774  708344   \n840  Other services (except public administration)  2019  645831  710628   \n\n         EMP    DENOM ESTABS_ENTRY  ... JOB_DESTRUCTION_DEATHS  \\\n43    200156   192326         4717  ...                  18829   \n44    192288   191325         4178  ...                  22142   \n45    193997   193979         3827  ...                  16453   \n46    189977   193065         3514  ...                  20576   \n47    173515   178279         2775  ...                  20541   \n..       ...      ...          ...  ...                    ...   \n836  5402143  5367556        54337  ...                 190691   \n837  5495043  5443433        56964  ...                 183389   \n838  5499089  5473326        56065  ...                 199943   \n839  5590509  5547912        54528  ...                 192597   \n840  5615669  5600892        54205  ...                 191207   \n\n    JOB_DESTRUCTION_CONTINUERS JOB_DESTRUCTION_RATE_DEATHS  \\\n43                       27500                        9.79   \n44                       30446                      11.573   \n45                       31944                       8.482   \n46                       31625                      10.658   \n47                       31150                      11.522   \n..                         ...                         ...   \n836                     389703                       3.553   \n837                     390994                       3.369   \n838                     435503                       3.653   \n839                     420088                       3.472   \n840                     413919                       3.414   \n\n    JOB_DESTRUCTION_RATE NET_JOB_CREATION NET_JOB_CREATION_RATE  \\\n43                24.089            15439                 8.028   \n44                27.486             1716                 0.897   \n45                 24.95             -108                -0.056   \n46                27.038            -6316                -3.271   \n47                28.995            -9420                -5.284   \n..                   ...              ...                   ...   \n836               10.813            68593                 1.278   \n837               10.552           102848                 1.889   \n838                11.61            53589                 0.979   \n839               11.044            86437                 1.558   \n840               10.804            28782                 0.514   \n\n    REALLOCATION_RATE FIRMDEATH_FIRMS FIRMDEATH_ESTABS FIRMDEATH_EMP  \n43             48.178            2876             2905         12497  \n44             54.972            3022             3068         14659  \n45             49.788            2780             2780         11264  \n46             47.533            2696             2699         11719  \n47             47.421            3176             3180         14178  \n..                ...             ...              ...           ...  \n836            21.626           34254            34772        117491  \n837            21.104           35133            35590        125535  \n838             23.22           37298            37944        138168  \n839            22.087           38866            39746        142311  \n840            21.608           43430            44098        153253  \n\n[798 rows x 29 columns]",
      "text/html": "<div>\n<style scoped>\n    .dataframe tbody tr th:only-of-type {\n        vertical-align: middle;\n    }\n\n    .dataframe tbody tr th {\n        vertical-align: top;\n    }\n\n    .dataframe thead th {\n        text-align: right;\n    }\n</style>\n<table border=\"1\" class=\"dataframe\">\n  <thead>\n    <tr style=\"text-align: right;\">\n      <th></th>\n      <th>GEO_ID</th>\n      <th>NAME</th>\n      <th>NAICS</th>\n      <th>NAICS_LABEL</th>\n      <th>YEAR</th>\n      <th>FIRM</th>\n      <th>ESTAB</th>\n      <th>EMP</th>\n      <th>DENOM</th>\n      <th>ESTABS_ENTRY</th>\n      <th>...</th>\n      <th>JOB_DESTRUCTION_DEATHS</th>\n      <th>JOB_DESTRUCTION_CONTINUERS</th>\n      <th>JOB_DESTRUCTION_RATE_DEATHS</th>\n      <th>JOB_DESTRUCTION_RATE</th>\n      <th>NET_JOB_CREATION</th>\n      <th>NET_JOB_CREATION_RATE</th>\n      <th>REALLOCATION_RATE</th>\n      <th>FIRMDEATH_FIRMS</th>\n      <th>FIRMDEATH_ESTABS</th>\n      <th>FIRMDEATH_EMP</th>\n    </tr>\n  </thead>\n  <tbody>\n    <tr>\n      <th>43</th>\n      <td>0100000US</td>\n      <td>United States</td>\n      <td>11</td>\n      <td>Agriculture, forestry, fishing and hunting</td>\n      <td>1978</td>\n      <td>23763</td>\n      <td>24429</td>\n      <td>200156</td>\n      <td>192326</td>\n      <td>4717</td>\n      <td>...</td>\n      <td>18829</td>\n      <td>27500</td>\n      <td>9.79</td>\n      <td>24.089</td>\n      <td>15439</td>\n      <td>8.028</td>\n      <td>48.178</td>\n      <td>2876</td>\n      <td>2905</td>\n      <td>12497</td>\n    </tr>\n    <tr>\n      <th>44</th>\n      <td>0100000US</td>\n      <td>United States</td>\n      <td>11</td>\n      <td>Agriculture, forestry, fishing and hunting</td>\n      <td>1979</td>\n      <td>21765</td>\n      <td>22373</td>\n      <td>192288</td>\n      <td>191325</td>\n      <td>4178</td>\n      <td>...</td>\n      <td>22142</td>\n      <td>30446</td>\n      <td>11.573</td>\n      <td>27.486</td>\n      <td>1716</td>\n      <td>0.897</td>\n      <td>54.972</td>\n      <td>3022</td>\n      <td>3068</td>\n      <td>14659</td>\n    </tr>\n    <tr>\n      <th>45</th>\n      <td>0100000US</td>\n      <td>United States</td>\n      <td>11</td>\n      <td>Agriculture, forestry, fishing and hunting</td>\n      <td>1980</td>\n      <td>21882</td>\n      <td>22500</td>\n      <td>193997</td>\n      <td>193979</td>\n      <td>3827</td>\n      <td>...</td>\n      <td>16453</td>\n      <td>31944</td>\n      <td>8.482</td>\n      <td>24.95</td>\n      <td>-108</td>\n      <td>-0.056</td>\n      <td>49.788</td>\n      <td>2780</td>\n      <td>2780</td>\n      <td>11264</td>\n    </tr>\n    <tr>\n      <th>46</th>\n      <td>0100000US</td>\n      <td>United States</td>\n      <td>11</td>\n      <td>Agriculture, forestry, fishing and hunting</td>\n      <td>1981</td>\n      <td>21862</td>\n      <td>22468</td>\n      <td>189977</td>\n      <td>193065</td>\n      <td>3514</td>\n      <td>...</td>\n      <td>20576</td>\n      <td>31625</td>\n      <td>10.658</td>\n      <td>27.038</td>\n      <td>-6316</td>\n      <td>-3.271</td>\n      <td>47.533</td>\n      <td>2696</td>\n      <td>2699</td>\n      <td>11719</td>\n    </tr>\n    <tr>\n      <th>47</th>\n      <td>0100000US</td>\n      <td>United States</td>\n      <td>11</td>\n      <td>Agriculture, forestry, fishing and hunting</td>\n      <td>1982</td>\n      <td>19040</td>\n      <td>19695</td>\n      <td>173515</td>\n      <td>178279</td>\n      <td>2775</td>\n      <td>...</td>\n      <td>20541</td>\n      <td>31150</td>\n      <td>11.522</td>\n      <td>28.995</td>\n      <td>-9420</td>\n      <td>-5.284</td>\n      <td>47.421</td>\n      <td>3176</td>\n      <td>3180</td>\n      <td>14178</td>\n    </tr>\n    <tr>\n      <th>...</th>\n      <td>...</td>\n      <td>...</td>\n      <td>...</td>\n      <td>...</td>\n      <td>...</td>\n      <td>...</td>\n      <td>...</td>\n      <td>...</td>\n      <td>...</td>\n      <td>...</td>\n      <td>...</td>\n      <td>...</td>\n      <td>...</td>\n      <td>...</td>\n      <td>...</td>\n      <td>...</td>\n      <td>...</td>\n      <td>...</td>\n      <td>...</td>\n      <td>...</td>\n      <td>...</td>\n    </tr>\n    <tr>\n      <th>836</th>\n      <td>0100000US</td>\n      <td>United States</td>\n      <td>81</td>\n      <td>Other services (except public administration)</td>\n      <td>2015</td>\n      <td>627870</td>\n      <td>692521</td>\n      <td>5402143</td>\n      <td>5367556</td>\n      <td>54337</td>\n      <td>...</td>\n      <td>190691</td>\n      <td>389703</td>\n      <td>3.553</td>\n      <td>10.813</td>\n      <td>68593</td>\n      <td>1.278</td>\n      <td>21.626</td>\n      <td>34254</td>\n      <td>34772</td>\n      <td>117491</td>\n    </tr>\n    <tr>\n      <th>837</th>\n      <td>0100000US</td>\n      <td>United States</td>\n      <td>81</td>\n      <td>Other services (except public administration)</td>\n      <td>2016</td>\n      <td>635866</td>\n      <td>701530</td>\n      <td>5495043</td>\n      <td>5443433</td>\n      <td>56964</td>\n      <td>...</td>\n      <td>183389</td>\n      <td>390994</td>\n      <td>3.369</td>\n      <td>10.552</td>\n      <td>102848</td>\n      <td>1.889</td>\n      <td>21.104</td>\n      <td>35133</td>\n      <td>35590</td>\n      <td>125535</td>\n    </tr>\n    <tr>\n      <th>838</th>\n      <td>0100000US</td>\n      <td>United States</td>\n      <td>81</td>\n      <td>Other services (except public administration)</td>\n      <td>2017</td>\n      <td>639820</td>\n      <td>705522</td>\n      <td>5499089</td>\n      <td>5473326</td>\n      <td>56065</td>\n      <td>...</td>\n      <td>199943</td>\n      <td>435503</td>\n      <td>3.653</td>\n      <td>11.61</td>\n      <td>53589</td>\n      <td>0.979</td>\n      <td>23.22</td>\n      <td>37298</td>\n      <td>37944</td>\n      <td>138168</td>\n    </tr>\n    <tr>\n      <th>839</th>\n      <td>0100000US</td>\n      <td>United States</td>\n      <td>81</td>\n      <td>Other services (except public administration)</td>\n      <td>2018</td>\n      <td>643774</td>\n      <td>708344</td>\n      <td>5590509</td>\n      <td>5547912</td>\n      <td>54528</td>\n      <td>...</td>\n      <td>192597</td>\n      <td>420088</td>\n      <td>3.472</td>\n      <td>11.044</td>\n      <td>86437</td>\n      <td>1.558</td>\n      <td>22.087</td>\n      <td>38866</td>\n      <td>39746</td>\n      <td>142311</td>\n    </tr>\n    <tr>\n      <th>840</th>\n      <td>0100000US</td>\n      <td>United States</td>\n      <td>81</td>\n      <td>Other services (except public administration)</td>\n      <td>2019</td>\n      <td>645831</td>\n      <td>710628</td>\n      <td>5615669</td>\n      <td>5600892</td>\n      <td>54205</td>\n      <td>...</td>\n      <td>191207</td>\n      <td>413919</td>\n      <td>3.414</td>\n      <td>10.804</td>\n      <td>28782</td>\n      <td>0.514</td>\n      <td>21.608</td>\n      <td>43430</td>\n      <td>44098</td>\n      <td>153253</td>\n    </tr>\n  </tbody>\n</table>\n<p>798 rows × 29 columns</p>\n</div>"
     },
     "execution_count": 14,
     "metadata": {},
     "output_type": "execute_result"
    }
   ],
   "source": [
    "DF_NAICS"
   ],
   "metadata": {
    "collapsed": false,
    "pycharm": {
     "name": "#%%\n"
    }
   }
  },
  {
   "cell_type": "code",
   "execution_count": 15,
   "outputs": [],
   "source": [
    "DF_NAICS.drop(DF_NAICS[(DF_NAICS.NAICS == '31-33') | (DF_NAICS.NAICS == '44-45') | (DF_NAICS.NAICS == '48-49')].index, inplace=True)"
   ],
   "metadata": {
    "collapsed": false,
    "pycharm": {
     "name": "#%%\n"
    }
   }
  },
  {
   "cell_type": "code",
   "execution_count": 16,
   "outputs": [],
   "source": [
    "DF_NAICS = DF_NAICS.append([NAICS_BDS[NAICS_BDS[\"NAICS\"] == '31-33']]*3, ignore_index=True)\n",
    "DF_NAICS = DF_NAICS.append([NAICS_BDS[NAICS_BDS[\"NAICS\"] == '44-45']]*2, ignore_index=True)\n",
    "DF_NAICS = DF_NAICS.append([NAICS_BDS[NAICS_BDS[\"NAICS\"] == '48-49']]*2, ignore_index=True)"
   ],
   "metadata": {
    "collapsed": false,
    "pycharm": {
     "name": "#%%\n"
    }
   }
  },
  {
   "cell_type": "code",
   "execution_count": 17,
   "outputs": [
    {
     "data": {
      "text/plain": "        GEO_ID           NAME  NAICS  \\\n0    0100000US  United States     11   \n1    0100000US  United States     11   \n2    0100000US  United States     11   \n3    0100000US  United States     11   \n4    0100000US  United States     11   \n..         ...            ...    ...   \n961  0100000US  United States  48-49   \n962  0100000US  United States  48-49   \n963  0100000US  United States  48-49   \n964  0100000US  United States  48-49   \n965  0100000US  United States  48-49   \n\n                                    NAICS_LABEL  YEAR    FIRM   ESTAB  \\\n0    Agriculture, forestry, fishing and hunting  1978   23763   24429   \n1    Agriculture, forestry, fishing and hunting  1979   21765   22373   \n2    Agriculture, forestry, fishing and hunting  1980   21882   22500   \n3    Agriculture, forestry, fishing and hunting  1981   21862   22468   \n4    Agriculture, forestry, fishing and hunting  1982   19040   19695   \n..                                          ...   ...     ...     ...   \n961              Transportation and warehousing  2015  153822  202631   \n962              Transportation and warehousing  2016  156798  207273   \n963              Transportation and warehousing  2017  157752  208815   \n964              Transportation and warehousing  2018  162121  213126   \n965              Transportation and warehousing  2019  167380  219301   \n\n         EMP    DENOM ESTABS_ENTRY  ... JOB_DESTRUCTION_DEATHS  \\\n0     200156   192326         4717  ...                  18829   \n1     192288   191325         4178  ...                  22142   \n2     193997   193979         3827  ...                  16453   \n3     189977   193065         3514  ...                  20576   \n4     173515   178279         2775  ...                  20541   \n..       ...      ...          ...  ...                    ...   \n961  4591409  4499301        27612  ...                 171575   \n962  4717118  4655107        26860  ...                 185955   \n963  4853859  4781787        25053  ...                 165899   \n964  5018707  4936647        26681  ...                 151173   \n965  5403829  5212963        28479  ...                 130910   \n\n    JOB_DESTRUCTION_CONTINUERS JOB_DESTRUCTION_RATE_DEATHS  \\\n0                        27500                        9.79   \n1                        30446                      11.573   \n2                        31944                       8.482   \n3                        31625                      10.658   \n4                        31150                      11.522   \n..                         ...                         ...   \n961                     293097                       3.813   \n962                     301012                       3.995   \n963                     336049                       3.469   \n964                     323218                       3.062   \n965                     281802                       2.511   \n\n    JOB_DESTRUCTION_RATE NET_JOB_CREATION NET_JOB_CREATION_RATE  \\\n0                 24.089            15439                 8.028   \n1                 27.486             1716                 0.897   \n2                  24.95             -108                -0.056   \n3                 27.038            -6316                -3.271   \n4                 28.995            -9420                -5.284   \n..                   ...              ...                   ...   \n961               10.328           184677                 4.105   \n962               10.461           122484                 2.631   \n963               10.497           148348                 3.102   \n964                 9.61           164146                 3.325   \n965                7.917           372049                 7.137   \n\n    REALLOCATION_RATE FIRMDEATH_FIRMS FIRMDEATH_ESTABS FIRMDEATH_EMP  \n0              48.178            2876             2905         12497  \n1              54.972            3022             3068         14659  \n2              49.788            2780             2780         11264  \n3              47.533            2696             2699         11719  \n4              47.421            3176             3180         14178  \n..                ...             ...              ...           ...  \n961            20.655           13968            14152         66039  \n962            20.922           15547            15803        107251  \n963            20.994           16484            16750         77042  \n964            19.219           16025            16271         80700  \n965            15.834           18213            18495         88434  \n\n[966 rows x 29 columns]",
      "text/html": "<div>\n<style scoped>\n    .dataframe tbody tr th:only-of-type {\n        vertical-align: middle;\n    }\n\n    .dataframe tbody tr th {\n        vertical-align: top;\n    }\n\n    .dataframe thead th {\n        text-align: right;\n    }\n</style>\n<table border=\"1\" class=\"dataframe\">\n  <thead>\n    <tr style=\"text-align: right;\">\n      <th></th>\n      <th>GEO_ID</th>\n      <th>NAME</th>\n      <th>NAICS</th>\n      <th>NAICS_LABEL</th>\n      <th>YEAR</th>\n      <th>FIRM</th>\n      <th>ESTAB</th>\n      <th>EMP</th>\n      <th>DENOM</th>\n      <th>ESTABS_ENTRY</th>\n      <th>...</th>\n      <th>JOB_DESTRUCTION_DEATHS</th>\n      <th>JOB_DESTRUCTION_CONTINUERS</th>\n      <th>JOB_DESTRUCTION_RATE_DEATHS</th>\n      <th>JOB_DESTRUCTION_RATE</th>\n      <th>NET_JOB_CREATION</th>\n      <th>NET_JOB_CREATION_RATE</th>\n      <th>REALLOCATION_RATE</th>\n      <th>FIRMDEATH_FIRMS</th>\n      <th>FIRMDEATH_ESTABS</th>\n      <th>FIRMDEATH_EMP</th>\n    </tr>\n  </thead>\n  <tbody>\n    <tr>\n      <th>0</th>\n      <td>0100000US</td>\n      <td>United States</td>\n      <td>11</td>\n      <td>Agriculture, forestry, fishing and hunting</td>\n      <td>1978</td>\n      <td>23763</td>\n      <td>24429</td>\n      <td>200156</td>\n      <td>192326</td>\n      <td>4717</td>\n      <td>...</td>\n      <td>18829</td>\n      <td>27500</td>\n      <td>9.79</td>\n      <td>24.089</td>\n      <td>15439</td>\n      <td>8.028</td>\n      <td>48.178</td>\n      <td>2876</td>\n      <td>2905</td>\n      <td>12497</td>\n    </tr>\n    <tr>\n      <th>1</th>\n      <td>0100000US</td>\n      <td>United States</td>\n      <td>11</td>\n      <td>Agriculture, forestry, fishing and hunting</td>\n      <td>1979</td>\n      <td>21765</td>\n      <td>22373</td>\n      <td>192288</td>\n      <td>191325</td>\n      <td>4178</td>\n      <td>...</td>\n      <td>22142</td>\n      <td>30446</td>\n      <td>11.573</td>\n      <td>27.486</td>\n      <td>1716</td>\n      <td>0.897</td>\n      <td>54.972</td>\n      <td>3022</td>\n      <td>3068</td>\n      <td>14659</td>\n    </tr>\n    <tr>\n      <th>2</th>\n      <td>0100000US</td>\n      <td>United States</td>\n      <td>11</td>\n      <td>Agriculture, forestry, fishing and hunting</td>\n      <td>1980</td>\n      <td>21882</td>\n      <td>22500</td>\n      <td>193997</td>\n      <td>193979</td>\n      <td>3827</td>\n      <td>...</td>\n      <td>16453</td>\n      <td>31944</td>\n      <td>8.482</td>\n      <td>24.95</td>\n      <td>-108</td>\n      <td>-0.056</td>\n      <td>49.788</td>\n      <td>2780</td>\n      <td>2780</td>\n      <td>11264</td>\n    </tr>\n    <tr>\n      <th>3</th>\n      <td>0100000US</td>\n      <td>United States</td>\n      <td>11</td>\n      <td>Agriculture, forestry, fishing and hunting</td>\n      <td>1981</td>\n      <td>21862</td>\n      <td>22468</td>\n      <td>189977</td>\n      <td>193065</td>\n      <td>3514</td>\n      <td>...</td>\n      <td>20576</td>\n      <td>31625</td>\n      <td>10.658</td>\n      <td>27.038</td>\n      <td>-6316</td>\n      <td>-3.271</td>\n      <td>47.533</td>\n      <td>2696</td>\n      <td>2699</td>\n      <td>11719</td>\n    </tr>\n    <tr>\n      <th>4</th>\n      <td>0100000US</td>\n      <td>United States</td>\n      <td>11</td>\n      <td>Agriculture, forestry, fishing and hunting</td>\n      <td>1982</td>\n      <td>19040</td>\n      <td>19695</td>\n      <td>173515</td>\n      <td>178279</td>\n      <td>2775</td>\n      <td>...</td>\n      <td>20541</td>\n      <td>31150</td>\n      <td>11.522</td>\n      <td>28.995</td>\n      <td>-9420</td>\n      <td>-5.284</td>\n      <td>47.421</td>\n      <td>3176</td>\n      <td>3180</td>\n      <td>14178</td>\n    </tr>\n    <tr>\n      <th>...</th>\n      <td>...</td>\n      <td>...</td>\n      <td>...</td>\n      <td>...</td>\n      <td>...</td>\n      <td>...</td>\n      <td>...</td>\n      <td>...</td>\n      <td>...</td>\n      <td>...</td>\n      <td>...</td>\n      <td>...</td>\n      <td>...</td>\n      <td>...</td>\n      <td>...</td>\n      <td>...</td>\n      <td>...</td>\n      <td>...</td>\n      <td>...</td>\n      <td>...</td>\n      <td>...</td>\n    </tr>\n    <tr>\n      <th>961</th>\n      <td>0100000US</td>\n      <td>United States</td>\n      <td>48-49</td>\n      <td>Transportation and warehousing</td>\n      <td>2015</td>\n      <td>153822</td>\n      <td>202631</td>\n      <td>4591409</td>\n      <td>4499301</td>\n      <td>27612</td>\n      <td>...</td>\n      <td>171575</td>\n      <td>293097</td>\n      <td>3.813</td>\n      <td>10.328</td>\n      <td>184677</td>\n      <td>4.105</td>\n      <td>20.655</td>\n      <td>13968</td>\n      <td>14152</td>\n      <td>66039</td>\n    </tr>\n    <tr>\n      <th>962</th>\n      <td>0100000US</td>\n      <td>United States</td>\n      <td>48-49</td>\n      <td>Transportation and warehousing</td>\n      <td>2016</td>\n      <td>156798</td>\n      <td>207273</td>\n      <td>4717118</td>\n      <td>4655107</td>\n      <td>26860</td>\n      <td>...</td>\n      <td>185955</td>\n      <td>301012</td>\n      <td>3.995</td>\n      <td>10.461</td>\n      <td>122484</td>\n      <td>2.631</td>\n      <td>20.922</td>\n      <td>15547</td>\n      <td>15803</td>\n      <td>107251</td>\n    </tr>\n    <tr>\n      <th>963</th>\n      <td>0100000US</td>\n      <td>United States</td>\n      <td>48-49</td>\n      <td>Transportation and warehousing</td>\n      <td>2017</td>\n      <td>157752</td>\n      <td>208815</td>\n      <td>4853859</td>\n      <td>4781787</td>\n      <td>25053</td>\n      <td>...</td>\n      <td>165899</td>\n      <td>336049</td>\n      <td>3.469</td>\n      <td>10.497</td>\n      <td>148348</td>\n      <td>3.102</td>\n      <td>20.994</td>\n      <td>16484</td>\n      <td>16750</td>\n      <td>77042</td>\n    </tr>\n    <tr>\n      <th>964</th>\n      <td>0100000US</td>\n      <td>United States</td>\n      <td>48-49</td>\n      <td>Transportation and warehousing</td>\n      <td>2018</td>\n      <td>162121</td>\n      <td>213126</td>\n      <td>5018707</td>\n      <td>4936647</td>\n      <td>26681</td>\n      <td>...</td>\n      <td>151173</td>\n      <td>323218</td>\n      <td>3.062</td>\n      <td>9.61</td>\n      <td>164146</td>\n      <td>3.325</td>\n      <td>19.219</td>\n      <td>16025</td>\n      <td>16271</td>\n      <td>80700</td>\n    </tr>\n    <tr>\n      <th>965</th>\n      <td>0100000US</td>\n      <td>United States</td>\n      <td>48-49</td>\n      <td>Transportation and warehousing</td>\n      <td>2019</td>\n      <td>167380</td>\n      <td>219301</td>\n      <td>5403829</td>\n      <td>5212963</td>\n      <td>28479</td>\n      <td>...</td>\n      <td>130910</td>\n      <td>281802</td>\n      <td>2.511</td>\n      <td>7.917</td>\n      <td>372049</td>\n      <td>7.137</td>\n      <td>15.834</td>\n      <td>18213</td>\n      <td>18495</td>\n      <td>88434</td>\n    </tr>\n  </tbody>\n</table>\n<p>966 rows × 29 columns</p>\n</div>"
     },
     "execution_count": 17,
     "metadata": {},
     "output_type": "execute_result"
    }
   ],
   "source": [
    "DF_NAICS"
   ],
   "metadata": {
    "collapsed": false,
    "pycharm": {
     "name": "#%%\n"
    }
   }
  },
  {
   "cell_type": "code",
   "execution_count": 18,
   "outputs": [],
   "source": [
    "# DF_NAICS[DF_NAICS[\"NAICS\"] == '31-33']\n",
    "temp_array = [31]*42 + [32]*42 + [33]*42\n",
    "DF_NAICS = DF_NAICS.replace({'NAICS' : { '31-33' : temp_array}})\n",
    "temp_array = [44]*42 + [45]*42\n",
    "DF_NAICS = DF_NAICS.replace({'NAICS' : { '44-45' : temp_array}})\n",
    "temp_array = [48]*42 + [49]*42\n",
    "DF_NAICS = DF_NAICS.replace({'NAICS' : { '48-49' : temp_array}})"
   ],
   "metadata": {
    "collapsed": false,
    "pycharm": {
     "name": "#%%\n"
    }
   }
  },
  {
   "cell_type": "code",
   "execution_count": 19,
   "outputs": [],
   "source": [
    "Keep_Columns_DF_NAICS = ['NAICS', 'YEAR', 'FIRM', 'DENOM', 'ESTABS_ENTRY', 'ESTABS_EXIT', 'JOB_CREATION', 'JOB_DESTRUCTION', 'REALLOCATION_RATE', 'FIRMDEATH_ESTABS', 'FIRMDEATH_EMP']\n",
    "DF_NAICS = DF_NAICS[Keep_Columns_DF_NAICS]"
   ],
   "metadata": {
    "collapsed": false,
    "pycharm": {
     "name": "#%%\n"
    }
   }
  },
  {
   "cell_type": "code",
   "execution_count": 20,
   "outputs": [],
   "source": [
    "To_int_Columns_DF_NAICS = ['NAICS', 'YEAR', 'FIRM', 'DENOM', 'ESTABS_ENTRY', 'ESTABS_EXIT', 'JOB_CREATION', 'JOB_DESTRUCTION', 'FIRMDEATH_ESTABS', 'FIRMDEATH_EMP']\n",
    "for column_name in To_int_Columns_DF_NAICS:\n",
    "    DF_NAICS[column_name] = [int(x) for x in DF_NAICS[column_name]]\n",
    "\n",
    "DF_NAICS['REALLOCATION_RATE'] = [float(x) for x in DF_NAICS['REALLOCATION_RATE']]"
   ],
   "metadata": {
    "collapsed": false,
    "pycharm": {
     "name": "#%%\n"
    }
   }
  },
  {
   "cell_type": "code",
   "execution_count": 21,
   "outputs": [
    {
     "name": "stdout",
     "output_type": "stream",
     "text": [
      "(696342, 7)\n",
      "(966, 11)\n"
     ]
    }
   ],
   "source": [
    "# Merging Dataset based on NAICS category and dates: Year from DF_NAICS and ApprovalFY from DF_SBA_Loan\n",
    "DF_SBA_Loan = DF_SBA_Loan.rename(columns={\"ApprovalFY\": \"YEAR\"})\n",
    "print(DF_SBA_Loan.shape)\n",
    "print(DF_NAICS.shape)"
   ],
   "metadata": {
    "collapsed": false,
    "pycharm": {
     "name": "#%%\n"
    }
   }
  },
  {
   "cell_type": "code",
   "execution_count": 88,
   "outputs": [
    {
     "data": {
      "text/plain": "       State  NAICS  YEAR  NewExist MIS_Status  SBA_Appv    GrAppv      FIRM  \\\n0         IN     45  1997       2.0      P I F   48000.0   60000.0  670945.0   \n1         IN     72  1997       2.0      P I F   32000.0   40000.0  357519.0   \n2         IN     62  1997       1.0      P I F  215250.0  287000.0  481657.0   \n3         CT     33  1997       1.0      P I F  387750.0  517000.0  292577.0   \n4         FL     81  1997       2.0      P I F   36000.0   45000.0  599136.0   \n...      ...    ...   ...       ...        ...       ...       ...       ...   \n696337    MD     33  1997       1.0      P I F   25000.0   50000.0  292577.0   \n696338    CA     31  1997       1.0      P I F  150000.0  200000.0  292577.0   \n696339    OH     45  1997       1.0      P I F   56000.0   70000.0  670945.0   \n696340    OH     45  1997       1.0      P I F   42500.0   85000.0  670945.0   \n696341    CA     33  1997       1.0      P I F  225000.0  300000.0  292577.0   \n\n             DENOM  ESTABS_ENTRY  ESTABS_EXIT  JOB_CREATION  JOB_DESTRUCTION  \\\n0       13763872.0      110091.0     115364.0     2361731.0        2038489.0   \n1        9152783.0       69257.0      63282.0     1894562.0        1728105.0   \n2       12684590.0       60737.0      50485.0     1943403.0        1632957.0   \n3       16284152.0       28296.0      29516.0     1835979.0        1672272.0   \n4        4864066.0       62099.0      58638.0      800963.0         694752.0   \n...            ...           ...          ...           ...              ...   \n696337  16284152.0       28296.0      29516.0     1835979.0        1672272.0   \n696338  16284152.0       28296.0      29516.0     1835979.0        1672272.0   \n696339  13763872.0      110091.0     115364.0     2361731.0        2038489.0   \n696340  13763872.0      110091.0     115364.0     2361731.0        2038489.0   \n696341  16284152.0       28296.0      29516.0     1835979.0        1672272.0   \n\n        REALLOCATION_RATE  FIRMDEATH_ESTABS  FIRMDEATH_EMP  \n0                  29.621           73384.0       349798.0  \n1                  37.761           45776.0       441164.0  \n2                  25.747           35763.0       328510.0  \n3                  20.539           22142.0       255029.0  \n4                  28.567           42290.0       156087.0  \n...                   ...               ...            ...  \n696337             20.539           22142.0       255029.0  \n696338             20.539           22142.0       255029.0  \n696339             29.621           73384.0       349798.0  \n696340             29.621           73384.0       349798.0  \n696341             20.539           22142.0       255029.0  \n\n[696113 rows x 16 columns]",
      "text/html": "<div>\n<style scoped>\n    .dataframe tbody tr th:only-of-type {\n        vertical-align: middle;\n    }\n\n    .dataframe tbody tr th {\n        vertical-align: top;\n    }\n\n    .dataframe thead th {\n        text-align: right;\n    }\n</style>\n<table border=\"1\" class=\"dataframe\">\n  <thead>\n    <tr style=\"text-align: right;\">\n      <th></th>\n      <th>State</th>\n      <th>NAICS</th>\n      <th>YEAR</th>\n      <th>NewExist</th>\n      <th>MIS_Status</th>\n      <th>SBA_Appv</th>\n      <th>GrAppv</th>\n      <th>FIRM</th>\n      <th>DENOM</th>\n      <th>ESTABS_ENTRY</th>\n      <th>ESTABS_EXIT</th>\n      <th>JOB_CREATION</th>\n      <th>JOB_DESTRUCTION</th>\n      <th>REALLOCATION_RATE</th>\n      <th>FIRMDEATH_ESTABS</th>\n      <th>FIRMDEATH_EMP</th>\n    </tr>\n  </thead>\n  <tbody>\n    <tr>\n      <th>0</th>\n      <td>IN</td>\n      <td>45</td>\n      <td>1997</td>\n      <td>2.0</td>\n      <td>P I F</td>\n      <td>48000.0</td>\n      <td>60000.0</td>\n      <td>670945.0</td>\n      <td>13763872.0</td>\n      <td>110091.0</td>\n      <td>115364.0</td>\n      <td>2361731.0</td>\n      <td>2038489.0</td>\n      <td>29.621</td>\n      <td>73384.0</td>\n      <td>349798.0</td>\n    </tr>\n    <tr>\n      <th>1</th>\n      <td>IN</td>\n      <td>72</td>\n      <td>1997</td>\n      <td>2.0</td>\n      <td>P I F</td>\n      <td>32000.0</td>\n      <td>40000.0</td>\n      <td>357519.0</td>\n      <td>9152783.0</td>\n      <td>69257.0</td>\n      <td>63282.0</td>\n      <td>1894562.0</td>\n      <td>1728105.0</td>\n      <td>37.761</td>\n      <td>45776.0</td>\n      <td>441164.0</td>\n    </tr>\n    <tr>\n      <th>2</th>\n      <td>IN</td>\n      <td>62</td>\n      <td>1997</td>\n      <td>1.0</td>\n      <td>P I F</td>\n      <td>215250.0</td>\n      <td>287000.0</td>\n      <td>481657.0</td>\n      <td>12684590.0</td>\n      <td>60737.0</td>\n      <td>50485.0</td>\n      <td>1943403.0</td>\n      <td>1632957.0</td>\n      <td>25.747</td>\n      <td>35763.0</td>\n      <td>328510.0</td>\n    </tr>\n    <tr>\n      <th>3</th>\n      <td>CT</td>\n      <td>33</td>\n      <td>1997</td>\n      <td>1.0</td>\n      <td>P I F</td>\n      <td>387750.0</td>\n      <td>517000.0</td>\n      <td>292577.0</td>\n      <td>16284152.0</td>\n      <td>28296.0</td>\n      <td>29516.0</td>\n      <td>1835979.0</td>\n      <td>1672272.0</td>\n      <td>20.539</td>\n      <td>22142.0</td>\n      <td>255029.0</td>\n    </tr>\n    <tr>\n      <th>4</th>\n      <td>FL</td>\n      <td>81</td>\n      <td>1997</td>\n      <td>2.0</td>\n      <td>P I F</td>\n      <td>36000.0</td>\n      <td>45000.0</td>\n      <td>599136.0</td>\n      <td>4864066.0</td>\n      <td>62099.0</td>\n      <td>58638.0</td>\n      <td>800963.0</td>\n      <td>694752.0</td>\n      <td>28.567</td>\n      <td>42290.0</td>\n      <td>156087.0</td>\n    </tr>\n    <tr>\n      <th>...</th>\n      <td>...</td>\n      <td>...</td>\n      <td>...</td>\n      <td>...</td>\n      <td>...</td>\n      <td>...</td>\n      <td>...</td>\n      <td>...</td>\n      <td>...</td>\n      <td>...</td>\n      <td>...</td>\n      <td>...</td>\n      <td>...</td>\n      <td>...</td>\n      <td>...</td>\n      <td>...</td>\n    </tr>\n    <tr>\n      <th>696337</th>\n      <td>MD</td>\n      <td>33</td>\n      <td>1997</td>\n      <td>1.0</td>\n      <td>P I F</td>\n      <td>25000.0</td>\n      <td>50000.0</td>\n      <td>292577.0</td>\n      <td>16284152.0</td>\n      <td>28296.0</td>\n      <td>29516.0</td>\n      <td>1835979.0</td>\n      <td>1672272.0</td>\n      <td>20.539</td>\n      <td>22142.0</td>\n      <td>255029.0</td>\n    </tr>\n    <tr>\n      <th>696338</th>\n      <td>CA</td>\n      <td>31</td>\n      <td>1997</td>\n      <td>1.0</td>\n      <td>P I F</td>\n      <td>150000.0</td>\n      <td>200000.0</td>\n      <td>292577.0</td>\n      <td>16284152.0</td>\n      <td>28296.0</td>\n      <td>29516.0</td>\n      <td>1835979.0</td>\n      <td>1672272.0</td>\n      <td>20.539</td>\n      <td>22142.0</td>\n      <td>255029.0</td>\n    </tr>\n    <tr>\n      <th>696339</th>\n      <td>OH</td>\n      <td>45</td>\n      <td>1997</td>\n      <td>1.0</td>\n      <td>P I F</td>\n      <td>56000.0</td>\n      <td>70000.0</td>\n      <td>670945.0</td>\n      <td>13763872.0</td>\n      <td>110091.0</td>\n      <td>115364.0</td>\n      <td>2361731.0</td>\n      <td>2038489.0</td>\n      <td>29.621</td>\n      <td>73384.0</td>\n      <td>349798.0</td>\n    </tr>\n    <tr>\n      <th>696340</th>\n      <td>OH</td>\n      <td>45</td>\n      <td>1997</td>\n      <td>1.0</td>\n      <td>P I F</td>\n      <td>42500.0</td>\n      <td>85000.0</td>\n      <td>670945.0</td>\n      <td>13763872.0</td>\n      <td>110091.0</td>\n      <td>115364.0</td>\n      <td>2361731.0</td>\n      <td>2038489.0</td>\n      <td>29.621</td>\n      <td>73384.0</td>\n      <td>349798.0</td>\n    </tr>\n    <tr>\n      <th>696341</th>\n      <td>CA</td>\n      <td>33</td>\n      <td>1997</td>\n      <td>1.0</td>\n      <td>P I F</td>\n      <td>225000.0</td>\n      <td>300000.0</td>\n      <td>292577.0</td>\n      <td>16284152.0</td>\n      <td>28296.0</td>\n      <td>29516.0</td>\n      <td>1835979.0</td>\n      <td>1672272.0</td>\n      <td>20.539</td>\n      <td>22142.0</td>\n      <td>255029.0</td>\n    </tr>\n  </tbody>\n</table>\n<p>696113 rows × 16 columns</p>\n</div>"
     },
     "execution_count": 88,
     "metadata": {},
     "output_type": "execute_result"
    }
   ],
   "source": [
    "df_merged_NAICS_SBALoan = pd.merge(DF_SBA_Loan, DF_NAICS,  how='left', left_on=['NAICS','YEAR'], right_on = ['NAICS','YEAR'])\n",
    "df_merged_NAICS_SBALoan = df_merged_NAICS_SBALoan.dropna()\n",
    "df_merged_NAICS_SBALoan"
   ],
   "metadata": {
    "collapsed": false,
    "pycharm": {
     "name": "#%%\n"
    }
   }
  },
  {
   "cell_type": "code",
   "execution_count": 89,
   "outputs": [],
   "source": [
    "# correlation = df_merged_NAICS_SBALoan.corr()"
   ],
   "metadata": {
    "collapsed": false,
    "pycharm": {
     "name": "#%%\n"
    }
   }
  },
  {
   "cell_type": "code",
   "execution_count": 90,
   "outputs": [],
   "source": [
    "# plt.figure(figsize=(10,10))\n",
    "# plt.title('Correlation Heatmap of NAICS_SBA_Dataset')\n",
    "# ax = sns.heatmap(correlation, square=True, annot=True, fmt='.2f', linecolor='white')\n",
    "# ax.set_xticklabels(ax.get_xticklabels(), rotation=90)\n",
    "# ax.set_yticklabels(ax.get_yticklabels(), rotation=30)\n",
    "# plt.show()"
   ],
   "metadata": {
    "collapsed": false,
    "pycharm": {
     "name": "#%%\n"
    }
   }
  },
  {
   "cell_type": "code",
   "execution_count": 91,
   "outputs": [],
   "source": [
    "# Splitting the data into Train, Val and Test:\n",
    "df_merged_NAICS_SBALoan_train = df_merged_NAICS_SBALoan[df_merged_NAICS_SBALoan['YEAR']<=2007]\n",
    "df_merged_NAICS_SBALoan_val = df_merged_NAICS_SBALoan[(df_merged_NAICS_SBALoan['YEAR'] == 2008) | (df_merged_NAICS_SBALoan['YEAR'] == 2009)]\n",
    "df_merged_NAICS_SBALoan_test = df_merged_NAICS_SBALoan[df_merged_NAICS_SBALoan['YEAR'] >= 2010]"
   ],
   "metadata": {
    "collapsed": false,
    "pycharm": {
     "name": "#%%\n"
    }
   }
  },
  {
   "cell_type": "code",
   "execution_count": 92,
   "outputs": [],
   "source": [
    "y_train = df_merged_NAICS_SBALoan_train['SBA_Appv'] / df_merged_NAICS_SBALoan_train['GrAppv']\n",
    "X_train = df_merged_NAICS_SBALoan_train.drop(['SBA_Appv'], axis=1)\n",
    "y_val = df_merged_NAICS_SBALoan_val['SBA_Appv'] / df_merged_NAICS_SBALoan_val['GrAppv']\n",
    "X_val = df_merged_NAICS_SBALoan_val.drop(['SBA_Appv'], axis=1)\n",
    "y_test = df_merged_NAICS_SBALoan_test['SBA_Appv'] / df_merged_NAICS_SBALoan_test['GrAppv']\n",
    "X_test = df_merged_NAICS_SBALoan_test.drop(['SBA_Appv'], axis=1)"
   ],
   "metadata": {
    "collapsed": false,
    "pycharm": {
     "name": "#%%\n"
    }
   }
  },
  {
   "cell_type": "code",
   "execution_count": 93,
   "outputs": [],
   "source": [
    "# # Standardizing the training data and inserting the first column of 1s\n",
    "# from sklearn.preprocessing import StandardScaler\n",
    "# scaler = StandardScaler()\n",
    "# X_train = pd.DataFrame(data=scaler.fit_transform(X_train), columns = X_train.columns, index = X_train.index)\n",
    "# X_train.insert(loc=0, column='col_1s', value=np.ones((len(X_train), 1)))\n",
    "# # Standardizing the validation data by transforming on th scaler fitted on the training scaler and inserting the first column of 1s\n",
    "# X_val = pd.DataFrame(data=scaler.transform(X_val), columns = X_val.columns, index = X_val.index)\n",
    "# X_val.insert(loc=0, column='col_1s', value=np.ones((len(X_val), 1)))\n",
    "# # Standardizing the test data by transforming on th scaler fitted on the training scaler and inserting the first column of 1s\n",
    "# X_test = pd.DataFrame(data=scaler.transform(X_test), columns = X_test.columns, index = X_test.index)\n",
    "# X_test.insert(loc=0, column='col_1s', value=np.ones((len(X_test), 1)))"
   ],
   "metadata": {
    "collapsed": false,
    "pycharm": {
     "name": "#%%\n"
    }
   }
  },
  {
   "cell_type": "code",
   "execution_count": 94,
   "outputs": [],
   "source": [
    "from sklearn.preprocessing import StandardScaler\n",
    "\n",
    "# Define numerical features to use for modelling\n",
    "num_features = ['GrAppv', 'FIRM', 'DENOM', 'ESTABS_ENTRY', 'ESTABS_EXIT', 'JOB_CREATION', 'JOB_DESTRUCTION', 'REALLOCATION_RATE', 'FIRMDEATH_ESTABS', 'FIRMDEATH_EMP']\n",
    "\n",
    "# Define categorical features to use for modelling\n",
    "cat_features = ['State', 'NAICS', 'NewExist', 'MIS_Status']\n",
    "misc_features = ['YEAR']\n",
    "\n",
    "# Fit scaler (basically get the mean and stdev) for the training data\n",
    "scaler = StandardScaler()\n",
    "scaler.fit(X_train[num_features])\n",
    "\n",
    "def features_scale_and_dummies(df):\n",
    "    scaled = df[num_features].copy()\n",
    "\n",
    "    # Convert numeric features to standard units\n",
    "    scaled.iloc[:, :] = scaler.transform(scaled)\n",
    "\n",
    "    # Convert categorical features using dummy encoding\n",
    "    categoricals = [pd.get_dummies(df[s], prefix=s, drop_first=True) for s in cat_features]\n",
    "\n",
    "    misc = df[misc_features]\n",
    "\n",
    "    return pd.concat([scaled] + categoricals + [misc], axis=1)"
   ],
   "metadata": {
    "collapsed": false,
    "pycharm": {
     "name": "#%%\n"
    }
   }
  },
  {
   "cell_type": "code",
   "execution_count": 95,
   "outputs": [],
   "source": [
    "X_train = features_scale_and_dummies(X_train)\n",
    "X_val = features_scale_and_dummies(X_val)\n",
    "X_test = features_scale_and_dummies(X_test)"
   ],
   "metadata": {
    "collapsed": false,
    "pycharm": {
     "name": "#%%\n"
    }
   }
  },
  {
   "cell_type": "code",
   "execution_count": 96,
   "outputs": [
    {
     "name": "stdout",
     "output_type": "stream",
     "text": [
      "(599434, 85)\n",
      "(58648, 85)\n",
      "(38031, 85)\n"
     ]
    }
   ],
   "source": [
    "print(X_train.shape)\n",
    "print(X_val.shape)\n",
    "print(X_test.shape)"
   ],
   "metadata": {
    "collapsed": false,
    "pycharm": {
     "name": "#%%\n"
    }
   }
  },
  {
   "cell_type": "code",
   "execution_count": 98,
   "outputs": [],
   "source": [
    "#Defining RMSE function\n",
    "from sklearn import metrics\n",
    "def rmse(y_pred, y):\n",
    "    return np.sqrt(metrics.mean_squared_error(y_pred, y))"
   ],
   "metadata": {
    "collapsed": false,
    "pycharm": {
     "name": "#%%\n"
    }
   }
  },
  {
   "cell_type": "code",
   "execution_count": 100,
   "outputs": [],
   "source": [
    "# Part:1 - Considering only Entering Entities to train our model\n",
    "# P1_Columns = ['State', 'NAICS', 'YEAR', 'NewExist', 'MIS_Status', 'GrAppv', 'FIRM', 'DENOM', 'ESTABS_ENTRY', 'JOB_CREATION']\n",
    "X_train_1 = X_train.drop(['ESTABS_EXIT', 'JOB_DESTRUCTION', 'REALLOCATION_RATE', 'FIRMDEATH_ESTABS', 'FIRMDEATH_EMP'], axis=1)\n",
    "X_val_1 = X_val.drop(['ESTABS_EXIT', 'JOB_DESTRUCTION', 'REALLOCATION_RATE', 'FIRMDEATH_ESTABS', 'FIRMDEATH_EMP'], axis=1)"
   ],
   "metadata": {
    "collapsed": false,
    "pycharm": {
     "name": "#%%\n"
    }
   }
  },
  {
   "cell_type": "code",
   "execution_count": 102,
   "outputs": [
    {
     "name": "stdout",
     "output_type": "stream",
     "text": [
      "For the linear regression model in part 1:\n",
      " RMSE for training data is:  0.13823452738522354 \n",
      " RMSE for validation data is:  0.18195496893333157\n"
     ]
    }
   ],
   "source": [
    "# Linear Regression - Performing Linear Regression\n",
    "from sklearn.linear_model import LinearRegression\n",
    "model_1 = LinearRegression().fit(X_train_1, y_train)\n",
    "y_train_predicted_1 = model_1.predict(X_train_1)\n",
    "y_val_predicted_1 = model_1.predict(X_val_1)\n",
    "# Linear Regression - RMSE for training and validation data\n",
    "rmse_train_1 = rmse(y_train, y_train_predicted_1)\n",
    "rmse_val_1 = rmse(y_val, y_val_predicted_1)\n",
    "print(\"For the linear regression model in part 1:\\n\", \"RMSE for training data is: \",rmse_train_1,\"\\n\",\"RMSE for validation data is: \",rmse_val_1)"
   ],
   "metadata": {
    "collapsed": false,
    "pycharm": {
     "name": "#%%\n"
    }
   }
  },
  {
   "cell_type": "code",
   "execution_count": 107,
   "outputs": [],
   "source": [
    "# Part:2 - Considering only Exiting Entities to train our model\n",
    "# P2_Columns = ['State', 'NAICS', 'YEAR', 'NewExist', 'MIS_Status', 'GrAppv', 'FIRM', 'DENOM', 'ESTABS_EXIT', 'JOB_DESTRUCTION', 'REALLOCATION_RATE', 'FIRMDEATH_ESTABS', 'FIRMDEATH_EMP']\n",
    "X_train_2 = X_train.drop(['ESTABS_ENTRY', 'JOB_CREATION'], axis=1)\n",
    "X_val_2 = X_val.drop(['ESTABS_ENTRY', 'JOB_CREATION'], axis=1)"
   ],
   "metadata": {
    "collapsed": false,
    "pycharm": {
     "name": "#%%\n"
    }
   }
  },
  {
   "cell_type": "code",
   "execution_count": 108,
   "outputs": [
    {
     "name": "stdout",
     "output_type": "stream",
     "text": [
      "For the linear regression model in part 1:\n",
      " RMSE for training data is:  0.13815035384295604 \n",
      " RMSE for validation data is:  0.1830078414169332\n"
     ]
    }
   ],
   "source": [
    "# Linear Regression - Performing Linear Regression\n",
    "from sklearn.linear_model import LinearRegression\n",
    "model_2 = LinearRegression().fit(X_train_2, y_train)\n",
    "y_train_predicted_2 = model_2.predict(X_train_2)\n",
    "y_val_predicted_2 = model_2.predict(X_val_2)\n",
    "# Linear Regression - RMSE for training and validation data\n",
    "rmse_train_2 = rmse(y_train, y_train_predicted_2)\n",
    "rmse_val_2 = rmse(y_val, y_val_predicted_2)\n",
    "print(\"For the linear regression model in part 1:\\n\", \"RMSE for training data is: \",rmse_train_2,\"\\n\",\"RMSE for validation data is: \",rmse_val_2)"
   ],
   "metadata": {
    "collapsed": false,
    "pycharm": {
     "name": "#%%\n"
    }
   }
  },
  {
   "cell_type": "code",
   "execution_count": null,
   "outputs": [],
   "source": [],
   "metadata": {
    "collapsed": false,
    "pycharm": {
     "name": "#%%\n"
    }
   }
  }
 ],
 "metadata": {
  "kernelspec": {
   "display_name": "Python 3",
   "language": "python",
   "name": "python3"
  },
  "language_info": {
   "codemirror_mode": {
    "name": "ipython",
    "version": 2
   },
   "file_extension": ".py",
   "mimetype": "text/x-python",
   "name": "python",
   "nbconvert_exporter": "python",
   "pygments_lexer": "ipython2",
   "version": "2.7.6"
  }
 },
 "nbformat": 4,
 "nbformat_minor": 0
}