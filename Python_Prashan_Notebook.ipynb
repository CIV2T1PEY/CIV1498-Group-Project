{
 "cells": [
  {
   "cell_type": "code",
   "execution_count": 2,
   "metadata": {
    "collapsed": true
   },
   "outputs": [],
   "source": [
    "# import os\n",
    "# import json\n",
    "import pandas as pd\n",
    "import seaborn as sns\n",
    "# from datetime import datetime\n",
    "import numpy as np\n",
    "import matplotlib.pylab as plt"
   ]
  },
  {
   "cell_type": "code",
   "execution_count": 3,
   "outputs": [],
   "source": [
    "SBA_Loan = pd.read_csv('SBA_Loan_test.csv')"
   ],
   "metadata": {
    "collapsed": false,
    "pycharm": {
     "name": "#%%\n"
    }
   }
  },
  {
   "cell_type": "code",
   "execution_count": 4,
   "outputs": [
    {
     "data": {
      "text/plain": "        LoanNr_ChkDgt                            Name             City State  \\\n0          1000014003                  ABC HOBBYCRAFT       EVANSVILLE    IN   \n1          1000024006     LANDMARK BAR & GRILLE (THE)        NEW PARIS    IN   \n2          1000034009           WHITLOCK DDS, TODD M.      BLOOMINGTON    IN   \n3          1000044001   BIG BUCKS PAWN & JEWELRY, LLC     BROKEN ARROW    OK   \n4          1000054004     ANASTASIA CONFECTIONS, INC.          ORLANDO    FL   \n...               ...                             ...              ...   ...   \n899159     9995573004                    FABRIC FARMS  UPPER ARLINGTON    OH   \n899160     9995603000                    FABRIC FARMS         COLUMBUS    OH   \n899161     9995613003    RADCO MANUFACTURING CO.,INC.      SANTA MARIA    CA   \n899162     9995973006           MARUTAMA HAWAII, INC.         HONOLULU    HI   \n899163     9996003010  PACIFIC TRADEWINDS FAN & LIGHT           KAILUA    HI   \n\n          Zip                            Bank BankState   NAICS ApprovalDate  \\\n0       47711                FIFTH THIRD BANK        OH  451120   1997-02-28   \n1       46526                 1ST SOURCE BANK        IN  722410   1997-02-28   \n2       47401         GRANT COUNTY STATE BANK        IN  621210   1997-02-28   \n3       74012   1ST NATL BK & TR CO OF BROKEN        OK       0   1997-02-28   \n4       32801         FLORIDA BUS. DEVEL CORP        FL       0   1997-02-28   \n...       ...                             ...       ...     ...          ...   \n899159  43221  JPMORGAN CHASE BANK NATL ASSOC        IL  451120   1997-02-27   \n899160  43221  JPMORGAN CHASE BANK NATL ASSOC        IL  451130   1997-02-27   \n899161  93455  RABOBANK, NATIONAL ASSOCIATION        CA  332321   1997-02-27   \n899162  96830                  BANK OF HAWAII        HI       0   1997-02-27   \n899163  96734            CENTRAL PACIFIC BANK        HI       0   1997-02-27   \n\n        ApprovalFY  ...  LowDoc  ChgOffDate  DisbursementDate  \\\n0             1997  ...       Y         NaN         28-Feb-99   \n1             1997  ...       Y         NaN         31-May-97   \n2             1997  ...       N         NaN         31-Dec-97   \n3             1997  ...       Y         NaN         30-Jun-97   \n4             1997  ...       N         NaN         14-May-97   \n...            ...  ...     ...         ...               ...   \n899159        1997  ...       N         NaN         30-Sep-97   \n899160        1997  ...       N         NaN         31-Oct-97   \n899161        1997  ...       N         NaN         30-Sep-97   \n899162        1997  ...       Y    8-Mar-00         31-Mar-97   \n899163        1997  ...       N         NaN         31-May-97   \n\n        DisbursementGross  BalanceGross  MIS_Status  ChgOffPrinGr    GrAppv  \\\n0                 60000.0           0.0       P I F           0.0   60000.0   \n1                 40000.0           0.0       P I F           0.0   40000.0   \n2                287000.0           0.0       P I F           0.0  287000.0   \n3                 35000.0           0.0       P I F           0.0   35000.0   \n4                229000.0           0.0       P I F           0.0  229000.0   \n...                   ...           ...         ...           ...       ...   \n899159            70000.0           0.0       P I F           0.0   70000.0   \n899160            85000.0           0.0       P I F           0.0   85000.0   \n899161           300000.0           0.0       P I F           0.0  300000.0   \n899162            75000.0           0.0      CHGOFF       46383.0   75000.0   \n899163            30000.0           0.0       P I F           0.0   30000.0   \n\n        SBA_Appv                           Industry  \n0        48000.0                       Retail trade  \n1        32000.0    Accommodation and food services  \n2       215250.0  Health care and social assistance  \n3        28000.0                          Undefined  \n4       229000.0                          Undefined  \n...          ...                                ...  \n899159   56000.0                       Retail trade  \n899160   42500.0                       Retail trade  \n899161  225000.0                      Manufacturing  \n899162   60000.0                          Undefined  \n899163   24000.0                          Undefined  \n\n[899164 rows x 28 columns]",
      "text/html": "<div>\n<style scoped>\n    .dataframe tbody tr th:only-of-type {\n        vertical-align: middle;\n    }\n\n    .dataframe tbody tr th {\n        vertical-align: top;\n    }\n\n    .dataframe thead th {\n        text-align: right;\n    }\n</style>\n<table border=\"1\" class=\"dataframe\">\n  <thead>\n    <tr style=\"text-align: right;\">\n      <th></th>\n      <th>LoanNr_ChkDgt</th>\n      <th>Name</th>\n      <th>City</th>\n      <th>State</th>\n      <th>Zip</th>\n      <th>Bank</th>\n      <th>BankState</th>\n      <th>NAICS</th>\n      <th>ApprovalDate</th>\n      <th>ApprovalFY</th>\n      <th>...</th>\n      <th>LowDoc</th>\n      <th>ChgOffDate</th>\n      <th>DisbursementDate</th>\n      <th>DisbursementGross</th>\n      <th>BalanceGross</th>\n      <th>MIS_Status</th>\n      <th>ChgOffPrinGr</th>\n      <th>GrAppv</th>\n      <th>SBA_Appv</th>\n      <th>Industry</th>\n    </tr>\n  </thead>\n  <tbody>\n    <tr>\n      <th>0</th>\n      <td>1000014003</td>\n      <td>ABC HOBBYCRAFT</td>\n      <td>EVANSVILLE</td>\n      <td>IN</td>\n      <td>47711</td>\n      <td>FIFTH THIRD BANK</td>\n      <td>OH</td>\n      <td>451120</td>\n      <td>1997-02-28</td>\n      <td>1997</td>\n      <td>...</td>\n      <td>Y</td>\n      <td>NaN</td>\n      <td>28-Feb-99</td>\n      <td>60000.0</td>\n      <td>0.0</td>\n      <td>P I F</td>\n      <td>0.0</td>\n      <td>60000.0</td>\n      <td>48000.0</td>\n      <td>Retail trade</td>\n    </tr>\n    <tr>\n      <th>1</th>\n      <td>1000024006</td>\n      <td>LANDMARK BAR &amp; GRILLE (THE)</td>\n      <td>NEW PARIS</td>\n      <td>IN</td>\n      <td>46526</td>\n      <td>1ST SOURCE BANK</td>\n      <td>IN</td>\n      <td>722410</td>\n      <td>1997-02-28</td>\n      <td>1997</td>\n      <td>...</td>\n      <td>Y</td>\n      <td>NaN</td>\n      <td>31-May-97</td>\n      <td>40000.0</td>\n      <td>0.0</td>\n      <td>P I F</td>\n      <td>0.0</td>\n      <td>40000.0</td>\n      <td>32000.0</td>\n      <td>Accommodation and food services</td>\n    </tr>\n    <tr>\n      <th>2</th>\n      <td>1000034009</td>\n      <td>WHITLOCK DDS, TODD M.</td>\n      <td>BLOOMINGTON</td>\n      <td>IN</td>\n      <td>47401</td>\n      <td>GRANT COUNTY STATE BANK</td>\n      <td>IN</td>\n      <td>621210</td>\n      <td>1997-02-28</td>\n      <td>1997</td>\n      <td>...</td>\n      <td>N</td>\n      <td>NaN</td>\n      <td>31-Dec-97</td>\n      <td>287000.0</td>\n      <td>0.0</td>\n      <td>P I F</td>\n      <td>0.0</td>\n      <td>287000.0</td>\n      <td>215250.0</td>\n      <td>Health care and social assistance</td>\n    </tr>\n    <tr>\n      <th>3</th>\n      <td>1000044001</td>\n      <td>BIG BUCKS PAWN &amp; JEWELRY, LLC</td>\n      <td>BROKEN ARROW</td>\n      <td>OK</td>\n      <td>74012</td>\n      <td>1ST NATL BK &amp; TR CO OF BROKEN</td>\n      <td>OK</td>\n      <td>0</td>\n      <td>1997-02-28</td>\n      <td>1997</td>\n      <td>...</td>\n      <td>Y</td>\n      <td>NaN</td>\n      <td>30-Jun-97</td>\n      <td>35000.0</td>\n      <td>0.0</td>\n      <td>P I F</td>\n      <td>0.0</td>\n      <td>35000.0</td>\n      <td>28000.0</td>\n      <td>Undefined</td>\n    </tr>\n    <tr>\n      <th>4</th>\n      <td>1000054004</td>\n      <td>ANASTASIA CONFECTIONS, INC.</td>\n      <td>ORLANDO</td>\n      <td>FL</td>\n      <td>32801</td>\n      <td>FLORIDA BUS. DEVEL CORP</td>\n      <td>FL</td>\n      <td>0</td>\n      <td>1997-02-28</td>\n      <td>1997</td>\n      <td>...</td>\n      <td>N</td>\n      <td>NaN</td>\n      <td>14-May-97</td>\n      <td>229000.0</td>\n      <td>0.0</td>\n      <td>P I F</td>\n      <td>0.0</td>\n      <td>229000.0</td>\n      <td>229000.0</td>\n      <td>Undefined</td>\n    </tr>\n    <tr>\n      <th>...</th>\n      <td>...</td>\n      <td>...</td>\n      <td>...</td>\n      <td>...</td>\n      <td>...</td>\n      <td>...</td>\n      <td>...</td>\n      <td>...</td>\n      <td>...</td>\n      <td>...</td>\n      <td>...</td>\n      <td>...</td>\n      <td>...</td>\n      <td>...</td>\n      <td>...</td>\n      <td>...</td>\n      <td>...</td>\n      <td>...</td>\n      <td>...</td>\n      <td>...</td>\n      <td>...</td>\n    </tr>\n    <tr>\n      <th>899159</th>\n      <td>9995573004</td>\n      <td>FABRIC FARMS</td>\n      <td>UPPER ARLINGTON</td>\n      <td>OH</td>\n      <td>43221</td>\n      <td>JPMORGAN CHASE BANK NATL ASSOC</td>\n      <td>IL</td>\n      <td>451120</td>\n      <td>1997-02-27</td>\n      <td>1997</td>\n      <td>...</td>\n      <td>N</td>\n      <td>NaN</td>\n      <td>30-Sep-97</td>\n      <td>70000.0</td>\n      <td>0.0</td>\n      <td>P I F</td>\n      <td>0.0</td>\n      <td>70000.0</td>\n      <td>56000.0</td>\n      <td>Retail trade</td>\n    </tr>\n    <tr>\n      <th>899160</th>\n      <td>9995603000</td>\n      <td>FABRIC FARMS</td>\n      <td>COLUMBUS</td>\n      <td>OH</td>\n      <td>43221</td>\n      <td>JPMORGAN CHASE BANK NATL ASSOC</td>\n      <td>IL</td>\n      <td>451130</td>\n      <td>1997-02-27</td>\n      <td>1997</td>\n      <td>...</td>\n      <td>N</td>\n      <td>NaN</td>\n      <td>31-Oct-97</td>\n      <td>85000.0</td>\n      <td>0.0</td>\n      <td>P I F</td>\n      <td>0.0</td>\n      <td>85000.0</td>\n      <td>42500.0</td>\n      <td>Retail trade</td>\n    </tr>\n    <tr>\n      <th>899161</th>\n      <td>9995613003</td>\n      <td>RADCO MANUFACTURING CO.,INC.</td>\n      <td>SANTA MARIA</td>\n      <td>CA</td>\n      <td>93455</td>\n      <td>RABOBANK, NATIONAL ASSOCIATION</td>\n      <td>CA</td>\n      <td>332321</td>\n      <td>1997-02-27</td>\n      <td>1997</td>\n      <td>...</td>\n      <td>N</td>\n      <td>NaN</td>\n      <td>30-Sep-97</td>\n      <td>300000.0</td>\n      <td>0.0</td>\n      <td>P I F</td>\n      <td>0.0</td>\n      <td>300000.0</td>\n      <td>225000.0</td>\n      <td>Manufacturing</td>\n    </tr>\n    <tr>\n      <th>899162</th>\n      <td>9995973006</td>\n      <td>MARUTAMA HAWAII, INC.</td>\n      <td>HONOLULU</td>\n      <td>HI</td>\n      <td>96830</td>\n      <td>BANK OF HAWAII</td>\n      <td>HI</td>\n      <td>0</td>\n      <td>1997-02-27</td>\n      <td>1997</td>\n      <td>...</td>\n      <td>Y</td>\n      <td>8-Mar-00</td>\n      <td>31-Mar-97</td>\n      <td>75000.0</td>\n      <td>0.0</td>\n      <td>CHGOFF</td>\n      <td>46383.0</td>\n      <td>75000.0</td>\n      <td>60000.0</td>\n      <td>Undefined</td>\n    </tr>\n    <tr>\n      <th>899163</th>\n      <td>9996003010</td>\n      <td>PACIFIC TRADEWINDS FAN &amp; LIGHT</td>\n      <td>KAILUA</td>\n      <td>HI</td>\n      <td>96734</td>\n      <td>CENTRAL PACIFIC BANK</td>\n      <td>HI</td>\n      <td>0</td>\n      <td>1997-02-27</td>\n      <td>1997</td>\n      <td>...</td>\n      <td>N</td>\n      <td>NaN</td>\n      <td>31-May-97</td>\n      <td>30000.0</td>\n      <td>0.0</td>\n      <td>P I F</td>\n      <td>0.0</td>\n      <td>30000.0</td>\n      <td>24000.0</td>\n      <td>Undefined</td>\n    </tr>\n  </tbody>\n</table>\n<p>899164 rows × 28 columns</p>\n</div>"
     },
     "execution_count": 4,
     "metadata": {},
     "output_type": "execute_result"
    }
   ],
   "source": [
    "DF_SBA_Loan = SBA_Loan.copy()\n",
    "DF_SBA_Loan"
   ],
   "metadata": {
    "collapsed": false,
    "pycharm": {
     "name": "#%%\n"
    }
   }
  },
  {
   "cell_type": "code",
   "execution_count": 5,
   "outputs": [],
   "source": [
    "for x in DF_SBA_Loan[DF_SBA_Loan['MIS_Status'].isnull()]['ChgOffPrinGr'].index:\n",
    "    if DF_SBA_Loan['ChgOffPrinGr'][x] == 0:\n",
    "        DF_SBA_Loan.loc[x,'MIS_Status'] = \"P I F\"\n",
    "    else:\n",
    "        DF_SBA_Loan.loc[x,'MIS_Status'] = \"CHGOFF\""
   ],
   "metadata": {
    "collapsed": false,
    "pycharm": {
     "name": "#%%\n"
    }
   }
  },
  {
   "cell_type": "code",
   "execution_count": 6,
   "outputs": [],
   "source": [
    "#Keeping just the first 2 digits in the NAICS column of DF_SBA_Loan\n",
    "DF_SBA_Loan.drop(DF_SBA_Loan[DF_SBA_Loan[\"NAICS\"] == 0].index, inplace=True)"
   ],
   "metadata": {
    "collapsed": false,
    "pycharm": {
     "name": "#%%\n"
    }
   }
  },
  {
   "cell_type": "code",
   "execution_count": 7,
   "outputs": [],
   "source": [
    "a = [str(x) for x in np.array(DF_SBA_Loan[\"NAICS\"])]\n",
    "a = [s[:2] for s in a]\n",
    "DF_SBA_Loan[\"NAICS\"] = [int(x) for x in a]"
   ],
   "metadata": {
    "collapsed": false,
    "pycharm": {
     "name": "#%%\n"
    }
   }
  },
  {
   "cell_type": "code",
   "execution_count": 8,
   "outputs": [
    {
     "data": {
      "text/plain": "       State  NAICS  ApprovalFY  NewExist MIS_Status  SBA_Appv    GrAppv\n0         IN     45        1997       2.0      P I F   48000.0   60000.0\n1         IN     72        1997       2.0      P I F   32000.0   40000.0\n2         IN     62        1997       1.0      P I F  215250.0  287000.0\n3         CT     33        1997       1.0      P I F  387750.0  517000.0\n4         FL     81        1997       2.0      P I F   36000.0   45000.0\n...      ...    ...         ...       ...        ...       ...       ...\n697211    MD     33        1997       1.0      P I F   25000.0   50000.0\n697212    CA     31        1997       1.0      P I F  150000.0  200000.0\n697213    OH     45        1997       1.0      P I F   56000.0   70000.0\n697214    OH     45        1997       1.0      P I F   42500.0   85000.0\n697215    CA     33        1997       1.0      P I F  225000.0  300000.0\n\n[697216 rows x 7 columns]",
      "text/html": "<div>\n<style scoped>\n    .dataframe tbody tr th:only-of-type {\n        vertical-align: middle;\n    }\n\n    .dataframe tbody tr th {\n        vertical-align: top;\n    }\n\n    .dataframe thead th {\n        text-align: right;\n    }\n</style>\n<table border=\"1\" class=\"dataframe\">\n  <thead>\n    <tr style=\"text-align: right;\">\n      <th></th>\n      <th>State</th>\n      <th>NAICS</th>\n      <th>ApprovalFY</th>\n      <th>NewExist</th>\n      <th>MIS_Status</th>\n      <th>SBA_Appv</th>\n      <th>GrAppv</th>\n    </tr>\n  </thead>\n  <tbody>\n    <tr>\n      <th>0</th>\n      <td>IN</td>\n      <td>45</td>\n      <td>1997</td>\n      <td>2.0</td>\n      <td>P I F</td>\n      <td>48000.0</td>\n      <td>60000.0</td>\n    </tr>\n    <tr>\n      <th>1</th>\n      <td>IN</td>\n      <td>72</td>\n      <td>1997</td>\n      <td>2.0</td>\n      <td>P I F</td>\n      <td>32000.0</td>\n      <td>40000.0</td>\n    </tr>\n    <tr>\n      <th>2</th>\n      <td>IN</td>\n      <td>62</td>\n      <td>1997</td>\n      <td>1.0</td>\n      <td>P I F</td>\n      <td>215250.0</td>\n      <td>287000.0</td>\n    </tr>\n    <tr>\n      <th>3</th>\n      <td>CT</td>\n      <td>33</td>\n      <td>1997</td>\n      <td>1.0</td>\n      <td>P I F</td>\n      <td>387750.0</td>\n      <td>517000.0</td>\n    </tr>\n    <tr>\n      <th>4</th>\n      <td>FL</td>\n      <td>81</td>\n      <td>1997</td>\n      <td>2.0</td>\n      <td>P I F</td>\n      <td>36000.0</td>\n      <td>45000.0</td>\n    </tr>\n    <tr>\n      <th>...</th>\n      <td>...</td>\n      <td>...</td>\n      <td>...</td>\n      <td>...</td>\n      <td>...</td>\n      <td>...</td>\n      <td>...</td>\n    </tr>\n    <tr>\n      <th>697211</th>\n      <td>MD</td>\n      <td>33</td>\n      <td>1997</td>\n      <td>1.0</td>\n      <td>P I F</td>\n      <td>25000.0</td>\n      <td>50000.0</td>\n    </tr>\n    <tr>\n      <th>697212</th>\n      <td>CA</td>\n      <td>31</td>\n      <td>1997</td>\n      <td>1.0</td>\n      <td>P I F</td>\n      <td>150000.0</td>\n      <td>200000.0</td>\n    </tr>\n    <tr>\n      <th>697213</th>\n      <td>OH</td>\n      <td>45</td>\n      <td>1997</td>\n      <td>1.0</td>\n      <td>P I F</td>\n      <td>56000.0</td>\n      <td>70000.0</td>\n    </tr>\n    <tr>\n      <th>697214</th>\n      <td>OH</td>\n      <td>45</td>\n      <td>1997</td>\n      <td>1.0</td>\n      <td>P I F</td>\n      <td>42500.0</td>\n      <td>85000.0</td>\n    </tr>\n    <tr>\n      <th>697215</th>\n      <td>CA</td>\n      <td>33</td>\n      <td>1997</td>\n      <td>1.0</td>\n      <td>P I F</td>\n      <td>225000.0</td>\n      <td>300000.0</td>\n    </tr>\n  </tbody>\n</table>\n<p>697216 rows × 7 columns</p>\n</div>"
     },
     "execution_count": 8,
     "metadata": {},
     "output_type": "execute_result"
    }
   ],
   "source": [
    "DF_SBA_Loan = DF_SBA_Loan[['State', 'NAICS', 'ApprovalFY', 'NewExist', 'MIS_Status', 'SBA_Appv', 'GrAppv']] #'UrbanRural', 'LowDoc' left out\n",
    "DF_SBA_Loan = DF_SBA_Loan.reset_index(drop=True)\n",
    "DF_SBA_Loan"
   ],
   "metadata": {
    "collapsed": false,
    "pycharm": {
     "name": "#%%\n"
    }
   }
  },
  {
   "cell_type": "code",
   "execution_count": 9,
   "outputs": [],
   "source": [
    "DF_SBA_Loan.drop(DF_SBA_Loan[DF_SBA_Loan['NewExist'] == 0].index, inplace=True)"
   ],
   "metadata": {
    "collapsed": false,
    "pycharm": {
     "name": "#%%\n"
    }
   }
  },
  {
   "cell_type": "code",
   "execution_count": 10,
   "outputs": [],
   "source": [
    "DF_SBA_Loan = DF_SBA_Loan.dropna()"
   ],
   "metadata": {
    "collapsed": false,
    "pycharm": {
     "name": "#%%\n"
    }
   }
  },
  {
   "cell_type": "code",
   "execution_count": 11,
   "outputs": [],
   "source": [
    "# DF_SBA_Loan['UrbanRural'].value_counts()\n",
    "# DF_SBA_Loan[DF_SBA_Loan['UrbanRural'] == 0]\n",
    "# sns.countplot(x='UrbanRural', data=DF_SBA_Loan, hue='RevLineCr')\n",
    "# DF_SBA_Loan['MIS_Status'].value_counts()"
   ],
   "metadata": {
    "collapsed": false,
    "pycharm": {
     "name": "#%%\n"
    }
   }
  },
  {
   "cell_type": "code",
   "execution_count": 12,
   "outputs": [],
   "source": [
    "NAICS_BDS = pd.read_csv('NAICS_BDS_timeseries_data.csv', low_memory=False)\n",
    "NAICS_BDS = NAICS_BDS.drop([0])"
   ],
   "metadata": {
    "collapsed": false,
    "pycharm": {
     "name": "#%%\n"
    }
   }
  },
  {
   "cell_type": "code",
   "execution_count": 13,
   "outputs": [
    {
     "data": {
      "text/plain": "        GEO_ID           NAME NAICS  \\\n1    0100000US  United States     0   \n2    0100000US  United States     0   \n3    0100000US  United States     0   \n4    0100000US  United States     0   \n5    0100000US  United States     0   \n..         ...            ...   ...   \n836  0100000US  United States    81   \n837  0100000US  United States    81   \n838  0100000US  United States    81   \n839  0100000US  United States    81   \n840  0100000US  United States    81   \n\n                                       NAICS_LABEL  YEAR     FIRM    ESTAB  \\\n1                            Total for all sectors  1978  3557994  4310626   \n2                            Total for all sectors  1979  3692077  4472108   \n3                            Total for all sectors  1980  3739809  4533251   \n4                            Total for all sectors  1981  3770852  4615479   \n5                            Total for all sectors  1982  3720273  4598769   \n..                                             ...   ...      ...      ...   \n836  Other services (except public administration)  2015   627870   692521   \n837  Other services (except public administration)  2016   635866   701530   \n838  Other services (except public administration)  2017   639820   705522   \n839  Other services (except public administration)  2018   643774   708344   \n840  Other services (except public administration)  2019   645831   710628   \n\n          EMP     DENOM ESTABS_ENTRY  ... JOB_DESTRUCTION_DEATHS  \\\n1    69410001  66810001       654226  ...                4048046   \n2    73848234  71727111       630253  ...                3760616   \n3    74109267  74018218       592484  ...                4246135   \n4    75728652  74924061       606853  ...                3478843   \n5    74922226  75267274       572030  ...                4055239   \n..        ...       ...          ...  ...                    ...   \n836   5402143   5367556        54337  ...                 190691   \n837   5495043   5443433        56964  ...                 183389   \n838   5499089   5473326        56065  ...                 199943   \n839   5590509   5547912        54528  ...                 192597   \n840   5615669   5600892        54205  ...                 191207   \n\n    JOB_DESTRUCTION_CONTINUERS JOB_DESTRUCTION_RATE_DEATHS  \\\n1                      5420961                       6.059   \n2                      6043218                       5.243   \n3                      7797198                       5.737   \n4                      7782399                       4.643   \n5                      8683755                       5.388   \n..                         ...                         ...   \n836                     389703                       3.553   \n837                     390994                       3.369   \n838                     435503                       3.653   \n839                     420088                       3.472   \n840                     413919                       3.414   \n\n    JOB_DESTRUCTION_RATE NET_JOB_CREATION NET_JOB_CREATION_RATE  \\\n1                 14.173          5196537                 7.778   \n2                 13.668          4248257                 5.923   \n3                 16.271           188937                 0.255   \n4                  15.03          1609104                 2.148   \n5                 16.925          -678350                -0.901   \n..                   ...              ...                   ...   \n836               10.813            68593                 1.278   \n837               10.552           102848                 1.889   \n838                11.61            53589                 0.979   \n839               11.044            86437                 1.558   \n840               10.804            28782                 0.514   \n\n    REALLOCATION_RATE FIRMDEATH_FIRMS FIRMDEATH_ESTABS FIRMDEATH_EMP  \n1              28.346          327278           332504       1824251  \n2              27.336          328024           332633       1785478  \n3              32.542          368578           373754       1941422  \n4               30.06          377291           383748       2005707  \n5              32.048          412488           418501       2211944  \n..                ...             ...              ...           ...  \n836            21.626           34254            34772        117491  \n837            21.104           35133            35590        125535  \n838             23.22           37298            37944        138168  \n839            22.087           38866            39746        142311  \n840            21.608           43430            44098        153253  \n\n[840 rows x 29 columns]",
      "text/html": "<div>\n<style scoped>\n    .dataframe tbody tr th:only-of-type {\n        vertical-align: middle;\n    }\n\n    .dataframe tbody tr th {\n        vertical-align: top;\n    }\n\n    .dataframe thead th {\n        text-align: right;\n    }\n</style>\n<table border=\"1\" class=\"dataframe\">\n  <thead>\n    <tr style=\"text-align: right;\">\n      <th></th>\n      <th>GEO_ID</th>\n      <th>NAME</th>\n      <th>NAICS</th>\n      <th>NAICS_LABEL</th>\n      <th>YEAR</th>\n      <th>FIRM</th>\n      <th>ESTAB</th>\n      <th>EMP</th>\n      <th>DENOM</th>\n      <th>ESTABS_ENTRY</th>\n      <th>...</th>\n      <th>JOB_DESTRUCTION_DEATHS</th>\n      <th>JOB_DESTRUCTION_CONTINUERS</th>\n      <th>JOB_DESTRUCTION_RATE_DEATHS</th>\n      <th>JOB_DESTRUCTION_RATE</th>\n      <th>NET_JOB_CREATION</th>\n      <th>NET_JOB_CREATION_RATE</th>\n      <th>REALLOCATION_RATE</th>\n      <th>FIRMDEATH_FIRMS</th>\n      <th>FIRMDEATH_ESTABS</th>\n      <th>FIRMDEATH_EMP</th>\n    </tr>\n  </thead>\n  <tbody>\n    <tr>\n      <th>1</th>\n      <td>0100000US</td>\n      <td>United States</td>\n      <td>0</td>\n      <td>Total for all sectors</td>\n      <td>1978</td>\n      <td>3557994</td>\n      <td>4310626</td>\n      <td>69410001</td>\n      <td>66810001</td>\n      <td>654226</td>\n      <td>...</td>\n      <td>4048046</td>\n      <td>5420961</td>\n      <td>6.059</td>\n      <td>14.173</td>\n      <td>5196537</td>\n      <td>7.778</td>\n      <td>28.346</td>\n      <td>327278</td>\n      <td>332504</td>\n      <td>1824251</td>\n    </tr>\n    <tr>\n      <th>2</th>\n      <td>0100000US</td>\n      <td>United States</td>\n      <td>0</td>\n      <td>Total for all sectors</td>\n      <td>1979</td>\n      <td>3692077</td>\n      <td>4472108</td>\n      <td>73848234</td>\n      <td>71727111</td>\n      <td>630253</td>\n      <td>...</td>\n      <td>3760616</td>\n      <td>6043218</td>\n      <td>5.243</td>\n      <td>13.668</td>\n      <td>4248257</td>\n      <td>5.923</td>\n      <td>27.336</td>\n      <td>328024</td>\n      <td>332633</td>\n      <td>1785478</td>\n    </tr>\n    <tr>\n      <th>3</th>\n      <td>0100000US</td>\n      <td>United States</td>\n      <td>0</td>\n      <td>Total for all sectors</td>\n      <td>1980</td>\n      <td>3739809</td>\n      <td>4533251</td>\n      <td>74109267</td>\n      <td>74018218</td>\n      <td>592484</td>\n      <td>...</td>\n      <td>4246135</td>\n      <td>7797198</td>\n      <td>5.737</td>\n      <td>16.271</td>\n      <td>188937</td>\n      <td>0.255</td>\n      <td>32.542</td>\n      <td>368578</td>\n      <td>373754</td>\n      <td>1941422</td>\n    </tr>\n    <tr>\n      <th>4</th>\n      <td>0100000US</td>\n      <td>United States</td>\n      <td>0</td>\n      <td>Total for all sectors</td>\n      <td>1981</td>\n      <td>3770852</td>\n      <td>4615479</td>\n      <td>75728652</td>\n      <td>74924061</td>\n      <td>606853</td>\n      <td>...</td>\n      <td>3478843</td>\n      <td>7782399</td>\n      <td>4.643</td>\n      <td>15.03</td>\n      <td>1609104</td>\n      <td>2.148</td>\n      <td>30.06</td>\n      <td>377291</td>\n      <td>383748</td>\n      <td>2005707</td>\n    </tr>\n    <tr>\n      <th>5</th>\n      <td>0100000US</td>\n      <td>United States</td>\n      <td>0</td>\n      <td>Total for all sectors</td>\n      <td>1982</td>\n      <td>3720273</td>\n      <td>4598769</td>\n      <td>74922226</td>\n      <td>75267274</td>\n      <td>572030</td>\n      <td>...</td>\n      <td>4055239</td>\n      <td>8683755</td>\n      <td>5.388</td>\n      <td>16.925</td>\n      <td>-678350</td>\n      <td>-0.901</td>\n      <td>32.048</td>\n      <td>412488</td>\n      <td>418501</td>\n      <td>2211944</td>\n    </tr>\n    <tr>\n      <th>...</th>\n      <td>...</td>\n      <td>...</td>\n      <td>...</td>\n      <td>...</td>\n      <td>...</td>\n      <td>...</td>\n      <td>...</td>\n      <td>...</td>\n      <td>...</td>\n      <td>...</td>\n      <td>...</td>\n      <td>...</td>\n      <td>...</td>\n      <td>...</td>\n      <td>...</td>\n      <td>...</td>\n      <td>...</td>\n      <td>...</td>\n      <td>...</td>\n      <td>...</td>\n      <td>...</td>\n    </tr>\n    <tr>\n      <th>836</th>\n      <td>0100000US</td>\n      <td>United States</td>\n      <td>81</td>\n      <td>Other services (except public administration)</td>\n      <td>2015</td>\n      <td>627870</td>\n      <td>692521</td>\n      <td>5402143</td>\n      <td>5367556</td>\n      <td>54337</td>\n      <td>...</td>\n      <td>190691</td>\n      <td>389703</td>\n      <td>3.553</td>\n      <td>10.813</td>\n      <td>68593</td>\n      <td>1.278</td>\n      <td>21.626</td>\n      <td>34254</td>\n      <td>34772</td>\n      <td>117491</td>\n    </tr>\n    <tr>\n      <th>837</th>\n      <td>0100000US</td>\n      <td>United States</td>\n      <td>81</td>\n      <td>Other services (except public administration)</td>\n      <td>2016</td>\n      <td>635866</td>\n      <td>701530</td>\n      <td>5495043</td>\n      <td>5443433</td>\n      <td>56964</td>\n      <td>...</td>\n      <td>183389</td>\n      <td>390994</td>\n      <td>3.369</td>\n      <td>10.552</td>\n      <td>102848</td>\n      <td>1.889</td>\n      <td>21.104</td>\n      <td>35133</td>\n      <td>35590</td>\n      <td>125535</td>\n    </tr>\n    <tr>\n      <th>838</th>\n      <td>0100000US</td>\n      <td>United States</td>\n      <td>81</td>\n      <td>Other services (except public administration)</td>\n      <td>2017</td>\n      <td>639820</td>\n      <td>705522</td>\n      <td>5499089</td>\n      <td>5473326</td>\n      <td>56065</td>\n      <td>...</td>\n      <td>199943</td>\n      <td>435503</td>\n      <td>3.653</td>\n      <td>11.61</td>\n      <td>53589</td>\n      <td>0.979</td>\n      <td>23.22</td>\n      <td>37298</td>\n      <td>37944</td>\n      <td>138168</td>\n    </tr>\n    <tr>\n      <th>839</th>\n      <td>0100000US</td>\n      <td>United States</td>\n      <td>81</td>\n      <td>Other services (except public administration)</td>\n      <td>2018</td>\n      <td>643774</td>\n      <td>708344</td>\n      <td>5590509</td>\n      <td>5547912</td>\n      <td>54528</td>\n      <td>...</td>\n      <td>192597</td>\n      <td>420088</td>\n      <td>3.472</td>\n      <td>11.044</td>\n      <td>86437</td>\n      <td>1.558</td>\n      <td>22.087</td>\n      <td>38866</td>\n      <td>39746</td>\n      <td>142311</td>\n    </tr>\n    <tr>\n      <th>840</th>\n      <td>0100000US</td>\n      <td>United States</td>\n      <td>81</td>\n      <td>Other services (except public administration)</td>\n      <td>2019</td>\n      <td>645831</td>\n      <td>710628</td>\n      <td>5615669</td>\n      <td>5600892</td>\n      <td>54205</td>\n      <td>...</td>\n      <td>191207</td>\n      <td>413919</td>\n      <td>3.414</td>\n      <td>10.804</td>\n      <td>28782</td>\n      <td>0.514</td>\n      <td>21.608</td>\n      <td>43430</td>\n      <td>44098</td>\n      <td>153253</td>\n    </tr>\n  </tbody>\n</table>\n<p>840 rows × 29 columns</p>\n</div>"
     },
     "execution_count": 13,
     "metadata": {},
     "output_type": "execute_result"
    }
   ],
   "source": [
    "NAICS_BDS"
   ],
   "metadata": {
    "collapsed": false,
    "pycharm": {
     "name": "#%%\n"
    }
   }
  },
  {
   "cell_type": "code",
   "execution_count": 14,
   "outputs": [
    {
     "data": {
      "text/plain": "      GEO_ID           NAME NAICS            NAICS_LABEL  YEAR     FIRM  \\\n1  0100000US  United States     0  Total for all sectors  1978  3557994   \n2  0100000US  United States     0  Total for all sectors  1979  3692077   \n3  0100000US  United States     0  Total for all sectors  1980  3739809   \n4  0100000US  United States     0  Total for all sectors  1981  3770852   \n5  0100000US  United States     0  Total for all sectors  1982  3720273   \n\n     ESTAB       EMP     DENOM ESTABS_ENTRY  ... JOB_DESTRUCTION_DEATHS  \\\n1  4310626  69410001  66810001       654226  ...                4048046   \n2  4472108  73848234  71727111       630253  ...                3760616   \n3  4533251  74109267  74018218       592484  ...                4246135   \n4  4615479  75728652  74924061       606853  ...                3478843   \n5  4598769  74922226  75267274       572030  ...                4055239   \n\n  JOB_DESTRUCTION_CONTINUERS JOB_DESTRUCTION_RATE_DEATHS JOB_DESTRUCTION_RATE  \\\n1                    5420961                       6.059               14.173   \n2                    6043218                       5.243               13.668   \n3                    7797198                       5.737               16.271   \n4                    7782399                       4.643                15.03   \n5                    8683755                       5.388               16.925   \n\n  NET_JOB_CREATION NET_JOB_CREATION_RATE REALLOCATION_RATE FIRMDEATH_FIRMS  \\\n1          5196537                 7.778            28.346          327278   \n2          4248257                 5.923            27.336          328024   \n3           188937                 0.255            32.542          368578   \n4          1609104                 2.148             30.06          377291   \n5          -678350                -0.901            32.048          412488   \n\n  FIRMDEATH_ESTABS FIRMDEATH_EMP  \n1           332504       1824251  \n2           332633       1785478  \n3           373754       1941422  \n4           383748       2005707  \n5           418501       2211944  \n\n[5 rows x 29 columns]",
      "text/html": "<div>\n<style scoped>\n    .dataframe tbody tr th:only-of-type {\n        vertical-align: middle;\n    }\n\n    .dataframe tbody tr th {\n        vertical-align: top;\n    }\n\n    .dataframe thead th {\n        text-align: right;\n    }\n</style>\n<table border=\"1\" class=\"dataframe\">\n  <thead>\n    <tr style=\"text-align: right;\">\n      <th></th>\n      <th>GEO_ID</th>\n      <th>NAME</th>\n      <th>NAICS</th>\n      <th>NAICS_LABEL</th>\n      <th>YEAR</th>\n      <th>FIRM</th>\n      <th>ESTAB</th>\n      <th>EMP</th>\n      <th>DENOM</th>\n      <th>ESTABS_ENTRY</th>\n      <th>...</th>\n      <th>JOB_DESTRUCTION_DEATHS</th>\n      <th>JOB_DESTRUCTION_CONTINUERS</th>\n      <th>JOB_DESTRUCTION_RATE_DEATHS</th>\n      <th>JOB_DESTRUCTION_RATE</th>\n      <th>NET_JOB_CREATION</th>\n      <th>NET_JOB_CREATION_RATE</th>\n      <th>REALLOCATION_RATE</th>\n      <th>FIRMDEATH_FIRMS</th>\n      <th>FIRMDEATH_ESTABS</th>\n      <th>FIRMDEATH_EMP</th>\n    </tr>\n  </thead>\n  <tbody>\n    <tr>\n      <th>1</th>\n      <td>0100000US</td>\n      <td>United States</td>\n      <td>0</td>\n      <td>Total for all sectors</td>\n      <td>1978</td>\n      <td>3557994</td>\n      <td>4310626</td>\n      <td>69410001</td>\n      <td>66810001</td>\n      <td>654226</td>\n      <td>...</td>\n      <td>4048046</td>\n      <td>5420961</td>\n      <td>6.059</td>\n      <td>14.173</td>\n      <td>5196537</td>\n      <td>7.778</td>\n      <td>28.346</td>\n      <td>327278</td>\n      <td>332504</td>\n      <td>1824251</td>\n    </tr>\n    <tr>\n      <th>2</th>\n      <td>0100000US</td>\n      <td>United States</td>\n      <td>0</td>\n      <td>Total for all sectors</td>\n      <td>1979</td>\n      <td>3692077</td>\n      <td>4472108</td>\n      <td>73848234</td>\n      <td>71727111</td>\n      <td>630253</td>\n      <td>...</td>\n      <td>3760616</td>\n      <td>6043218</td>\n      <td>5.243</td>\n      <td>13.668</td>\n      <td>4248257</td>\n      <td>5.923</td>\n      <td>27.336</td>\n      <td>328024</td>\n      <td>332633</td>\n      <td>1785478</td>\n    </tr>\n    <tr>\n      <th>3</th>\n      <td>0100000US</td>\n      <td>United States</td>\n      <td>0</td>\n      <td>Total for all sectors</td>\n      <td>1980</td>\n      <td>3739809</td>\n      <td>4533251</td>\n      <td>74109267</td>\n      <td>74018218</td>\n      <td>592484</td>\n      <td>...</td>\n      <td>4246135</td>\n      <td>7797198</td>\n      <td>5.737</td>\n      <td>16.271</td>\n      <td>188937</td>\n      <td>0.255</td>\n      <td>32.542</td>\n      <td>368578</td>\n      <td>373754</td>\n      <td>1941422</td>\n    </tr>\n    <tr>\n      <th>4</th>\n      <td>0100000US</td>\n      <td>United States</td>\n      <td>0</td>\n      <td>Total for all sectors</td>\n      <td>1981</td>\n      <td>3770852</td>\n      <td>4615479</td>\n      <td>75728652</td>\n      <td>74924061</td>\n      <td>606853</td>\n      <td>...</td>\n      <td>3478843</td>\n      <td>7782399</td>\n      <td>4.643</td>\n      <td>15.03</td>\n      <td>1609104</td>\n      <td>2.148</td>\n      <td>30.06</td>\n      <td>377291</td>\n      <td>383748</td>\n      <td>2005707</td>\n    </tr>\n    <tr>\n      <th>5</th>\n      <td>0100000US</td>\n      <td>United States</td>\n      <td>0</td>\n      <td>Total for all sectors</td>\n      <td>1982</td>\n      <td>3720273</td>\n      <td>4598769</td>\n      <td>74922226</td>\n      <td>75267274</td>\n      <td>572030</td>\n      <td>...</td>\n      <td>4055239</td>\n      <td>8683755</td>\n      <td>5.388</td>\n      <td>16.925</td>\n      <td>-678350</td>\n      <td>-0.901</td>\n      <td>32.048</td>\n      <td>412488</td>\n      <td>418501</td>\n      <td>2211944</td>\n    </tr>\n  </tbody>\n</table>\n<p>5 rows × 29 columns</p>\n</div>"
     },
     "execution_count": 14,
     "metadata": {},
     "output_type": "execute_result"
    }
   ],
   "source": [
    "NAICS_BDS.head()"
   ],
   "metadata": {
    "collapsed": false,
    "pycharm": {
     "name": "#%%\n"
    }
   }
  },
  {
   "cell_type": "code",
   "execution_count": 15,
   "outputs": [],
   "source": [
    "DF_NAICS = NAICS_BDS.copy()\n",
    "DF_NAICS.drop(DF_NAICS[(DF_NAICS.NAICS == '00')].index, inplace=True)"
   ],
   "metadata": {
    "collapsed": false,
    "pycharm": {
     "name": "#%%\n"
    }
   }
  },
  {
   "cell_type": "code",
   "execution_count": 16,
   "outputs": [
    {
     "data": {
      "text/plain": "GEO_ID                         0\nNAME                           0\nNAICS                          0\nNAICS_LABEL                    0\nYEAR                           0\nFIRM                           0\nESTAB                          0\nEMP                            0\nDENOM                          0\nESTABS_ENTRY                   0\nESTABS_ENTRY_RATE              0\nESTABS_EXIT                    0\nESTABS_EXIT_RATE               0\nJOB_CREATION                   0\nJOB_CREATION_BIRTHS            0\nJOB_CREATION_CONTINUERS        0\nJOB_CREATION_RATE_BIRTHS       0\nJOB_CREATION_RATE              0\nJOB_DESTRUCTION                0\nJOB_DESTRUCTION_DEATHS         0\nJOB_DESTRUCTION_CONTINUERS     0\nJOB_DESTRUCTION_RATE_DEATHS    0\nJOB_DESTRUCTION_RATE           0\nNET_JOB_CREATION               0\nNET_JOB_CREATION_RATE          0\nREALLOCATION_RATE              0\nFIRMDEATH_FIRMS                0\nFIRMDEATH_ESTABS               0\nFIRMDEATH_EMP                  0\ndtype: int64"
     },
     "execution_count": 16,
     "metadata": {},
     "output_type": "execute_result"
    }
   ],
   "source": [
    "DF_NAICS.isnull().sum()"
   ],
   "metadata": {
    "collapsed": false,
    "pycharm": {
     "name": "#%%\n"
    }
   }
  },
  {
   "cell_type": "code",
   "execution_count": 17,
   "outputs": [],
   "source": [
    "DF_NAICS.drop(DF_NAICS[(DF_NAICS.NAICS == '31-33') | (DF_NAICS.NAICS == '44-45') | (DF_NAICS.NAICS == '48-49')].index, inplace=True)"
   ],
   "metadata": {
    "collapsed": false,
    "pycharm": {
     "name": "#%%\n"
    }
   }
  },
  {
   "cell_type": "code",
   "execution_count": 18,
   "outputs": [],
   "source": [
    "DF_NAICS = DF_NAICS.append([NAICS_BDS[NAICS_BDS[\"NAICS\"] == '31-33']]*3, ignore_index=True)\n",
    "DF_NAICS = DF_NAICS.append([NAICS_BDS[NAICS_BDS[\"NAICS\"] == '44-45']]*2, ignore_index=True)\n",
    "DF_NAICS = DF_NAICS.append([NAICS_BDS[NAICS_BDS[\"NAICS\"] == '48-49']]*2, ignore_index=True)"
   ],
   "metadata": {
    "collapsed": false,
    "pycharm": {
     "name": "#%%\n"
    }
   }
  },
  {
   "cell_type": "code",
   "execution_count": 19,
   "outputs": [
    {
     "data": {
      "text/plain": "         GEO_ID           NAME  NAICS                     NAICS_LABEL  YEAR  \\\n0     0100000US  United States      0           Total for all sectors  1978   \n1     0100000US  United States      0           Total for all sectors  1979   \n2     0100000US  United States      0           Total for all sectors  1980   \n3     0100000US  United States      0           Total for all sectors  1981   \n4     0100000US  United States      0           Total for all sectors  1982   \n...         ...            ...    ...                             ...   ...   \n1003  0100000US  United States  48-49  Transportation and warehousing  2015   \n1004  0100000US  United States  48-49  Transportation and warehousing  2016   \n1005  0100000US  United States  48-49  Transportation and warehousing  2017   \n1006  0100000US  United States  48-49  Transportation and warehousing  2018   \n1007  0100000US  United States  48-49  Transportation and warehousing  2019   \n\n         FIRM    ESTAB       EMP     DENOM ESTABS_ENTRY  ...  \\\n0     3557994  4310626  69410001  66810001       654226  ...   \n1     3692077  4472108  73848234  71727111       630253  ...   \n2     3739809  4533251  74109267  74018218       592484  ...   \n3     3770852  4615479  75728652  74924061       606853  ...   \n4     3720273  4598769  74922226  75267274       572030  ...   \n...       ...      ...       ...       ...          ...  ...   \n1003   153822   202631   4591409   4499301        27612  ...   \n1004   156798   207273   4717118   4655107        26860  ...   \n1005   157752   208815   4853859   4781787        25053  ...   \n1006   162121   213126   5018707   4936647        26681  ...   \n1007   167380   219301   5403829   5212963        28479  ...   \n\n     JOB_DESTRUCTION_DEATHS JOB_DESTRUCTION_CONTINUERS  \\\n0                   4048046                    5420961   \n1                   3760616                    6043218   \n2                   4246135                    7797198   \n3                   3478843                    7782399   \n4                   4055239                    8683755   \n...                     ...                        ...   \n1003                 171575                     293097   \n1004                 185955                     301012   \n1005                 165899                     336049   \n1006                 151173                     323218   \n1007                 130910                     281802   \n\n     JOB_DESTRUCTION_RATE_DEATHS JOB_DESTRUCTION_RATE NET_JOB_CREATION  \\\n0                          6.059               14.173          5196537   \n1                          5.243               13.668          4248257   \n2                          5.737               16.271           188937   \n3                          4.643                15.03          1609104   \n4                          5.388               16.925          -678350   \n...                          ...                  ...              ...   \n1003                       3.813               10.328           184677   \n1004                       3.995               10.461           122484   \n1005                       3.469               10.497           148348   \n1006                       3.062                 9.61           164146   \n1007                       2.511                7.917           372049   \n\n     NET_JOB_CREATION_RATE REALLOCATION_RATE FIRMDEATH_FIRMS FIRMDEATH_ESTABS  \\\n0                    7.778            28.346          327278           332504   \n1                    5.923            27.336          328024           332633   \n2                    0.255            32.542          368578           373754   \n3                    2.148             30.06          377291           383748   \n4                   -0.901            32.048          412488           418501   \n...                    ...               ...             ...              ...   \n1003                 4.105            20.655           13968            14152   \n1004                 2.631            20.922           15547            15803   \n1005                 3.102            20.994           16484            16750   \n1006                 3.325            19.219           16025            16271   \n1007                 7.137            15.834           18213            18495   \n\n     FIRMDEATH_EMP  \n0          1824251  \n1          1785478  \n2          1941422  \n3          2005707  \n4          2211944  \n...            ...  \n1003         66039  \n1004        107251  \n1005         77042  \n1006         80700  \n1007         88434  \n\n[1008 rows x 29 columns]",
      "text/html": "<div>\n<style scoped>\n    .dataframe tbody tr th:only-of-type {\n        vertical-align: middle;\n    }\n\n    .dataframe tbody tr th {\n        vertical-align: top;\n    }\n\n    .dataframe thead th {\n        text-align: right;\n    }\n</style>\n<table border=\"1\" class=\"dataframe\">\n  <thead>\n    <tr style=\"text-align: right;\">\n      <th></th>\n      <th>GEO_ID</th>\n      <th>NAME</th>\n      <th>NAICS</th>\n      <th>NAICS_LABEL</th>\n      <th>YEAR</th>\n      <th>FIRM</th>\n      <th>ESTAB</th>\n      <th>EMP</th>\n      <th>DENOM</th>\n      <th>ESTABS_ENTRY</th>\n      <th>...</th>\n      <th>JOB_DESTRUCTION_DEATHS</th>\n      <th>JOB_DESTRUCTION_CONTINUERS</th>\n      <th>JOB_DESTRUCTION_RATE_DEATHS</th>\n      <th>JOB_DESTRUCTION_RATE</th>\n      <th>NET_JOB_CREATION</th>\n      <th>NET_JOB_CREATION_RATE</th>\n      <th>REALLOCATION_RATE</th>\n      <th>FIRMDEATH_FIRMS</th>\n      <th>FIRMDEATH_ESTABS</th>\n      <th>FIRMDEATH_EMP</th>\n    </tr>\n  </thead>\n  <tbody>\n    <tr>\n      <th>0</th>\n      <td>0100000US</td>\n      <td>United States</td>\n      <td>0</td>\n      <td>Total for all sectors</td>\n      <td>1978</td>\n      <td>3557994</td>\n      <td>4310626</td>\n      <td>69410001</td>\n      <td>66810001</td>\n      <td>654226</td>\n      <td>...</td>\n      <td>4048046</td>\n      <td>5420961</td>\n      <td>6.059</td>\n      <td>14.173</td>\n      <td>5196537</td>\n      <td>7.778</td>\n      <td>28.346</td>\n      <td>327278</td>\n      <td>332504</td>\n      <td>1824251</td>\n    </tr>\n    <tr>\n      <th>1</th>\n      <td>0100000US</td>\n      <td>United States</td>\n      <td>0</td>\n      <td>Total for all sectors</td>\n      <td>1979</td>\n      <td>3692077</td>\n      <td>4472108</td>\n      <td>73848234</td>\n      <td>71727111</td>\n      <td>630253</td>\n      <td>...</td>\n      <td>3760616</td>\n      <td>6043218</td>\n      <td>5.243</td>\n      <td>13.668</td>\n      <td>4248257</td>\n      <td>5.923</td>\n      <td>27.336</td>\n      <td>328024</td>\n      <td>332633</td>\n      <td>1785478</td>\n    </tr>\n    <tr>\n      <th>2</th>\n      <td>0100000US</td>\n      <td>United States</td>\n      <td>0</td>\n      <td>Total for all sectors</td>\n      <td>1980</td>\n      <td>3739809</td>\n      <td>4533251</td>\n      <td>74109267</td>\n      <td>74018218</td>\n      <td>592484</td>\n      <td>...</td>\n      <td>4246135</td>\n      <td>7797198</td>\n      <td>5.737</td>\n      <td>16.271</td>\n      <td>188937</td>\n      <td>0.255</td>\n      <td>32.542</td>\n      <td>368578</td>\n      <td>373754</td>\n      <td>1941422</td>\n    </tr>\n    <tr>\n      <th>3</th>\n      <td>0100000US</td>\n      <td>United States</td>\n      <td>0</td>\n      <td>Total for all sectors</td>\n      <td>1981</td>\n      <td>3770852</td>\n      <td>4615479</td>\n      <td>75728652</td>\n      <td>74924061</td>\n      <td>606853</td>\n      <td>...</td>\n      <td>3478843</td>\n      <td>7782399</td>\n      <td>4.643</td>\n      <td>15.03</td>\n      <td>1609104</td>\n      <td>2.148</td>\n      <td>30.06</td>\n      <td>377291</td>\n      <td>383748</td>\n      <td>2005707</td>\n    </tr>\n    <tr>\n      <th>4</th>\n      <td>0100000US</td>\n      <td>United States</td>\n      <td>0</td>\n      <td>Total for all sectors</td>\n      <td>1982</td>\n      <td>3720273</td>\n      <td>4598769</td>\n      <td>74922226</td>\n      <td>75267274</td>\n      <td>572030</td>\n      <td>...</td>\n      <td>4055239</td>\n      <td>8683755</td>\n      <td>5.388</td>\n      <td>16.925</td>\n      <td>-678350</td>\n      <td>-0.901</td>\n      <td>32.048</td>\n      <td>412488</td>\n      <td>418501</td>\n      <td>2211944</td>\n    </tr>\n    <tr>\n      <th>...</th>\n      <td>...</td>\n      <td>...</td>\n      <td>...</td>\n      <td>...</td>\n      <td>...</td>\n      <td>...</td>\n      <td>...</td>\n      <td>...</td>\n      <td>...</td>\n      <td>...</td>\n      <td>...</td>\n      <td>...</td>\n      <td>...</td>\n      <td>...</td>\n      <td>...</td>\n      <td>...</td>\n      <td>...</td>\n      <td>...</td>\n      <td>...</td>\n      <td>...</td>\n      <td>...</td>\n    </tr>\n    <tr>\n      <th>1003</th>\n      <td>0100000US</td>\n      <td>United States</td>\n      <td>48-49</td>\n      <td>Transportation and warehousing</td>\n      <td>2015</td>\n      <td>153822</td>\n      <td>202631</td>\n      <td>4591409</td>\n      <td>4499301</td>\n      <td>27612</td>\n      <td>...</td>\n      <td>171575</td>\n      <td>293097</td>\n      <td>3.813</td>\n      <td>10.328</td>\n      <td>184677</td>\n      <td>4.105</td>\n      <td>20.655</td>\n      <td>13968</td>\n      <td>14152</td>\n      <td>66039</td>\n    </tr>\n    <tr>\n      <th>1004</th>\n      <td>0100000US</td>\n      <td>United States</td>\n      <td>48-49</td>\n      <td>Transportation and warehousing</td>\n      <td>2016</td>\n      <td>156798</td>\n      <td>207273</td>\n      <td>4717118</td>\n      <td>4655107</td>\n      <td>26860</td>\n      <td>...</td>\n      <td>185955</td>\n      <td>301012</td>\n      <td>3.995</td>\n      <td>10.461</td>\n      <td>122484</td>\n      <td>2.631</td>\n      <td>20.922</td>\n      <td>15547</td>\n      <td>15803</td>\n      <td>107251</td>\n    </tr>\n    <tr>\n      <th>1005</th>\n      <td>0100000US</td>\n      <td>United States</td>\n      <td>48-49</td>\n      <td>Transportation and warehousing</td>\n      <td>2017</td>\n      <td>157752</td>\n      <td>208815</td>\n      <td>4853859</td>\n      <td>4781787</td>\n      <td>25053</td>\n      <td>...</td>\n      <td>165899</td>\n      <td>336049</td>\n      <td>3.469</td>\n      <td>10.497</td>\n      <td>148348</td>\n      <td>3.102</td>\n      <td>20.994</td>\n      <td>16484</td>\n      <td>16750</td>\n      <td>77042</td>\n    </tr>\n    <tr>\n      <th>1006</th>\n      <td>0100000US</td>\n      <td>United States</td>\n      <td>48-49</td>\n      <td>Transportation and warehousing</td>\n      <td>2018</td>\n      <td>162121</td>\n      <td>213126</td>\n      <td>5018707</td>\n      <td>4936647</td>\n      <td>26681</td>\n      <td>...</td>\n      <td>151173</td>\n      <td>323218</td>\n      <td>3.062</td>\n      <td>9.61</td>\n      <td>164146</td>\n      <td>3.325</td>\n      <td>19.219</td>\n      <td>16025</td>\n      <td>16271</td>\n      <td>80700</td>\n    </tr>\n    <tr>\n      <th>1007</th>\n      <td>0100000US</td>\n      <td>United States</td>\n      <td>48-49</td>\n      <td>Transportation and warehousing</td>\n      <td>2019</td>\n      <td>167380</td>\n      <td>219301</td>\n      <td>5403829</td>\n      <td>5212963</td>\n      <td>28479</td>\n      <td>...</td>\n      <td>130910</td>\n      <td>281802</td>\n      <td>2.511</td>\n      <td>7.917</td>\n      <td>372049</td>\n      <td>7.137</td>\n      <td>15.834</td>\n      <td>18213</td>\n      <td>18495</td>\n      <td>88434</td>\n    </tr>\n  </tbody>\n</table>\n<p>1008 rows × 29 columns</p>\n</div>"
     },
     "execution_count": 19,
     "metadata": {},
     "output_type": "execute_result"
    }
   ],
   "source": [
    "DF_NAICS"
   ],
   "metadata": {
    "collapsed": false,
    "pycharm": {
     "name": "#%%\n"
    }
   }
  },
  {
   "cell_type": "code",
   "execution_count": 20,
   "outputs": [],
   "source": [
    "# DF_NAICS[DF_NAICS[\"NAICS\"] == '31-33']\n",
    "temp_array = [31]*42 + [32]*42 + [33]*42\n",
    "DF_NAICS = DF_NAICS.replace({'NAICS' : { '31-33' : temp_array}})\n",
    "temp_array = [44]*42 + [45]*42\n",
    "DF_NAICS = DF_NAICS.replace({'NAICS' : { '44-45' : temp_array}})\n",
    "temp_array = [48]*42 + [49]*42\n",
    "DF_NAICS = DF_NAICS.replace({'NAICS' : { '48-49' : temp_array}})"
   ],
   "metadata": {
    "collapsed": false,
    "pycharm": {
     "name": "#%%\n"
    }
   }
  },
  {
   "cell_type": "code",
   "execution_count": 21,
   "outputs": [],
   "source": [
    "Keep_Columns_DF_NAICS = ['NAICS', 'YEAR', 'FIRM', 'DENOM', 'ESTABS_ENTRY', 'ESTABS_EXIT', 'JOB_CREATION', 'JOB_DESTRUCTION', 'REALLOCATION_RATE', 'FIRMDEATH_ESTABS', 'FIRMDEATH_EMP']\n",
    "DF_NAICS = DF_NAICS[Keep_Columns_DF_NAICS]"
   ],
   "metadata": {
    "collapsed": false,
    "pycharm": {
     "name": "#%%\n"
    }
   }
  },
  {
   "cell_type": "code",
   "execution_count": 22,
   "outputs": [],
   "source": [
    "To_int_Columns_DF_NAICS = ['NAICS', 'YEAR', 'FIRM', 'DENOM', 'ESTABS_ENTRY', 'ESTABS_EXIT', 'JOB_CREATION', 'JOB_DESTRUCTION', 'FIRMDEATH_ESTABS', 'FIRMDEATH_EMP']\n",
    "for column_name in To_int_Columns_DF_NAICS:\n",
    "    DF_NAICS[column_name] = [int(x) for x in DF_NAICS[column_name]]\n",
    "\n",
    "DF_NAICS['REALLOCATION_RATE'] = [float(x) for x in DF_NAICS['REALLOCATION_RATE']]"
   ],
   "metadata": {
    "collapsed": false,
    "pycharm": {
     "name": "#%%\n"
    }
   }
  },
  {
   "cell_type": "code",
   "execution_count": 23,
   "outputs": [
    {
     "name": "stdout",
     "output_type": "stream",
     "text": [
      "(696342, 7)\n",
      "(1008, 11)\n"
     ]
    }
   ],
   "source": [
    "# Merging Dataset based on NAICS category and dates: Year from DF_NAICS and ApprovalFY from DF_SBA_Loan\n",
    "DF_SBA_Loan = DF_SBA_Loan.rename(columns={\"ApprovalFY\": \"YEAR\"})\n",
    "print(DF_SBA_Loan.shape)\n",
    "print(DF_NAICS.shape)"
   ],
   "metadata": {
    "collapsed": false,
    "pycharm": {
     "name": "#%%\n"
    }
   }
  },
  {
   "cell_type": "code",
   "execution_count": 4,
   "outputs": [
    {
     "ename": "NameError",
     "evalue": "name 'pd' is not defined",
     "output_type": "error",
     "traceback": [
      "\u001B[1;31m---------------------------------------------------------------------------\u001B[0m",
      "\u001B[1;31mNameError\u001B[0m                                 Traceback (most recent call last)",
      "\u001B[1;32m~\\AppData\\Local\\Temp/ipykernel_28540/2240929963.py\u001B[0m in \u001B[0;36m<module>\u001B[1;34m\u001B[0m\n\u001B[1;32m----> 1\u001B[1;33m \u001B[0mdf_merged_NAICS_SBALoan\u001B[0m \u001B[1;33m=\u001B[0m \u001B[0mpd\u001B[0m\u001B[1;33m.\u001B[0m\u001B[0mmerge\u001B[0m\u001B[1;33m(\u001B[0m\u001B[0mDF_SBA_Loan\u001B[0m\u001B[1;33m,\u001B[0m \u001B[0mDF_NAICS\u001B[0m\u001B[1;33m,\u001B[0m  \u001B[0mhow\u001B[0m\u001B[1;33m=\u001B[0m\u001B[1;34m'left'\u001B[0m\u001B[1;33m,\u001B[0m \u001B[0mleft_on\u001B[0m\u001B[1;33m=\u001B[0m\u001B[1;33m[\u001B[0m\u001B[1;34m'NAICS'\u001B[0m\u001B[1;33m,\u001B[0m\u001B[1;34m'YEAR'\u001B[0m\u001B[1;33m]\u001B[0m\u001B[1;33m,\u001B[0m \u001B[0mright_on\u001B[0m \u001B[1;33m=\u001B[0m \u001B[1;33m[\u001B[0m\u001B[1;34m'NAICS'\u001B[0m\u001B[1;33m,\u001B[0m\u001B[1;34m'YEAR'\u001B[0m\u001B[1;33m]\u001B[0m\u001B[1;33m)\u001B[0m\u001B[1;33m\u001B[0m\u001B[1;33m\u001B[0m\u001B[0m\n\u001B[0m\u001B[0;32m      2\u001B[0m \u001B[0mdf_merged_NAICS_SBALoan\u001B[0m\u001B[1;33m\u001B[0m\u001B[1;33m\u001B[0m\u001B[0m\n",
      "\u001B[1;31mNameError\u001B[0m: name 'pd' is not defined"
     ]
    }
   ],
   "source": [
    "df_merged_NAICS_SBALoan = pd.merge(DF_SBA_Loan, DF_NAICS,  how='left', left_on=['NAICS','YEAR'], right_on = ['NAICS','YEAR'])\n",
    "df_merged_NAICS_SBALoan"
   ],
   "metadata": {
    "collapsed": false,
    "pycharm": {
     "name": "#%%\n"
    }
   }
  },
  {
   "cell_type": "code",
   "execution_count": null,
   "outputs": [],
   "source": [
    "correlation = df_merged_NAICS_SBALoan.corr()\n",
    "plt.figure(figsize=(10,10))\n",
    "plt.title('Correlation Heatmap of NAICS_SBA_Dataset')\n",
    "ax = sns.heatmap(correlation, square=True, annot=True, fmt='.2f', linecolor='white')\n",
    "ax.set_xticklabels(ax.get_xticklabels(), rotation=90)\n",
    "ax.set_yticklabels(ax.get_yticklabels(), rotation=30)\n",
    "plt.show()"
   ],
   "metadata": {
    "collapsed": false,
    "pycharm": {
     "name": "#%%\n",
     "is_executing": true
    }
   }
  },
  {
   "cell_type": "code",
   "execution_count": null,
   "outputs": [],
   "source": [
    "# Splitting the data into Train, Val and Test:\n",
    "df_merged_NAICS_SBALoan_train = df_merged_NAICS_SBALoan[df_merged_NAICS_SBALoan['YEAR']<=2007]\n",
    "df_merged_NAICS_SBALoan_val = df_merged_NAICS_SBALoan[(df_merged_NAICS_SBALoan['YEAR'] == 2008) | (df_merged_NAICS_SBALoan['YEAR'] == 2009)]\n",
    "df_merged_NAICS_SBALoan_test = df_merged_NAICS_SBALoan[df_merged_NAICS_SBALoan['YEAR'] >= 2010]"
   ],
   "metadata": {
    "collapsed": false,
    "pycharm": {
     "name": "#%%\n",
     "is_executing": true
    }
   }
  },
  {
   "cell_type": "code",
   "execution_count": 2,
   "outputs": [
    {
     "ename": "NameError",
     "evalue": "name 'df_merged_NAICS_SBALoan_train' is not defined",
     "output_type": "error",
     "traceback": [
      "\u001B[1;31m---------------------------------------------------------------------------\u001B[0m",
      "\u001B[1;31mNameError\u001B[0m                                 Traceback (most recent call last)",
      "\u001B[1;32m~\\AppData\\Local\\Temp/ipykernel_28540/1257078186.py\u001B[0m in \u001B[0;36m<module>\u001B[1;34m\u001B[0m\n\u001B[1;32m----> 1\u001B[1;33m \u001B[0my_train\u001B[0m \u001B[1;33m=\u001B[0m \u001B[0mdf_merged_NAICS_SBALoan_train\u001B[0m\u001B[1;33m[\u001B[0m\u001B[1;34m'SBA_Appv'\u001B[0m\u001B[1;33m]\u001B[0m \u001B[1;33m/\u001B[0m \u001B[0mdf_merged_NAICS_SBALoan_train\u001B[0m\u001B[1;33m[\u001B[0m\u001B[1;34m'GrAppv'\u001B[0m\u001B[1;33m]\u001B[0m\u001B[1;33m\u001B[0m\u001B[1;33m\u001B[0m\u001B[0m\n\u001B[0m\u001B[0;32m      2\u001B[0m \u001B[0mX_train\u001B[0m \u001B[1;33m=\u001B[0m \u001B[0mdf_merged_NAICS_SBALoan_train\u001B[0m\u001B[1;33m.\u001B[0m\u001B[0mdrop\u001B[0m\u001B[1;33m(\u001B[0m\u001B[1;33m[\u001B[0m\u001B[1;34m'SBA_Appv'\u001B[0m\u001B[1;33m]\u001B[0m\u001B[1;33m,\u001B[0m \u001B[0maxis\u001B[0m\u001B[1;33m=\u001B[0m\u001B[1;36m1\u001B[0m\u001B[1;33m)\u001B[0m\u001B[1;33m\u001B[0m\u001B[1;33m\u001B[0m\u001B[0m\n\u001B[0;32m      3\u001B[0m \u001B[0my_val\u001B[0m \u001B[1;33m=\u001B[0m \u001B[0mdf_merged_NAICS_SBALoan_val\u001B[0m\u001B[1;33m[\u001B[0m\u001B[1;34m'SBA_Appv'\u001B[0m\u001B[1;33m]\u001B[0m \u001B[1;33m/\u001B[0m \u001B[0mdf_merged_NAICS_SBALoan_val\u001B[0m\u001B[1;33m[\u001B[0m\u001B[1;34m'GrAppv'\u001B[0m\u001B[1;33m]\u001B[0m\u001B[1;33m\u001B[0m\u001B[1;33m\u001B[0m\u001B[0m\n\u001B[0;32m      4\u001B[0m \u001B[0mX_val\u001B[0m \u001B[1;33m=\u001B[0m \u001B[0mdf_merged_NAICS_SBALoan_val\u001B[0m\u001B[1;33m.\u001B[0m\u001B[0mdrop\u001B[0m\u001B[1;33m(\u001B[0m\u001B[1;33m[\u001B[0m\u001B[1;34m'SBA_Appv'\u001B[0m\u001B[1;33m]\u001B[0m\u001B[1;33m,\u001B[0m \u001B[0maxis\u001B[0m\u001B[1;33m=\u001B[0m\u001B[1;36m1\u001B[0m\u001B[1;33m)\u001B[0m\u001B[1;33m\u001B[0m\u001B[1;33m\u001B[0m\u001B[0m\n\u001B[0;32m      5\u001B[0m \u001B[0my_test\u001B[0m \u001B[1;33m=\u001B[0m \u001B[0mdf_merged_NAICS_SBALoan_test\u001B[0m\u001B[1;33m[\u001B[0m\u001B[1;34m'SBA_Appv'\u001B[0m\u001B[1;33m]\u001B[0m \u001B[1;33m/\u001B[0m \u001B[0mdf_merged_NAICS_SBALoan_test\u001B[0m\u001B[1;33m[\u001B[0m\u001B[1;34m'GrAppv'\u001B[0m\u001B[1;33m]\u001B[0m\u001B[1;33m\u001B[0m\u001B[1;33m\u001B[0m\u001B[0m\n",
      "\u001B[1;31mNameError\u001B[0m: name 'df_merged_NAICS_SBALoan_train' is not defined"
     ]
    }
   ],
   "source": [
    "y_train = df_merged_NAICS_SBALoan_train['SBA_Appv'] / df_merged_NAICS_SBALoan_train['GrAppv']\n",
    "X_train = df_merged_NAICS_SBALoan_train.drop(['SBA_Appv'], axis=1)\n",
    "y_val = df_merged_NAICS_SBALoan_val['SBA_Appv'] / df_merged_NAICS_SBALoan_val['GrAppv']\n",
    "X_val = df_merged_NAICS_SBALoan_val.drop(['SBA_Appv'], axis=1)\n",
    "y_test = df_merged_NAICS_SBALoan_test['SBA_Appv'] / df_merged_NAICS_SBALoan_test['GrAppv']\n",
    "X_test = df_merged_NAICS_SBALoan_test.drop(['SBA_Appv'], axis=1)"
   ],
   "metadata": {
    "collapsed": false,
    "pycharm": {
     "name": "#%%\n"
    }
   }
  },
  {
   "cell_type": "code",
   "execution_count": 3,
   "outputs": [
    {
     "ename": "NameError",
     "evalue": "name 'X_train' is not defined",
     "output_type": "error",
     "traceback": [
      "\u001B[1;31m---------------------------------------------------------------------------\u001B[0m",
      "\u001B[1;31mNameError\u001B[0m                                 Traceback (most recent call last)",
      "\u001B[1;32m~\\AppData\\Local\\Temp/ipykernel_28540/1458809052.py\u001B[0m in \u001B[0;36m<module>\u001B[1;34m\u001B[0m\n\u001B[1;32m----> 1\u001B[1;33m \u001B[0mX_train\u001B[0m\u001B[1;33m.\u001B[0m\u001B[0misnull\u001B[0m\u001B[1;33m(\u001B[0m\u001B[1;33m)\u001B[0m\u001B[1;33m.\u001B[0m\u001B[0msum\u001B[0m\u001B[1;33m(\u001B[0m\u001B[1;33m)\u001B[0m\u001B[1;33m\u001B[0m\u001B[1;33m\u001B[0m\u001B[0m\n\u001B[0m",
      "\u001B[1;31mNameError\u001B[0m: name 'X_train' is not defined"
     ]
    }
   ],
   "source": [
    "X_train.isnull().sum()"
   ],
   "metadata": {
    "collapsed": false,
    "pycharm": {
     "name": "#%%\n"
    }
   }
  },
  {
   "cell_type": "code",
   "execution_count": 595,
   "outputs": [],
   "source": [
    "# # Standardizing the training data and inserting the first column of 1s\n",
    "# from sklearn.preprocessing import StandardScaler\n",
    "# scaler = StandardScaler()\n",
    "# X_train = pd.DataFrame(data=scaler.fit_transform(X_train), columns = X_train.columns, index = X_train.index)\n",
    "# X_train.insert(loc=0, column='col_1s', value=np.ones((len(X_train), 1)))\n",
    "# # Standardizing the validation data by transforming on th scaler fitted on the training scaler and inserting the first column of 1s\n",
    "# X_val = pd.DataFrame(data=scaler.transform(X_val), columns = X_val.columns, index = X_val.index)\n",
    "# X_val.insert(loc=0, column='col_1s', value=np.ones((len(X_val), 1)))\n",
    "# # Standardizing the test data by transforming on th scaler fitted on the training scaler and inserting the first column of 1s\n",
    "# X_test = pd.DataFrame(data=scaler.transform(X_test), columns = X_test.columns, index = X_test.index)\n",
    "# X_test.insert(loc=0, column='col_1s', value=np.ones((len(X_test), 1)))"
   ],
   "metadata": {
    "collapsed": false,
    "pycharm": {
     "name": "#%%\n"
    }
   }
  },
  {
   "cell_type": "code",
   "execution_count": 613,
   "outputs": [],
   "source": [
    "from sklearn.preprocessing import StandardScaler\n",
    "\n",
    "# Define numerical features to use for modelling\n",
    "num_features = ['GrAppv', 'FIRM', 'DENOM', 'ESTABS_ENTRY', 'ESTABS_EXIT', 'JOB_CREATION', 'JOB_DESTRUCTION', 'REALLOCATION_RATE', 'FIRMDEATH_ESTABS', 'FIRMDEATH_EMP']\n",
    "\n",
    "# Define categorical features to use for modelling\n",
    "cat_features = ['State', 'NAICS', 'YEAR', 'NewExist', 'MIS_Status']\n",
    "\n",
    "# Fit scaler (basically get the mean and stdev) for the training data\n",
    "scaler = StandardScaler()\n",
    "scaler.fit(X_train[num_features])\n",
    "\n",
    "def features_scale_and_dummies(df):\n",
    "    scaled = df[num_features].copy()\n",
    "\n",
    "    # Convert numeric features to standard units\n",
    "    scaled.iloc[:, :] = scaler.transform(scaled)\n",
    "\n",
    "    # Convert categorical features using dummy encoding\n",
    "    categoricals = [pd.get_dummies(df[s], prefix=s, drop_first=True) for s in cat_features]\n",
    "\n",
    "    return pd.concat([scaled] + categoricals, axis=1)"
   ],
   "metadata": {
    "collapsed": false,
    "pycharm": {
     "name": "#%%\n"
    }
   }
  },
  {
   "cell_type": "code",
   "execution_count": 614,
   "outputs": [],
   "source": [
    "X_train = features_scale_and_dummies(X_train)\n",
    "X_val = features_scale_and_dummies(X_val)\n",
    "X_test = features_scale_and_dummies(X_test)"
   ],
   "metadata": {
    "collapsed": false,
    "pycharm": {
     "name": "#%%\n"
    }
   }
  },
  {
   "cell_type": "code",
   "execution_count": 620,
   "outputs": [],
   "source": [
    "#Defining RMSE function\n",
    "from sklearn import metrics\n",
    "def rmse(y_pred, y):\n",
    "    return np.sqrt(metrics.mean_squared_error(y_pred, y))"
   ],
   "metadata": {
    "collapsed": false,
    "pycharm": {
     "name": "#%%\n"
    }
   }
  },
  {
   "cell_type": "code",
   "execution_count": 608,
   "outputs": [],
   "source": [
    "P2_Columns = ['State', 'NAICS', 'YEAR', 'NewExist', 'MIS_Status',\n",
    "       'GrAppv', 'FIRM', 'DENOM', 'ESTABS_EXIT',\n",
    "       'JOB_DESTRUCTION', 'REALLOCATION_RATE',\n",
    "       'FIRMDEATH_ESTABS', 'FIRMDEATH_EMP']"
   ],
   "metadata": {
    "collapsed": false,
    "pycharm": {
     "name": "#%%\n"
    }
   }
  },
  {
   "cell_type": "code",
   "execution_count": 616,
   "outputs": [
    {
     "data": {
      "text/plain": "          GrAppv      FIRM     DENOM  ESTABS_ENTRY  ESTABS_EXIT  JOB_CREATION  \\\n0      -0.444311  1.103934  0.956405      1.502609     2.051164      1.582782   \n1      -0.518136 -0.523915 -0.047098      0.154479     0.181831      0.793278   \n2       0.393607  0.120824  0.721523     -0.126808    -0.277480      0.875818   \n3       1.242598 -0.861205  1.504889     -1.197844    -1.030102      0.694275   \n4      -0.499680  0.730978 -0.980443     -0.081842     0.015148     -1.054876   \n...          ...       ...       ...           ...          ...           ...   \n696481 -0.481223 -0.861205  1.504889     -1.197844    -1.030102      0.694275   \n696482  0.072467 -0.861205  1.504889     -1.197844    -1.030102      0.694275   \n696483 -0.407398  1.103934  0.956405      1.502609     2.051164      1.582782   \n696484 -0.352029  1.103934  0.956405      1.502609     2.051164      1.582782   \n696485  0.441593 -0.861205  1.504889     -1.197844    -1.030102      0.694275   \n\n        JOB_DESTRUCTION  REALLOCATION_RATE  FIRMDEATH_ESTABS  FIRMDEATH_EMP  \\\n0              1.264802           0.121250          1.765559       1.143998   \n1              0.720504           1.340763          0.306203       2.047603   \n2              0.553650          -0.459143         -0.223083       0.933461   \n3              0.622593          -1.239392         -0.943088       0.206738   \n4             -1.091613          -0.036658          0.121933      -0.771793   \n...                 ...                ...               ...            ...   \n696481         0.622593          -1.239392         -0.943088       0.206738   \n696482         0.622593          -1.239392         -0.943088       0.206738   \n696483         1.264802           0.121250          1.765559       1.143998   \n696484         1.264802           0.121250          1.765559       1.143998   \n696485         0.622593          -1.239392         -0.943088       0.206738   \n\n        ...  YEAR_2000  YEAR_2001  YEAR_2002  YEAR_2003  YEAR_2004  YEAR_2005  \\\n0       ...          0          0          0          0          0          0   \n1       ...          0          0          0          0          0          0   \n2       ...          0          0          0          0          0          0   \n3       ...          0          0          0          0          0          0   \n4       ...          0          0          0          0          0          0   \n...     ...        ...        ...        ...        ...        ...        ...   \n696481  ...          0          0          0          0          0          0   \n696482  ...          0          0          0          0          0          0   \n696483  ...          0          0          0          0          0          0   \n696484  ...          0          0          0          0          0          0   \n696485  ...          0          0          0          0          0          0   \n\n        YEAR_2006  YEAR_2007  NewExist_2.0  MIS_Status_P I F  \n0               0          0             1                 1  \n1               0          0             1                 1  \n2               0          0             0                 1  \n3               0          0             0                 1  \n4               0          0             1                 1  \n...           ...        ...           ...               ...  \n696481          0          0             0                 1  \n696482          0          0             0                 1  \n696483          0          0             0                 1  \n696484          0          0             0                 1  \n696485          0          0             0                 1  \n\n[599647 rows x 106 columns]",
      "text/html": "<div>\n<style scoped>\n    .dataframe tbody tr th:only-of-type {\n        vertical-align: middle;\n    }\n\n    .dataframe tbody tr th {\n        vertical-align: top;\n    }\n\n    .dataframe thead th {\n        text-align: right;\n    }\n</style>\n<table border=\"1\" class=\"dataframe\">\n  <thead>\n    <tr style=\"text-align: right;\">\n      <th></th>\n      <th>GrAppv</th>\n      <th>FIRM</th>\n      <th>DENOM</th>\n      <th>ESTABS_ENTRY</th>\n      <th>ESTABS_EXIT</th>\n      <th>JOB_CREATION</th>\n      <th>JOB_DESTRUCTION</th>\n      <th>REALLOCATION_RATE</th>\n      <th>FIRMDEATH_ESTABS</th>\n      <th>FIRMDEATH_EMP</th>\n      <th>...</th>\n      <th>YEAR_2000</th>\n      <th>YEAR_2001</th>\n      <th>YEAR_2002</th>\n      <th>YEAR_2003</th>\n      <th>YEAR_2004</th>\n      <th>YEAR_2005</th>\n      <th>YEAR_2006</th>\n      <th>YEAR_2007</th>\n      <th>NewExist_2.0</th>\n      <th>MIS_Status_P I F</th>\n    </tr>\n  </thead>\n  <tbody>\n    <tr>\n      <th>0</th>\n      <td>-0.444311</td>\n      <td>1.103934</td>\n      <td>0.956405</td>\n      <td>1.502609</td>\n      <td>2.051164</td>\n      <td>1.582782</td>\n      <td>1.264802</td>\n      <td>0.121250</td>\n      <td>1.765559</td>\n      <td>1.143998</td>\n      <td>...</td>\n      <td>0</td>\n      <td>0</td>\n      <td>0</td>\n      <td>0</td>\n      <td>0</td>\n      <td>0</td>\n      <td>0</td>\n      <td>0</td>\n      <td>1</td>\n      <td>1</td>\n    </tr>\n    <tr>\n      <th>1</th>\n      <td>-0.518136</td>\n      <td>-0.523915</td>\n      <td>-0.047098</td>\n      <td>0.154479</td>\n      <td>0.181831</td>\n      <td>0.793278</td>\n      <td>0.720504</td>\n      <td>1.340763</td>\n      <td>0.306203</td>\n      <td>2.047603</td>\n      <td>...</td>\n      <td>0</td>\n      <td>0</td>\n      <td>0</td>\n      <td>0</td>\n      <td>0</td>\n      <td>0</td>\n      <td>0</td>\n      <td>0</td>\n      <td>1</td>\n      <td>1</td>\n    </tr>\n    <tr>\n      <th>2</th>\n      <td>0.393607</td>\n      <td>0.120824</td>\n      <td>0.721523</td>\n      <td>-0.126808</td>\n      <td>-0.277480</td>\n      <td>0.875818</td>\n      <td>0.553650</td>\n      <td>-0.459143</td>\n      <td>-0.223083</td>\n      <td>0.933461</td>\n      <td>...</td>\n      <td>0</td>\n      <td>0</td>\n      <td>0</td>\n      <td>0</td>\n      <td>0</td>\n      <td>0</td>\n      <td>0</td>\n      <td>0</td>\n      <td>0</td>\n      <td>1</td>\n    </tr>\n    <tr>\n      <th>3</th>\n      <td>1.242598</td>\n      <td>-0.861205</td>\n      <td>1.504889</td>\n      <td>-1.197844</td>\n      <td>-1.030102</td>\n      <td>0.694275</td>\n      <td>0.622593</td>\n      <td>-1.239392</td>\n      <td>-0.943088</td>\n      <td>0.206738</td>\n      <td>...</td>\n      <td>0</td>\n      <td>0</td>\n      <td>0</td>\n      <td>0</td>\n      <td>0</td>\n      <td>0</td>\n      <td>0</td>\n      <td>0</td>\n      <td>0</td>\n      <td>1</td>\n    </tr>\n    <tr>\n      <th>4</th>\n      <td>-0.499680</td>\n      <td>0.730978</td>\n      <td>-0.980443</td>\n      <td>-0.081842</td>\n      <td>0.015148</td>\n      <td>-1.054876</td>\n      <td>-1.091613</td>\n      <td>-0.036658</td>\n      <td>0.121933</td>\n      <td>-0.771793</td>\n      <td>...</td>\n      <td>0</td>\n      <td>0</td>\n      <td>0</td>\n      <td>0</td>\n      <td>0</td>\n      <td>0</td>\n      <td>0</td>\n      <td>0</td>\n      <td>1</td>\n      <td>1</td>\n    </tr>\n    <tr>\n      <th>...</th>\n      <td>...</td>\n      <td>...</td>\n      <td>...</td>\n      <td>...</td>\n      <td>...</td>\n      <td>...</td>\n      <td>...</td>\n      <td>...</td>\n      <td>...</td>\n      <td>...</td>\n      <td>...</td>\n      <td>...</td>\n      <td>...</td>\n      <td>...</td>\n      <td>...</td>\n      <td>...</td>\n      <td>...</td>\n      <td>...</td>\n      <td>...</td>\n      <td>...</td>\n      <td>...</td>\n    </tr>\n    <tr>\n      <th>696481</th>\n      <td>-0.481223</td>\n      <td>-0.861205</td>\n      <td>1.504889</td>\n      <td>-1.197844</td>\n      <td>-1.030102</td>\n      <td>0.694275</td>\n      <td>0.622593</td>\n      <td>-1.239392</td>\n      <td>-0.943088</td>\n      <td>0.206738</td>\n      <td>...</td>\n      <td>0</td>\n      <td>0</td>\n      <td>0</td>\n      <td>0</td>\n      <td>0</td>\n      <td>0</td>\n      <td>0</td>\n      <td>0</td>\n      <td>0</td>\n      <td>1</td>\n    </tr>\n    <tr>\n      <th>696482</th>\n      <td>0.072467</td>\n      <td>-0.861205</td>\n      <td>1.504889</td>\n      <td>-1.197844</td>\n      <td>-1.030102</td>\n      <td>0.694275</td>\n      <td>0.622593</td>\n      <td>-1.239392</td>\n      <td>-0.943088</td>\n      <td>0.206738</td>\n      <td>...</td>\n      <td>0</td>\n      <td>0</td>\n      <td>0</td>\n      <td>0</td>\n      <td>0</td>\n      <td>0</td>\n      <td>0</td>\n      <td>0</td>\n      <td>0</td>\n      <td>1</td>\n    </tr>\n    <tr>\n      <th>696483</th>\n      <td>-0.407398</td>\n      <td>1.103934</td>\n      <td>0.956405</td>\n      <td>1.502609</td>\n      <td>2.051164</td>\n      <td>1.582782</td>\n      <td>1.264802</td>\n      <td>0.121250</td>\n      <td>1.765559</td>\n      <td>1.143998</td>\n      <td>...</td>\n      <td>0</td>\n      <td>0</td>\n      <td>0</td>\n      <td>0</td>\n      <td>0</td>\n      <td>0</td>\n      <td>0</td>\n      <td>0</td>\n      <td>0</td>\n      <td>1</td>\n    </tr>\n    <tr>\n      <th>696484</th>\n      <td>-0.352029</td>\n      <td>1.103934</td>\n      <td>0.956405</td>\n      <td>1.502609</td>\n      <td>2.051164</td>\n      <td>1.582782</td>\n      <td>1.264802</td>\n      <td>0.121250</td>\n      <td>1.765559</td>\n      <td>1.143998</td>\n      <td>...</td>\n      <td>0</td>\n      <td>0</td>\n      <td>0</td>\n      <td>0</td>\n      <td>0</td>\n      <td>0</td>\n      <td>0</td>\n      <td>0</td>\n      <td>0</td>\n      <td>1</td>\n    </tr>\n    <tr>\n      <th>696485</th>\n      <td>0.441593</td>\n      <td>-0.861205</td>\n      <td>1.504889</td>\n      <td>-1.197844</td>\n      <td>-1.030102</td>\n      <td>0.694275</td>\n      <td>0.622593</td>\n      <td>-1.239392</td>\n      <td>-0.943088</td>\n      <td>0.206738</td>\n      <td>...</td>\n      <td>0</td>\n      <td>0</td>\n      <td>0</td>\n      <td>0</td>\n      <td>0</td>\n      <td>0</td>\n      <td>0</td>\n      <td>0</td>\n      <td>0</td>\n      <td>1</td>\n    </tr>\n  </tbody>\n</table>\n<p>599647 rows × 106 columns</p>\n</div>"
     },
     "execution_count": 616,
     "metadata": {},
     "output_type": "execute_result"
    }
   ],
   "source": [
    "X_train"
   ],
   "metadata": {
    "collapsed": false,
    "pycharm": {
     "name": "#%%\n"
    }
   }
  },
  {
   "cell_type": "code",
   "execution_count": 621,
   "outputs": [],
   "source": [
    "# Part:1 - Considering only Entering Entities to train our model\n",
    "# P1_Columns = ['State', 'NAICS', 'YEAR', 'NewExist', 'MIS_Status', 'GrAppv', 'FIRM', 'DENOM', 'ESTABS_ENTRY', 'JOB_CREATION']\n",
    "X_train_1 = X_train.drop(['ESTABS_EXIT', 'JOB_DESTRUCTION', 'REALLOCATION_RATE', 'FIRMDEATH_ESTABS', 'FIRMDEATH_EMP'], axis=1)\n",
    "X_val_1 = X_val.drop(['ESTABS_EXIT', 'JOB_DESTRUCTION', 'REALLOCATION_RATE', 'FIRMDEATH_ESTABS', 'FIRMDEATH_EMP'], axis=1)"
   ],
   "metadata": {
    "collapsed": false,
    "pycharm": {
     "name": "#%%\n"
    }
   }
  },
  {
   "cell_type": "code",
   "execution_count": 629,
   "outputs": [
    {
     "data": {
      "text/plain": "GrAppv                0\nFIRM                205\nDENOM               205\nESTABS_ENTRY        205\nJOB_CREATION        205\n                   ... \nYEAR_2005             0\nYEAR_2006             0\nYEAR_2007             0\nNewExist_2.0          0\nMIS_Status_P I F      0\nLength: 101, dtype: int64"
     },
     "execution_count": 629,
     "metadata": {},
     "output_type": "execute_result"
    }
   ],
   "source": [
    "X_train_1.isnull().sum()"
   ],
   "metadata": {
    "collapsed": false,
    "pycharm": {
     "name": "#%%\n"
    }
   }
  },
  {
   "cell_type": "code",
   "execution_count": 624,
   "outputs": [
    {
     "ename": "ValueError",
     "evalue": "Input contains NaN, infinity or a value too large for dtype('float64').",
     "output_type": "error",
     "traceback": [
      "\u001B[1;31m---------------------------------------------------------------------------\u001B[0m",
      "\u001B[1;31mValueError\u001B[0m                                Traceback (most recent call last)",
      "\u001B[1;32m~\\AppData\\Local\\Temp/ipykernel_25424/2494177328.py\u001B[0m in \u001B[0;36m<module>\u001B[1;34m\u001B[0m\n\u001B[0;32m      1\u001B[0m \u001B[1;31m# Linear Regression - Performing Linear Regression\u001B[0m\u001B[1;33m\u001B[0m\u001B[1;33m\u001B[0m\u001B[0m\n\u001B[0;32m      2\u001B[0m \u001B[1;32mfrom\u001B[0m \u001B[0msklearn\u001B[0m\u001B[1;33m.\u001B[0m\u001B[0mlinear_model\u001B[0m \u001B[1;32mimport\u001B[0m \u001B[0mLinearRegression\u001B[0m\u001B[1;33m\u001B[0m\u001B[1;33m\u001B[0m\u001B[0m\n\u001B[1;32m----> 3\u001B[1;33m \u001B[0mmodel_1\u001B[0m \u001B[1;33m=\u001B[0m \u001B[0mLinearRegression\u001B[0m\u001B[1;33m(\u001B[0m\u001B[1;33m)\u001B[0m\u001B[1;33m.\u001B[0m\u001B[0mfit\u001B[0m\u001B[1;33m(\u001B[0m\u001B[0mX_train_1\u001B[0m\u001B[1;33m,\u001B[0m \u001B[0my_train\u001B[0m\u001B[1;33m)\u001B[0m\u001B[1;33m\u001B[0m\u001B[1;33m\u001B[0m\u001B[0m\n\u001B[0m\u001B[0;32m      4\u001B[0m \u001B[0my_train_predicted_1\u001B[0m \u001B[1;33m=\u001B[0m \u001B[0mmodel_1\u001B[0m\u001B[1;33m.\u001B[0m\u001B[0mpredict\u001B[0m\u001B[1;33m(\u001B[0m\u001B[0mX_train_1\u001B[0m\u001B[1;33m)\u001B[0m\u001B[1;33m\u001B[0m\u001B[1;33m\u001B[0m\u001B[0m\n\u001B[0;32m      5\u001B[0m \u001B[0my_val_predicted_1\u001B[0m \u001B[1;33m=\u001B[0m \u001B[0mmodel_1\u001B[0m\u001B[1;33m.\u001B[0m\u001B[0mpredict\u001B[0m\u001B[1;33m(\u001B[0m\u001B[0mX_val_1\u001B[0m\u001B[1;33m)\u001B[0m\u001B[1;33m\u001B[0m\u001B[1;33m\u001B[0m\u001B[0m\n",
      "\u001B[1;32m~\\anaconda3\\lib\\site-packages\\sklearn\\linear_model\\_base.py\u001B[0m in \u001B[0;36mfit\u001B[1;34m(self, X, y, sample_weight)\u001B[0m\n\u001B[0;32m    516\u001B[0m         \u001B[0maccept_sparse\u001B[0m \u001B[1;33m=\u001B[0m \u001B[1;32mFalse\u001B[0m \u001B[1;32mif\u001B[0m \u001B[0mself\u001B[0m\u001B[1;33m.\u001B[0m\u001B[0mpositive\u001B[0m \u001B[1;32melse\u001B[0m \u001B[1;33m[\u001B[0m\u001B[1;34m'csr'\u001B[0m\u001B[1;33m,\u001B[0m \u001B[1;34m'csc'\u001B[0m\u001B[1;33m,\u001B[0m \u001B[1;34m'coo'\u001B[0m\u001B[1;33m]\u001B[0m\u001B[1;33m\u001B[0m\u001B[1;33m\u001B[0m\u001B[0m\n\u001B[0;32m    517\u001B[0m \u001B[1;33m\u001B[0m\u001B[0m\n\u001B[1;32m--> 518\u001B[1;33m         X, y = self._validate_data(X, y, accept_sparse=accept_sparse,\n\u001B[0m\u001B[0;32m    519\u001B[0m                                    y_numeric=True, multi_output=True)\n\u001B[0;32m    520\u001B[0m \u001B[1;33m\u001B[0m\u001B[0m\n",
      "\u001B[1;32m~\\anaconda3\\lib\\site-packages\\sklearn\\base.py\u001B[0m in \u001B[0;36m_validate_data\u001B[1;34m(self, X, y, reset, validate_separately, **check_params)\u001B[0m\n\u001B[0;32m    431\u001B[0m                 \u001B[0my\u001B[0m \u001B[1;33m=\u001B[0m \u001B[0mcheck_array\u001B[0m\u001B[1;33m(\u001B[0m\u001B[0my\u001B[0m\u001B[1;33m,\u001B[0m \u001B[1;33m**\u001B[0m\u001B[0mcheck_y_params\u001B[0m\u001B[1;33m)\u001B[0m\u001B[1;33m\u001B[0m\u001B[1;33m\u001B[0m\u001B[0m\n\u001B[0;32m    432\u001B[0m             \u001B[1;32melse\u001B[0m\u001B[1;33m:\u001B[0m\u001B[1;33m\u001B[0m\u001B[1;33m\u001B[0m\u001B[0m\n\u001B[1;32m--> 433\u001B[1;33m                 \u001B[0mX\u001B[0m\u001B[1;33m,\u001B[0m \u001B[0my\u001B[0m \u001B[1;33m=\u001B[0m \u001B[0mcheck_X_y\u001B[0m\u001B[1;33m(\u001B[0m\u001B[0mX\u001B[0m\u001B[1;33m,\u001B[0m \u001B[0my\u001B[0m\u001B[1;33m,\u001B[0m \u001B[1;33m**\u001B[0m\u001B[0mcheck_params\u001B[0m\u001B[1;33m)\u001B[0m\u001B[1;33m\u001B[0m\u001B[1;33m\u001B[0m\u001B[0m\n\u001B[0m\u001B[0;32m    434\u001B[0m             \u001B[0mout\u001B[0m \u001B[1;33m=\u001B[0m \u001B[0mX\u001B[0m\u001B[1;33m,\u001B[0m \u001B[0my\u001B[0m\u001B[1;33m\u001B[0m\u001B[1;33m\u001B[0m\u001B[0m\n\u001B[0;32m    435\u001B[0m \u001B[1;33m\u001B[0m\u001B[0m\n",
      "\u001B[1;32m~\\anaconda3\\lib\\site-packages\\sklearn\\utils\\validation.py\u001B[0m in \u001B[0;36minner_f\u001B[1;34m(*args, **kwargs)\u001B[0m\n\u001B[0;32m     61\u001B[0m             \u001B[0mextra_args\u001B[0m \u001B[1;33m=\u001B[0m \u001B[0mlen\u001B[0m\u001B[1;33m(\u001B[0m\u001B[0margs\u001B[0m\u001B[1;33m)\u001B[0m \u001B[1;33m-\u001B[0m \u001B[0mlen\u001B[0m\u001B[1;33m(\u001B[0m\u001B[0mall_args\u001B[0m\u001B[1;33m)\u001B[0m\u001B[1;33m\u001B[0m\u001B[1;33m\u001B[0m\u001B[0m\n\u001B[0;32m     62\u001B[0m             \u001B[1;32mif\u001B[0m \u001B[0mextra_args\u001B[0m \u001B[1;33m<=\u001B[0m \u001B[1;36m0\u001B[0m\u001B[1;33m:\u001B[0m\u001B[1;33m\u001B[0m\u001B[1;33m\u001B[0m\u001B[0m\n\u001B[1;32m---> 63\u001B[1;33m                 \u001B[1;32mreturn\u001B[0m \u001B[0mf\u001B[0m\u001B[1;33m(\u001B[0m\u001B[1;33m*\u001B[0m\u001B[0margs\u001B[0m\u001B[1;33m,\u001B[0m \u001B[1;33m**\u001B[0m\u001B[0mkwargs\u001B[0m\u001B[1;33m)\u001B[0m\u001B[1;33m\u001B[0m\u001B[1;33m\u001B[0m\u001B[0m\n\u001B[0m\u001B[0;32m     64\u001B[0m \u001B[1;33m\u001B[0m\u001B[0m\n\u001B[0;32m     65\u001B[0m             \u001B[1;31m# extra_args > 0\u001B[0m\u001B[1;33m\u001B[0m\u001B[1;33m\u001B[0m\u001B[0m\n",
      "\u001B[1;32m~\\anaconda3\\lib\\site-packages\\sklearn\\utils\\validation.py\u001B[0m in \u001B[0;36mcheck_X_y\u001B[1;34m(X, y, accept_sparse, accept_large_sparse, dtype, order, copy, force_all_finite, ensure_2d, allow_nd, multi_output, ensure_min_samples, ensure_min_features, y_numeric, estimator)\u001B[0m\n\u001B[0;32m    869\u001B[0m         \u001B[1;32mraise\u001B[0m \u001B[0mValueError\u001B[0m\u001B[1;33m(\u001B[0m\u001B[1;34m\"y cannot be None\"\u001B[0m\u001B[1;33m)\u001B[0m\u001B[1;33m\u001B[0m\u001B[1;33m\u001B[0m\u001B[0m\n\u001B[0;32m    870\u001B[0m \u001B[1;33m\u001B[0m\u001B[0m\n\u001B[1;32m--> 871\u001B[1;33m     X = check_array(X, accept_sparse=accept_sparse,\n\u001B[0m\u001B[0;32m    872\u001B[0m                     \u001B[0maccept_large_sparse\u001B[0m\u001B[1;33m=\u001B[0m\u001B[0maccept_large_sparse\u001B[0m\u001B[1;33m,\u001B[0m\u001B[1;33m\u001B[0m\u001B[1;33m\u001B[0m\u001B[0m\n\u001B[0;32m    873\u001B[0m                     \u001B[0mdtype\u001B[0m\u001B[1;33m=\u001B[0m\u001B[0mdtype\u001B[0m\u001B[1;33m,\u001B[0m \u001B[0morder\u001B[0m\u001B[1;33m=\u001B[0m\u001B[0morder\u001B[0m\u001B[1;33m,\u001B[0m \u001B[0mcopy\u001B[0m\u001B[1;33m=\u001B[0m\u001B[0mcopy\u001B[0m\u001B[1;33m,\u001B[0m\u001B[1;33m\u001B[0m\u001B[1;33m\u001B[0m\u001B[0m\n",
      "\u001B[1;32m~\\anaconda3\\lib\\site-packages\\sklearn\\utils\\validation.py\u001B[0m in \u001B[0;36minner_f\u001B[1;34m(*args, **kwargs)\u001B[0m\n\u001B[0;32m     61\u001B[0m             \u001B[0mextra_args\u001B[0m \u001B[1;33m=\u001B[0m \u001B[0mlen\u001B[0m\u001B[1;33m(\u001B[0m\u001B[0margs\u001B[0m\u001B[1;33m)\u001B[0m \u001B[1;33m-\u001B[0m \u001B[0mlen\u001B[0m\u001B[1;33m(\u001B[0m\u001B[0mall_args\u001B[0m\u001B[1;33m)\u001B[0m\u001B[1;33m\u001B[0m\u001B[1;33m\u001B[0m\u001B[0m\n\u001B[0;32m     62\u001B[0m             \u001B[1;32mif\u001B[0m \u001B[0mextra_args\u001B[0m \u001B[1;33m<=\u001B[0m \u001B[1;36m0\u001B[0m\u001B[1;33m:\u001B[0m\u001B[1;33m\u001B[0m\u001B[1;33m\u001B[0m\u001B[0m\n\u001B[1;32m---> 63\u001B[1;33m                 \u001B[1;32mreturn\u001B[0m \u001B[0mf\u001B[0m\u001B[1;33m(\u001B[0m\u001B[1;33m*\u001B[0m\u001B[0margs\u001B[0m\u001B[1;33m,\u001B[0m \u001B[1;33m**\u001B[0m\u001B[0mkwargs\u001B[0m\u001B[1;33m)\u001B[0m\u001B[1;33m\u001B[0m\u001B[1;33m\u001B[0m\u001B[0m\n\u001B[0m\u001B[0;32m     64\u001B[0m \u001B[1;33m\u001B[0m\u001B[0m\n\u001B[0;32m     65\u001B[0m             \u001B[1;31m# extra_args > 0\u001B[0m\u001B[1;33m\u001B[0m\u001B[1;33m\u001B[0m\u001B[0m\n",
      "\u001B[1;32m~\\anaconda3\\lib\\site-packages\\sklearn\\utils\\validation.py\u001B[0m in \u001B[0;36mcheck_array\u001B[1;34m(array, accept_sparse, accept_large_sparse, dtype, order, copy, force_all_finite, ensure_2d, allow_nd, ensure_min_samples, ensure_min_features, estimator)\u001B[0m\n\u001B[0;32m    718\u001B[0m \u001B[1;33m\u001B[0m\u001B[0m\n\u001B[0;32m    719\u001B[0m         \u001B[1;32mif\u001B[0m \u001B[0mforce_all_finite\u001B[0m\u001B[1;33m:\u001B[0m\u001B[1;33m\u001B[0m\u001B[1;33m\u001B[0m\u001B[0m\n\u001B[1;32m--> 720\u001B[1;33m             _assert_all_finite(array,\n\u001B[0m\u001B[0;32m    721\u001B[0m                                allow_nan=force_all_finite == 'allow-nan')\n\u001B[0;32m    722\u001B[0m \u001B[1;33m\u001B[0m\u001B[0m\n",
      "\u001B[1;32m~\\anaconda3\\lib\\site-packages\\sklearn\\utils\\validation.py\u001B[0m in \u001B[0;36m_assert_all_finite\u001B[1;34m(X, allow_nan, msg_dtype)\u001B[0m\n\u001B[0;32m    101\u001B[0m                 not allow_nan and not np.isfinite(X).all()):\n\u001B[0;32m    102\u001B[0m             \u001B[0mtype_err\u001B[0m \u001B[1;33m=\u001B[0m \u001B[1;34m'infinity'\u001B[0m \u001B[1;32mif\u001B[0m \u001B[0mallow_nan\u001B[0m \u001B[1;32melse\u001B[0m \u001B[1;34m'NaN, infinity'\u001B[0m\u001B[1;33m\u001B[0m\u001B[1;33m\u001B[0m\u001B[0m\n\u001B[1;32m--> 103\u001B[1;33m             raise ValueError(\n\u001B[0m\u001B[0;32m    104\u001B[0m                     \u001B[0mmsg_err\u001B[0m\u001B[1;33m.\u001B[0m\u001B[0mformat\u001B[0m\u001B[1;33m\u001B[0m\u001B[1;33m\u001B[0m\u001B[0m\n\u001B[0;32m    105\u001B[0m                     (type_err,\n",
      "\u001B[1;31mValueError\u001B[0m: Input contains NaN, infinity or a value too large for dtype('float64')."
     ]
    }
   ],
   "source": [
    "# Linear Regression - Performing Linear Regression\n",
    "from sklearn.linear_model import LinearRegression\n",
    "model_1 = LinearRegression().fit(X_train_1, y_train)\n",
    "y_train_predicted_1 = model_1.predict(X_train_1)\n",
    "y_val_predicted_1 = model_1.predict(X_val_1)\n",
    "# Linear Regression - RMSE for training and validation data\n",
    "rmse_train_1 = rmse(y_train, y_train_predicted_1)\n",
    "rmse_val_1 = rmse(y_val, y_val_predicted_1)\n",
    "print(\"For the linear regression model in part 2:\\n\", \"RMSE for training data is: \",rmse_train_1,\"\\n\",\"RMSE for validation data is: \",rmse_val_1)"
   ],
   "metadata": {
    "collapsed": false,
    "pycharm": {
     "name": "#%%\n"
    }
   }
  },
  {
   "cell_type": "code",
   "execution_count": null,
   "outputs": [],
   "source": [],
   "metadata": {
    "collapsed": false,
    "pycharm": {
     "name": "#%%\n"
    }
   }
  }
 ],
 "metadata": {
  "kernelspec": {
   "display_name": "Python 3",
   "language": "python",
   "name": "python3"
  },
  "language_info": {
   "codemirror_mode": {
    "name": "ipython",
    "version": 2
   },
   "file_extension": ".py",
   "mimetype": "text/x-python",
   "name": "python",
   "nbconvert_exporter": "python",
   "pygments_lexer": "ipython2",
   "version": "2.7.6"
  }
 },
 "nbformat": 4,
 "nbformat_minor": 0
}