{
 "cells": [
  {
   "cell_type": "code",
   "execution_count": 324,
   "metadata": {
    "collapsed": true
   },
   "outputs": [],
   "source": [
    "import os\n",
    "import json\n",
    "import pandas as pd\n",
    "import seaborn as sns\n",
    "from datetime import datetime\n",
    "import numpy as np\n",
    "import matplotlib.pylab as plt"
   ]
  },
  {
   "cell_type": "code",
   "execution_count": 325,
   "outputs": [],
   "source": [
    "SBA_Loan = pd.read_csv('SBA_Loan_test.csv')"
   ],
   "metadata": {
    "collapsed": false,
    "pycharm": {
     "name": "#%%\n"
    }
   }
  },
  {
   "cell_type": "code",
   "execution_count": 365,
   "outputs": [
    {
     "data": {
      "text/plain": "        LoanNr_ChkDgt                            Name             City State  \\\n0          1000014003                  ABC HOBBYCRAFT       EVANSVILLE    IN   \n1          1000024006     LANDMARK BAR & GRILLE (THE)        NEW PARIS    IN   \n2          1000034009           WHITLOCK DDS, TODD M.      BLOOMINGTON    IN   \n3          1000044001   BIG BUCKS PAWN & JEWELRY, LLC     BROKEN ARROW    OK   \n4          1000054004     ANASTASIA CONFECTIONS, INC.          ORLANDO    FL   \n...               ...                             ...              ...   ...   \n899159     9995573004                    FABRIC FARMS  UPPER ARLINGTON    OH   \n899160     9995603000                    FABRIC FARMS         COLUMBUS    OH   \n899161     9995613003    RADCO MANUFACTURING CO.,INC.      SANTA MARIA    CA   \n899162     9995973006           MARUTAMA HAWAII, INC.         HONOLULU    HI   \n899163     9996003010  PACIFIC TRADEWINDS FAN & LIGHT           KAILUA    HI   \n\n          Zip                            Bank BankState   NAICS ApprovalDate  \\\n0       47711                FIFTH THIRD BANK        OH  451120   1997-02-28   \n1       46526                 1ST SOURCE BANK        IN  722410   1997-02-28   \n2       47401         GRANT COUNTY STATE BANK        IN  621210   1997-02-28   \n3       74012   1ST NATL BK & TR CO OF BROKEN        OK       0   1997-02-28   \n4       32801         FLORIDA BUS. DEVEL CORP        FL       0   1997-02-28   \n...       ...                             ...       ...     ...          ...   \n899159  43221  JPMORGAN CHASE BANK NATL ASSOC        IL  451120   1997-02-27   \n899160  43221  JPMORGAN CHASE BANK NATL ASSOC        IL  451130   1997-02-27   \n899161  93455  RABOBANK, NATIONAL ASSOCIATION        CA  332321   1997-02-27   \n899162  96830                  BANK OF HAWAII        HI       0   1997-02-27   \n899163  96734            CENTRAL PACIFIC BANK        HI       0   1997-02-27   \n\n        ApprovalFY  ...  LowDoc  ChgOffDate  DisbursementDate  \\\n0             1997  ...       Y         NaN         28-Feb-99   \n1             1997  ...       Y         NaN         31-May-97   \n2             1997  ...       N         NaN         31-Dec-97   \n3             1997  ...       Y         NaN         30-Jun-97   \n4             1997  ...       N         NaN         14-May-97   \n...            ...  ...     ...         ...               ...   \n899159        1997  ...       N         NaN         30-Sep-97   \n899160        1997  ...       N         NaN         31-Oct-97   \n899161        1997  ...       N         NaN         30-Sep-97   \n899162        1997  ...       Y    8-Mar-00         31-Mar-97   \n899163        1997  ...       N         NaN         31-May-97   \n\n        DisbursementGross  BalanceGross  MIS_Status  ChgOffPrinGr    GrAppv  \\\n0                 60000.0           0.0       P I F           0.0   60000.0   \n1                 40000.0           0.0       P I F           0.0   40000.0   \n2                287000.0           0.0       P I F           0.0  287000.0   \n3                 35000.0           0.0       P I F           0.0   35000.0   \n4                229000.0           0.0       P I F           0.0  229000.0   \n...                   ...           ...         ...           ...       ...   \n899159            70000.0           0.0       P I F           0.0   70000.0   \n899160            85000.0           0.0       P I F           0.0   85000.0   \n899161           300000.0           0.0       P I F           0.0  300000.0   \n899162            75000.0           0.0      CHGOFF       46383.0   75000.0   \n899163            30000.0           0.0       P I F           0.0   30000.0   \n\n        SBA_Appv                           Industry  \n0        48000.0                       Retail trade  \n1        32000.0    Accommodation and food services  \n2       215250.0  Health care and social assistance  \n3        28000.0                          Undefined  \n4       229000.0                          Undefined  \n...          ...                                ...  \n899159   56000.0                       Retail trade  \n899160   42500.0                       Retail trade  \n899161  225000.0                      Manufacturing  \n899162   60000.0                          Undefined  \n899163   24000.0                          Undefined  \n\n[899164 rows x 28 columns]",
      "text/html": "<div>\n<style scoped>\n    .dataframe tbody tr th:only-of-type {\n        vertical-align: middle;\n    }\n\n    .dataframe tbody tr th {\n        vertical-align: top;\n    }\n\n    .dataframe thead th {\n        text-align: right;\n    }\n</style>\n<table border=\"1\" class=\"dataframe\">\n  <thead>\n    <tr style=\"text-align: right;\">\n      <th></th>\n      <th>LoanNr_ChkDgt</th>\n      <th>Name</th>\n      <th>City</th>\n      <th>State</th>\n      <th>Zip</th>\n      <th>Bank</th>\n      <th>BankState</th>\n      <th>NAICS</th>\n      <th>ApprovalDate</th>\n      <th>ApprovalFY</th>\n      <th>...</th>\n      <th>LowDoc</th>\n      <th>ChgOffDate</th>\n      <th>DisbursementDate</th>\n      <th>DisbursementGross</th>\n      <th>BalanceGross</th>\n      <th>MIS_Status</th>\n      <th>ChgOffPrinGr</th>\n      <th>GrAppv</th>\n      <th>SBA_Appv</th>\n      <th>Industry</th>\n    </tr>\n  </thead>\n  <tbody>\n    <tr>\n      <th>0</th>\n      <td>1000014003</td>\n      <td>ABC HOBBYCRAFT</td>\n      <td>EVANSVILLE</td>\n      <td>IN</td>\n      <td>47711</td>\n      <td>FIFTH THIRD BANK</td>\n      <td>OH</td>\n      <td>451120</td>\n      <td>1997-02-28</td>\n      <td>1997</td>\n      <td>...</td>\n      <td>Y</td>\n      <td>NaN</td>\n      <td>28-Feb-99</td>\n      <td>60000.0</td>\n      <td>0.0</td>\n      <td>P I F</td>\n      <td>0.0</td>\n      <td>60000.0</td>\n      <td>48000.0</td>\n      <td>Retail trade</td>\n    </tr>\n    <tr>\n      <th>1</th>\n      <td>1000024006</td>\n      <td>LANDMARK BAR &amp; GRILLE (THE)</td>\n      <td>NEW PARIS</td>\n      <td>IN</td>\n      <td>46526</td>\n      <td>1ST SOURCE BANK</td>\n      <td>IN</td>\n      <td>722410</td>\n      <td>1997-02-28</td>\n      <td>1997</td>\n      <td>...</td>\n      <td>Y</td>\n      <td>NaN</td>\n      <td>31-May-97</td>\n      <td>40000.0</td>\n      <td>0.0</td>\n      <td>P I F</td>\n      <td>0.0</td>\n      <td>40000.0</td>\n      <td>32000.0</td>\n      <td>Accommodation and food services</td>\n    </tr>\n    <tr>\n      <th>2</th>\n      <td>1000034009</td>\n      <td>WHITLOCK DDS, TODD M.</td>\n      <td>BLOOMINGTON</td>\n      <td>IN</td>\n      <td>47401</td>\n      <td>GRANT COUNTY STATE BANK</td>\n      <td>IN</td>\n      <td>621210</td>\n      <td>1997-02-28</td>\n      <td>1997</td>\n      <td>...</td>\n      <td>N</td>\n      <td>NaN</td>\n      <td>31-Dec-97</td>\n      <td>287000.0</td>\n      <td>0.0</td>\n      <td>P I F</td>\n      <td>0.0</td>\n      <td>287000.0</td>\n      <td>215250.0</td>\n      <td>Health care and social assistance</td>\n    </tr>\n    <tr>\n      <th>3</th>\n      <td>1000044001</td>\n      <td>BIG BUCKS PAWN &amp; JEWELRY, LLC</td>\n      <td>BROKEN ARROW</td>\n      <td>OK</td>\n      <td>74012</td>\n      <td>1ST NATL BK &amp; TR CO OF BROKEN</td>\n      <td>OK</td>\n      <td>0</td>\n      <td>1997-02-28</td>\n      <td>1997</td>\n      <td>...</td>\n      <td>Y</td>\n      <td>NaN</td>\n      <td>30-Jun-97</td>\n      <td>35000.0</td>\n      <td>0.0</td>\n      <td>P I F</td>\n      <td>0.0</td>\n      <td>35000.0</td>\n      <td>28000.0</td>\n      <td>Undefined</td>\n    </tr>\n    <tr>\n      <th>4</th>\n      <td>1000054004</td>\n      <td>ANASTASIA CONFECTIONS, INC.</td>\n      <td>ORLANDO</td>\n      <td>FL</td>\n      <td>32801</td>\n      <td>FLORIDA BUS. DEVEL CORP</td>\n      <td>FL</td>\n      <td>0</td>\n      <td>1997-02-28</td>\n      <td>1997</td>\n      <td>...</td>\n      <td>N</td>\n      <td>NaN</td>\n      <td>14-May-97</td>\n      <td>229000.0</td>\n      <td>0.0</td>\n      <td>P I F</td>\n      <td>0.0</td>\n      <td>229000.0</td>\n      <td>229000.0</td>\n      <td>Undefined</td>\n    </tr>\n    <tr>\n      <th>...</th>\n      <td>...</td>\n      <td>...</td>\n      <td>...</td>\n      <td>...</td>\n      <td>...</td>\n      <td>...</td>\n      <td>...</td>\n      <td>...</td>\n      <td>...</td>\n      <td>...</td>\n      <td>...</td>\n      <td>...</td>\n      <td>...</td>\n      <td>...</td>\n      <td>...</td>\n      <td>...</td>\n      <td>...</td>\n      <td>...</td>\n      <td>...</td>\n      <td>...</td>\n      <td>...</td>\n    </tr>\n    <tr>\n      <th>899159</th>\n      <td>9995573004</td>\n      <td>FABRIC FARMS</td>\n      <td>UPPER ARLINGTON</td>\n      <td>OH</td>\n      <td>43221</td>\n      <td>JPMORGAN CHASE BANK NATL ASSOC</td>\n      <td>IL</td>\n      <td>451120</td>\n      <td>1997-02-27</td>\n      <td>1997</td>\n      <td>...</td>\n      <td>N</td>\n      <td>NaN</td>\n      <td>30-Sep-97</td>\n      <td>70000.0</td>\n      <td>0.0</td>\n      <td>P I F</td>\n      <td>0.0</td>\n      <td>70000.0</td>\n      <td>56000.0</td>\n      <td>Retail trade</td>\n    </tr>\n    <tr>\n      <th>899160</th>\n      <td>9995603000</td>\n      <td>FABRIC FARMS</td>\n      <td>COLUMBUS</td>\n      <td>OH</td>\n      <td>43221</td>\n      <td>JPMORGAN CHASE BANK NATL ASSOC</td>\n      <td>IL</td>\n      <td>451130</td>\n      <td>1997-02-27</td>\n      <td>1997</td>\n      <td>...</td>\n      <td>N</td>\n      <td>NaN</td>\n      <td>31-Oct-97</td>\n      <td>85000.0</td>\n      <td>0.0</td>\n      <td>P I F</td>\n      <td>0.0</td>\n      <td>85000.0</td>\n      <td>42500.0</td>\n      <td>Retail trade</td>\n    </tr>\n    <tr>\n      <th>899161</th>\n      <td>9995613003</td>\n      <td>RADCO MANUFACTURING CO.,INC.</td>\n      <td>SANTA MARIA</td>\n      <td>CA</td>\n      <td>93455</td>\n      <td>RABOBANK, NATIONAL ASSOCIATION</td>\n      <td>CA</td>\n      <td>332321</td>\n      <td>1997-02-27</td>\n      <td>1997</td>\n      <td>...</td>\n      <td>N</td>\n      <td>NaN</td>\n      <td>30-Sep-97</td>\n      <td>300000.0</td>\n      <td>0.0</td>\n      <td>P I F</td>\n      <td>0.0</td>\n      <td>300000.0</td>\n      <td>225000.0</td>\n      <td>Manufacturing</td>\n    </tr>\n    <tr>\n      <th>899162</th>\n      <td>9995973006</td>\n      <td>MARUTAMA HAWAII, INC.</td>\n      <td>HONOLULU</td>\n      <td>HI</td>\n      <td>96830</td>\n      <td>BANK OF HAWAII</td>\n      <td>HI</td>\n      <td>0</td>\n      <td>1997-02-27</td>\n      <td>1997</td>\n      <td>...</td>\n      <td>Y</td>\n      <td>8-Mar-00</td>\n      <td>31-Mar-97</td>\n      <td>75000.0</td>\n      <td>0.0</td>\n      <td>CHGOFF</td>\n      <td>46383.0</td>\n      <td>75000.0</td>\n      <td>60000.0</td>\n      <td>Undefined</td>\n    </tr>\n    <tr>\n      <th>899163</th>\n      <td>9996003010</td>\n      <td>PACIFIC TRADEWINDS FAN &amp; LIGHT</td>\n      <td>KAILUA</td>\n      <td>HI</td>\n      <td>96734</td>\n      <td>CENTRAL PACIFIC BANK</td>\n      <td>HI</td>\n      <td>0</td>\n      <td>1997-02-27</td>\n      <td>1997</td>\n      <td>...</td>\n      <td>N</td>\n      <td>NaN</td>\n      <td>31-May-97</td>\n      <td>30000.0</td>\n      <td>0.0</td>\n      <td>P I F</td>\n      <td>0.0</td>\n      <td>30000.0</td>\n      <td>24000.0</td>\n      <td>Undefined</td>\n    </tr>\n  </tbody>\n</table>\n<p>899164 rows × 28 columns</p>\n</div>"
     },
     "execution_count": 365,
     "metadata": {},
     "output_type": "execute_result"
    }
   ],
   "source": [
    "DF_SBA_Loan = SBA_Loan.copy()\n",
    "DF_SBA_Loan"
   ],
   "metadata": {
    "collapsed": false,
    "pycharm": {
     "name": "#%%\n"
    }
   }
  },
  {
   "cell_type": "code",
   "execution_count": 366,
   "outputs": [],
   "source": [
    "#Keeping just the first 2 digits in the NAICS column of DF_SBA_Loan\n",
    "DF_SBA_Loan[DF_SBA_Loan[\"NAICS\"] == 0]\n",
    "DF_SBA_Loan.drop(DF_SBA_Loan[DF_SBA_Loan[\"NAICS\"] == 0].index, inplace=True)"
   ],
   "metadata": {
    "collapsed": false,
    "pycharm": {
     "name": "#%%\n"
    }
   }
  },
  {
   "cell_type": "code",
   "execution_count": 367,
   "outputs": [],
   "source": [
    "a = [str(x) for x in np.array(DF_SBA_Loan[\"NAICS\"])]\n",
    "a = [s[:2] for s in a]\n",
    "DF_SBA_Loan[\"NAICS\"] = [int(x) for x in a]"
   ],
   "metadata": {
    "collapsed": false,
    "pycharm": {
     "name": "#%%\n"
    }
   }
  },
  {
   "cell_type": "code",
   "execution_count": 368,
   "outputs": [
    {
     "data": {
      "text/plain": "       State                            Bank BankState  NAICS  ApprovalFY  \\\n0         IN                FIFTH THIRD BANK        OH     45        1997   \n1         IN                 1ST SOURCE BANK        IN     72        1997   \n2         IN         GRANT COUNTY STATE BANK        IN     62        1997   \n3         CT   TD BANK, NATIONAL ASSOCIATION        DE     33        1997   \n4         FL                    REGIONS BANK        AL     81        1997   \n...      ...                             ...       ...    ...         ...   \n697211    MD      BANK OF AMERICA NATL ASSOC        MD     33        1997   \n697212    CA  U.S. BANK NATIONAL ASSOCIATION        CA     31        1997   \n697213    OH  JPMORGAN CHASE BANK NATL ASSOC        IL     45        1997   \n697214    OH  JPMORGAN CHASE BANK NATL ASSOC        IL     45        1997   \n697215    CA  RABOBANK, NATIONAL ASSOCIATION        CA     33        1997   \n\n        NewExist MIS_Status  SBA_Appv  \n0            2.0      P I F   48000.0  \n1            2.0      P I F   32000.0  \n2            1.0      P I F  215250.0  \n3            1.0      P I F  387750.0  \n4            2.0      P I F   36000.0  \n...          ...        ...       ...  \n697211       1.0      P I F   25000.0  \n697212       1.0      P I F  150000.0  \n697213       1.0      P I F   56000.0  \n697214       1.0      P I F   42500.0  \n697215       1.0      P I F  225000.0  \n\n[697216 rows x 8 columns]",
      "text/html": "<div>\n<style scoped>\n    .dataframe tbody tr th:only-of-type {\n        vertical-align: middle;\n    }\n\n    .dataframe tbody tr th {\n        vertical-align: top;\n    }\n\n    .dataframe thead th {\n        text-align: right;\n    }\n</style>\n<table border=\"1\" class=\"dataframe\">\n  <thead>\n    <tr style=\"text-align: right;\">\n      <th></th>\n      <th>State</th>\n      <th>Bank</th>\n      <th>BankState</th>\n      <th>NAICS</th>\n      <th>ApprovalFY</th>\n      <th>NewExist</th>\n      <th>MIS_Status</th>\n      <th>SBA_Appv</th>\n    </tr>\n  </thead>\n  <tbody>\n    <tr>\n      <th>0</th>\n      <td>IN</td>\n      <td>FIFTH THIRD BANK</td>\n      <td>OH</td>\n      <td>45</td>\n      <td>1997</td>\n      <td>2.0</td>\n      <td>P I F</td>\n      <td>48000.0</td>\n    </tr>\n    <tr>\n      <th>1</th>\n      <td>IN</td>\n      <td>1ST SOURCE BANK</td>\n      <td>IN</td>\n      <td>72</td>\n      <td>1997</td>\n      <td>2.0</td>\n      <td>P I F</td>\n      <td>32000.0</td>\n    </tr>\n    <tr>\n      <th>2</th>\n      <td>IN</td>\n      <td>GRANT COUNTY STATE BANK</td>\n      <td>IN</td>\n      <td>62</td>\n      <td>1997</td>\n      <td>1.0</td>\n      <td>P I F</td>\n      <td>215250.0</td>\n    </tr>\n    <tr>\n      <th>3</th>\n      <td>CT</td>\n      <td>TD BANK, NATIONAL ASSOCIATION</td>\n      <td>DE</td>\n      <td>33</td>\n      <td>1997</td>\n      <td>1.0</td>\n      <td>P I F</td>\n      <td>387750.0</td>\n    </tr>\n    <tr>\n      <th>4</th>\n      <td>FL</td>\n      <td>REGIONS BANK</td>\n      <td>AL</td>\n      <td>81</td>\n      <td>1997</td>\n      <td>2.0</td>\n      <td>P I F</td>\n      <td>36000.0</td>\n    </tr>\n    <tr>\n      <th>...</th>\n      <td>...</td>\n      <td>...</td>\n      <td>...</td>\n      <td>...</td>\n      <td>...</td>\n      <td>...</td>\n      <td>...</td>\n      <td>...</td>\n    </tr>\n    <tr>\n      <th>697211</th>\n      <td>MD</td>\n      <td>BANK OF AMERICA NATL ASSOC</td>\n      <td>MD</td>\n      <td>33</td>\n      <td>1997</td>\n      <td>1.0</td>\n      <td>P I F</td>\n      <td>25000.0</td>\n    </tr>\n    <tr>\n      <th>697212</th>\n      <td>CA</td>\n      <td>U.S. BANK NATIONAL ASSOCIATION</td>\n      <td>CA</td>\n      <td>31</td>\n      <td>1997</td>\n      <td>1.0</td>\n      <td>P I F</td>\n      <td>150000.0</td>\n    </tr>\n    <tr>\n      <th>697213</th>\n      <td>OH</td>\n      <td>JPMORGAN CHASE BANK NATL ASSOC</td>\n      <td>IL</td>\n      <td>45</td>\n      <td>1997</td>\n      <td>1.0</td>\n      <td>P I F</td>\n      <td>56000.0</td>\n    </tr>\n    <tr>\n      <th>697214</th>\n      <td>OH</td>\n      <td>JPMORGAN CHASE BANK NATL ASSOC</td>\n      <td>IL</td>\n      <td>45</td>\n      <td>1997</td>\n      <td>1.0</td>\n      <td>P I F</td>\n      <td>42500.0</td>\n    </tr>\n    <tr>\n      <th>697215</th>\n      <td>CA</td>\n      <td>RABOBANK, NATIONAL ASSOCIATION</td>\n      <td>CA</td>\n      <td>33</td>\n      <td>1997</td>\n      <td>1.0</td>\n      <td>P I F</td>\n      <td>225000.0</td>\n    </tr>\n  </tbody>\n</table>\n<p>697216 rows × 8 columns</p>\n</div>"
     },
     "execution_count": 368,
     "metadata": {},
     "output_type": "execute_result"
    }
   ],
   "source": [
    "DF_SBA_Loan = DF_SBA_Loan[['State', 'Bank', 'BankState', 'NAICS', 'ApprovalFY', 'NewExist', 'MIS_Status', 'SBA_Appv']] #'UrbanRural', 'LowDoc' left out\n",
    "DF_SBA_Loan = DF_SBA_Loan.reset_index(drop=True)\n",
    "DF_SBA_Loan"
   ],
   "metadata": {
    "collapsed": false,
    "pycharm": {
     "name": "#%%\n"
    }
   }
  },
  {
   "cell_type": "code",
   "execution_count": 369,
   "outputs": [],
   "source": [
    "DF_SBA_Loan.drop(DF_SBA_Loan[DF_SBA_Loan['NewExist'] == 0].index, inplace=True)"
   ],
   "metadata": {
    "collapsed": false,
    "pycharm": {
     "name": "#%%\n"
    }
   }
  },
  {
   "cell_type": "code",
   "execution_count": 370,
   "outputs": [],
   "source": [
    "# DF_SBA_Loan['UrbanRural'].value_counts()\n",
    "# DF_SBA_Loan[DF_SBA_Loan['UrbanRural'] == 0]\n",
    "# sns.countplot(x='UrbanRural', data=DF_SBA_Loan, hue='RevLineCr')\n",
    "# DF_SBA_Loan['MIS_Status'].value_counts()"
   ],
   "metadata": {
    "collapsed": false,
    "pycharm": {
     "name": "#%%\n"
    }
   }
  },
  {
   "cell_type": "code",
   "execution_count": 371,
   "outputs": [],
   "source": [
    "NAICS_BDS = pd.read_csv('NAICS_BDS_timeseries_data.csv', low_memory=False)\n",
    "NAICS_BDS = NAICS_BDS.drop([0])"
   ],
   "metadata": {
    "collapsed": false,
    "pycharm": {
     "name": "#%%\n"
    }
   }
  },
  {
   "cell_type": "code",
   "execution_count": 372,
   "outputs": [
    {
     "data": {
      "text/plain": "      GEO_ID           NAME NAICS            NAICS_LABEL  YEAR     FIRM  \\\n1  0100000US  United States    00  Total for all sectors  1978  3557994   \n2  0100000US  United States    00  Total for all sectors  1979  3692077   \n3  0100000US  United States    00  Total for all sectors  1980  3739809   \n4  0100000US  United States    00  Total for all sectors  1981  3770852   \n5  0100000US  United States    00  Total for all sectors  1982  3720273   \n\n     ESTAB       EMP     DENOM ESTABS_ENTRY  ... JOB_DESTRUCTION_DEATHS  \\\n1  4310626  69410001  66810001       654226  ...                4048046   \n2  4472108  73848234  71727111       630253  ...                3760616   \n3  4533251  74109267  74018218       592484  ...                4246135   \n4  4615479  75728652  74924061       606853  ...                3478843   \n5  4598769  74922226  75267274       572030  ...                4055239   \n\n  JOB_DESTRUCTION_CONTINUERS JOB_DESTRUCTION_RATE_DEATHS JOB_DESTRUCTION_RATE  \\\n1                    5420961                       6.059               14.173   \n2                    6043218                       5.243               13.668   \n3                    7797198                       5.737               16.271   \n4                    7782399                       4.643               15.030   \n5                    8683755                       5.388               16.925   \n\n  NET_JOB_CREATION NET_JOB_CREATION_RATE REALLOCATION_RATE FIRMDEATH_FIRMS  \\\n1          5196537                 7.778            28.346          327278   \n2          4248257                 5.923            27.336          328024   \n3           188937                 0.255            32.542          368578   \n4          1609104                 2.148            30.060          377291   \n5          -678350                -0.901            32.048          412488   \n\n  FIRMDEATH_ESTABS FIRMDEATH_EMP  \n1           332504       1824251  \n2           332633       1785478  \n3           373754       1941422  \n4           383748       2005707  \n5           418501       2211944  \n\n[5 rows x 29 columns]",
      "text/html": "<div>\n<style scoped>\n    .dataframe tbody tr th:only-of-type {\n        vertical-align: middle;\n    }\n\n    .dataframe tbody tr th {\n        vertical-align: top;\n    }\n\n    .dataframe thead th {\n        text-align: right;\n    }\n</style>\n<table border=\"1\" class=\"dataframe\">\n  <thead>\n    <tr style=\"text-align: right;\">\n      <th></th>\n      <th>GEO_ID</th>\n      <th>NAME</th>\n      <th>NAICS</th>\n      <th>NAICS_LABEL</th>\n      <th>YEAR</th>\n      <th>FIRM</th>\n      <th>ESTAB</th>\n      <th>EMP</th>\n      <th>DENOM</th>\n      <th>ESTABS_ENTRY</th>\n      <th>...</th>\n      <th>JOB_DESTRUCTION_DEATHS</th>\n      <th>JOB_DESTRUCTION_CONTINUERS</th>\n      <th>JOB_DESTRUCTION_RATE_DEATHS</th>\n      <th>JOB_DESTRUCTION_RATE</th>\n      <th>NET_JOB_CREATION</th>\n      <th>NET_JOB_CREATION_RATE</th>\n      <th>REALLOCATION_RATE</th>\n      <th>FIRMDEATH_FIRMS</th>\n      <th>FIRMDEATH_ESTABS</th>\n      <th>FIRMDEATH_EMP</th>\n    </tr>\n  </thead>\n  <tbody>\n    <tr>\n      <th>1</th>\n      <td>0100000US</td>\n      <td>United States</td>\n      <td>00</td>\n      <td>Total for all sectors</td>\n      <td>1978</td>\n      <td>3557994</td>\n      <td>4310626</td>\n      <td>69410001</td>\n      <td>66810001</td>\n      <td>654226</td>\n      <td>...</td>\n      <td>4048046</td>\n      <td>5420961</td>\n      <td>6.059</td>\n      <td>14.173</td>\n      <td>5196537</td>\n      <td>7.778</td>\n      <td>28.346</td>\n      <td>327278</td>\n      <td>332504</td>\n      <td>1824251</td>\n    </tr>\n    <tr>\n      <th>2</th>\n      <td>0100000US</td>\n      <td>United States</td>\n      <td>00</td>\n      <td>Total for all sectors</td>\n      <td>1979</td>\n      <td>3692077</td>\n      <td>4472108</td>\n      <td>73848234</td>\n      <td>71727111</td>\n      <td>630253</td>\n      <td>...</td>\n      <td>3760616</td>\n      <td>6043218</td>\n      <td>5.243</td>\n      <td>13.668</td>\n      <td>4248257</td>\n      <td>5.923</td>\n      <td>27.336</td>\n      <td>328024</td>\n      <td>332633</td>\n      <td>1785478</td>\n    </tr>\n    <tr>\n      <th>3</th>\n      <td>0100000US</td>\n      <td>United States</td>\n      <td>00</td>\n      <td>Total for all sectors</td>\n      <td>1980</td>\n      <td>3739809</td>\n      <td>4533251</td>\n      <td>74109267</td>\n      <td>74018218</td>\n      <td>592484</td>\n      <td>...</td>\n      <td>4246135</td>\n      <td>7797198</td>\n      <td>5.737</td>\n      <td>16.271</td>\n      <td>188937</td>\n      <td>0.255</td>\n      <td>32.542</td>\n      <td>368578</td>\n      <td>373754</td>\n      <td>1941422</td>\n    </tr>\n    <tr>\n      <th>4</th>\n      <td>0100000US</td>\n      <td>United States</td>\n      <td>00</td>\n      <td>Total for all sectors</td>\n      <td>1981</td>\n      <td>3770852</td>\n      <td>4615479</td>\n      <td>75728652</td>\n      <td>74924061</td>\n      <td>606853</td>\n      <td>...</td>\n      <td>3478843</td>\n      <td>7782399</td>\n      <td>4.643</td>\n      <td>15.030</td>\n      <td>1609104</td>\n      <td>2.148</td>\n      <td>30.060</td>\n      <td>377291</td>\n      <td>383748</td>\n      <td>2005707</td>\n    </tr>\n    <tr>\n      <th>5</th>\n      <td>0100000US</td>\n      <td>United States</td>\n      <td>00</td>\n      <td>Total for all sectors</td>\n      <td>1982</td>\n      <td>3720273</td>\n      <td>4598769</td>\n      <td>74922226</td>\n      <td>75267274</td>\n      <td>572030</td>\n      <td>...</td>\n      <td>4055239</td>\n      <td>8683755</td>\n      <td>5.388</td>\n      <td>16.925</td>\n      <td>-678350</td>\n      <td>-0.901</td>\n      <td>32.048</td>\n      <td>412488</td>\n      <td>418501</td>\n      <td>2211944</td>\n    </tr>\n  </tbody>\n</table>\n<p>5 rows × 29 columns</p>\n</div>"
     },
     "execution_count": 372,
     "metadata": {},
     "output_type": "execute_result"
    }
   ],
   "source": [
    "NAICS_BDS.head()"
   ],
   "metadata": {
    "collapsed": false,
    "pycharm": {
     "name": "#%%\n"
    }
   }
  },
  {
   "cell_type": "code",
   "execution_count": 432,
   "outputs": [],
   "source": [
    "DF_NAICS = NAICS_BDS.copy()\n",
    "DF_NAICS.drop(DF_NAICS[(DF_NAICS.NAICS == '00')].index, inplace=True)"
   ],
   "metadata": {
    "collapsed": false,
    "pycharm": {
     "name": "#%%\n"
    }
   }
  },
  {
   "cell_type": "code",
   "execution_count": 433,
   "outputs": [
    {
     "data": {
      "text/plain": "GEO_ID                         0\nNAME                           0\nNAICS                          0\nNAICS_LABEL                    0\nYEAR                           0\nFIRM                           0\nESTAB                          0\nEMP                            0\nDENOM                          0\nESTABS_ENTRY                   0\nESTABS_ENTRY_RATE              0\nESTABS_EXIT                    0\nESTABS_EXIT_RATE               0\nJOB_CREATION                   0\nJOB_CREATION_BIRTHS            0\nJOB_CREATION_CONTINUERS        0\nJOB_CREATION_RATE_BIRTHS       0\nJOB_CREATION_RATE              0\nJOB_DESTRUCTION                0\nJOB_DESTRUCTION_DEATHS         0\nJOB_DESTRUCTION_CONTINUERS     0\nJOB_DESTRUCTION_RATE_DEATHS    0\nJOB_DESTRUCTION_RATE           0\nNET_JOB_CREATION               0\nNET_JOB_CREATION_RATE          0\nREALLOCATION_RATE              0\nFIRMDEATH_FIRMS                0\nFIRMDEATH_ESTABS               0\nFIRMDEATH_EMP                  0\ndtype: int64"
     },
     "execution_count": 433,
     "metadata": {},
     "output_type": "execute_result"
    }
   ],
   "source": [
    "DF_NAICS.isnull().sum()"
   ],
   "metadata": {
    "collapsed": false,
    "pycharm": {
     "name": "#%%\n"
    }
   }
  },
  {
   "cell_type": "code",
   "execution_count": 434,
   "outputs": [],
   "source": [
    "DF_NAICS.drop(DF_NAICS[(DF_NAICS.NAICS == '31-33') | (DF_NAICS.NAICS == '44-45') | (DF_NAICS.NAICS == '48-49')].index, inplace=True)"
   ],
   "metadata": {
    "collapsed": false,
    "pycharm": {
     "name": "#%%\n"
    }
   }
  },
  {
   "cell_type": "code",
   "execution_count": 435,
   "outputs": [],
   "source": [
    "DF_NAICS = DF_NAICS.append([NAICS_BDS[NAICS_BDS[\"NAICS\"] == '31-33']]*3, ignore_index=True)\n",
    "DF_NAICS = DF_NAICS.append([NAICS_BDS[NAICS_BDS[\"NAICS\"] == '44-45']]*2, ignore_index=True)\n",
    "DF_NAICS = DF_NAICS.append([NAICS_BDS[NAICS_BDS[\"NAICS\"] == '48-49']]*2, ignore_index=True)"
   ],
   "metadata": {
    "collapsed": false,
    "pycharm": {
     "name": "#%%\n"
    }
   }
  },
  {
   "cell_type": "code",
   "execution_count": 436,
   "outputs": [
    {
     "data": {
      "text/plain": "        GEO_ID           NAME  NAICS  \\\n0    0100000US  United States     11   \n1    0100000US  United States     11   \n2    0100000US  United States     11   \n3    0100000US  United States     11   \n4    0100000US  United States     11   \n..         ...            ...    ...   \n961  0100000US  United States  48-49   \n962  0100000US  United States  48-49   \n963  0100000US  United States  48-49   \n964  0100000US  United States  48-49   \n965  0100000US  United States  48-49   \n\n                                    NAICS_LABEL  YEAR    FIRM   ESTAB  \\\n0    Agriculture, forestry, fishing and hunting  1978   23763   24429   \n1    Agriculture, forestry, fishing and hunting  1979   21765   22373   \n2    Agriculture, forestry, fishing and hunting  1980   21882   22500   \n3    Agriculture, forestry, fishing and hunting  1981   21862   22468   \n4    Agriculture, forestry, fishing and hunting  1982   19040   19695   \n..                                          ...   ...     ...     ...   \n961              Transportation and warehousing  2015  153822  202631   \n962              Transportation and warehousing  2016  156798  207273   \n963              Transportation and warehousing  2017  157752  208815   \n964              Transportation and warehousing  2018  162121  213126   \n965              Transportation and warehousing  2019  167380  219301   \n\n         EMP    DENOM ESTABS_ENTRY  ... JOB_DESTRUCTION_DEATHS  \\\n0     200156   192326         4717  ...                  18829   \n1     192288   191325         4178  ...                  22142   \n2     193997   193979         3827  ...                  16453   \n3     189977   193065         3514  ...                  20576   \n4     173515   178279         2775  ...                  20541   \n..       ...      ...          ...  ...                    ...   \n961  4591409  4499301        27612  ...                 171575   \n962  4717118  4655107        26860  ...                 185955   \n963  4853859  4781787        25053  ...                 165899   \n964  5018707  4936647        26681  ...                 151173   \n965  5403829  5212963        28479  ...                 130910   \n\n    JOB_DESTRUCTION_CONTINUERS JOB_DESTRUCTION_RATE_DEATHS  \\\n0                        27500                       9.790   \n1                        30446                      11.573   \n2                        31944                       8.482   \n3                        31625                      10.658   \n4                        31150                      11.522   \n..                         ...                         ...   \n961                     293097                       3.813   \n962                     301012                       3.995   \n963                     336049                       3.469   \n964                     323218                       3.062   \n965                     281802                       2.511   \n\n    JOB_DESTRUCTION_RATE NET_JOB_CREATION NET_JOB_CREATION_RATE  \\\n0                 24.089            15439                 8.028   \n1                 27.486             1716                 0.897   \n2                 24.950             -108                -0.056   \n3                 27.038            -6316                -3.271   \n4                 28.995            -9420                -5.284   \n..                   ...              ...                   ...   \n961               10.328           184677                 4.105   \n962               10.461           122484                 2.631   \n963               10.497           148348                 3.102   \n964                9.610           164146                 3.325   \n965                7.917           372049                 7.137   \n\n    REALLOCATION_RATE FIRMDEATH_FIRMS FIRMDEATH_ESTABS FIRMDEATH_EMP  \n0              48.178            2876             2905         12497  \n1              54.972            3022             3068         14659  \n2              49.788            2780             2780         11264  \n3              47.533            2696             2699         11719  \n4              47.421            3176             3180         14178  \n..                ...             ...              ...           ...  \n961            20.655           13968            14152         66039  \n962            20.922           15547            15803        107251  \n963            20.994           16484            16750         77042  \n964            19.219           16025            16271         80700  \n965            15.834           18213            18495         88434  \n\n[966 rows x 29 columns]",
      "text/html": "<div>\n<style scoped>\n    .dataframe tbody tr th:only-of-type {\n        vertical-align: middle;\n    }\n\n    .dataframe tbody tr th {\n        vertical-align: top;\n    }\n\n    .dataframe thead th {\n        text-align: right;\n    }\n</style>\n<table border=\"1\" class=\"dataframe\">\n  <thead>\n    <tr style=\"text-align: right;\">\n      <th></th>\n      <th>GEO_ID</th>\n      <th>NAME</th>\n      <th>NAICS</th>\n      <th>NAICS_LABEL</th>\n      <th>YEAR</th>\n      <th>FIRM</th>\n      <th>ESTAB</th>\n      <th>EMP</th>\n      <th>DENOM</th>\n      <th>ESTABS_ENTRY</th>\n      <th>...</th>\n      <th>JOB_DESTRUCTION_DEATHS</th>\n      <th>JOB_DESTRUCTION_CONTINUERS</th>\n      <th>JOB_DESTRUCTION_RATE_DEATHS</th>\n      <th>JOB_DESTRUCTION_RATE</th>\n      <th>NET_JOB_CREATION</th>\n      <th>NET_JOB_CREATION_RATE</th>\n      <th>REALLOCATION_RATE</th>\n      <th>FIRMDEATH_FIRMS</th>\n      <th>FIRMDEATH_ESTABS</th>\n      <th>FIRMDEATH_EMP</th>\n    </tr>\n  </thead>\n  <tbody>\n    <tr>\n      <th>0</th>\n      <td>0100000US</td>\n      <td>United States</td>\n      <td>11</td>\n      <td>Agriculture, forestry, fishing and hunting</td>\n      <td>1978</td>\n      <td>23763</td>\n      <td>24429</td>\n      <td>200156</td>\n      <td>192326</td>\n      <td>4717</td>\n      <td>...</td>\n      <td>18829</td>\n      <td>27500</td>\n      <td>9.790</td>\n      <td>24.089</td>\n      <td>15439</td>\n      <td>8.028</td>\n      <td>48.178</td>\n      <td>2876</td>\n      <td>2905</td>\n      <td>12497</td>\n    </tr>\n    <tr>\n      <th>1</th>\n      <td>0100000US</td>\n      <td>United States</td>\n      <td>11</td>\n      <td>Agriculture, forestry, fishing and hunting</td>\n      <td>1979</td>\n      <td>21765</td>\n      <td>22373</td>\n      <td>192288</td>\n      <td>191325</td>\n      <td>4178</td>\n      <td>...</td>\n      <td>22142</td>\n      <td>30446</td>\n      <td>11.573</td>\n      <td>27.486</td>\n      <td>1716</td>\n      <td>0.897</td>\n      <td>54.972</td>\n      <td>3022</td>\n      <td>3068</td>\n      <td>14659</td>\n    </tr>\n    <tr>\n      <th>2</th>\n      <td>0100000US</td>\n      <td>United States</td>\n      <td>11</td>\n      <td>Agriculture, forestry, fishing and hunting</td>\n      <td>1980</td>\n      <td>21882</td>\n      <td>22500</td>\n      <td>193997</td>\n      <td>193979</td>\n      <td>3827</td>\n      <td>...</td>\n      <td>16453</td>\n      <td>31944</td>\n      <td>8.482</td>\n      <td>24.950</td>\n      <td>-108</td>\n      <td>-0.056</td>\n      <td>49.788</td>\n      <td>2780</td>\n      <td>2780</td>\n      <td>11264</td>\n    </tr>\n    <tr>\n      <th>3</th>\n      <td>0100000US</td>\n      <td>United States</td>\n      <td>11</td>\n      <td>Agriculture, forestry, fishing and hunting</td>\n      <td>1981</td>\n      <td>21862</td>\n      <td>22468</td>\n      <td>189977</td>\n      <td>193065</td>\n      <td>3514</td>\n      <td>...</td>\n      <td>20576</td>\n      <td>31625</td>\n      <td>10.658</td>\n      <td>27.038</td>\n      <td>-6316</td>\n      <td>-3.271</td>\n      <td>47.533</td>\n      <td>2696</td>\n      <td>2699</td>\n      <td>11719</td>\n    </tr>\n    <tr>\n      <th>4</th>\n      <td>0100000US</td>\n      <td>United States</td>\n      <td>11</td>\n      <td>Agriculture, forestry, fishing and hunting</td>\n      <td>1982</td>\n      <td>19040</td>\n      <td>19695</td>\n      <td>173515</td>\n      <td>178279</td>\n      <td>2775</td>\n      <td>...</td>\n      <td>20541</td>\n      <td>31150</td>\n      <td>11.522</td>\n      <td>28.995</td>\n      <td>-9420</td>\n      <td>-5.284</td>\n      <td>47.421</td>\n      <td>3176</td>\n      <td>3180</td>\n      <td>14178</td>\n    </tr>\n    <tr>\n      <th>...</th>\n      <td>...</td>\n      <td>...</td>\n      <td>...</td>\n      <td>...</td>\n      <td>...</td>\n      <td>...</td>\n      <td>...</td>\n      <td>...</td>\n      <td>...</td>\n      <td>...</td>\n      <td>...</td>\n      <td>...</td>\n      <td>...</td>\n      <td>...</td>\n      <td>...</td>\n      <td>...</td>\n      <td>...</td>\n      <td>...</td>\n      <td>...</td>\n      <td>...</td>\n      <td>...</td>\n    </tr>\n    <tr>\n      <th>961</th>\n      <td>0100000US</td>\n      <td>United States</td>\n      <td>48-49</td>\n      <td>Transportation and warehousing</td>\n      <td>2015</td>\n      <td>153822</td>\n      <td>202631</td>\n      <td>4591409</td>\n      <td>4499301</td>\n      <td>27612</td>\n      <td>...</td>\n      <td>171575</td>\n      <td>293097</td>\n      <td>3.813</td>\n      <td>10.328</td>\n      <td>184677</td>\n      <td>4.105</td>\n      <td>20.655</td>\n      <td>13968</td>\n      <td>14152</td>\n      <td>66039</td>\n    </tr>\n    <tr>\n      <th>962</th>\n      <td>0100000US</td>\n      <td>United States</td>\n      <td>48-49</td>\n      <td>Transportation and warehousing</td>\n      <td>2016</td>\n      <td>156798</td>\n      <td>207273</td>\n      <td>4717118</td>\n      <td>4655107</td>\n      <td>26860</td>\n      <td>...</td>\n      <td>185955</td>\n      <td>301012</td>\n      <td>3.995</td>\n      <td>10.461</td>\n      <td>122484</td>\n      <td>2.631</td>\n      <td>20.922</td>\n      <td>15547</td>\n      <td>15803</td>\n      <td>107251</td>\n    </tr>\n    <tr>\n      <th>963</th>\n      <td>0100000US</td>\n      <td>United States</td>\n      <td>48-49</td>\n      <td>Transportation and warehousing</td>\n      <td>2017</td>\n      <td>157752</td>\n      <td>208815</td>\n      <td>4853859</td>\n      <td>4781787</td>\n      <td>25053</td>\n      <td>...</td>\n      <td>165899</td>\n      <td>336049</td>\n      <td>3.469</td>\n      <td>10.497</td>\n      <td>148348</td>\n      <td>3.102</td>\n      <td>20.994</td>\n      <td>16484</td>\n      <td>16750</td>\n      <td>77042</td>\n    </tr>\n    <tr>\n      <th>964</th>\n      <td>0100000US</td>\n      <td>United States</td>\n      <td>48-49</td>\n      <td>Transportation and warehousing</td>\n      <td>2018</td>\n      <td>162121</td>\n      <td>213126</td>\n      <td>5018707</td>\n      <td>4936647</td>\n      <td>26681</td>\n      <td>...</td>\n      <td>151173</td>\n      <td>323218</td>\n      <td>3.062</td>\n      <td>9.610</td>\n      <td>164146</td>\n      <td>3.325</td>\n      <td>19.219</td>\n      <td>16025</td>\n      <td>16271</td>\n      <td>80700</td>\n    </tr>\n    <tr>\n      <th>965</th>\n      <td>0100000US</td>\n      <td>United States</td>\n      <td>48-49</td>\n      <td>Transportation and warehousing</td>\n      <td>2019</td>\n      <td>167380</td>\n      <td>219301</td>\n      <td>5403829</td>\n      <td>5212963</td>\n      <td>28479</td>\n      <td>...</td>\n      <td>130910</td>\n      <td>281802</td>\n      <td>2.511</td>\n      <td>7.917</td>\n      <td>372049</td>\n      <td>7.137</td>\n      <td>15.834</td>\n      <td>18213</td>\n      <td>18495</td>\n      <td>88434</td>\n    </tr>\n  </tbody>\n</table>\n<p>966 rows × 29 columns</p>\n</div>"
     },
     "execution_count": 436,
     "metadata": {},
     "output_type": "execute_result"
    }
   ],
   "source": [
    "DF_NAICS"
   ],
   "metadata": {
    "collapsed": false,
    "pycharm": {
     "name": "#%%\n"
    }
   }
  },
  {
   "cell_type": "code",
   "execution_count": 437,
   "outputs": [],
   "source": [
    "# DF_NAICS[DF_NAICS[\"NAICS\"] == '31-33']\n",
    "temp_array = [31]*42 + [32]*42 + [33]*42\n",
    "temp_array\n",
    "DF_NAICS = DF_NAICS.replace({'NAICS' : { '31-33' : temp_array}})\n",
    "temp_array = [44]*42 + [45]*42\n",
    "DF_NAICS = DF_NAICS.replace({'NAICS' : { '44-45' : temp_array}})\n",
    "temp_array = [48]*42 + [49]*42\n",
    "DF_NAICS = DF_NAICS.replace({'NAICS' : { '48-49' : temp_array}})"
   ],
   "metadata": {
    "collapsed": false,
    "pycharm": {
     "name": "#%%\n"
    }
   }
  },
  {
   "cell_type": "code",
   "execution_count": 467,
   "outputs": [
    {
     "data": {
      "text/plain": "NAICS                     62\nYEAR                    1987\nFIRM                  430636\nDENOM                9348439\nESTABS_ENTRY           49276\nESTABS_EXIT            38632\nJOB_CREATION         1808327\nJOB_DESTRUCTION            S\nREALLOCATION_RATE          S\nFIRMDEATH_ESTABS       28562\nFIRMDEATH_EMP         228128\nName: 513, dtype: object"
     },
     "execution_count": 467,
     "metadata": {},
     "output_type": "execute_result"
    }
   ],
   "source": [
    "DF_NAICS.iloc[513]"
   ],
   "metadata": {
    "collapsed": false,
    "pycharm": {
     "name": "#%%\n"
    }
   }
  },
  {
   "cell_type": "code",
   "execution_count": 439,
   "outputs": [],
   "source": [
    "Keep_Columns_DF_NAICS = ['NAICS', 'YEAR', 'FIRM', 'DENOM', 'ESTABS_ENTRY', 'ESTABS_EXIT', 'JOB_CREATION', 'JOB_DESTRUCTION', 'REALLOCATION_RATE', 'FIRMDEATH_ESTABS', 'FIRMDEATH_EMP']\n",
    "DF_NAICS = DF_NAICS[Keep_Columns_DF_NAICS]"
   ],
   "metadata": {
    "collapsed": false,
    "pycharm": {
     "name": "#%%\n"
    }
   }
  },
  {
   "cell_type": "code",
   "execution_count": 449,
   "outputs": [],
   "source": [
    "# for column_name in Keep_Columns_DF_NAICS:\n",
    "#     DF_NAICS[column_name] = [int(x) for x in DF_NAICS[column_name]]\n",
    "DF_NAICS[\"NAICS\"] = [int(x) for x in DF_NAICS[\"NAICS\"]]\n",
    "DF_NAICS[\"YEAR\"] = [int(x) for x in DF_NAICS[\"YEAR\"]]\n",
    "DF_NAICS[\"FIRM\"] = [int(x) for x in DF_NAICS[\"FIRM\"]]\n",
    "DF_NAICS[\"DENOM\"] = [int(x) for x in DF_NAICS[\"DENOM\"]]\n",
    "DF_NAICS[\"ESTABS_ENTRY\"] = [int(x) for x in DF_NAICS[\"ESTABS_ENTRY\"]]\n",
    "DF_NAICS[\"ESTABS_EXIT\"] = [int(x) for x in DF_NAICS[\"ESTABS_EXIT\"]]\n",
    "DF_NAICS[\"JOB_CREATION\"] = [int(x) for x in DF_NAICS[\"JOB_CREATION\"]]\n",
    "\n",
    "# DF_NAICS[\"YEAR\"] = [int(x) for x in DF_NAICS[\"YEAR\"]]\n",
    "# DF_NAICS[\"YEAR\"] = [int(x) for x in DF_NAICS[\"YEAR\"]]"
   ],
   "metadata": {
    "collapsed": false,
    "pycharm": {
     "name": "#%%\n"
    }
   }
  },
  {
   "cell_type": "code",
   "execution_count": 466,
   "outputs": [
    {
     "data": {
      "text/plain": "NAICS                     62\nYEAR                    1987\nFIRM                  430636\nDENOM                9348439\nESTABS_ENTRY           49276\nESTABS_EXIT            38632\nJOB_CREATION         1808327\nJOB_DESTRUCTION            S\nREALLOCATION_RATE          S\nFIRMDEATH_ESTABS       28562\nFIRMDEATH_EMP         228128\nName: 513, dtype: object"
     },
     "execution_count": 466,
     "metadata": {},
     "output_type": "execute_result"
    }
   ],
   "source": [
    "# DF_NAICS[\"JOB_DESTRUCTION\"] = [int(x) for x in DF_NAICS[\"JOB_DESTRUCTION\"]]\n",
    "# for x in range(len(DF_NAICS[\"JOB_DESTRUCTION\"])):\n",
    "#     print(x)\n",
    "#     print(type(int(DF_NAICS[\"JOB_DESTRUCTION\"][x])))\n",
    "#     print(x)\n",
    "DF_NAICS.iloc[513]"
   ],
   "metadata": {
    "collapsed": false,
    "pycharm": {
     "name": "#%%\n"
    }
   }
  },
  {
   "cell_type": "code",
   "execution_count": 381,
   "outputs": [
    {
     "name": "stdout",
     "output_type": "stream",
     "text": [
      "(696486, 8)\n",
      "(966, 29)\n"
     ]
    }
   ],
   "source": [
    "# Merging Dataset based on NAICS category and dates: Year from DF_NAICS and ApprovalFY from DF_SBA_Loan\n",
    "DF_SBA_Loan = DF_SBA_Loan.rename(columns={\"ApprovalFY\": \"YEAR\"})\n",
    "print(DF_SBA_Loan.shape)\n",
    "print(DF_NAICS.shape)"
   ],
   "metadata": {
    "collapsed": false,
    "pycharm": {
     "name": "#%%\n"
    }
   }
  },
  {
   "cell_type": "code",
   "execution_count": 383,
   "outputs": [
    {
     "data": {
      "text/plain": "       State                            Bank BankState  NAICS  YEAR  NewExist  \\\n0         IN                FIFTH THIRD BANK        OH     45  1997       2.0   \n1         IN                 1ST SOURCE BANK        IN     72  1997       2.0   \n2         IN         GRANT COUNTY STATE BANK        IN     62  1997       1.0   \n3         CT   TD BANK, NATIONAL ASSOCIATION        DE     33  1997       1.0   \n4         FL                    REGIONS BANK        AL     81  1997       2.0   \n...      ...                             ...       ...    ...   ...       ...   \n696481    MD      BANK OF AMERICA NATL ASSOC        MD     33  1997       1.0   \n696482    CA  U.S. BANK NATIONAL ASSOCIATION        CA     31  1997       1.0   \n696483    OH  JPMORGAN CHASE BANK NATL ASSOC        IL     45  1997       1.0   \n696484    OH  JPMORGAN CHASE BANK NATL ASSOC        IL     45  1997       1.0   \n696485    CA  RABOBANK, NATIONAL ASSOCIATION        CA     33  1997       1.0   \n\n       MIS_Status  SBA_Appv     GEO_ID           NAME  ...  \\\n0           P I F   48000.0  0100000US  United States  ...   \n1           P I F   32000.0  0100000US  United States  ...   \n2           P I F  215250.0  0100000US  United States  ...   \n3           P I F  387750.0  0100000US  United States  ...   \n4           P I F   36000.0  0100000US  United States  ...   \n...           ...       ...        ...            ...  ...   \n696481      P I F   25000.0  0100000US  United States  ...   \n696482      P I F  150000.0  0100000US  United States  ...   \n696483      P I F   56000.0  0100000US  United States  ...   \n696484      P I F   42500.0  0100000US  United States  ...   \n696485      P I F  225000.0  0100000US  United States  ...   \n\n       JOB_DESTRUCTION_DEATHS JOB_DESTRUCTION_CONTINUERS  \\\n0                      747048                    1291441   \n1                      728799                     999306   \n2                      580382                    1052575   \n3                      588001                    1084271   \n4                      246060                     448692   \n...                       ...                        ...   \n696481                 588001                    1084271   \n696482                 588001                    1084271   \n696483                 747048                    1291441   \n696484                 747048                    1291441   \n696485                 588001                    1084271   \n\n       JOB_DESTRUCTION_RATE_DEATHS JOB_DESTRUCTION_RATE NET_JOB_CREATION  \\\n0                            5.428               14.810           323242   \n1                            7.963               18.881           166457   \n2                            4.575               12.874           310446   \n3                            3.611               10.269           163707   \n4                            5.059               14.283           106211   \n...                            ...                  ...              ...   \n696481                       3.611               10.269           163707   \n696482                       3.611               10.269           163707   \n696483                       5.428               14.810           323242   \n696484                       5.428               14.810           323242   \n696485                       3.611               10.269           163707   \n\n       NET_JOB_CREATION_RATE REALLOCATION_RATE FIRMDEATH_FIRMS  \\\n0                      2.348            29.621           68270   \n1                      1.819            37.761           44187   \n2                      2.447            25.747           34539   \n3                      1.005            20.539           21921   \n4                      2.184            28.567           41400   \n...                      ...               ...             ...   \n696481                 1.005            20.539           21921   \n696482                 1.005            20.539           21921   \n696483                 2.348            29.621           68270   \n696484                 2.348            29.621           68270   \n696485                 1.005            20.539           21921   \n\n       FIRMDEATH_ESTABS FIRMDEATH_EMP  \n0                 73384        349798  \n1                 45776        441164  \n2                 35763        328510  \n3                 22142        255029  \n4                 42290        156087  \n...                 ...           ...  \n696481            22142        255029  \n696482            22142        255029  \n696483            73384        349798  \n696484            73384        349798  \n696485            22142        255029  \n\n[696486 rows x 35 columns]",
      "text/html": "<div>\n<style scoped>\n    .dataframe tbody tr th:only-of-type {\n        vertical-align: middle;\n    }\n\n    .dataframe tbody tr th {\n        vertical-align: top;\n    }\n\n    .dataframe thead th {\n        text-align: right;\n    }\n</style>\n<table border=\"1\" class=\"dataframe\">\n  <thead>\n    <tr style=\"text-align: right;\">\n      <th></th>\n      <th>State</th>\n      <th>Bank</th>\n      <th>BankState</th>\n      <th>NAICS</th>\n      <th>YEAR</th>\n      <th>NewExist</th>\n      <th>MIS_Status</th>\n      <th>SBA_Appv</th>\n      <th>GEO_ID</th>\n      <th>NAME</th>\n      <th>...</th>\n      <th>JOB_DESTRUCTION_DEATHS</th>\n      <th>JOB_DESTRUCTION_CONTINUERS</th>\n      <th>JOB_DESTRUCTION_RATE_DEATHS</th>\n      <th>JOB_DESTRUCTION_RATE</th>\n      <th>NET_JOB_CREATION</th>\n      <th>NET_JOB_CREATION_RATE</th>\n      <th>REALLOCATION_RATE</th>\n      <th>FIRMDEATH_FIRMS</th>\n      <th>FIRMDEATH_ESTABS</th>\n      <th>FIRMDEATH_EMP</th>\n    </tr>\n  </thead>\n  <tbody>\n    <tr>\n      <th>0</th>\n      <td>IN</td>\n      <td>FIFTH THIRD BANK</td>\n      <td>OH</td>\n      <td>45</td>\n      <td>1997</td>\n      <td>2.0</td>\n      <td>P I F</td>\n      <td>48000.0</td>\n      <td>0100000US</td>\n      <td>United States</td>\n      <td>...</td>\n      <td>747048</td>\n      <td>1291441</td>\n      <td>5.428</td>\n      <td>14.810</td>\n      <td>323242</td>\n      <td>2.348</td>\n      <td>29.621</td>\n      <td>68270</td>\n      <td>73384</td>\n      <td>349798</td>\n    </tr>\n    <tr>\n      <th>1</th>\n      <td>IN</td>\n      <td>1ST SOURCE BANK</td>\n      <td>IN</td>\n      <td>72</td>\n      <td>1997</td>\n      <td>2.0</td>\n      <td>P I F</td>\n      <td>32000.0</td>\n      <td>0100000US</td>\n      <td>United States</td>\n      <td>...</td>\n      <td>728799</td>\n      <td>999306</td>\n      <td>7.963</td>\n      <td>18.881</td>\n      <td>166457</td>\n      <td>1.819</td>\n      <td>37.761</td>\n      <td>44187</td>\n      <td>45776</td>\n      <td>441164</td>\n    </tr>\n    <tr>\n      <th>2</th>\n      <td>IN</td>\n      <td>GRANT COUNTY STATE BANK</td>\n      <td>IN</td>\n      <td>62</td>\n      <td>1997</td>\n      <td>1.0</td>\n      <td>P I F</td>\n      <td>215250.0</td>\n      <td>0100000US</td>\n      <td>United States</td>\n      <td>...</td>\n      <td>580382</td>\n      <td>1052575</td>\n      <td>4.575</td>\n      <td>12.874</td>\n      <td>310446</td>\n      <td>2.447</td>\n      <td>25.747</td>\n      <td>34539</td>\n      <td>35763</td>\n      <td>328510</td>\n    </tr>\n    <tr>\n      <th>3</th>\n      <td>CT</td>\n      <td>TD BANK, NATIONAL ASSOCIATION</td>\n      <td>DE</td>\n      <td>33</td>\n      <td>1997</td>\n      <td>1.0</td>\n      <td>P I F</td>\n      <td>387750.0</td>\n      <td>0100000US</td>\n      <td>United States</td>\n      <td>...</td>\n      <td>588001</td>\n      <td>1084271</td>\n      <td>3.611</td>\n      <td>10.269</td>\n      <td>163707</td>\n      <td>1.005</td>\n      <td>20.539</td>\n      <td>21921</td>\n      <td>22142</td>\n      <td>255029</td>\n    </tr>\n    <tr>\n      <th>4</th>\n      <td>FL</td>\n      <td>REGIONS BANK</td>\n      <td>AL</td>\n      <td>81</td>\n      <td>1997</td>\n      <td>2.0</td>\n      <td>P I F</td>\n      <td>36000.0</td>\n      <td>0100000US</td>\n      <td>United States</td>\n      <td>...</td>\n      <td>246060</td>\n      <td>448692</td>\n      <td>5.059</td>\n      <td>14.283</td>\n      <td>106211</td>\n      <td>2.184</td>\n      <td>28.567</td>\n      <td>41400</td>\n      <td>42290</td>\n      <td>156087</td>\n    </tr>\n    <tr>\n      <th>...</th>\n      <td>...</td>\n      <td>...</td>\n      <td>...</td>\n      <td>...</td>\n      <td>...</td>\n      <td>...</td>\n      <td>...</td>\n      <td>...</td>\n      <td>...</td>\n      <td>...</td>\n      <td>...</td>\n      <td>...</td>\n      <td>...</td>\n      <td>...</td>\n      <td>...</td>\n      <td>...</td>\n      <td>...</td>\n      <td>...</td>\n      <td>...</td>\n      <td>...</td>\n      <td>...</td>\n    </tr>\n    <tr>\n      <th>696481</th>\n      <td>MD</td>\n      <td>BANK OF AMERICA NATL ASSOC</td>\n      <td>MD</td>\n      <td>33</td>\n      <td>1997</td>\n      <td>1.0</td>\n      <td>P I F</td>\n      <td>25000.0</td>\n      <td>0100000US</td>\n      <td>United States</td>\n      <td>...</td>\n      <td>588001</td>\n      <td>1084271</td>\n      <td>3.611</td>\n      <td>10.269</td>\n      <td>163707</td>\n      <td>1.005</td>\n      <td>20.539</td>\n      <td>21921</td>\n      <td>22142</td>\n      <td>255029</td>\n    </tr>\n    <tr>\n      <th>696482</th>\n      <td>CA</td>\n      <td>U.S. BANK NATIONAL ASSOCIATION</td>\n      <td>CA</td>\n      <td>31</td>\n      <td>1997</td>\n      <td>1.0</td>\n      <td>P I F</td>\n      <td>150000.0</td>\n      <td>0100000US</td>\n      <td>United States</td>\n      <td>...</td>\n      <td>588001</td>\n      <td>1084271</td>\n      <td>3.611</td>\n      <td>10.269</td>\n      <td>163707</td>\n      <td>1.005</td>\n      <td>20.539</td>\n      <td>21921</td>\n      <td>22142</td>\n      <td>255029</td>\n    </tr>\n    <tr>\n      <th>696483</th>\n      <td>OH</td>\n      <td>JPMORGAN CHASE BANK NATL ASSOC</td>\n      <td>IL</td>\n      <td>45</td>\n      <td>1997</td>\n      <td>1.0</td>\n      <td>P I F</td>\n      <td>56000.0</td>\n      <td>0100000US</td>\n      <td>United States</td>\n      <td>...</td>\n      <td>747048</td>\n      <td>1291441</td>\n      <td>5.428</td>\n      <td>14.810</td>\n      <td>323242</td>\n      <td>2.348</td>\n      <td>29.621</td>\n      <td>68270</td>\n      <td>73384</td>\n      <td>349798</td>\n    </tr>\n    <tr>\n      <th>696484</th>\n      <td>OH</td>\n      <td>JPMORGAN CHASE BANK NATL ASSOC</td>\n      <td>IL</td>\n      <td>45</td>\n      <td>1997</td>\n      <td>1.0</td>\n      <td>P I F</td>\n      <td>42500.0</td>\n      <td>0100000US</td>\n      <td>United States</td>\n      <td>...</td>\n      <td>747048</td>\n      <td>1291441</td>\n      <td>5.428</td>\n      <td>14.810</td>\n      <td>323242</td>\n      <td>2.348</td>\n      <td>29.621</td>\n      <td>68270</td>\n      <td>73384</td>\n      <td>349798</td>\n    </tr>\n    <tr>\n      <th>696485</th>\n      <td>CA</td>\n      <td>RABOBANK, NATIONAL ASSOCIATION</td>\n      <td>CA</td>\n      <td>33</td>\n      <td>1997</td>\n      <td>1.0</td>\n      <td>P I F</td>\n      <td>225000.0</td>\n      <td>0100000US</td>\n      <td>United States</td>\n      <td>...</td>\n      <td>588001</td>\n      <td>1084271</td>\n      <td>3.611</td>\n      <td>10.269</td>\n      <td>163707</td>\n      <td>1.005</td>\n      <td>20.539</td>\n      <td>21921</td>\n      <td>22142</td>\n      <td>255029</td>\n    </tr>\n  </tbody>\n</table>\n<p>696486 rows × 35 columns</p>\n</div>"
     },
     "execution_count": 383,
     "metadata": {},
     "output_type": "execute_result"
    }
   ],
   "source": [
    "df_merged_NAICS_SBALoan = pd.merge(DF_SBA_Loan, DF_NAICS,  how='left', left_on=['NAICS','YEAR'], right_on = ['NAICS','YEAR'])\n",
    "df_merged_NAICS_SBALoan[df_merged_NAICS_SBALoan]"
   ],
   "metadata": {
    "collapsed": false,
    "pycharm": {
     "name": "#%%\n"
    }
   }
  },
  {
   "cell_type": "code",
   "execution_count": 470,
   "outputs": [
    {
     "data": {
      "text/plain": "       State                            Bank BankState  NAICS  YEAR  NewExist  \\\n2         IN         GRANT COUNTY STATE BANK        IN     62  1997       1.0   \n10        FL                     BANESCO USA        FL     62  1997       1.0   \n16        TX         THE FROST NATIONAL BANK        TX     62  1997       1.0   \n25        VA         UNION FIRST MARKET BANK        VA     62  1997       2.0   \n28        MA      BANK OF AMERICA NATL ASSOC        RI     62  1997       1.0   \n...      ...                             ...       ...    ...   ...       ...   \n696458    OK           FIRST COMMERCIAL BANK        OK     62  1997       2.0   \n696466    IL  PNC BANK, NATIONAL ASSOCIATION        IL     62  1997       1.0   \n696474    GA   GE CAP. SMALL BUS. FINAN CORP        TX     62  1997       1.0   \n696478    MN     WELLS FARGO BANK NATL ASSOC        SD     62  1997       1.0   \n696480    NY                   FLUSHING BANK        NY     62  1997       1.0   \n\n       MIS_Status  SBA_Appv     GEO_ID           NAME  ...  \\\n2           P I F  215250.0  0100000US  United States  ...   \n10          P I F   56000.0  0100000US  United States  ...   \n16          P I F  450000.0  0100000US  United States  ...   \n25          P I F   28000.0  0100000US  United States  ...   \n28          P I F   12500.0  0100000US  United States  ...   \n...           ...       ...        ...            ...  ...   \n696458      P I F  198750.0  0100000US  United States  ...   \n696466      P I F  300000.0  0100000US  United States  ...   \n696474      P I F  749547.0  0100000US  United States  ...   \n696478      P I F  126750.0  0100000US  United States  ...   \n696480      P I F   96000.0  0100000US  United States  ...   \n\n       JOB_DESTRUCTION_DEATHS JOB_DESTRUCTION_CONTINUERS  \\\n2                      580382                    1052575   \n10                     580382                    1052575   \n16                     580382                    1052575   \n25                     580382                    1052575   \n28                     580382                    1052575   \n...                       ...                        ...   \n696458                 580382                    1052575   \n696466                 580382                    1052575   \n696474                 580382                    1052575   \n696478                 580382                    1052575   \n696480                 580382                    1052575   \n\n       JOB_DESTRUCTION_RATE_DEATHS JOB_DESTRUCTION_RATE NET_JOB_CREATION  \\\n2                            4.575               12.874           310446   \n10                           4.575               12.874           310446   \n16                           4.575               12.874           310446   \n25                           4.575               12.874           310446   \n28                           4.575               12.874           310446   \n...                            ...                  ...              ...   \n696458                       4.575               12.874           310446   \n696466                       4.575               12.874           310446   \n696474                       4.575               12.874           310446   \n696478                       4.575               12.874           310446   \n696480                       4.575               12.874           310446   \n\n       NET_JOB_CREATION_RATE REALLOCATION_RATE FIRMDEATH_FIRMS  \\\n2                      2.447            25.747           34539   \n10                     2.447            25.747           34539   \n16                     2.447            25.747           34539   \n25                     2.447            25.747           34539   \n28                     2.447            25.747           34539   \n...                      ...               ...             ...   \n696458                 2.447            25.747           34539   \n696466                 2.447            25.747           34539   \n696474                 2.447            25.747           34539   \n696478                 2.447            25.747           34539   \n696480                 2.447            25.747           34539   \n\n       FIRMDEATH_ESTABS FIRMDEATH_EMP  \n2                 35763        328510  \n10                35763        328510  \n16                35763        328510  \n25                35763        328510  \n28                35763        328510  \n...                 ...           ...  \n696458            35763        328510  \n696466            35763        328510  \n696474            35763        328510  \n696478            35763        328510  \n696480            35763        328510  \n\n[55302 rows x 35 columns]",
      "text/html": "<div>\n<style scoped>\n    .dataframe tbody tr th:only-of-type {\n        vertical-align: middle;\n    }\n\n    .dataframe tbody tr th {\n        vertical-align: top;\n    }\n\n    .dataframe thead th {\n        text-align: right;\n    }\n</style>\n<table border=\"1\" class=\"dataframe\">\n  <thead>\n    <tr style=\"text-align: right;\">\n      <th></th>\n      <th>State</th>\n      <th>Bank</th>\n      <th>BankState</th>\n      <th>NAICS</th>\n      <th>YEAR</th>\n      <th>NewExist</th>\n      <th>MIS_Status</th>\n      <th>SBA_Appv</th>\n      <th>GEO_ID</th>\n      <th>NAME</th>\n      <th>...</th>\n      <th>JOB_DESTRUCTION_DEATHS</th>\n      <th>JOB_DESTRUCTION_CONTINUERS</th>\n      <th>JOB_DESTRUCTION_RATE_DEATHS</th>\n      <th>JOB_DESTRUCTION_RATE</th>\n      <th>NET_JOB_CREATION</th>\n      <th>NET_JOB_CREATION_RATE</th>\n      <th>REALLOCATION_RATE</th>\n      <th>FIRMDEATH_FIRMS</th>\n      <th>FIRMDEATH_ESTABS</th>\n      <th>FIRMDEATH_EMP</th>\n    </tr>\n  </thead>\n  <tbody>\n    <tr>\n      <th>2</th>\n      <td>IN</td>\n      <td>GRANT COUNTY STATE BANK</td>\n      <td>IN</td>\n      <td>62</td>\n      <td>1997</td>\n      <td>1.0</td>\n      <td>P I F</td>\n      <td>215250.0</td>\n      <td>0100000US</td>\n      <td>United States</td>\n      <td>...</td>\n      <td>580382</td>\n      <td>1052575</td>\n      <td>4.575</td>\n      <td>12.874</td>\n      <td>310446</td>\n      <td>2.447</td>\n      <td>25.747</td>\n      <td>34539</td>\n      <td>35763</td>\n      <td>328510</td>\n    </tr>\n    <tr>\n      <th>10</th>\n      <td>FL</td>\n      <td>BANESCO USA</td>\n      <td>FL</td>\n      <td>62</td>\n      <td>1997</td>\n      <td>1.0</td>\n      <td>P I F</td>\n      <td>56000.0</td>\n      <td>0100000US</td>\n      <td>United States</td>\n      <td>...</td>\n      <td>580382</td>\n      <td>1052575</td>\n      <td>4.575</td>\n      <td>12.874</td>\n      <td>310446</td>\n      <td>2.447</td>\n      <td>25.747</td>\n      <td>34539</td>\n      <td>35763</td>\n      <td>328510</td>\n    </tr>\n    <tr>\n      <th>16</th>\n      <td>TX</td>\n      <td>THE FROST NATIONAL BANK</td>\n      <td>TX</td>\n      <td>62</td>\n      <td>1997</td>\n      <td>1.0</td>\n      <td>P I F</td>\n      <td>450000.0</td>\n      <td>0100000US</td>\n      <td>United States</td>\n      <td>...</td>\n      <td>580382</td>\n      <td>1052575</td>\n      <td>4.575</td>\n      <td>12.874</td>\n      <td>310446</td>\n      <td>2.447</td>\n      <td>25.747</td>\n      <td>34539</td>\n      <td>35763</td>\n      <td>328510</td>\n    </tr>\n    <tr>\n      <th>25</th>\n      <td>VA</td>\n      <td>UNION FIRST MARKET BANK</td>\n      <td>VA</td>\n      <td>62</td>\n      <td>1997</td>\n      <td>2.0</td>\n      <td>P I F</td>\n      <td>28000.0</td>\n      <td>0100000US</td>\n      <td>United States</td>\n      <td>...</td>\n      <td>580382</td>\n      <td>1052575</td>\n      <td>4.575</td>\n      <td>12.874</td>\n      <td>310446</td>\n      <td>2.447</td>\n      <td>25.747</td>\n      <td>34539</td>\n      <td>35763</td>\n      <td>328510</td>\n    </tr>\n    <tr>\n      <th>28</th>\n      <td>MA</td>\n      <td>BANK OF AMERICA NATL ASSOC</td>\n      <td>RI</td>\n      <td>62</td>\n      <td>1997</td>\n      <td>1.0</td>\n      <td>P I F</td>\n      <td>12500.0</td>\n      <td>0100000US</td>\n      <td>United States</td>\n      <td>...</td>\n      <td>580382</td>\n      <td>1052575</td>\n      <td>4.575</td>\n      <td>12.874</td>\n      <td>310446</td>\n      <td>2.447</td>\n      <td>25.747</td>\n      <td>34539</td>\n      <td>35763</td>\n      <td>328510</td>\n    </tr>\n    <tr>\n      <th>...</th>\n      <td>...</td>\n      <td>...</td>\n      <td>...</td>\n      <td>...</td>\n      <td>...</td>\n      <td>...</td>\n      <td>...</td>\n      <td>...</td>\n      <td>...</td>\n      <td>...</td>\n      <td>...</td>\n      <td>...</td>\n      <td>...</td>\n      <td>...</td>\n      <td>...</td>\n      <td>...</td>\n      <td>...</td>\n      <td>...</td>\n      <td>...</td>\n      <td>...</td>\n      <td>...</td>\n    </tr>\n    <tr>\n      <th>696458</th>\n      <td>OK</td>\n      <td>FIRST COMMERCIAL BANK</td>\n      <td>OK</td>\n      <td>62</td>\n      <td>1997</td>\n      <td>2.0</td>\n      <td>P I F</td>\n      <td>198750.0</td>\n      <td>0100000US</td>\n      <td>United States</td>\n      <td>...</td>\n      <td>580382</td>\n      <td>1052575</td>\n      <td>4.575</td>\n      <td>12.874</td>\n      <td>310446</td>\n      <td>2.447</td>\n      <td>25.747</td>\n      <td>34539</td>\n      <td>35763</td>\n      <td>328510</td>\n    </tr>\n    <tr>\n      <th>696466</th>\n      <td>IL</td>\n      <td>PNC BANK, NATIONAL ASSOCIATION</td>\n      <td>IL</td>\n      <td>62</td>\n      <td>1997</td>\n      <td>1.0</td>\n      <td>P I F</td>\n      <td>300000.0</td>\n      <td>0100000US</td>\n      <td>United States</td>\n      <td>...</td>\n      <td>580382</td>\n      <td>1052575</td>\n      <td>4.575</td>\n      <td>12.874</td>\n      <td>310446</td>\n      <td>2.447</td>\n      <td>25.747</td>\n      <td>34539</td>\n      <td>35763</td>\n      <td>328510</td>\n    </tr>\n    <tr>\n      <th>696474</th>\n      <td>GA</td>\n      <td>GE CAP. SMALL BUS. FINAN CORP</td>\n      <td>TX</td>\n      <td>62</td>\n      <td>1997</td>\n      <td>1.0</td>\n      <td>P I F</td>\n      <td>749547.0</td>\n      <td>0100000US</td>\n      <td>United States</td>\n      <td>...</td>\n      <td>580382</td>\n      <td>1052575</td>\n      <td>4.575</td>\n      <td>12.874</td>\n      <td>310446</td>\n      <td>2.447</td>\n      <td>25.747</td>\n      <td>34539</td>\n      <td>35763</td>\n      <td>328510</td>\n    </tr>\n    <tr>\n      <th>696478</th>\n      <td>MN</td>\n      <td>WELLS FARGO BANK NATL ASSOC</td>\n      <td>SD</td>\n      <td>62</td>\n      <td>1997</td>\n      <td>1.0</td>\n      <td>P I F</td>\n      <td>126750.0</td>\n      <td>0100000US</td>\n      <td>United States</td>\n      <td>...</td>\n      <td>580382</td>\n      <td>1052575</td>\n      <td>4.575</td>\n      <td>12.874</td>\n      <td>310446</td>\n      <td>2.447</td>\n      <td>25.747</td>\n      <td>34539</td>\n      <td>35763</td>\n      <td>328510</td>\n    </tr>\n    <tr>\n      <th>696480</th>\n      <td>NY</td>\n      <td>FLUSHING BANK</td>\n      <td>NY</td>\n      <td>62</td>\n      <td>1997</td>\n      <td>1.0</td>\n      <td>P I F</td>\n      <td>96000.0</td>\n      <td>0100000US</td>\n      <td>United States</td>\n      <td>...</td>\n      <td>580382</td>\n      <td>1052575</td>\n      <td>4.575</td>\n      <td>12.874</td>\n      <td>310446</td>\n      <td>2.447</td>\n      <td>25.747</td>\n      <td>34539</td>\n      <td>35763</td>\n      <td>328510</td>\n    </tr>\n  </tbody>\n</table>\n<p>55302 rows × 35 columns</p>\n</div>"
     },
     "execution_count": 470,
     "metadata": {},
     "output_type": "execute_result"
    }
   ],
   "source": [
    "# Part:1 - Considering\n",
    "df_merged_NAICS_SBALoan[df_merged_NAICS_SBALoan[\"NAICS\"] == 62]"
   ],
   "metadata": {
    "collapsed": false,
    "pycharm": {
     "name": "#%%\n"
    }
   }
  },
  {
   "cell_type": "code",
   "execution_count": null,
   "outputs": [],
   "source": [],
   "metadata": {
    "collapsed": false,
    "pycharm": {
     "name": "#%%\n"
    }
   }
  }
 ],
 "metadata": {
  "kernelspec": {
   "display_name": "Python 3",
   "language": "python",
   "name": "python3"
  },
  "language_info": {
   "codemirror_mode": {
    "name": "ipython",
    "version": 2
   },
   "file_extension": ".py",
   "mimetype": "text/x-python",
   "name": "python",
   "nbconvert_exporter": "python",
   "pygments_lexer": "ipython2",
   "version": "2.7.6"
  }
 },
 "nbformat": 4,
 "nbformat_minor": 0
}