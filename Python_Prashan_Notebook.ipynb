{
 "cells": [
  {
   "cell_type": "code",
   "execution_count": 4,
   "metadata": {
    "collapsed": true
   },
   "outputs": [],
   "source": [
    "import os\n",
    "import json\n",
    "import pandas as pd\n",
    "import seaborn as sns\n",
    "from datetime import datetime\n",
    "import numpy as np\n",
    "import matplotlib.pylab as plt"
   ]
  },
  {
   "cell_type": "code",
   "execution_count": 5,
   "outputs": [],
   "source": [
    "SBA_Loan = pd.read_csv('SBA_Loan_test.csv')"
   ],
   "metadata": {
    "collapsed": false,
    "pycharm": {
     "name": "#%%\n"
    }
   }
  },
  {
   "cell_type": "code",
   "execution_count": 6,
   "outputs": [
    {
     "data": {
      "text/plain": "        LoanNr_ChkDgt                            Name             City State  \\\n0          1000014003                  ABC HOBBYCRAFT       EVANSVILLE    IN   \n1          1000024006     LANDMARK BAR & GRILLE (THE)        NEW PARIS    IN   \n2          1000034009           WHITLOCK DDS, TODD M.      BLOOMINGTON    IN   \n3          1000044001   BIG BUCKS PAWN & JEWELRY, LLC     BROKEN ARROW    OK   \n4          1000054004     ANASTASIA CONFECTIONS, INC.          ORLANDO    FL   \n...               ...                             ...              ...   ...   \n899159     9995573004                    FABRIC FARMS  UPPER ARLINGTON    OH   \n899160     9995603000                    FABRIC FARMS         COLUMBUS    OH   \n899161     9995613003    RADCO MANUFACTURING CO.,INC.      SANTA MARIA    CA   \n899162     9995973006           MARUTAMA HAWAII, INC.         HONOLULU    HI   \n899163     9996003010  PACIFIC TRADEWINDS FAN & LIGHT           KAILUA    HI   \n\n          Zip                            Bank BankState   NAICS ApprovalDate  \\\n0       47711                FIFTH THIRD BANK        OH  451120   1997-02-28   \n1       46526                 1ST SOURCE BANK        IN  722410   1997-02-28   \n2       47401         GRANT COUNTY STATE BANK        IN  621210   1997-02-28   \n3       74012   1ST NATL BK & TR CO OF BROKEN        OK       0   1997-02-28   \n4       32801         FLORIDA BUS. DEVEL CORP        FL       0   1997-02-28   \n...       ...                             ...       ...     ...          ...   \n899159  43221  JPMORGAN CHASE BANK NATL ASSOC        IL  451120   1997-02-27   \n899160  43221  JPMORGAN CHASE BANK NATL ASSOC        IL  451130   1997-02-27   \n899161  93455  RABOBANK, NATIONAL ASSOCIATION        CA  332321   1997-02-27   \n899162  96830                  BANK OF HAWAII        HI       0   1997-02-27   \n899163  96734            CENTRAL PACIFIC BANK        HI       0   1997-02-27   \n\n        ApprovalFY  ...  LowDoc  ChgOffDate  DisbursementDate  \\\n0             1997  ...       Y         NaN         28-Feb-99   \n1             1997  ...       Y         NaN         31-May-97   \n2             1997  ...       N         NaN         31-Dec-97   \n3             1997  ...       Y         NaN         30-Jun-97   \n4             1997  ...       N         NaN         14-May-97   \n...            ...  ...     ...         ...               ...   \n899159        1997  ...       N         NaN         30-Sep-97   \n899160        1997  ...       N         NaN         31-Oct-97   \n899161        1997  ...       N         NaN         30-Sep-97   \n899162        1997  ...       Y    8-Mar-00         31-Mar-97   \n899163        1997  ...       N         NaN         31-May-97   \n\n        DisbursementGross  BalanceGross  MIS_Status  ChgOffPrinGr    GrAppv  \\\n0                 60000.0           0.0       P I F           0.0   60000.0   \n1                 40000.0           0.0       P I F           0.0   40000.0   \n2                287000.0           0.0       P I F           0.0  287000.0   \n3                 35000.0           0.0       P I F           0.0   35000.0   \n4                229000.0           0.0       P I F           0.0  229000.0   \n...                   ...           ...         ...           ...       ...   \n899159            70000.0           0.0       P I F           0.0   70000.0   \n899160            85000.0           0.0       P I F           0.0   85000.0   \n899161           300000.0           0.0       P I F           0.0  300000.0   \n899162            75000.0           0.0      CHGOFF       46383.0   75000.0   \n899163            30000.0           0.0       P I F           0.0   30000.0   \n\n        SBA_Appv                           Industry  \n0        48000.0                       Retail trade  \n1        32000.0    Accommodation and food services  \n2       215250.0  Health care and social assistance  \n3        28000.0                          Undefined  \n4       229000.0                          Undefined  \n...          ...                                ...  \n899159   56000.0                       Retail trade  \n899160   42500.0                       Retail trade  \n899161  225000.0                      Manufacturing  \n899162   60000.0                          Undefined  \n899163   24000.0                          Undefined  \n\n[899164 rows x 28 columns]",
      "text/html": "<div>\n<style scoped>\n    .dataframe tbody tr th:only-of-type {\n        vertical-align: middle;\n    }\n\n    .dataframe tbody tr th {\n        vertical-align: top;\n    }\n\n    .dataframe thead th {\n        text-align: right;\n    }\n</style>\n<table border=\"1\" class=\"dataframe\">\n  <thead>\n    <tr style=\"text-align: right;\">\n      <th></th>\n      <th>LoanNr_ChkDgt</th>\n      <th>Name</th>\n      <th>City</th>\n      <th>State</th>\n      <th>Zip</th>\n      <th>Bank</th>\n      <th>BankState</th>\n      <th>NAICS</th>\n      <th>ApprovalDate</th>\n      <th>ApprovalFY</th>\n      <th>...</th>\n      <th>LowDoc</th>\n      <th>ChgOffDate</th>\n      <th>DisbursementDate</th>\n      <th>DisbursementGross</th>\n      <th>BalanceGross</th>\n      <th>MIS_Status</th>\n      <th>ChgOffPrinGr</th>\n      <th>GrAppv</th>\n      <th>SBA_Appv</th>\n      <th>Industry</th>\n    </tr>\n  </thead>\n  <tbody>\n    <tr>\n      <th>0</th>\n      <td>1000014003</td>\n      <td>ABC HOBBYCRAFT</td>\n      <td>EVANSVILLE</td>\n      <td>IN</td>\n      <td>47711</td>\n      <td>FIFTH THIRD BANK</td>\n      <td>OH</td>\n      <td>451120</td>\n      <td>1997-02-28</td>\n      <td>1997</td>\n      <td>...</td>\n      <td>Y</td>\n      <td>NaN</td>\n      <td>28-Feb-99</td>\n      <td>60000.0</td>\n      <td>0.0</td>\n      <td>P I F</td>\n      <td>0.0</td>\n      <td>60000.0</td>\n      <td>48000.0</td>\n      <td>Retail trade</td>\n    </tr>\n    <tr>\n      <th>1</th>\n      <td>1000024006</td>\n      <td>LANDMARK BAR &amp; GRILLE (THE)</td>\n      <td>NEW PARIS</td>\n      <td>IN</td>\n      <td>46526</td>\n      <td>1ST SOURCE BANK</td>\n      <td>IN</td>\n      <td>722410</td>\n      <td>1997-02-28</td>\n      <td>1997</td>\n      <td>...</td>\n      <td>Y</td>\n      <td>NaN</td>\n      <td>31-May-97</td>\n      <td>40000.0</td>\n      <td>0.0</td>\n      <td>P I F</td>\n      <td>0.0</td>\n      <td>40000.0</td>\n      <td>32000.0</td>\n      <td>Accommodation and food services</td>\n    </tr>\n    <tr>\n      <th>2</th>\n      <td>1000034009</td>\n      <td>WHITLOCK DDS, TODD M.</td>\n      <td>BLOOMINGTON</td>\n      <td>IN</td>\n      <td>47401</td>\n      <td>GRANT COUNTY STATE BANK</td>\n      <td>IN</td>\n      <td>621210</td>\n      <td>1997-02-28</td>\n      <td>1997</td>\n      <td>...</td>\n      <td>N</td>\n      <td>NaN</td>\n      <td>31-Dec-97</td>\n      <td>287000.0</td>\n      <td>0.0</td>\n      <td>P I F</td>\n      <td>0.0</td>\n      <td>287000.0</td>\n      <td>215250.0</td>\n      <td>Health care and social assistance</td>\n    </tr>\n    <tr>\n      <th>3</th>\n      <td>1000044001</td>\n      <td>BIG BUCKS PAWN &amp; JEWELRY, LLC</td>\n      <td>BROKEN ARROW</td>\n      <td>OK</td>\n      <td>74012</td>\n      <td>1ST NATL BK &amp; TR CO OF BROKEN</td>\n      <td>OK</td>\n      <td>0</td>\n      <td>1997-02-28</td>\n      <td>1997</td>\n      <td>...</td>\n      <td>Y</td>\n      <td>NaN</td>\n      <td>30-Jun-97</td>\n      <td>35000.0</td>\n      <td>0.0</td>\n      <td>P I F</td>\n      <td>0.0</td>\n      <td>35000.0</td>\n      <td>28000.0</td>\n      <td>Undefined</td>\n    </tr>\n    <tr>\n      <th>4</th>\n      <td>1000054004</td>\n      <td>ANASTASIA CONFECTIONS, INC.</td>\n      <td>ORLANDO</td>\n      <td>FL</td>\n      <td>32801</td>\n      <td>FLORIDA BUS. DEVEL CORP</td>\n      <td>FL</td>\n      <td>0</td>\n      <td>1997-02-28</td>\n      <td>1997</td>\n      <td>...</td>\n      <td>N</td>\n      <td>NaN</td>\n      <td>14-May-97</td>\n      <td>229000.0</td>\n      <td>0.0</td>\n      <td>P I F</td>\n      <td>0.0</td>\n      <td>229000.0</td>\n      <td>229000.0</td>\n      <td>Undefined</td>\n    </tr>\n    <tr>\n      <th>...</th>\n      <td>...</td>\n      <td>...</td>\n      <td>...</td>\n      <td>...</td>\n      <td>...</td>\n      <td>...</td>\n      <td>...</td>\n      <td>...</td>\n      <td>...</td>\n      <td>...</td>\n      <td>...</td>\n      <td>...</td>\n      <td>...</td>\n      <td>...</td>\n      <td>...</td>\n      <td>...</td>\n      <td>...</td>\n      <td>...</td>\n      <td>...</td>\n      <td>...</td>\n      <td>...</td>\n    </tr>\n    <tr>\n      <th>899159</th>\n      <td>9995573004</td>\n      <td>FABRIC FARMS</td>\n      <td>UPPER ARLINGTON</td>\n      <td>OH</td>\n      <td>43221</td>\n      <td>JPMORGAN CHASE BANK NATL ASSOC</td>\n      <td>IL</td>\n      <td>451120</td>\n      <td>1997-02-27</td>\n      <td>1997</td>\n      <td>...</td>\n      <td>N</td>\n      <td>NaN</td>\n      <td>30-Sep-97</td>\n      <td>70000.0</td>\n      <td>0.0</td>\n      <td>P I F</td>\n      <td>0.0</td>\n      <td>70000.0</td>\n      <td>56000.0</td>\n      <td>Retail trade</td>\n    </tr>\n    <tr>\n      <th>899160</th>\n      <td>9995603000</td>\n      <td>FABRIC FARMS</td>\n      <td>COLUMBUS</td>\n      <td>OH</td>\n      <td>43221</td>\n      <td>JPMORGAN CHASE BANK NATL ASSOC</td>\n      <td>IL</td>\n      <td>451130</td>\n      <td>1997-02-27</td>\n      <td>1997</td>\n      <td>...</td>\n      <td>N</td>\n      <td>NaN</td>\n      <td>31-Oct-97</td>\n      <td>85000.0</td>\n      <td>0.0</td>\n      <td>P I F</td>\n      <td>0.0</td>\n      <td>85000.0</td>\n      <td>42500.0</td>\n      <td>Retail trade</td>\n    </tr>\n    <tr>\n      <th>899161</th>\n      <td>9995613003</td>\n      <td>RADCO MANUFACTURING CO.,INC.</td>\n      <td>SANTA MARIA</td>\n      <td>CA</td>\n      <td>93455</td>\n      <td>RABOBANK, NATIONAL ASSOCIATION</td>\n      <td>CA</td>\n      <td>332321</td>\n      <td>1997-02-27</td>\n      <td>1997</td>\n      <td>...</td>\n      <td>N</td>\n      <td>NaN</td>\n      <td>30-Sep-97</td>\n      <td>300000.0</td>\n      <td>0.0</td>\n      <td>P I F</td>\n      <td>0.0</td>\n      <td>300000.0</td>\n      <td>225000.0</td>\n      <td>Manufacturing</td>\n    </tr>\n    <tr>\n      <th>899162</th>\n      <td>9995973006</td>\n      <td>MARUTAMA HAWAII, INC.</td>\n      <td>HONOLULU</td>\n      <td>HI</td>\n      <td>96830</td>\n      <td>BANK OF HAWAII</td>\n      <td>HI</td>\n      <td>0</td>\n      <td>1997-02-27</td>\n      <td>1997</td>\n      <td>...</td>\n      <td>Y</td>\n      <td>8-Mar-00</td>\n      <td>31-Mar-97</td>\n      <td>75000.0</td>\n      <td>0.0</td>\n      <td>CHGOFF</td>\n      <td>46383.0</td>\n      <td>75000.0</td>\n      <td>60000.0</td>\n      <td>Undefined</td>\n    </tr>\n    <tr>\n      <th>899163</th>\n      <td>9996003010</td>\n      <td>PACIFIC TRADEWINDS FAN &amp; LIGHT</td>\n      <td>KAILUA</td>\n      <td>HI</td>\n      <td>96734</td>\n      <td>CENTRAL PACIFIC BANK</td>\n      <td>HI</td>\n      <td>0</td>\n      <td>1997-02-27</td>\n      <td>1997</td>\n      <td>...</td>\n      <td>N</td>\n      <td>NaN</td>\n      <td>31-May-97</td>\n      <td>30000.0</td>\n      <td>0.0</td>\n      <td>P I F</td>\n      <td>0.0</td>\n      <td>30000.0</td>\n      <td>24000.0</td>\n      <td>Undefined</td>\n    </tr>\n  </tbody>\n</table>\n<p>899164 rows × 28 columns</p>\n</div>"
     },
     "execution_count": 6,
     "metadata": {},
     "output_type": "execute_result"
    }
   ],
   "source": [
    "SBA_Loan"
   ],
   "metadata": {
    "collapsed": false,
    "pycharm": {
     "name": "#%%\n"
    }
   }
  },
  {
   "cell_type": "code",
   "execution_count": 7,
   "outputs": [],
   "source": [
    "NAICS_BDS = pd.read_csv('NAICS_BDS_timeseries_data.csv', low_memory=False)\n",
    "NAICS_BDS = NAICS_BDS.drop([0])"
   ],
   "metadata": {
    "collapsed": false,
    "pycharm": {
     "name": "#%%\n"
    }
   }
  },
  {
   "cell_type": "code",
   "execution_count": 8,
   "outputs": [
    {
     "data": {
      "text/plain": "        GEO_ID           NAME NAICS  \\\n1    0100000US  United States    00   \n2    0100000US  United States    00   \n3    0100000US  United States    00   \n4    0100000US  United States    00   \n5    0100000US  United States    00   \n..         ...            ...   ...   \n836  0100000US  United States    81   \n837  0100000US  United States    81   \n838  0100000US  United States    81   \n839  0100000US  United States    81   \n840  0100000US  United States    81   \n\n                                       NAICS_LABEL  YEAR     FIRM    ESTAB  \\\n1                            Total for all sectors  1978  3557994  4310626   \n2                            Total for all sectors  1979  3692077  4472108   \n3                            Total for all sectors  1980  3739809  4533251   \n4                            Total for all sectors  1981  3770852  4615479   \n5                            Total for all sectors  1982  3720273  4598769   \n..                                             ...   ...      ...      ...   \n836  Other services (except public administration)  2015   627870   692521   \n837  Other services (except public administration)  2016   635866   701530   \n838  Other services (except public administration)  2017   639820   705522   \n839  Other services (except public administration)  2018   643774   708344   \n840  Other services (except public administration)  2019   645831   710628   \n\n          EMP     DENOM ESTABS_ENTRY  ... JOB_DESTRUCTION_DEATHS  \\\n1    69410001  66810001       654226  ...                4048046   \n2    73848234  71727111       630253  ...                3760616   \n3    74109267  74018218       592484  ...                4246135   \n4    75728652  74924061       606853  ...                3478843   \n5    74922226  75267274       572030  ...                4055239   \n..        ...       ...          ...  ...                    ...   \n836   5402143   5367556        54337  ...                 190691   \n837   5495043   5443433        56964  ...                 183389   \n838   5499089   5473326        56065  ...                 199943   \n839   5590509   5547912        54528  ...                 192597   \n840   5615669   5600892        54205  ...                 191207   \n\n    JOB_DESTRUCTION_CONTINUERS JOB_DESTRUCTION_RATE_DEATHS  \\\n1                      5420961                       6.059   \n2                      6043218                       5.243   \n3                      7797198                       5.737   \n4                      7782399                       4.643   \n5                      8683755                       5.388   \n..                         ...                         ...   \n836                     389703                       3.553   \n837                     390994                       3.369   \n838                     435503                       3.653   \n839                     420088                       3.472   \n840                     413919                       3.414   \n\n    JOB_DESTRUCTION_RATE NET_JOB_CREATION NET_JOB_CREATION_RATE  \\\n1                 14.173          5196537                 7.778   \n2                 13.668          4248257                 5.923   \n3                 16.271           188937                 0.255   \n4                 15.030          1609104                 2.148   \n5                 16.925          -678350                -0.901   \n..                   ...              ...                   ...   \n836               10.813            68593                 1.278   \n837               10.552           102848                 1.889   \n838               11.610            53589                 0.979   \n839               11.044            86437                 1.558   \n840               10.804            28782                 0.514   \n\n    REALLOCATION_RATE FIRMDEATH_FIRMS FIRMDEATH_ESTABS FIRMDEATH_EMP  \n1              28.346          327278           332504       1824251  \n2              27.336          328024           332633       1785478  \n3              32.542          368578           373754       1941422  \n4              30.060          377291           383748       2005707  \n5              32.048          412488           418501       2211944  \n..                ...             ...              ...           ...  \n836            21.626           34254            34772        117491  \n837            21.104           35133            35590        125535  \n838            23.220           37298            37944        138168  \n839            22.087           38866            39746        142311  \n840            21.608           43430            44098        153253  \n\n[840 rows x 29 columns]",
      "text/html": "<div>\n<style scoped>\n    .dataframe tbody tr th:only-of-type {\n        vertical-align: middle;\n    }\n\n    .dataframe tbody tr th {\n        vertical-align: top;\n    }\n\n    .dataframe thead th {\n        text-align: right;\n    }\n</style>\n<table border=\"1\" class=\"dataframe\">\n  <thead>\n    <tr style=\"text-align: right;\">\n      <th></th>\n      <th>GEO_ID</th>\n      <th>NAME</th>\n      <th>NAICS</th>\n      <th>NAICS_LABEL</th>\n      <th>YEAR</th>\n      <th>FIRM</th>\n      <th>ESTAB</th>\n      <th>EMP</th>\n      <th>DENOM</th>\n      <th>ESTABS_ENTRY</th>\n      <th>...</th>\n      <th>JOB_DESTRUCTION_DEATHS</th>\n      <th>JOB_DESTRUCTION_CONTINUERS</th>\n      <th>JOB_DESTRUCTION_RATE_DEATHS</th>\n      <th>JOB_DESTRUCTION_RATE</th>\n      <th>NET_JOB_CREATION</th>\n      <th>NET_JOB_CREATION_RATE</th>\n      <th>REALLOCATION_RATE</th>\n      <th>FIRMDEATH_FIRMS</th>\n      <th>FIRMDEATH_ESTABS</th>\n      <th>FIRMDEATH_EMP</th>\n    </tr>\n  </thead>\n  <tbody>\n    <tr>\n      <th>1</th>\n      <td>0100000US</td>\n      <td>United States</td>\n      <td>00</td>\n      <td>Total for all sectors</td>\n      <td>1978</td>\n      <td>3557994</td>\n      <td>4310626</td>\n      <td>69410001</td>\n      <td>66810001</td>\n      <td>654226</td>\n      <td>...</td>\n      <td>4048046</td>\n      <td>5420961</td>\n      <td>6.059</td>\n      <td>14.173</td>\n      <td>5196537</td>\n      <td>7.778</td>\n      <td>28.346</td>\n      <td>327278</td>\n      <td>332504</td>\n      <td>1824251</td>\n    </tr>\n    <tr>\n      <th>2</th>\n      <td>0100000US</td>\n      <td>United States</td>\n      <td>00</td>\n      <td>Total for all sectors</td>\n      <td>1979</td>\n      <td>3692077</td>\n      <td>4472108</td>\n      <td>73848234</td>\n      <td>71727111</td>\n      <td>630253</td>\n      <td>...</td>\n      <td>3760616</td>\n      <td>6043218</td>\n      <td>5.243</td>\n      <td>13.668</td>\n      <td>4248257</td>\n      <td>5.923</td>\n      <td>27.336</td>\n      <td>328024</td>\n      <td>332633</td>\n      <td>1785478</td>\n    </tr>\n    <tr>\n      <th>3</th>\n      <td>0100000US</td>\n      <td>United States</td>\n      <td>00</td>\n      <td>Total for all sectors</td>\n      <td>1980</td>\n      <td>3739809</td>\n      <td>4533251</td>\n      <td>74109267</td>\n      <td>74018218</td>\n      <td>592484</td>\n      <td>...</td>\n      <td>4246135</td>\n      <td>7797198</td>\n      <td>5.737</td>\n      <td>16.271</td>\n      <td>188937</td>\n      <td>0.255</td>\n      <td>32.542</td>\n      <td>368578</td>\n      <td>373754</td>\n      <td>1941422</td>\n    </tr>\n    <tr>\n      <th>4</th>\n      <td>0100000US</td>\n      <td>United States</td>\n      <td>00</td>\n      <td>Total for all sectors</td>\n      <td>1981</td>\n      <td>3770852</td>\n      <td>4615479</td>\n      <td>75728652</td>\n      <td>74924061</td>\n      <td>606853</td>\n      <td>...</td>\n      <td>3478843</td>\n      <td>7782399</td>\n      <td>4.643</td>\n      <td>15.030</td>\n      <td>1609104</td>\n      <td>2.148</td>\n      <td>30.060</td>\n      <td>377291</td>\n      <td>383748</td>\n      <td>2005707</td>\n    </tr>\n    <tr>\n      <th>5</th>\n      <td>0100000US</td>\n      <td>United States</td>\n      <td>00</td>\n      <td>Total for all sectors</td>\n      <td>1982</td>\n      <td>3720273</td>\n      <td>4598769</td>\n      <td>74922226</td>\n      <td>75267274</td>\n      <td>572030</td>\n      <td>...</td>\n      <td>4055239</td>\n      <td>8683755</td>\n      <td>5.388</td>\n      <td>16.925</td>\n      <td>-678350</td>\n      <td>-0.901</td>\n      <td>32.048</td>\n      <td>412488</td>\n      <td>418501</td>\n      <td>2211944</td>\n    </tr>\n    <tr>\n      <th>...</th>\n      <td>...</td>\n      <td>...</td>\n      <td>...</td>\n      <td>...</td>\n      <td>...</td>\n      <td>...</td>\n      <td>...</td>\n      <td>...</td>\n      <td>...</td>\n      <td>...</td>\n      <td>...</td>\n      <td>...</td>\n      <td>...</td>\n      <td>...</td>\n      <td>...</td>\n      <td>...</td>\n      <td>...</td>\n      <td>...</td>\n      <td>...</td>\n      <td>...</td>\n      <td>...</td>\n    </tr>\n    <tr>\n      <th>836</th>\n      <td>0100000US</td>\n      <td>United States</td>\n      <td>81</td>\n      <td>Other services (except public administration)</td>\n      <td>2015</td>\n      <td>627870</td>\n      <td>692521</td>\n      <td>5402143</td>\n      <td>5367556</td>\n      <td>54337</td>\n      <td>...</td>\n      <td>190691</td>\n      <td>389703</td>\n      <td>3.553</td>\n      <td>10.813</td>\n      <td>68593</td>\n      <td>1.278</td>\n      <td>21.626</td>\n      <td>34254</td>\n      <td>34772</td>\n      <td>117491</td>\n    </tr>\n    <tr>\n      <th>837</th>\n      <td>0100000US</td>\n      <td>United States</td>\n      <td>81</td>\n      <td>Other services (except public administration)</td>\n      <td>2016</td>\n      <td>635866</td>\n      <td>701530</td>\n      <td>5495043</td>\n      <td>5443433</td>\n      <td>56964</td>\n      <td>...</td>\n      <td>183389</td>\n      <td>390994</td>\n      <td>3.369</td>\n      <td>10.552</td>\n      <td>102848</td>\n      <td>1.889</td>\n      <td>21.104</td>\n      <td>35133</td>\n      <td>35590</td>\n      <td>125535</td>\n    </tr>\n    <tr>\n      <th>838</th>\n      <td>0100000US</td>\n      <td>United States</td>\n      <td>81</td>\n      <td>Other services (except public administration)</td>\n      <td>2017</td>\n      <td>639820</td>\n      <td>705522</td>\n      <td>5499089</td>\n      <td>5473326</td>\n      <td>56065</td>\n      <td>...</td>\n      <td>199943</td>\n      <td>435503</td>\n      <td>3.653</td>\n      <td>11.610</td>\n      <td>53589</td>\n      <td>0.979</td>\n      <td>23.220</td>\n      <td>37298</td>\n      <td>37944</td>\n      <td>138168</td>\n    </tr>\n    <tr>\n      <th>839</th>\n      <td>0100000US</td>\n      <td>United States</td>\n      <td>81</td>\n      <td>Other services (except public administration)</td>\n      <td>2018</td>\n      <td>643774</td>\n      <td>708344</td>\n      <td>5590509</td>\n      <td>5547912</td>\n      <td>54528</td>\n      <td>...</td>\n      <td>192597</td>\n      <td>420088</td>\n      <td>3.472</td>\n      <td>11.044</td>\n      <td>86437</td>\n      <td>1.558</td>\n      <td>22.087</td>\n      <td>38866</td>\n      <td>39746</td>\n      <td>142311</td>\n    </tr>\n    <tr>\n      <th>840</th>\n      <td>0100000US</td>\n      <td>United States</td>\n      <td>81</td>\n      <td>Other services (except public administration)</td>\n      <td>2019</td>\n      <td>645831</td>\n      <td>710628</td>\n      <td>5615669</td>\n      <td>5600892</td>\n      <td>54205</td>\n      <td>...</td>\n      <td>191207</td>\n      <td>413919</td>\n      <td>3.414</td>\n      <td>10.804</td>\n      <td>28782</td>\n      <td>0.514</td>\n      <td>21.608</td>\n      <td>43430</td>\n      <td>44098</td>\n      <td>153253</td>\n    </tr>\n  </tbody>\n</table>\n<p>840 rows × 29 columns</p>\n</div>"
     },
     "execution_count": 8,
     "metadata": {},
     "output_type": "execute_result"
    }
   ],
   "source": [
    "NAICS_BDS"
   ],
   "metadata": {
    "collapsed": false,
    "pycharm": {
     "name": "#%%\n"
    }
   }
  },
  {
   "cell_type": "code",
   "execution_count": null,
   "outputs": [],
   "source": [
    "test"
   ],
   "metadata": {
    "collapsed": false,
    "pycharm": {
     "name": "#%%\n"
    }
   }
  }
 ],
 "metadata": {
  "kernelspec": {
   "display_name": "Python 3",
   "language": "python",
   "name": "python3"
  },
  "language_info": {
   "codemirror_mode": {
    "name": "ipython",
    "version": 2
   },
   "file_extension": ".py",
   "mimetype": "text/x-python",
   "name": "python",
   "nbconvert_exporter": "python",
   "pygments_lexer": "ipython2",
   "version": "2.7.6"
  }
 },
 "nbformat": 4,
 "nbformat_minor": 0
}